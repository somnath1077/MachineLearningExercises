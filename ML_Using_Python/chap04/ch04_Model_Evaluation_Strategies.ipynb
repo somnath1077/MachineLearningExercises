{
 "cells": [
  {
   "cell_type": "markdown",
   "metadata": {},
   "source": [
    "# Model Evaluation\n",
    "\n",
    "Model evaluation is done by splitting the available data into three sets: training data, validation data and test data. Training data is used to train the model; validation data is used to find the best configuration parameters (hyperparameters) of the model; and the test data is used to evaluate the generalizability of the model.\n",
    "\n",
    "We consider three classic evaluation recipes: \n",
    "\n",
    "* simple hold-out validation\n",
    "* $K$-fold validation, and \n",
    "* iterated $K$-fold validation with shuffling."
   ]
  },
  {
   "cell_type": "markdown",
   "metadata": {},
   "source": [
    "## Simple Hold-Out Validation"
   ]
  },
  {
   "cell_type": "code",
   "execution_count": 1,
   "metadata": {},
   "outputs": [],
   "source": [
    "import numpy as np\n",
    "from typing import List, Tuple\n",
    "\n",
    "\n",
    "def train_val_split(data: np.array, val_set_frac: float) -> Tuple[np.array, np.array]:\n",
    "    assert val_set_frac >= 0 and val_set_frac <= 1\n",
    "    \n",
    "    local_cpy = np.copy(data)\n",
    "    np.random.shuffle(local_cpy)\n",
    "    \n",
    "    idx = int(len(local_cpy) * val_set_frac)\n",
    "    val_data = local_cpy[: idx]\n",
    "    train_data = local_cpy[idx :]\n",
    "    \n",
    "    return train_data, val_data"
   ]
  },
  {
   "cell_type": "markdown",
   "metadata": {},
   "source": [
    "One tests a set of models with different configurations (hyperparameters) and chooses the best configuration.\n",
    "\n",
    "```python\n",
    "scores = []\n",
    "for model_config in list_of_configurations:\n",
    "    model = get_model(model_config)\n",
    "    train, val = train_val_split(training_data)\n",
    "    model.fit(train)\n",
    "    scores.append(model.evaluate(val))\n",
    "```\n",
    "\n",
    "Then the chosen model is evaluated with the test data.\n",
    "```python\n",
    "model = get_model(chosen_config)                                        \n",
    "model.train(training_data)             \n",
    "test_score = model.evaluate(test_data) \n",
    "```"
   ]
  },
  {
   "cell_type": "markdown",
   "metadata": {},
   "source": [
    "## $K$-Fold Cross Validation\n",
    "\n",
    "Partition the dataset into $K$ sets of roughly equal size. For $1 \\leq i \\leq K$, do the following: train on $K - 1$ partitions and evaluate on the $i$th partition and keep a track of the score. The final score of the model is the average of the scores in each of these iterations. "
   ]
  },
  {
   "cell_type": "code",
   "execution_count": 4,
   "metadata": {},
   "outputs": [],
   "source": [
    "from typing import Dict, Any\n",
    "\n",
    "\n",
    "def k_fold_crossvalidation(data: np.array, k: int, model_configuration: Dict[Any, Any]) -> float:\n",
    "    assert k > 1\n",
    "    \n",
    "    num_validation_samples = len(data) // k\n",
    "\n",
    "    np.random.shuffle(data)\n",
    "\n",
    "    validation_scores = []\n",
    "    \n",
    "    for fold in range(k):\n",
    "        validation_data = data[num_validation_samples * fold: num_validation_samples * (fold + 1)] \n",
    "        training_data = np.concatenate(data[:num_validation_samples * fold], \n",
    "                                       data[num_validation_samples * (fold + 1):], axis=0)\n",
    "        model = get_model(model_configuration)\n",
    "        model.train(training_data)\n",
    "        validation_score = model.evaluate(validation_data)\n",
    "        validation_scores.append(validation_score)\n",
    "\n",
    "    return np.average(validation_scores)  "
   ]
  },
  {
   "cell_type": "markdown",
   "metadata": {},
   "source": [
    "One we have evaluated models with different configurations, we select the configuration that is best and then evaluate the model on the test data.\n",
    "\n",
    "```python\n",
    "model = get_model(final_configuration)                                                   \n",
    "model.train(data)                                                     \n",
    "test_score = model.evaluate(test_data)  \n",
    "```"
   ]
  }
 ],
 "metadata": {
  "kernelspec": {
   "display_name": "dl_python",
   "language": "python",
   "name": "dl_python"
  },
  "language_info": {
   "codemirror_mode": {
    "name": "ipython",
    "version": 3
   },
   "file_extension": ".py",
   "mimetype": "text/x-python",
   "name": "python",
   "nbconvert_exporter": "python",
   "pygments_lexer": "ipython3",
   "version": "3.8.3"
  }
 },
 "nbformat": 4,
 "nbformat_minor": 2
}
