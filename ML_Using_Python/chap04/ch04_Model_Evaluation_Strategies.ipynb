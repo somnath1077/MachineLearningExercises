{
 "cells": [
  {
   "cell_type": "markdown",
   "metadata": {},
   "source": [
    "# Model Evaluation\n",
    "\n",
    "Model evaluation is done by splitting the available data into three sets: training data, validation data and test data. Training data is used to train the model; validation data is used to find the best configuration parameters (hyperparameters) of the model; and the test data is used to evaluate the generalizability of the model.\n",
    "\n",
    "We consider three classic evaluation recipes: \n",
    "\n",
    "* simple hold-out validation\n",
    "* $K$-fold validation, and \n",
    "* iterated $K$-fold validation with shuffling."
   ]
  },
  {
   "cell_type": "markdown",
   "metadata": {},
   "source": [
    "## Simple Hold-Out Validation"
   ]
  },
  {
   "cell_type": "code",
   "execution_count": 1,
   "metadata": {},
   "outputs": [],
   "source": [
    "import numpy as np\n",
    "from typing import List, Tuple\n",
    "\n",
    "\n",
    "def train_val_split(data: np.array, val_set_frac: float) -> Tuple[np.array, np.array]:\n",
    "    assert val_set_frac >= 0 and val_set_frac <= 1\n",
    "    \n",
    "    local_cpy = np.copy(data)\n",
    "    np.random.shuffle(local_cpy)\n",
    "    \n",
    "    idx = int(len(local_cpy) * val_set_frac)\n",
    "    val_data = local_cpy[: idx]\n",
    "    train_data = local_cpy[idx :]\n",
    "    \n",
    "    return train_data, val_data"
   ]
  },
  {
   "cell_type": "markdown",
   "metadata": {},
   "source": [
    "One tests a set of models with different configurations (hyperparameters) and chooses the best configuration.\n",
    "\n",
    "```python\n",
    "scores = []\n",
    "for model_config in list_of_configurations:\n",
    "    model = get_model(model_config)\n",
    "    train, val = train_val_split(training_data)\n",
    "    model.fit(train)\n",
    "    scores.append(model.evaluate(val))\n",
    "```\n",
    "\n",
    "Then the chosen model is evaluated with the test data.\n",
    "```python\n",
    "model = get_model(chosen_config)                                        \n",
    "model.train(training_data)             \n",
    "test_score = model.evaluate(test_data) \n",
    "```"
   ]
  },
  {
   "cell_type": "markdown",
   "metadata": {},
   "source": [
    "## $K$-Fold Cross Validation\n",
    "\n",
    "Partition the dataset into $K$ sets of roughly equal size. For $1 \\leq i \\leq K$, do the following: train on $K - 1$ partitions and evaluate on the $i$th partition and keep a track of the score. The final score of the model is the average of the scores in each of these iterations. "
   ]
  },
  {
   "cell_type": "code",
   "execution_count": 2,
   "metadata": {},
   "outputs": [],
   "source": [
    "from typing import Dict, Any\n",
    "\n",
    "\n",
    "def k_fold_crossvalidation(data: np.array, k: int, model_configuration: Dict[Any, Any]) -> float:\n",
    "    assert k > 1\n",
    "    \n",
    "    num_validation_samples = len(data) // k\n",
    "\n",
    "    np.random.shuffle(data)\n",
    "\n",
    "    validation_scores = []\n",
    "    \n",
    "    for fold in range(k):\n",
    "        validation_data = data[num_validation_samples * fold: num_validation_samples * (fold + 1)] \n",
    "        training_data = np.concatenate(data[:num_validation_samples * fold], \n",
    "                                       data[num_validation_samples * (fold + 1):], axis=0)\n",
    "        model = get_model(model_configuration)\n",
    "        model.train(training_data)\n",
    "        validation_score = model.evaluate(validation_data)\n",
    "        validation_scores.append(validation_score)\n",
    "\n",
    "    return np.average(validation_scores)  "
   ]
  },
  {
   "cell_type": "markdown",
   "metadata": {},
   "source": [
    "One we have evaluated models with different configurations, we select the configuration that is best and then evaluate the model on the test data.\n",
    "\n",
    "```python\n",
    "model = get_model(final_configuration)                                                   \n",
    "model.train(data)                                                     \n",
    "test_score = model.evaluate(test_data)  \n",
    "```"
   ]
  },
  {
   "cell_type": "markdown",
   "metadata": {},
   "source": [
    "# Data Preprocessing\n",
    "\n",
    "One cannot directly feed raw data to a neural network in most situations. Raw data needs to be processed and typical procesing steps include _vectorization_, _normalization_, _handling missing values_ and _feature extraction_. \n",
    "\n",
    "### Data Vectorization\n",
    "\n",
    "All inputs to a neural network must be in the form of tensors of floating point data. Whatever the raw data, be it text, sound or images, must be first transformed into tensors. \n",
    "\n",
    "### Data Normalization\n",
    "\n",
    "In general, it is not a good idea to feed a neural network numbers that are very large compared to the initial weights with which the network is initialized or data that is very heterogeneous (data where different features vary over widely different ranges). Large numbers can cause the output of the neurons to take on very large or very small values. This, in turn, makes it difficult to update the gradient of the activation function of those neurons leading to slow convergence.\n",
    "\n",
    "Simple rule of thumb:\n",
    "\n",
    "* Values should be in the 0-1 range\n",
    "* Features should be homogeneous in the sense of having values in the same range\n",
    "\n",
    "Simple normalization practice\n",
    "\n",
    "* Normalize each feature independently to have a mean of $0$\n",
    "* Normalize each feature independently to have a standard deviation of $1$"
   ]
  },
  {
   "cell_type": "markdown",
   "metadata": {},
   "source": [
    "## IMDB Classification Using Different Models"
   ]
  },
  {
   "cell_type": "code",
   "execution_count": 3,
   "metadata": {},
   "outputs": [
    {
     "name": "stderr",
     "output_type": "stream",
     "text": [
      "/home/somnath/install/anaconda3/envs/dl/lib/python3.8/site-packages/tensorflow/python/keras/datasets/imdb.py:155: VisibleDeprecationWarning: Creating an ndarray from ragged nested sequences (which is a list-or-tuple of lists-or-tuples-or ndarrays with different lengths or shapes) is deprecated. If you meant to do this, you must specify 'dtype=object' when creating the ndarray\n",
      "  x_train, y_train = np.array(xs[:idx]), np.array(labels[:idx])\n",
      "/home/somnath/install/anaconda3/envs/dl/lib/python3.8/site-packages/tensorflow/python/keras/datasets/imdb.py:156: VisibleDeprecationWarning: Creating an ndarray from ragged nested sequences (which is a list-or-tuple of lists-or-tuples-or ndarrays with different lengths or shapes) is deprecated. If you meant to do this, you must specify 'dtype=object' when creating the ndarray\n",
      "  x_test, y_test = np.array(xs[idx:]), np.array(labels[idx:])\n"
     ]
    }
   ],
   "source": [
    "from keras.datasets import imdb\n",
    "\n",
    "# num_words = 10000 keeps the 10000 most frequently occurring words\n",
    "(train_data, train_labels), (test_data, test_labels) = imdb.load_data(num_words=10000)"
   ]
  },
  {
   "cell_type": "code",
   "execution_count": 4,
   "metadata": {},
   "outputs": [
    {
     "name": "stdout",
     "output_type": "stream",
     "text": [
      "[1, 14, 22, 16, 43, 530, 973, 1622, 1385, 65, 458, 4468, 66, 3941, 4, 173, 36, 256, 5, 25, 100, 43, 838, 112, 50, 670, 2, 9, 35, 480, 284, 5, 150, 4, 172, 112, 167, 2, 336, 385, 39, 4, 172, 4536, 1111, 17, 546, 38, 13, 447, 4, 192, 50, 16, 6, 147, 2025, 19, 14, 22, 4, 1920, 4613, 469, 4, 22, 71, 87, 12, 16, 43, 530, 38, 76, 15, 13, 1247, 4, 22, 17, 515, 17, 12, 16, 626, 18, 2, 5, 62, 386, 12, 8, 316, 8, 106, 5, 4, 2223, 5244, 16, 480, 66, 3785, 33, 4, 130, 12, 16, 38, 619, 5, 25, 124, 51, 36, 135, 48, 25, 1415, 33, 6, 22, 12, 215, 28, 77, 52, 5, 14, 407, 16, 82, 2, 8, 4, 107, 117, 5952, 15, 256, 4, 2, 7, 3766, 5, 723, 36, 71, 43, 530, 476, 26, 400, 317, 46, 7, 4, 2, 1029, 13, 104, 88, 4, 381, 15, 297, 98, 32, 2071, 56, 26, 141, 6, 194, 7486, 18, 4, 226, 22, 21, 134, 476, 26, 480, 5, 144, 30, 5535, 18, 51, 36, 28, 224, 92, 25, 104, 4, 226, 65, 16, 38, 1334, 88, 12, 16, 283, 5, 16, 4472, 113, 103, 32, 15, 16, 5345, 19, 178, 32]\n"
     ]
    }
   ],
   "source": [
    "print(train_data[0])"
   ]
  },
  {
   "cell_type": "code",
   "execution_count": 5,
   "metadata": {},
   "outputs": [
    {
     "data": {
      "text/plain": [
       "array([1, 0, 0, 1])"
      ]
     },
     "execution_count": 5,
     "metadata": {},
     "output_type": "execute_result"
    }
   ],
   "source": [
    "# Labels are either 0 or 1: 0 stands for a negative review and 1 for a positive review\n",
    "train_labels[0:4]"
   ]
  },
  {
   "cell_type": "code",
   "execution_count": 6,
   "metadata": {},
   "outputs": [
    {
     "data": {
      "text/plain": [
       "9999"
      ]
     },
     "execution_count": 6,
     "metadata": {},
     "output_type": "execute_result"
    }
   ],
   "source": [
    "max([max(s) for s in train_data])"
   ]
  },
  {
   "cell_type": "code",
   "execution_count": 7,
   "metadata": {},
   "outputs": [],
   "source": [
    "# decoding labels to words\n",
    "\n",
    "word_index = imdb.get_word_index()                 \n",
    "\n",
    "reverse_word_index = dict([(value, key) for (key, value) in word_index.items()])            \n",
    "\n",
    "# The first three word indices 0, 1, and 2 are reserved indices for “padding,” “start of sequence,” and “unknown.”\n",
    "decoded_review = ' '.join([reverse_word_index.get(i - 3, '?') for i in train_data[0]])"
   ]
  },
  {
   "cell_type": "code",
   "execution_count": 8,
   "metadata": {},
   "outputs": [
    {
     "data": {
      "text/plain": [
       "\"? this film was just brilliant casting location scenery story direction everyone's really suited the part they played and you could just imagine being there robert ? is an amazing actor and now the same being director ? father came from the same scottish island as myself so i loved the fact there was a real connection with this film the witty remarks throughout the film were great it was just brilliant so much that i bought the film as soon as it was released for ? and would recommend it to everyone to watch and the fly fishing was amazing really cried at the end it was so sad and you know what they say if you cry at a film it must have been good and this definitely was also ? to the two little boy's that played the ? of norman and paul they were just brilliant children are often left out of the ? list i think because the stars that play them all grown up are such a big profile for the whole film but these children are amazing and should be praised for what they have done don't you think the whole story was so lovely because it was true and was someone's life after all that was shared with us all\""
      ]
     },
     "execution_count": 8,
     "metadata": {},
     "output_type": "execute_result"
    }
   ],
   "source": [
    "decoded_review"
   ]
  },
  {
   "cell_type": "markdown",
   "metadata": {},
   "source": [
    "### Encoding Data"
   ]
  },
  {
   "cell_type": "code",
   "execution_count": 9,
   "metadata": {},
   "outputs": [],
   "source": [
    "import numpy as np\n",
    "\n",
    "from typing import List\n",
    "\n",
    "def vectorize_sequences(sequences: List[List[int]], dimension=10000):\n",
    "    results = np.zeros((len(sequences), dimension))        \n",
    "    \n",
    "    for i, sequence in enumerate(sequences):\n",
    "        # type(sequence) = List[int]\n",
    "        results[i, sequence] = 1.                          \n",
    "    return results\n",
    "\n",
    "x_train = vectorize_sequences(train_data)                  \n",
    "x_test = vectorize_sequences(test_data)   "
   ]
  },
  {
   "cell_type": "code",
   "execution_count": 10,
   "metadata": {},
   "outputs": [
    {
     "data": {
      "text/plain": [
       "(25000, 10000)"
      ]
     },
     "execution_count": 10,
     "metadata": {},
     "output_type": "execute_result"
    }
   ],
   "source": [
    "x_train.shape"
   ]
  },
  {
   "cell_type": "code",
   "execution_count": 11,
   "metadata": {},
   "outputs": [
    {
     "data": {
      "text/plain": [
       "(25000,)"
      ]
     },
     "execution_count": 11,
     "metadata": {},
     "output_type": "execute_result"
    }
   ],
   "source": [
    "train_labels.shape"
   ]
  },
  {
   "cell_type": "code",
   "execution_count": 12,
   "metadata": {},
   "outputs": [
    {
     "data": {
      "text/plain": [
       "numpy.ndarray"
      ]
     },
     "execution_count": 12,
     "metadata": {},
     "output_type": "execute_result"
    }
   ],
   "source": [
    "type(train_labels)"
   ]
  },
  {
   "cell_type": "code",
   "execution_count": 13,
   "metadata": {},
   "outputs": [],
   "source": [
    "# Vectorize labels, though not sure that this is necessary\n",
    "\n",
    "y_train = np.asarray(train_labels).astype('float32')\n",
    "y_test = np.asarray(test_labels).astype('float32')"
   ]
  },
  {
   "cell_type": "code",
   "execution_count": 14,
   "metadata": {},
   "outputs": [
    {
     "data": {
      "text/plain": [
       "numpy.ndarray"
      ]
     },
     "execution_count": 14,
     "metadata": {},
     "output_type": "execute_result"
    }
   ],
   "source": [
    "type(y_train)"
   ]
  },
  {
   "cell_type": "markdown",
   "metadata": {},
   "source": [
    "### First Model"
   ]
  },
  {
   "cell_type": "code",
   "execution_count": 15,
   "metadata": {},
   "outputs": [],
   "source": [
    "from keras import models\n",
    "from keras import layers\n",
    "\n",
    "def build_model(layer_sizes, layer_activations, input_shape=10000):\n",
    "    model = models.Sequential()\n",
    "    model.add(layers.Dense(layer_sizes[0], \n",
    "                           activation=layer_activations[0], \n",
    "                           input_shape=(input_shape,)))\n",
    "    \n",
    "    for i, sz in enumerate(layer_sizes[1:]): \n",
    "        model.add(layers.Dense(sz, \n",
    "                               activation=layer_activations[i]))\n",
    "    \n",
    "    return model"
   ]
  },
  {
   "cell_type": "code",
   "execution_count": 16,
   "metadata": {},
   "outputs": [],
   "source": [
    "model1 = build_model([16, 16, 1], ['relu', 'relu', 'sigmoid'])"
   ]
  },
  {
   "cell_type": "markdown",
   "metadata": {},
   "source": [
    "### Compile Model"
   ]
  },
  {
   "cell_type": "code",
   "execution_count": 17,
   "metadata": {},
   "outputs": [],
   "source": [
    "model1.compile(optimizer='rmsprop', \n",
    "               loss='binary_crossentropy', \n",
    "               metrics=['accuracy'])"
   ]
  },
  {
   "cell_type": "markdown",
   "metadata": {},
   "source": [
    "### Validation Set"
   ]
  },
  {
   "cell_type": "code",
   "execution_count": 18,
   "metadata": {},
   "outputs": [],
   "source": [
    "x_val = x_train[:10000]\n",
    "partial_x_train = x_train[10000:]\n",
    "\n",
    "y_val = y_train[:10000]\n",
    "partial_y_train = y_train[10000:]"
   ]
  },
  {
   "cell_type": "markdown",
   "metadata": {},
   "source": [
    "### Train"
   ]
  },
  {
   "cell_type": "code",
   "execution_count": 19,
   "metadata": {},
   "outputs": [
    {
     "name": "stdout",
     "output_type": "stream",
     "text": [
      "Epoch 1/20\n",
      "30/30 [==============================] - 2s 54ms/step - loss: 0.6375 - accuracy: 0.7000 - val_loss: 0.3887 - val_accuracy: 0.8477\n",
      "Epoch 2/20\n",
      "30/30 [==============================] - 1s 48ms/step - loss: 0.3195 - accuracy: 0.8869 - val_loss: 0.4558 - val_accuracy: 0.8653\n",
      "Epoch 3/20\n",
      "30/30 [==============================] - 1s 42ms/step - loss: 0.2257 - accuracy: 0.9257 - val_loss: 0.4157 - val_accuracy: 0.8851\n",
      "Epoch 4/20\n",
      "30/30 [==============================] - 1s 43ms/step - loss: 0.1774 - accuracy: 0.9435 - val_loss: 0.4539 - val_accuracy: 0.8853\n",
      "Epoch 5/20\n",
      "30/30 [==============================] - 1s 45ms/step - loss: 0.1409 - accuracy: 0.9582 - val_loss: 0.5004 - val_accuracy: 0.8803\n",
      "Epoch 6/20\n",
      "30/30 [==============================] - 1s 37ms/step - loss: 0.1183 - accuracy: 0.9661 - val_loss: 0.5905 - val_accuracy: 0.8845\n",
      "Epoch 7/20\n",
      "30/30 [==============================] - 1s 34ms/step - loss: 0.0855 - accuracy: 0.9804 - val_loss: 0.6940 - val_accuracy: 0.8768\n",
      "Epoch 8/20\n",
      "30/30 [==============================] - 2s 75ms/step - loss: 0.0829 - accuracy: 0.9828 - val_loss: 0.7080 - val_accuracy: 0.8791\n",
      "Epoch 9/20\n",
      "30/30 [==============================] - 2s 57ms/step - loss: 0.0579 - accuracy: 0.9913 - val_loss: 0.8972 - val_accuracy: 0.8578\n",
      "Epoch 10/20\n",
      "30/30 [==============================] - 1s 33ms/step - loss: 0.0538 - accuracy: 0.9917 - val_loss: 0.8505 - val_accuracy: 0.8753\n",
      "Epoch 11/20\n",
      "30/30 [==============================] - 1s 35ms/step - loss: 0.0479 - accuracy: 0.9935 - val_loss: 0.9021 - val_accuracy: 0.8737\n",
      "Epoch 12/20\n",
      "30/30 [==============================] - 1s 40ms/step - loss: 0.0411 - accuracy: 0.9952 - val_loss: 0.9203 - val_accuracy: 0.8742\n",
      "Epoch 13/20\n",
      "30/30 [==============================] - 2s 60ms/step - loss: 0.0390 - accuracy: 0.9957 - val_loss: 0.9608 - val_accuracy: 0.8749\n",
      "Epoch 14/20\n",
      "30/30 [==============================] - 1s 40ms/step - loss: 0.0495 - accuracy: 0.9918 - val_loss: 1.0195 - val_accuracy: 0.8728\n",
      "Epoch 15/20\n",
      "30/30 [==============================] - 1s 41ms/step - loss: 0.0309 - accuracy: 0.9981 - val_loss: 1.0243 - val_accuracy: 0.8715\n",
      "Epoch 16/20\n",
      "30/30 [==============================] - 1s 46ms/step - loss: 0.0375 - accuracy: 0.9957 - val_loss: 1.0028 - val_accuracy: 0.8705\n",
      "Epoch 17/20\n",
      "30/30 [==============================] - 1s 33ms/step - loss: 0.0301 - accuracy: 0.9981 - val_loss: 1.0598 - val_accuracy: 0.8699\n",
      "Epoch 18/20\n",
      "30/30 [==============================] - 2s 57ms/step - loss: 0.0422 - accuracy: 0.9947 - val_loss: 1.0596 - val_accuracy: 0.8699\n",
      "Epoch 19/20\n",
      "30/30 [==============================] - 2s 65ms/step - loss: 0.0288 - accuracy: 0.9981 - val_loss: 1.0640 - val_accuracy: 0.8709\n",
      "Epoch 20/20\n",
      "30/30 [==============================] - 2s 58ms/step - loss: 0.0320 - accuracy: 0.9979 - val_loss: 1.1066 - val_accuracy: 0.8676\n"
     ]
    }
   ],
   "source": [
    "history1 = model1.fit(partial_x_train,\n",
    "                      partial_y_train,\n",
    "                      epochs=20,\n",
    "                      batch_size=512,\n",
    "                      validation_data=(x_val, y_val))"
   ]
  },
  {
   "cell_type": "code",
   "execution_count": 20,
   "metadata": {},
   "outputs": [
    {
     "data": {
      "text/plain": [
       "dict_keys(['loss', 'accuracy', 'val_loss', 'val_accuracy'])"
      ]
     },
     "execution_count": 20,
     "metadata": {},
     "output_type": "execute_result"
    }
   ],
   "source": [
    "hist_dict1 = history1.history\n",
    "hist_dict1.keys()"
   ]
  },
  {
   "cell_type": "code",
   "execution_count": 21,
   "metadata": {},
   "outputs": [
    {
     "data": {
      "text/plain": [
       "[0.6374682188034058,\n",
       " 0.31945207715034485,\n",
       " 0.22566339373588562,\n",
       " 0.17737047374248505,\n",
       " 0.14094237983226776,\n",
       " 0.11833377927541733,\n",
       " 0.0854964330792427,\n",
       " 0.08285792917013168,\n",
       " 0.057916976511478424,\n",
       " 0.05381059646606445,\n",
       " 0.047908246517181396,\n",
       " 0.04114517569541931,\n",
       " 0.038976311683654785,\n",
       " 0.04950181767344475,\n",
       " 0.030854836106300354,\n",
       " 0.037474311888217926,\n",
       " 0.030058197677135468,\n",
       " 0.04217982292175293,\n",
       " 0.02877456694841385,\n",
       " 0.03199198096990585]"
      ]
     },
     "execution_count": 21,
     "metadata": {},
     "output_type": "execute_result"
    }
   ],
   "source": [
    "hist_dict1['loss']"
   ]
  },
  {
   "cell_type": "markdown",
   "metadata": {},
   "source": [
    "## Plots"
   ]
  },
  {
   "cell_type": "code",
   "execution_count": 22,
   "metadata": {},
   "outputs": [],
   "source": [
    "import matplotlib.pyplot as plt\n",
    "\n",
    "from typing import Dict\n",
    "\n",
    "def plot_training_validation_metrics(history, \n",
    "                                     train_metric: str, \n",
    "                                     validation_metric: str, \n",
    "                                     plot_args: Dict[str, str]):\n",
    "    history_dict = history.history\n",
    "    \n",
    "    train_vals = history_dict[train_metric]\n",
    "    validation_vals = history_dict[validation_metric]\n",
    "    epochs = range(1, len(train_vals) + 1)\n",
    "\n",
    "    plt.plot(epochs, train_vals, 'bo', label=plot_args['train_metric'])           \n",
    "    plt.plot(epochs, validation_vals, 'b', label=plot_args['validation_metric'])      \n",
    "    \n",
    "    plt.title(plot_args['title'])\n",
    "    plt.xlabel(plot_args['xlabel'])\n",
    "    plt.ylabel(plot_args['ylabel'])\n",
    "    plt.legend()\n",
    "\n",
    "    plt.show()"
   ]
  },
  {
   "cell_type": "code",
   "execution_count": 23,
   "metadata": {},
   "outputs": [
    {
     "data": {
      "image/png": "[encoded data removed]",
      "text/plain": [
       "<Figure size 432x288 with 1 Axes>"
      ]
     },
     "metadata": {
      "needs_background": "light"
     },
     "output_type": "display_data"
    }
   ],
   "source": [
    "plot_args = {'train_metric': 'Training Loss', \n",
    "             'validation_metric': 'Validation Loss', \n",
    "             'title': 'Training vs Validation Loss', \n",
    "             'xlabel': 'Epochs', \n",
    "             'ylabel': 'Loss'}\n",
    "plot_training_validation_metrics(history1, 'loss', 'val_loss', plot_args)"
   ]
  },
  {
   "cell_type": "code",
   "execution_count": 24,
   "metadata": {},
   "outputs": [
    {
     "data": {
      "image/png": "[encoded data removed]",
      "text/plain": [
       "<Figure size 432x288 with 1 Axes>"
      ]
     },
     "metadata": {
      "needs_background": "light"
     },
     "output_type": "display_data"
    }
   ],
   "source": [
    "plot_args = {'train_metric': 'Training Accuracy', \n",
    "             'validation_metric': 'Validation Accuracy', \n",
    "             'title': 'Training vs Validation Accuracy', \n",
    "             'xlabel': 'Epochs', \n",
    "             'ylabel': 'Accuracy'}\n",
    "plot_training_validation_metrics(history1, 'accuracy', 'val_accuracy', plot_args)"
   ]
  },
  {
   "cell_type": "markdown",
   "metadata": {},
   "source": [
    "### Second Model"
   ]
  },
  {
   "cell_type": "code",
   "execution_count": 25,
   "metadata": {},
   "outputs": [
    {
     "name": "stdout",
     "output_type": "stream",
     "text": [
      "Epoch 1/20\n",
      "30/30 [==============================] - 1s 46ms/step - loss: 0.7679 - accuracy: 0.6217 - val_loss: 0.5364 - val_accuracy: 0.7419\n",
      "Epoch 2/20\n",
      "30/30 [==============================] - 1s 49ms/step - loss: 0.4309 - accuracy: 0.8139 - val_loss: 0.4237 - val_accuracy: 0.8402\n",
      "Epoch 3/20\n",
      "30/30 [==============================] - 1s 40ms/step - loss: 0.2983 - accuracy: 0.8890 - val_loss: 0.3837 - val_accuracy: 0.8672\n",
      "Epoch 4/20\n",
      "30/30 [==============================] - 1s 43ms/step - loss: 0.2280 - accuracy: 0.9215 - val_loss: 0.4463 - val_accuracy: 0.8687\n",
      "Epoch 5/20\n",
      "30/30 [==============================] - 1s 30ms/step - loss: 0.1817 - accuracy: 0.9389 - val_loss: 0.4098 - val_accuracy: 0.8815\n",
      "Epoch 6/20\n",
      "30/30 [==============================] - 1s 47ms/step - loss: 0.1509 - accuracy: 0.9493 - val_loss: 0.4362 - val_accuracy: 0.8823\n",
      "Epoch 7/20\n",
      "30/30 [==============================] - 1s 43ms/step - loss: 0.1253 - accuracy: 0.9600 - val_loss: 0.6411 - val_accuracy: 0.8682\n",
      "Epoch 8/20\n",
      "30/30 [==============================] - 1s 30ms/step - loss: 0.1091 - accuracy: 0.9677 - val_loss: 0.5278 - val_accuracy: 0.8833\n",
      "Epoch 9/20\n",
      "30/30 [==============================] - 1s 29ms/step - loss: 0.0923 - accuracy: 0.9728 - val_loss: 0.5978 - val_accuracy: 0.8822\n",
      "Epoch 10/20\n",
      "30/30 [==============================] - 1s 29ms/step - loss: 0.0789 - accuracy: 0.9801 - val_loss: 0.6508 - val_accuracy: 0.8806\n",
      "Epoch 11/20\n",
      "30/30 [==============================] - 1s 41ms/step - loss: 0.0685 - accuracy: 0.9823 - val_loss: 0.7420 - val_accuracy: 0.8765\n",
      "Epoch 12/20\n",
      "30/30 [==============================] - 1s 39ms/step - loss: 0.0640 - accuracy: 0.9843 - val_loss: 0.7514 - val_accuracy: 0.8766\n",
      "Epoch 13/20\n",
      "30/30 [==============================] - 1s 44ms/step - loss: 0.0509 - accuracy: 0.9905 - val_loss: 0.7992 - val_accuracy: 0.8739\n",
      "Epoch 14/20\n",
      "30/30 [==============================] - 1s 38ms/step - loss: 0.0473 - accuracy: 0.9921 - val_loss: 0.8705 - val_accuracy: 0.8721\n",
      "Epoch 15/20\n",
      "30/30 [==============================] - 1s 28ms/step - loss: 0.0445 - accuracy: 0.9925 - val_loss: 0.9001 - val_accuracy: 0.8721\n",
      "Epoch 16/20\n",
      "30/30 [==============================] - 2s 63ms/step - loss: 0.0388 - accuracy: 0.9942 - val_loss: 0.9772 - val_accuracy: 0.8721\n",
      "Epoch 17/20\n",
      "30/30 [==============================] - 1s 31ms/step - loss: 0.0358 - accuracy: 0.9955 - val_loss: 1.0032 - val_accuracy: 0.8708\n",
      "Epoch 18/20\n",
      "30/30 [==============================] - 1s 32ms/step - loss: 0.0323 - accuracy: 0.9964 - val_loss: 1.0519 - val_accuracy: 0.8695\n",
      "Epoch 19/20\n",
      "30/30 [==============================] - 1s 32ms/step - loss: 0.0301 - accuracy: 0.9970 - val_loss: 1.0480 - val_accuracy: 0.8692\n",
      "Epoch 20/20\n",
      "30/30 [==============================] - 1s 43ms/step - loss: 0.0295 - accuracy: 0.9973 - val_loss: 1.0880 - val_accuracy: 0.8706\n"
     ]
    }
   ],
   "source": [
    "model2 = build_model([4, 4, 1], ['relu', 'relu', 'sigmoid'])\n",
    "\n",
    "model2.compile(optimizer='rmsprop', \n",
    "               loss='binary_crossentropy', \n",
    "               metrics=['accuracy'])\n",
    "\n",
    "history2 = model2.fit(partial_x_train,\n",
    "                      partial_y_train,\n",
    "                      epochs=20,\n",
    "                      batch_size=512,\n",
    "                      validation_data=(x_val, y_val))"
   ]
  },
  {
   "cell_type": "code",
   "execution_count": 26,
   "metadata": {},
   "outputs": [
    {
     "data": {
      "image/png": "[encoded data removed]",
      "text/plain": [
       "<Figure size 432x288 with 1 Axes>"
      ]
     },
     "metadata": {
      "needs_background": "light"
     },
     "output_type": "display_data"
    }
   ],
   "source": [
    "plot_args = {'train_metric': 'Training Loss', \n",
    "             'validation_metric': 'Validation Loss', \n",
    "             'title': 'Training vs Validation Loss', \n",
    "             'xlabel': 'Epochs', \n",
    "             'ylabel': 'Loss'}\n",
    "plot_training_validation_metrics(history2, 'loss', 'val_loss', plot_args)"
   ]
  },
  {
   "cell_type": "code",
   "execution_count": 27,
   "metadata": {},
   "outputs": [
    {
     "data": {
      "image/png": "[encoded data removed]",
      "text/plain": [
       "<Figure size 432x288 with 1 Axes>"
      ]
     },
     "metadata": {
      "needs_background": "light"
     },
     "output_type": "display_data"
    }
   ],
   "source": [
    "plot_args = {'train_metric': 'Training Accuracy', \n",
    "             'validation_metric': 'Validation Accuracy', \n",
    "             'title': 'Training vs Validation Accuracy', \n",
    "             'xlabel': 'Epochs', \n",
    "             'ylabel': 'Accuracy'}\n",
    "plot_training_validation_metrics(history2, 'accuracy', 'val_accuracy', plot_args)"
   ]
  },
  {
   "cell_type": "markdown",
   "metadata": {},
   "source": [
    "### Compare Models 1 and 2"
   ]
  },
  {
   "cell_type": "code",
   "execution_count": 32,
   "metadata": {},
   "outputs": [
    {
     "data": {
      "image/png": "[encoded data removed]",
      "text/plain": [
       "<Figure size 432x288 with 1 Axes>"
      ]
     },
     "metadata": {
      "needs_background": "light"
     },
     "output_type": "display_data"
    }
   ],
   "source": [
    "import matplotlib.pyplot as plt\n",
    "\n",
    "\n",
    "hist_dict1 = history1.history\n",
    "hist_dict2 = history2.history\n",
    "\n",
    "val_loss1 = hist_dict1['val_loss']\n",
    "val_loss2 = hist_dict2['val_loss']\n",
    "\n",
    "epochs = range(1, len(val_loss1) + 1)\n",
    "\n",
    "plt.plot(epochs, val_loss1, 'bo', label='model 1 validation loss')\n",
    "plt.plot(epochs, val_loss2, 'ro', label='model 2 validation loss')\n",
    "plt.xlabel('Epochs')\n",
    "plt.ylabel('Validation Loss')\n",
    "plt.legend()\n",
    "\n",
    "plt.show()"
   ]
  },
  {
   "cell_type": "code",
   "execution_count": 33,
   "metadata": {},
   "outputs": [
    {
     "data": {
      "image/png": "[encoded data removed]",
      "text/plain": [
       "<Figure size 432x288 with 1 Axes>"
      ]
     },
     "metadata": {
      "needs_background": "light"
     },
     "output_type": "display_data"
    }
   ],
   "source": [
    "train_loss1 = hist_dict1['loss']\n",
    "train_loss2 = hist_dict2['loss']\n",
    "\n",
    "epochs = range(1, len(val_loss1) + 1)\n",
    "\n",
    "plt.plot(epochs, train_loss1, 'bo', label='model 1 training loss')\n",
    "plt.plot(epochs, train_loss2, 'ro', label='model 2 training loss')\n",
    "plt.xlabel('Epochs')\n",
    "plt.ylabel('Training Loss')\n",
    "plt.legend()\n",
    "\n",
    "plt.show()"
   ]
  }
 ],
 "metadata": {
  "kernelspec": {
   "display_name": "Python 3",
   "language": "python",
   "name": "python3"
  },
  "language_info": {
   "codemirror_mode": {
    "name": "ipython",
    "version": 3
   },
   "file_extension": ".py",
   "mimetype": "text/x-python",
   "name": "python",
   "nbconvert_exporter": "python",
   "pygments_lexer": "ipython3",
   "version": "3.8.5"
  }
 },
 "nbformat": 4,
 "nbformat_minor": 2
}
