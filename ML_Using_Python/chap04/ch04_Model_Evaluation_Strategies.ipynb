{
 "cells": [
  {
   "cell_type": "markdown",
   "metadata": {},
   "source": [
    "# Model Evaluation\n",
    "\n",
    "Model evaluation is done by splitting the available data into three sets: training data, validation data and test data. Training data is used to train the model; validation data is used to find the best configuration parameters (hyperparameters) of the model; and the test data is used to evaluate the generalizability of the model.\n",
    "\n",
    "We consider three classic evaluation recipes: \n",
    "\n",
    "* simple hold-out validation\n",
    "* $K$-fold validation, and \n",
    "* iterated $K$-fold validation with shuffling."
   ]
  },
  {
   "cell_type": "markdown",
   "metadata": {},
   "source": [
    "## Simple Hold-Out Validation"
   ]
  },
  {
   "cell_type": "code",
   "execution_count": 1,
   "metadata": {},
   "outputs": [],
   "source": [
    "import numpy as np\n",
    "from typing import List, Tuple\n",
    "\n",
    "\n",
    "def train_val_split(data: np.array, val_set_frac: float) -> Tuple[np.array, np.array]:\n",
    "    assert val_set_frac >= 0 and val_set_frac <= 1\n",
    "    \n",
    "    local_cpy = np.copy(data)\n",
    "    np.random.shuffle(local_cpy)\n",
    "    \n",
    "    idx = int(len(local_cpy) * val_set_frac)\n",
    "    val_data = local_cpy[: idx]\n",
    "    train_data = local_cpy[idx :]\n",
    "    \n",
    "    return train_data, val_data"
   ]
  },
  {
   "cell_type": "markdown",
   "metadata": {},
   "source": [
    "One tests a set of models with different configurations (hyperparameters) and chooses the best configuration.\n",
    "\n",
    "```python\n",
    "scores = []\n",
    "for model_config in list_of_configurations:\n",
    "    model = get_model(model_config)\n",
    "    train, val = train_val_split(training_data)\n",
    "    model.fit(train)\n",
    "    scores.append(model.evaluate(val))\n",
    "```\n",
    "\n",
    "Then the chosen model is evaluated with the test data.\n",
    "```python\n",
    "model = get_model(chosen_config)                                        \n",
    "model.train(training_data)             \n",
    "test_score = model.evaluate(test_data) \n",
    "```"
   ]
  }
 ],
 "metadata": {
  "kernelspec": {
   "display_name": "dl_python",
   "language": "python",
   "name": "dl_python"
  },
  "language_info": {
   "codemirror_mode": {
    "name": "ipython",
    "version": 3
   },
   "file_extension": ".py",
   "mimetype": "text/x-python",
   "name": "python",
   "nbconvert_exporter": "python",
   "pygments_lexer": "ipython3",
   "version": "3.8.3"
  }
 },
 "nbformat": 4,
 "nbformat_minor": 2
}
