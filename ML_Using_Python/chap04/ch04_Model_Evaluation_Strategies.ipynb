{
 "cells": [
  {
   "cell_type": "markdown",
   "metadata": {},
   "source": [
    "# Model Evaluation\n",
    "\n",
    "Model evaluation is done by splitting the available data into three sets: training data, validation data and test data. Training data is used to train the model; validation data is used to find the best configuration parameters (hyperparameters) of the model; and the test data is used to evaluate the generalizability of the model.\n",
    "\n",
    "We consider three classic evaluation recipes: \n",
    "\n",
    "* simple hold-out validation\n",
    "* $K$-fold validation, and \n",
    "* iterated $K$-fold validation with shuffling."
   ]
  },
  {
   "cell_type": "markdown",
   "metadata": {},
   "source": [
    "## Simple Hold-Out Validation"
   ]
  },
  {
   "cell_type": "code",
   "execution_count": 1,
   "metadata": {},
   "outputs": [],
   "source": [
    "import numpy as np\n",
    "from typing import List, Tuple\n",
    "\n",
    "\n",
    "def train_val_split(data: np.array, val_set_frac: float) -> Tuple[np.array, np.array]:\n",
    "    assert val_set_frac >= 0 and val_set_frac <= 1\n",
    "    \n",
    "    local_cpy = np.copy(data)\n",
    "    np.random.shuffle(local_cpy)\n",
    "    \n",
    "    idx = int(len(local_cpy) * val_set_frac)\n",
    "    val_data = local_cpy[: idx]\n",
    "    train_data = local_cpy[idx :]\n",
    "    \n",
    "    return train_data, val_data"
   ]
  },
  {
   "cell_type": "markdown",
   "metadata": {},
   "source": [
    "One tests a set of models with different configurations (hyperparameters) and chooses the best configuration.\n",
    "\n",
    "```python\n",
    "scores = []\n",
    "for model_config in list_of_configurations:\n",
    "    model = get_model(model_config)\n",
    "    train, val = train_val_split(training_data)\n",
    "    model.fit(train)\n",
    "    scores.append(model.evaluate(val))\n",
    "```\n",
    "\n",
    "Then the chosen model is evaluated with the test data.\n",
    "```python\n",
    "model = get_model(chosen_config)                                        \n",
    "model.train(training_data)             \n",
    "test_score = model.evaluate(test_data) \n",
    "```"
   ]
  },
  {
   "cell_type": "markdown",
   "metadata": {},
   "source": [
    "## $K$-Fold Cross Validation\n",
    "\n",
    "Partition the dataset into $K$ sets of roughly equal size. For $1 \\leq i \\leq K$, do the following: train on $K - 1$ partitions and evaluate on the $i$th partition and keep a track of the score. The final score of the model is the average of the scores in each of these iterations. "
   ]
  },
  {
   "cell_type": "code",
   "execution_count": 2,
   "metadata": {},
   "outputs": [],
   "source": [
    "from typing import Dict, Any\n",
    "\n",
    "\n",
    "def k_fold_crossvalidation(data: np.array, k: int, model_configuration: Dict[Any, Any]) -> float:\n",
    "    assert k > 1\n",
    "    \n",
    "    num_validation_samples = len(data) // k\n",
    "\n",
    "    np.random.shuffle(data)\n",
    "\n",
    "    validation_scores = []\n",
    "    \n",
    "    for fold in range(k):\n",
    "        validation_data = data[num_validation_samples * fold: num_validation_samples * (fold + 1)] \n",
    "        training_data = np.concatenate(data[:num_validation_samples * fold], \n",
    "                                       data[num_validation_samples * (fold + 1):], axis=0)\n",
    "        model = get_model(model_configuration)\n",
    "        model.train(training_data)\n",
    "        validation_score = model.evaluate(validation_data)\n",
    "        validation_scores.append(validation_score)\n",
    "\n",
    "    return np.average(validation_scores)  "
   ]
  },
  {
   "cell_type": "markdown",
   "metadata": {},
   "source": [
    "One we have evaluated models with different configurations, we select the configuration that is best and then evaluate the model on the test data.\n",
    "\n",
    "```python\n",
    "model = get_model(final_configuration)                                                   \n",
    "model.train(data)                                                     \n",
    "test_score = model.evaluate(test_data)  \n",
    "```"
   ]
  },
  {
   "cell_type": "markdown",
   "metadata": {},
   "source": [
    "# Data Preprocessing\n",
    "\n",
    "One cannot directly feed raw data to a neural network in most situations. Raw data needs to be processed and typical procesing steps include _vectorization_, _normalization_, _handling missing values_ and _feature extraction_. \n",
    "\n",
    "### Data Vectorization\n",
    "\n",
    "All inputs to a neural network must be in the form of tensors of floating point data. Whatever the raw data, be it text, sound or images, must be first transformed into tensors. \n",
    "\n",
    "### Data Normalization\n",
    "\n",
    "In general, it is not a good idea to feed a neural network numbers that are very large compared to the initial weights with which the network is initialized or data that is very heterogeneous (data where different features vary over widely different ranges). Large numbers can cause the output of the neurons to take on very large or very small values. This, in turn, makes it difficult to update the gradient of the activation function of those neurons leading to slow convergence.\n",
    "\n",
    "Simple rule of thumb:\n",
    "\n",
    "* Values should be in the 0-1 range\n",
    "* Features should be homogeneous in the sense of having values in the same range\n",
    "\n",
    "Simple normalization practice\n",
    "\n",
    "* Normalize each feature independently to have a mean of $0$\n",
    "* Normalize each feature independently to have a standard deviation of $1$"
   ]
  },
  {
   "cell_type": "markdown",
   "metadata": {},
   "source": [
    "## IMDB Classification Using Different Models"
   ]
  },
  {
   "cell_type": "code",
   "execution_count": 3,
   "metadata": {},
   "outputs": [
    {
     "name": "stderr",
     "output_type": "stream",
     "text": [
      "/home/somnath/install/anaconda3/envs/dl/lib/python3.8/site-packages/tensorflow/python/keras/datasets/imdb.py:155: VisibleDeprecationWarning: Creating an ndarray from ragged nested sequences (which is a list-or-tuple of lists-or-tuples-or ndarrays with different lengths or shapes) is deprecated. If you meant to do this, you must specify 'dtype=object' when creating the ndarray\n",
      "  x_train, y_train = np.array(xs[:idx]), np.array(labels[:idx])\n",
      "/home/somnath/install/anaconda3/envs/dl/lib/python3.8/site-packages/tensorflow/python/keras/datasets/imdb.py:156: VisibleDeprecationWarning: Creating an ndarray from ragged nested sequences (which is a list-or-tuple of lists-or-tuples-or ndarrays with different lengths or shapes) is deprecated. If you meant to do this, you must specify 'dtype=object' when creating the ndarray\n",
      "  x_test, y_test = np.array(xs[idx:]), np.array(labels[idx:])\n"
     ]
    }
   ],
   "source": [
    "from keras.datasets import imdb\n",
    "\n",
    "# num_words = 10000 keeps the 10000 most frequently occurring words\n",
    "(train_data, train_labels), (test_data, test_labels) = imdb.load_data(num_words=10000)"
   ]
  },
  {
   "cell_type": "code",
   "execution_count": 4,
   "metadata": {},
   "outputs": [
    {
     "name": "stdout",
     "output_type": "stream",
     "text": [
      "[1, 14, 22, 16, 43, 530, 973, 1622, 1385, 65, 458, 4468, 66, 3941, 4, 173, 36, 256, 5, 25, 100, 43, 838, 112, 50, 670, 2, 9, 35, 480, 284, 5, 150, 4, 172, 112, 167, 2, 336, 385, 39, 4, 172, 4536, 1111, 17, 546, 38, 13, 447, 4, 192, 50, 16, 6, 147, 2025, 19, 14, 22, 4, 1920, 4613, 469, 4, 22, 71, 87, 12, 16, 43, 530, 38, 76, 15, 13, 1247, 4, 22, 17, 515, 17, 12, 16, 626, 18, 2, 5, 62, 386, 12, 8, 316, 8, 106, 5, 4, 2223, 5244, 16, 480, 66, 3785, 33, 4, 130, 12, 16, 38, 619, 5, 25, 124, 51, 36, 135, 48, 25, 1415, 33, 6, 22, 12, 215, 28, 77, 52, 5, 14, 407, 16, 82, 2, 8, 4, 107, 117, 5952, 15, 256, 4, 2, 7, 3766, 5, 723, 36, 71, 43, 530, 476, 26, 400, 317, 46, 7, 4, 2, 1029, 13, 104, 88, 4, 381, 15, 297, 98, 32, 2071, 56, 26, 141, 6, 194, 7486, 18, 4, 226, 22, 21, 134, 476, 26, 480, 5, 144, 30, 5535, 18, 51, 36, 28, 224, 92, 25, 104, 4, 226, 65, 16, 38, 1334, 88, 12, 16, 283, 5, 16, 4472, 113, 103, 32, 15, 16, 5345, 19, 178, 32]\n"
     ]
    }
   ],
   "source": [
    "print(train_data[0])"
   ]
  },
  {
   "cell_type": "code",
   "execution_count": 5,
   "metadata": {},
   "outputs": [
    {
     "data": {
      "text/plain": [
       "array([1, 0, 0, 1])"
      ]
     },
     "execution_count": 5,
     "metadata": {},
     "output_type": "execute_result"
    }
   ],
   "source": [
    "# Labels are either 0 or 1: 0 stands for a negative review and 1 for a positive review\n",
    "train_labels[0:4]"
   ]
  },
  {
   "cell_type": "code",
   "execution_count": 6,
   "metadata": {},
   "outputs": [
    {
     "data": {
      "text/plain": [
       "9999"
      ]
     },
     "execution_count": 6,
     "metadata": {},
     "output_type": "execute_result"
    }
   ],
   "source": [
    "max([max(s) for s in train_data])"
   ]
  },
  {
   "cell_type": "code",
   "execution_count": 7,
   "metadata": {},
   "outputs": [],
   "source": [
    "# decoding labels to words\n",
    "\n",
    "word_index = imdb.get_word_index()                 \n",
    "\n",
    "reverse_word_index = dict([(value, key) for (key, value) in word_index.items()])            \n",
    "\n",
    "# The first three word indices 0, 1, and 2 are reserved indices for “padding,” “start of sequence,” and “unknown.”\n",
    "decoded_review = ' '.join([reverse_word_index.get(i - 3, '?') for i in train_data[0]])"
   ]
  },
  {
   "cell_type": "code",
   "execution_count": 8,
   "metadata": {},
   "outputs": [
    {
     "data": {
      "text/plain": [
       "\"? this film was just brilliant casting location scenery story direction everyone's really suited the part they played and you could just imagine being there robert ? is an amazing actor and now the same being director ? father came from the same scottish island as myself so i loved the fact there was a real connection with this film the witty remarks throughout the film were great it was just brilliant so much that i bought the film as soon as it was released for ? and would recommend it to everyone to watch and the fly fishing was amazing really cried at the end it was so sad and you know what they say if you cry at a film it must have been good and this definitely was also ? to the two little boy's that played the ? of norman and paul they were just brilliant children are often left out of the ? list i think because the stars that play them all grown up are such a big profile for the whole film but these children are amazing and should be praised for what they have done don't you think the whole story was so lovely because it was true and was someone's life after all that was shared with us all\""
      ]
     },
     "execution_count": 8,
     "metadata": {},
     "output_type": "execute_result"
    }
   ],
   "source": [
    "decoded_review"
   ]
  },
  {
   "cell_type": "markdown",
   "metadata": {},
   "source": [
    "### Encoding Data"
   ]
  },
  {
   "cell_type": "code",
   "execution_count": 9,
   "metadata": {},
   "outputs": [],
   "source": [
    "import numpy as np\n",
    "\n",
    "from typing import List\n",
    "\n",
    "def vectorize_sequences(sequences: List[List[int]], dimension=10000):\n",
    "    results = np.zeros((len(sequences), dimension))        \n",
    "    \n",
    "    for i, sequence in enumerate(sequences):\n",
    "        # type(sequence) = List[int]\n",
    "        results[i, sequence] = 1.                          \n",
    "    return results\n",
    "\n",
    "x_train = vectorize_sequences(train_data)                  \n",
    "x_test = vectorize_sequences(test_data)   "
   ]
  },
  {
   "cell_type": "code",
   "execution_count": 10,
   "metadata": {},
   "outputs": [
    {
     "data": {
      "text/plain": [
       "(25000, 10000)"
      ]
     },
     "execution_count": 10,
     "metadata": {},
     "output_type": "execute_result"
    }
   ],
   "source": [
    "x_train.shape"
   ]
  },
  {
   "cell_type": "code",
   "execution_count": 11,
   "metadata": {},
   "outputs": [
    {
     "data": {
      "text/plain": [
       "(25000,)"
      ]
     },
     "execution_count": 11,
     "metadata": {},
     "output_type": "execute_result"
    }
   ],
   "source": [
    "train_labels.shape"
   ]
  },
  {
   "cell_type": "code",
   "execution_count": 12,
   "metadata": {},
   "outputs": [
    {
     "data": {
      "text/plain": [
       "numpy.ndarray"
      ]
     },
     "execution_count": 12,
     "metadata": {},
     "output_type": "execute_result"
    }
   ],
   "source": [
    "type(train_labels)"
   ]
  },
  {
   "cell_type": "code",
   "execution_count": 13,
   "metadata": {},
   "outputs": [],
   "source": [
    "# Vectorize labels, though not sure that this is necessary\n",
    "\n",
    "y_train = np.asarray(train_labels).astype('float32')\n",
    "y_test = np.asarray(test_labels).astype('float32')"
   ]
  },
  {
   "cell_type": "code",
   "execution_count": 14,
   "metadata": {},
   "outputs": [
    {
     "data": {
      "text/plain": [
       "numpy.ndarray"
      ]
     },
     "execution_count": 14,
     "metadata": {},
     "output_type": "execute_result"
    }
   ],
   "source": [
    "type(y_train)"
   ]
  },
  {
   "cell_type": "markdown",
   "metadata": {},
   "source": [
    "### First Model"
   ]
  },
  {
   "cell_type": "code",
   "execution_count": 15,
   "metadata": {},
   "outputs": [],
   "source": [
    "from keras import models\n",
    "from keras import layers\n",
    "\n",
    "def build_model(layer_sizes, layer_activations, input_shape=10000):\n",
    "    model = models.Sequential()\n",
    "    model.add(layers.Dense(layer_sizes[0], \n",
    "                           activation=layer_activations[0], \n",
    "                           input_shape=(input_shape,)))\n",
    "    \n",
    "    for i, sz in enumerate(layer_sizes[1:]): \n",
    "        model.add(layers.Dense(sz, \n",
    "                               activation=layer_activations[i]))\n",
    "    \n",
    "    return model"
   ]
  },
  {
   "cell_type": "code",
   "execution_count": 16,
   "metadata": {},
   "outputs": [],
   "source": [
    "model1 = build_model([16, 16, 1], ['relu', 'relu', 'sigmoid'])"
   ]
  },
  {
   "cell_type": "markdown",
   "metadata": {},
   "source": [
    "### Compile Model"
   ]
  },
  {
   "cell_type": "code",
   "execution_count": 17,
   "metadata": {},
   "outputs": [],
   "source": [
    "model1.compile(optimizer='rmsprop', \n",
    "               loss='binary_crossentropy', \n",
    "               metrics=['accuracy'])"
   ]
  },
  {
   "cell_type": "markdown",
   "metadata": {},
   "source": [
    "### Validation Set"
   ]
  },
  {
   "cell_type": "code",
   "execution_count": 18,
   "metadata": {},
   "outputs": [],
   "source": [
    "x_val = x_train[:10000]\n",
    "partial_x_train = x_train[10000:]\n",
    "\n",
    "y_val = y_train[:10000]\n",
    "partial_y_train = y_train[10000:]"
   ]
  },
  {
   "cell_type": "markdown",
   "metadata": {},
   "source": [
    "### Train"
   ]
  },
  {
   "cell_type": "code",
   "execution_count": 19,
   "metadata": {},
   "outputs": [
    {
     "name": "stdout",
     "output_type": "stream",
     "text": [
      "Epoch 1/20\n",
      "30/30 [==============================] - 1s 49ms/step - loss: 0.7804 - accuracy: 0.6381 - val_loss: 0.4537 - val_accuracy: 0.7955\n",
      "Epoch 2/20\n",
      "30/30 [==============================] - 1s 41ms/step - loss: 0.3658 - accuracy: 0.8569 - val_loss: 0.3858 - val_accuracy: 0.8586\n",
      "Epoch 3/20\n",
      "30/30 [==============================] - 1s 35ms/step - loss: 0.2632 - accuracy: 0.9086 - val_loss: 0.4413 - val_accuracy: 0.8746\n",
      "Epoch 4/20\n",
      "30/30 [==============================] - 1s 42ms/step - loss: 0.2229 - accuracy: 0.9265 - val_loss: 0.4707 - val_accuracy: 0.8795\n",
      "Epoch 5/20\n",
      "30/30 [==============================] - 1s 41ms/step - loss: 0.1760 - accuracy: 0.9505 - val_loss: 0.5252 - val_accuracy: 0.8864\n",
      "Epoch 6/20\n",
      "30/30 [==============================] - 1s 34ms/step - loss: 0.1552 - accuracy: 0.9588 - val_loss: 0.6092 - val_accuracy: 0.8849\n",
      "Epoch 7/20\n",
      "30/30 [==============================] - 1s 40ms/step - loss: 0.1330 - accuracy: 0.9701 - val_loss: 0.7565 - val_accuracy: 0.8724\n",
      "Epoch 8/20\n",
      "30/30 [==============================] - 1s 37ms/step - loss: 0.1123 - accuracy: 0.9757 - val_loss: 0.7694 - val_accuracy: 0.8800\n",
      "Epoch 9/20\n",
      "30/30 [==============================] - 1s 37ms/step - loss: 0.0993 - accuracy: 0.9817 - val_loss: 0.7816 - val_accuracy: 0.8781\n",
      "Epoch 10/20\n",
      "30/30 [==============================] - 1s 41ms/step - loss: 0.0920 - accuracy: 0.9873 - val_loss: 0.8702 - val_accuracy: 0.8767\n",
      "Epoch 11/20\n",
      "30/30 [==============================] - 1s 37ms/step - loss: 0.0772 - accuracy: 0.9903 - val_loss: 0.9476 - val_accuracy: 0.8719\n",
      "Epoch 12/20\n",
      "30/30 [==============================] - 1s 47ms/step - loss: 0.0887 - accuracy: 0.9871 - val_loss: 0.9479 - val_accuracy: 0.8772\n",
      "Epoch 13/20\n",
      "30/30 [==============================] - 1s 34ms/step - loss: 0.0682 - accuracy: 0.9914 - val_loss: 0.9830 - val_accuracy: 0.8761\n",
      "Epoch 14/20\n",
      "30/30 [==============================] - 1s 35ms/step - loss: 0.0583 - accuracy: 0.9959 - val_loss: 1.0345 - val_accuracy: 0.8742\n",
      "Epoch 15/20\n",
      "30/30 [==============================] - 1s 34ms/step - loss: 0.0756 - accuracy: 0.9906 - val_loss: 1.0523 - val_accuracy: 0.8739\n",
      "Epoch 16/20\n",
      "30/30 [==============================] - 1s 42ms/step - loss: 0.0542 - accuracy: 0.9963 - val_loss: 1.1010 - val_accuracy: 0.8727\n",
      "Epoch 17/20\n",
      "30/30 [==============================] - 1s 40ms/step - loss: 0.0712 - accuracy: 0.9912 - val_loss: 1.1032 - val_accuracy: 0.8735\n",
      "Epoch 18/20\n",
      "30/30 [==============================] - 1s 32ms/step - loss: 0.0534 - accuracy: 0.9964 - val_loss: 1.1727 - val_accuracy: 0.8691\n",
      "Epoch 19/20\n",
      "30/30 [==============================] - 1s 29ms/step - loss: 0.0708 - accuracy: 0.9921 - val_loss: 1.1161 - val_accuracy: 0.8730\n",
      "Epoch 20/20\n",
      "30/30 [==============================] - 1s 43ms/step - loss: 0.0519 - accuracy: 0.9965 - val_loss: 1.1399 - val_accuracy: 0.8712\n"
     ]
    }
   ],
   "source": [
    "history1 = model1.fit(partial_x_train,\n",
    "                      partial_y_train,\n",
    "                      epochs=20,\n",
    "                      batch_size=512,\n",
    "                      validation_data=(x_val, y_val))"
   ]
  },
  {
   "cell_type": "code",
   "execution_count": 20,
   "metadata": {},
   "outputs": [
    {
     "data": {
      "text/plain": [
       "dict_keys(['loss', 'accuracy', 'val_loss', 'val_accuracy'])"
      ]
     },
     "execution_count": 20,
     "metadata": {},
     "output_type": "execute_result"
    }
   ],
   "source": [
    "hist_dict1 = history1.history\n",
    "hist_dict1.keys()"
   ]
  },
  {
   "cell_type": "code",
   "execution_count": 21,
   "metadata": {},
   "outputs": [
    {
     "data": {
      "text/plain": [
       "[0.7804002165794373,\n",
       " 0.3657699525356293,\n",
       " 0.2632185220718384,\n",
       " 0.22287529706954956,\n",
       " 0.17595994472503662,\n",
       " 0.15521253645420074,\n",
       " 0.13304737210273743,\n",
       " 0.1123143807053566,\n",
       " 0.09926082193851471,\n",
       " 0.092044897377491,\n",
       " 0.07721783220767975,\n",
       " 0.08871104568243027,\n",
       " 0.06824624538421631,\n",
       " 0.058288976550102234,\n",
       " 0.0755770355463028,\n",
       " 0.05421750247478485,\n",
       " 0.07121636718511581,\n",
       " 0.05336262285709381,\n",
       " 0.0708073303103447,\n",
       " 0.051912736147642136]"
      ]
     },
     "execution_count": 21,
     "metadata": {},
     "output_type": "execute_result"
    }
   ],
   "source": [
    "hist_dict1['loss']"
   ]
  },
  {
   "cell_type": "markdown",
   "metadata": {},
   "source": [
    "## Plots"
   ]
  },
  {
   "cell_type": "code",
   "execution_count": 22,
   "metadata": {},
   "outputs": [],
   "source": [
    "import matplotlib.pyplot as plt\n",
    "\n",
    "def plot_training_validation_loss(history):\n",
    "    history_dict = history.history\n",
    "    loss_values = history_dict['loss']\n",
    "    val_loss_values = history_dict['val_loss']\n",
    "\n",
    "    epochs = range(1, len(loss_values) + 1)\n",
    "\n",
    "    plt.plot(epochs, loss_values, 'bo', label='Training loss')           \n",
    "    plt.plot(epochs, val_loss_values, 'b', label='Validation loss')      \n",
    "    \n",
    "    plt.title('Training and validation loss')\n",
    "    plt.xlabel('Epochs')\n",
    "    plt.ylabel('Loss')\n",
    "    plt.legend()\n",
    "\n",
    "    plt.show()\n",
    "    \n",
    "def plot_training_validation_accuracy(history):               \n",
    "    history_dict = history.history\n",
    "    acc = history_dict['accuracy']\n",
    "    val_acc = history_dict['val_accuracy']\n",
    "    \n",
    "    epochs = range(1, len(acc) + 1)\n",
    "    \n",
    "    plt.plot(epochs, acc, 'bo', label='Training acc')\n",
    "    plt.plot(epochs, val_acc, 'b', label='Validation acc')\n",
    "    \n",
    "    plt.title('Training and validation accuracy')\n",
    "    plt.xlabel('Epochs')\n",
    "    plt.ylabel('Accuracy')\n",
    "    plt.legend()\n",
    "\n",
    "    plt.show()"
   ]
  },
  {
   "cell_type": "code",
   "execution_count": 23,
   "metadata": {},
   "outputs": [
    {
     "data": {
      "image/png": "[encoded data removed]",
      "text/plain": [
       "<Figure size 432x288 with 1 Axes>"
      ]
     },
     "metadata": {
      "needs_background": "light"
     },
     "output_type": "display_data"
    }
   ],
   "source": [
    "plot_training_validation_loss(history1)"
   ]
  },
  {
   "cell_type": "code",
   "execution_count": 24,
   "metadata": {},
   "outputs": [
    {
     "data": {
      "image/png": "[encoded data removed]",
      "text/plain": [
       "<Figure size 432x288 with 1 Axes>"
      ]
     },
     "metadata": {
      "needs_background": "light"
     },
     "output_type": "display_data"
    }
   ],
   "source": [
    "plot_training_validation_accuracy(history1)"
   ]
  }
 ],
 "metadata": {
  "kernelspec": {
   "display_name": "Python 3",
   "language": "python",
   "name": "python3"
  },
  "language_info": {
   "codemirror_mode": {
    "name": "ipython",
    "version": 3
   },
   "file_extension": ".py",
   "mimetype": "text/x-python",
   "name": "python",
   "nbconvert_exporter": "python",
   "pygments_lexer": "ipython3",
   "version": "3.8.5"
  }
 },
 "nbformat": 4,
 "nbformat_minor": 2
}
