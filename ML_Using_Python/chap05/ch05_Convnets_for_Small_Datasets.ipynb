{
 "cells": [
  {
   "cell_type": "markdown",
   "metadata": {},
   "source": [
    "# Basic Strategy for Dealing with Small Datasets\n",
    "\n",
    "* Create a naive convnet model without regularization to set a baseline for what can be achieved.\n",
    "* Data Augmentation: to prevent overfitting.\n",
    "* Feature extraction with a pretrained network.\n",
    "* Fine tuning a pretrained network."
   ]
  },
  {
   "cell_type": "code",
   "execution_count": 1,
   "metadata": {},
   "outputs": [],
   "source": [
    "import os\n",
    "\n",
    "base_dir = './'\n",
    "\n",
    "train_dir = os.path.join(base_dir, 'train') \n",
    "validation_dir = os.path.join(base_dir, 'validation')\n",
    "test_dir = os.path.join(base_dir, 'test')\n",
    "\n",
    "train_cats_dir = os.path.join(train_dir, 'cats')\n",
    "train_dogs_dir = os.path.join(train_dir, 'dogs')                           \n",
    "\n",
    "validation_cats_dir = os.path.join(validation_dir, 'cats')\n",
    "validation_dogs_dir = os.path.join(validation_dir, 'dogs')                 \n",
    "                                             \n",
    "test_cats_dir = os.path.join(test_dir, 'cats')\n",
    "test_dogs_dir = os.path.join(test_dir, 'dogs')                               "
   ]
  },
  {
   "cell_type": "markdown",
   "metadata": {},
   "source": [
    "### The Model"
   ]
  },
  {
   "cell_type": "code",
   "execution_count": 2,
   "metadata": {},
   "outputs": [],
   "source": [
    "from keras import layers\n",
    "from keras import models\n",
    "\n",
    "model = models.Sequential()\n",
    "model.add(layers.Conv2D(32, (3, 3), activation='relu', \n",
    "                        input_shape=(150, 150, 3)))\n",
    "model.add(layers.MaxPooling2D((2, 2)))\n",
    "\n",
    "model.add(layers.Conv2D(64, (3, 3), activation='relu')) \n",
    "model.add(layers.MaxPooling2D((2, 2)))\n",
    "\n",
    "model.add(layers.Conv2D(128, (3, 3), activation='relu')) \n",
    "model.add(layers.MaxPooling2D((2, 2))) \n",
    "\n",
    "model.add(layers.Conv2D(128, (3, 3), activation='relu'))\n",
    "model.add(layers.MaxPooling2D((2, 2))) \n",
    "\n",
    "model.add(layers.Flatten()) \n",
    "model.add(layers.Dense(512, activation='relu')) \n",
    "model.add(layers.Dense(1, activation='sigmoid'))"
   ]
  },
  {
   "cell_type": "code",
   "execution_count": 3,
   "metadata": {},
   "outputs": [
    {
     "name": "stdout",
     "output_type": "stream",
     "text": [
      "Model: \"sequential\"\n",
      "_________________________________________________________________\n",
      "Layer (type)                 Output Shape              Param #   \n",
      "=================================================================\n",
      "conv2d (Conv2D)              (None, 148, 148, 32)      896       \n",
      "_________________________________________________________________\n",
      "max_pooling2d (MaxPooling2D) (None, 74, 74, 32)        0         \n",
      "_________________________________________________________________\n",
      "conv2d_1 (Conv2D)            (None, 72, 72, 64)        18496     \n",
      "_________________________________________________________________\n",
      "max_pooling2d_1 (MaxPooling2 (None, 36, 36, 64)        0         \n",
      "_________________________________________________________________\n",
      "conv2d_2 (Conv2D)            (None, 34, 34, 128)       73856     \n",
      "_________________________________________________________________\n",
      "max_pooling2d_2 (MaxPooling2 (None, 17, 17, 128)       0         \n",
      "_________________________________________________________________\n",
      "conv2d_3 (Conv2D)            (None, 15, 15, 128)       147584    \n",
      "_________________________________________________________________\n",
      "max_pooling2d_3 (MaxPooling2 (None, 7, 7, 128)         0         \n",
      "_________________________________________________________________\n",
      "flatten (Flatten)            (None, 6272)              0         \n",
      "_________________________________________________________________\n",
      "dense (Dense)                (None, 512)               3211776   \n",
      "_________________________________________________________________\n",
      "dense_1 (Dense)              (None, 1)                 513       \n",
      "=================================================================\n",
      "Total params: 3,453,121\n",
      "Trainable params: 3,453,121\n",
      "Non-trainable params: 0\n",
      "_________________________________________________________________\n"
     ]
    }
   ],
   "source": [
    "model.summary()"
   ]
  },
  {
   "cell_type": "markdown",
   "metadata": {},
   "source": [
    "### Compiling Model"
   ]
  },
  {
   "cell_type": "code",
   "execution_count": 4,
   "metadata": {},
   "outputs": [],
   "source": [
    "from keras import optimizers\n",
    "\n",
    "\n",
    "model.compile(loss='binary_crossentropy',\n",
    "              optimizer=optimizers.RMSprop(lr=1e-4),\n",
    "              metrics=['acc'])"
   ]
  },
  {
   "cell_type": "markdown",
   "metadata": {},
   "source": [
    "### Processing Raw Image Data"
   ]
  },
  {
   "cell_type": "code",
   "execution_count": 5,
   "metadata": {},
   "outputs": [
    {
     "name": "stdout",
     "output_type": "stream",
     "text": [
      "Found 2000 images belonging to 2 classes.\n",
      "Found 1000 images belonging to 2 classes.\n"
     ]
    }
   ],
   "source": [
    "from keras.preprocessing.image import ImageDataGenerator\n",
    "\n",
    "train_datagen = ImageDataGenerator(rescale=1./255)             \n",
    "test_datagen = ImageDataGenerator(rescale=1./255)              \n",
    "\n",
    "train_generator = train_datagen.flow_from_directory(\n",
    "        train_dir,                                             \n",
    "        target_size=(150, 150),                                 \n",
    "        batch_size=20,\n",
    "        class_mode='binary')\n",
    "\n",
    "validation_generator = test_datagen.flow_from_directory(\n",
    "        validation_dir,\n",
    "        target_size=(150, 150),\n",
    "        batch_size=20,\n",
    "        class_mode='binary')"
   ]
  },
  {
   "cell_type": "markdown",
   "metadata": {},
   "source": [
    "### Fitting the Model"
   ]
  },
  {
   "cell_type": "code",
   "execution_count": 6,
   "metadata": {},
   "outputs": [
    {
     "name": "stdout",
     "output_type": "stream",
     "text": [
      "Epoch 1/30\n",
      "100/100 [==============================] - 103s 1s/step - loss: 0.6911 - acc: 0.5215 - val_loss: 0.6836 - val_acc: 0.5390\n",
      "Epoch 2/30\n",
      "100/100 [==============================] - 104s 1s/step - loss: 0.6600 - acc: 0.6135 - val_loss: 0.6572 - val_acc: 0.5960\n",
      "Epoch 3/30\n",
      "100/100 [==============================] - 98s 981ms/step - loss: 0.6205 - acc: 0.6530 - val_loss: 0.6160 - val_acc: 0.6600\n",
      "Epoch 4/30\n",
      "100/100 [==============================] - 100s 1s/step - loss: 0.5865 - acc: 0.6865 - val_loss: 0.6064 - val_acc: 0.6650\n",
      "Epoch 5/30\n",
      "100/100 [==============================] - 76s 764ms/step - loss: 0.5603 - acc: 0.7030 - val_loss: 0.6819 - val_acc: 0.6070\n",
      "Epoch 6/30\n",
      "100/100 [==============================] - 76s 765ms/step - loss: 0.5387 - acc: 0.7185 - val_loss: 0.5616 - val_acc: 0.7110\n",
      "Epoch 7/30\n",
      "100/100 [==============================] - 76s 760ms/step - loss: 0.5289 - acc: 0.7315 - val_loss: 0.6041 - val_acc: 0.6770\n",
      "Epoch 8/30\n",
      "100/100 [==============================] - 74s 743ms/step - loss: 0.5041 - acc: 0.7515 - val_loss: 0.5741 - val_acc: 0.6890\n",
      "Epoch 9/30\n",
      "100/100 [==============================] - 79s 792ms/step - loss: 0.4915 - acc: 0.7545 - val_loss: 0.5684 - val_acc: 0.7100\n",
      "Epoch 10/30\n",
      "100/100 [==============================] - 78s 782ms/step - loss: 0.4690 - acc: 0.7785 - val_loss: 0.5686 - val_acc: 0.7120\n",
      "Epoch 11/30\n",
      "100/100 [==============================] - 102s 1s/step - loss: 0.4591 - acc: 0.7760 - val_loss: 0.5882 - val_acc: 0.7040\n",
      "Epoch 12/30\n",
      "100/100 [==============================] - 102s 1s/step - loss: 0.4374 - acc: 0.7980 - val_loss: 0.5559 - val_acc: 0.7130\n",
      "Epoch 13/30\n",
      "100/100 [==============================] - 105s 1s/step - loss: 0.4308 - acc: 0.7945 - val_loss: 0.5812 - val_acc: 0.7160\n",
      "Epoch 14/30\n",
      "100/100 [==============================] - 84s 836ms/step - loss: 0.4067 - acc: 0.8125 - val_loss: 0.5588 - val_acc: 0.7230\n",
      "Epoch 15/30\n",
      "100/100 [==============================] - 87s 867ms/step - loss: 0.3944 - acc: 0.8245 - val_loss: 0.5653 - val_acc: 0.7140\n",
      "Epoch 16/30\n",
      "100/100 [==============================] - 89s 890ms/step - loss: 0.3818 - acc: 0.8295 - val_loss: 0.5514 - val_acc: 0.7360\n",
      "Epoch 17/30\n",
      "100/100 [==============================] - 87s 866ms/step - loss: 0.3619 - acc: 0.8365 - val_loss: 0.5345 - val_acc: 0.7540\n",
      "Epoch 18/30\n",
      "100/100 [==============================] - 82s 824ms/step - loss: 0.3469 - acc: 0.8475 - val_loss: 0.6179 - val_acc: 0.7220\n",
      "Epoch 19/30\n",
      "100/100 [==============================] - 80s 801ms/step - loss: 0.3333 - acc: 0.8605 - val_loss: 0.5835 - val_acc: 0.7300\n",
      "Epoch 20/30\n",
      "100/100 [==============================] - 80s 799ms/step - loss: 0.3280 - acc: 0.8600 - val_loss: 0.5802 - val_acc: 0.7330\n",
      "Epoch 21/30\n",
      "100/100 [==============================] - 81s 812ms/step - loss: 0.3137 - acc: 0.8705 - val_loss: 0.6313 - val_acc: 0.7300\n",
      "Epoch 22/30\n",
      "100/100 [==============================] - 77s 771ms/step - loss: 0.2964 - acc: 0.8770 - val_loss: 0.6716 - val_acc: 0.7150\n",
      "Epoch 23/30\n",
      "100/100 [==============================] - 76s 760ms/step - loss: 0.2782 - acc: 0.8850 - val_loss: 0.6264 - val_acc: 0.7000\n",
      "Epoch 24/30\n",
      "100/100 [==============================] - 78s 779ms/step - loss: 0.2739 - acc: 0.8890 - val_loss: 0.6410 - val_acc: 0.7240\n",
      "Epoch 25/30\n",
      "100/100 [==============================] - 77s 769ms/step - loss: 0.2649 - acc: 0.8935 - val_loss: 0.6285 - val_acc: 0.7340\n",
      "Epoch 26/30\n",
      "100/100 [==============================] - 79s 795ms/step - loss: 0.2501 - acc: 0.9050 - val_loss: 0.6484 - val_acc: 0.7220\n",
      "Epoch 27/30\n",
      "100/100 [==============================] - 77s 773ms/step - loss: 0.2344 - acc: 0.9050 - val_loss: 0.6829 - val_acc: 0.6930\n",
      "Epoch 28/30\n",
      "100/100 [==============================] - 87s 874ms/step - loss: 0.2211 - acc: 0.9120 - val_loss: 0.6695 - val_acc: 0.7150\n",
      "Epoch 29/30\n",
      "100/100 [==============================] - 81s 808ms/step - loss: 0.2110 - acc: 0.9095 - val_loss: 0.6695 - val_acc: 0.7380\n",
      "Epoch 30/30\n",
      "100/100 [==============================] - 80s 797ms/step - loss: 0.1952 - acc: 0.9290 - val_loss: 0.6933 - val_acc: 0.7070\n"
     ]
    }
   ],
   "source": [
    "history = model.fit(\n",
    "      train_generator,\n",
    "      steps_per_epoch=100,\n",
    "      epochs=30,\n",
    "      validation_data=validation_generator,\n",
    "      validation_steps=50)\n",
    "\n",
    "model.save('cats_and_dogs_small_1.h5')"
   ]
  }
 ],
 "metadata": {
  "kernelspec": {
   "display_name": "dl",
   "language": "python",
   "name": "dl"
  },
  "language_info": {
   "codemirror_mode": {
    "name": "ipython",
    "version": 3
   },
   "file_extension": ".py",
   "mimetype": "text/x-python",
   "name": "python",
   "nbconvert_exporter": "python",
   "pygments_lexer": "ipython3",
   "version": "3.8.5"
  }
 },
 "nbformat": 4,
 "nbformat_minor": 4
}
