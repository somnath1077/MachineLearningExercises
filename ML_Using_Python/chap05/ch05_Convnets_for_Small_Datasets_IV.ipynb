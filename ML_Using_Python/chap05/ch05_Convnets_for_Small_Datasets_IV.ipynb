{
 "cells": [
  {
   "cell_type": "markdown",
   "metadata": {},
   "source": [
    "# Using the VGG16 Convolutional Base as Frozen Base"
   ]
  },
  {
   "cell_type": "code",
   "execution_count": 1,
   "metadata": {},
   "outputs": [],
   "source": [
    "from keras.applications import VGG16\n",
    "\n",
    "# The include_top argument specifies whether we want to include the densely connected classifier in the top\n",
    "conv_base = VGG16(weights='imagenet', \n",
    "                  include_top=False, \n",
    "                  input_shape=(150, 150, 3))"
   ]
  },
  {
   "cell_type": "markdown",
   "metadata": {},
   "source": [
    "## Import, Directory Paths"
   ]
  },
  {
   "cell_type": "code",
   "execution_count": 2,
   "metadata": {},
   "outputs": [],
   "source": [
    "import os\n",
    "import numpy as np\n",
    "\n",
    "from keras.preprocessing.image import ImageDataGenerator\n",
    "from keras import models\n",
    "from keras import layers\n",
    "from keras import optimizers\n",
    "\n",
    "\n",
    "base_dir = './'\n",
    "\n",
    "train_dir = os.path.join(base_dir, 'train') \n",
    "validation_dir = os.path.join(base_dir, 'validation')\n",
    "test_dir = os.path.join(base_dir, 'test')\n",
    "\n",
    "train_cats_dir = os.path.join(train_dir, 'cats')\n",
    "train_dogs_dir = os.path.join(train_dir, 'dogs')                           \n",
    "\n",
    "validation_cats_dir = os.path.join(validation_dir, 'cats')\n",
    "validation_dogs_dir = os.path.join(validation_dir, 'dogs')                 "
   ]
  },
  {
   "cell_type": "markdown",
   "metadata": {},
   "source": [
    "## Model with VGG16 Base"
   ]
  },
  {
   "cell_type": "code",
   "execution_count": 3,
   "metadata": {},
   "outputs": [],
   "source": [
    "model = models.Sequential()\n",
    "\n",
    "model.add(conv_base)\n",
    "model.add(layers.Flatten())\n",
    "model.add(layers.Dense(256, activation='relu'))\n",
    "\n",
    "model.add(layers.Dropout(0.5))\n",
    "model.add(layers.Dense(1, activation='sigmoid'))"
   ]
  },
  {
   "cell_type": "markdown",
   "metadata": {},
   "source": [
    "## Freeze the Convolutional Base"
   ]
  },
  {
   "cell_type": "code",
   "execution_count": 4,
   "metadata": {},
   "outputs": [],
   "source": [
    "conv_base.trainable = False\n",
    "\n",
    "model.compile(optimizer=optimizers.RMSprop(lr=2e-5),\n",
    "              loss='binary_crossentropy',\n",
    "              metrics=['acc'])"
   ]
  },
  {
   "cell_type": "code",
   "execution_count": 5,
   "metadata": {},
   "outputs": [
    {
     "name": "stdout",
     "output_type": "stream",
     "text": [
      "Model: \"sequential\"\n",
      "_________________________________________________________________\n",
      "Layer (type)                 Output Shape              Param #   \n",
      "=================================================================\n",
      "vgg16 (Model)                (None, 4, 4, 512)         14714688  \n",
      "_________________________________________________________________\n",
      "flatten (Flatten)            (None, 8192)              0         \n",
      "_________________________________________________________________\n",
      "dense (Dense)                (None, 256)               2097408   \n",
      "_________________________________________________________________\n",
      "dropout (Dropout)            (None, 256)               0         \n",
      "_________________________________________________________________\n",
      "dense_1 (Dense)              (None, 1)                 257       \n",
      "=================================================================\n",
      "Total params: 16,812,353\n",
      "Trainable params: 2,097,665\n",
      "Non-trainable params: 14,714,688\n",
      "_________________________________________________________________\n"
     ]
    }
   ],
   "source": [
    "model.summary()"
   ]
  },
  {
   "cell_type": "code",
   "execution_count": 6,
   "metadata": {},
   "outputs": [
    {
     "data": {
      "text/plain": [
       "4"
      ]
     },
     "execution_count": 6,
     "metadata": {},
     "output_type": "execute_result"
    }
   ],
   "source": [
    "len(model.trainable_weights)"
   ]
  },
  {
   "cell_type": "code",
   "execution_count": 7,
   "metadata": {},
   "outputs": [
    {
     "name": "stdout",
     "output_type": "stream",
     "text": [
      "Found 2000 images belonging to 2 classes.\n",
      "Found 1000 images belonging to 2 classes.\n",
      "Epoch 1/50\n",
      "100/100 [==============================] - 458s 5s/step - loss: 0.6987 - acc: 0.5675 - val_loss: 0.5170 - val_acc: 0.7860\n",
      "Epoch 2/50\n",
      "100/100 [==============================] - 459s 5s/step - loss: 0.5570 - acc: 0.7205 - val_loss: 0.4245 - val_acc: 0.8260\n",
      "Epoch 3/50\n",
      "100/100 [==============================] - 466s 5s/step - loss: 0.5114 - acc: 0.7510 - val_loss: 0.3776 - val_acc: 0.8500\n",
      "Epoch 4/50\n",
      "100/100 [==============================] - 465s 5s/step - loss: 0.4816 - acc: 0.7715 - val_loss: 0.3587 - val_acc: 0.8620\n",
      "Epoch 5/50\n",
      "100/100 [==============================] - 468s 5s/step - loss: 0.4432 - acc: 0.7915 - val_loss: 0.3276 - val_acc: 0.8810\n",
      "Epoch 6/50\n",
      "100/100 [==============================] - 466s 5s/step - loss: 0.4336 - acc: 0.7960 - val_loss: 0.3045 - val_acc: 0.8840\n",
      "Epoch 7/50\n",
      "100/100 [==============================] - 469s 5s/step - loss: 0.4282 - acc: 0.8050 - val_loss: 0.3021 - val_acc: 0.8850\n",
      "Epoch 8/50\n",
      "100/100 [==============================] - 470s 5s/step - loss: 0.3990 - acc: 0.8210 - val_loss: 0.2927 - val_acc: 0.8880\n",
      "Epoch 9/50\n",
      "100/100 [==============================] - 459s 5s/step - loss: 0.3865 - acc: 0.8255 - val_loss: 0.2915 - val_acc: 0.8820\n",
      "Epoch 10/50\n",
      "100/100 [==============================] - 465s 5s/step - loss: 0.3812 - acc: 0.8265 - val_loss: 0.2879 - val_acc: 0.8890\n",
      "Epoch 11/50\n",
      "100/100 [==============================] - 467s 5s/step - loss: 0.3858 - acc: 0.8265 - val_loss: 0.2733 - val_acc: 0.8970\n",
      "Epoch 12/50\n",
      "100/100 [==============================] - 456s 5s/step - loss: 0.3710 - acc: 0.8425 - val_loss: 0.2709 - val_acc: 0.8960\n",
      "Epoch 13/50\n",
      "100/100 [==============================] - 455s 5s/step - loss: 0.3872 - acc: 0.8300 - val_loss: 0.2719 - val_acc: 0.8920\n",
      "Epoch 14/50\n",
      "100/100 [==============================] - 449s 4s/step - loss: 0.3748 - acc: 0.8285 - val_loss: 0.2681 - val_acc: 0.9050\n",
      "Epoch 15/50\n",
      "100/100 [==============================] - 460s 5s/step - loss: 0.3593 - acc: 0.8390 - val_loss: 0.2598 - val_acc: 0.8910\n",
      "Epoch 16/50\n",
      "100/100 [==============================] - 443s 4s/step - loss: 0.3709 - acc: 0.8310 - val_loss: 0.2530 - val_acc: 0.8980\n",
      "Epoch 17/50\n",
      "100/100 [==============================] - 453s 5s/step - loss: 0.3598 - acc: 0.8440 - val_loss: 0.2887 - val_acc: 0.8830\n",
      "Epoch 18/50\n",
      "100/100 [==============================] - 456s 5s/step - loss: 0.3531 - acc: 0.8415 - val_loss: 0.2593 - val_acc: 0.8970\n",
      "Epoch 19/50\n",
      "100/100 [==============================] - 465s 5s/step - loss: 0.3502 - acc: 0.8495 - val_loss: 0.2387 - val_acc: 0.9200\n",
      "Epoch 20/50\n",
      "100/100 [==============================] - 466s 5s/step - loss: 0.3618 - acc: 0.8375 - val_loss: 0.2477 - val_acc: 0.9050\n",
      "Epoch 21/50\n",
      "100/100 [==============================] - 461s 5s/step - loss: 0.3482 - acc: 0.8400 - val_loss: 0.2647 - val_acc: 0.8930\n",
      "Epoch 22/50\n",
      "100/100 [==============================] - 426s 4s/step - loss: 0.3320 - acc: 0.8505 - val_loss: 0.2550 - val_acc: 0.8940\n",
      "Epoch 23/50\n",
      "100/100 [==============================] - 454s 5s/step - loss: 0.3228 - acc: 0.8525 - val_loss: 0.2502 - val_acc: 0.8980\n",
      "Epoch 24/50\n",
      "100/100 [==============================] - 446s 4s/step - loss: 0.3364 - acc: 0.8510 - val_loss: 0.2386 - val_acc: 0.9030\n",
      "Epoch 25/50\n",
      "100/100 [==============================] - 430s 4s/step - loss: 0.3414 - acc: 0.8475 - val_loss: 0.2460 - val_acc: 0.9030\n",
      "Epoch 26/50\n",
      "100/100 [==============================] - 403s 4s/step - loss: 0.3300 - acc: 0.8565 - val_loss: 0.2607 - val_acc: 0.9010\n",
      "Epoch 27/50\n",
      "100/100 [==============================] - 408s 4s/step - loss: 0.3234 - acc: 0.8575 - val_loss: 0.2511 - val_acc: 0.8960\n",
      "Epoch 28/50\n",
      "100/100 [==============================] - 442s 4s/step - loss: 0.3114 - acc: 0.8630 - val_loss: 0.2381 - val_acc: 0.9050\n",
      "Epoch 29/50\n",
      "100/100 [==============================] - 451s 5s/step - loss: 0.3303 - acc: 0.8555 - val_loss: 0.2479 - val_acc: 0.9030\n",
      "Epoch 30/50\n",
      "100/100 [==============================] - 468s 5s/step - loss: 0.3090 - acc: 0.8585 - val_loss: 0.2456 - val_acc: 0.8950\n",
      "Epoch 31/50\n",
      "100/100 [==============================] - 466s 5s/step - loss: 0.3226 - acc: 0.8615 - val_loss: 0.2343 - val_acc: 0.9090\n",
      "Epoch 32/50\n",
      "100/100 [==============================] - 469s 5s/step - loss: 0.3108 - acc: 0.8700 - val_loss: 0.2387 - val_acc: 0.9040\n",
      "Epoch 33/50\n",
      "100/100 [==============================] - 466s 5s/step - loss: 0.3016 - acc: 0.8715 - val_loss: 0.2689 - val_acc: 0.8980\n",
      "Epoch 34/50\n",
      "100/100 [==============================] - 461s 5s/step - loss: 0.3137 - acc: 0.8585 - val_loss: 0.2435 - val_acc: 0.8980\n",
      "Epoch 35/50\n",
      "100/100 [==============================] - 467s 5s/step - loss: 0.3145 - acc: 0.8570 - val_loss: 0.2402 - val_acc: 0.9060\n",
      "Epoch 36/50\n",
      "100/100 [==============================] - 457s 5s/step - loss: 0.3019 - acc: 0.8665 - val_loss: 0.2498 - val_acc: 0.8910\n",
      "Epoch 37/50\n",
      "100/100 [==============================] - 459s 5s/step - loss: 0.3136 - acc: 0.8645 - val_loss: 0.2446 - val_acc: 0.9090\n",
      "Epoch 38/50\n",
      "100/100 [==============================] - 450s 4s/step - loss: 0.3053 - acc: 0.8690 - val_loss: 0.2361 - val_acc: 0.9100\n",
      "Epoch 39/50\n",
      "100/100 [==============================] - 446s 4s/step - loss: 0.3139 - acc: 0.8545 - val_loss: 0.2626 - val_acc: 0.8940\n",
      "Epoch 40/50\n",
      "100/100 [==============================] - 444s 4s/step - loss: 0.3021 - acc: 0.8680 - val_loss: 0.2334 - val_acc: 0.9130\n",
      "Epoch 41/50\n",
      "100/100 [==============================] - 448s 4s/step - loss: 0.3103 - acc: 0.8615 - val_loss: 0.2265 - val_acc: 0.9130\n",
      "Epoch 42/50\n",
      "100/100 [==============================] - 458s 5s/step - loss: 0.2998 - acc: 0.8640 - val_loss: 0.2318 - val_acc: 0.9080\n",
      "Epoch 43/50\n",
      "100/100 [==============================] - 442s 4s/step - loss: 0.2960 - acc: 0.8700 - val_loss: 0.2525 - val_acc: 0.9080\n",
      "Epoch 44/50\n",
      "100/100 [==============================] - 445s 4s/step - loss: 0.3025 - acc: 0.8620 - val_loss: 0.2517 - val_acc: 0.8920\n",
      "Epoch 45/50\n",
      "100/100 [==============================] - 447s 4s/step - loss: 0.3141 - acc: 0.8590 - val_loss: 0.2286 - val_acc: 0.9140\n",
      "Epoch 46/50\n",
      "100/100 [==============================] - 440s 4s/step - loss: 0.3094 - acc: 0.8645 - val_loss: 0.2271 - val_acc: 0.9010\n",
      "Epoch 47/50\n",
      "100/100 [==============================] - 447s 4s/step - loss: 0.2975 - acc: 0.8740 - val_loss: 0.2553 - val_acc: 0.9010\n",
      "Epoch 48/50\n",
      "100/100 [==============================] - 453s 5s/step - loss: 0.2914 - acc: 0.8725 - val_loss: 0.2422 - val_acc: 0.9030\n",
      "Epoch 49/50\n",
      "100/100 [==============================] - 446s 4s/step - loss: 0.2853 - acc: 0.8815 - val_loss: 0.2364 - val_acc: 0.9080\n",
      "Epoch 50/50\n",
      "100/100 [==============================] - 425s 4s/step - loss: 0.2897 - acc: 0.8755 - val_loss: 0.2301 - val_acc: 0.9090\n"
     ]
    }
   ],
   "source": [
    "from keras.preprocessing.image import ImageDataGenerator\n",
    "from keras import optimizers\n",
    "\n",
    "\n",
    "train_datagen = ImageDataGenerator(\n",
    "    rescale=1./255,\n",
    "    rotation_range=40,\n",
    "    width_shift_range=0.2,\n",
    "    height_shift_range=0.2,\n",
    "    shear_range=0.2,\n",
    "    zoom_range=0.2,\n",
    "    horizontal_flip=True,\n",
    "    fill_mode='nearest')\n",
    "\n",
    "test_datagen = ImageDataGenerator(rescale=1./255)\n",
    "\n",
    "train_generator = train_datagen.flow_from_directory(\n",
    "    train_dir,\n",
    "    target_size=(150, 150),\n",
    "    batch_size=20,\n",
    "    class_mode='binary')\n",
    "\n",
    "validation_generator = test_datagen.flow_from_directory(\n",
    "    validation_dir,\n",
    "    target_size=(150, 150),\n",
    "    batch_size=20,\n",
    "    class_mode='binary')\n",
    "\n",
    "\n",
    "model.compile(loss='binary_crossentropy',\n",
    "              optimizer=optimizers.RMSprop(lr=2e-5),\n",
    "              metrics=['acc'])\n",
    "\n",
    "history = model.fit(\n",
    "    train_generator, \n",
    "    steps_per_epoch=100,\n",
    "    epochs=50,\n",
    "    validation_data=validation_generator,\n",
    "    validation_steps=50)"
   ]
  },
  {
   "cell_type": "code",
   "execution_count": 8,
   "metadata": {},
   "outputs": [],
   "source": [
    "model.save('cats_and_dogs_small_4.h5')"
   ]
  },
  {
   "cell_type": "markdown",
   "metadata": {},
   "source": [
    "## Training and Validation Accuracy"
   ]
  },
  {
   "cell_type": "code",
   "execution_count": 9,
   "metadata": {},
   "outputs": [
    {
     "data": {
      "image/png": "[encoded data removed]",
      "text/plain": [
       "<Figure size 432x288 with 1 Axes>"
      ]
     },
     "metadata": {},
     "output_type": "display_data"
    },
    {
     "data": {
      "image/png": "[encoded data removed]",
      "text/plain": [
       "<Figure size 432x288 with 1 Axes>"
      ]
     },
     "metadata": {},
     "output_type": "display_data"
    }
   ],
   "source": [
    "import matplotlib.pyplot as plt\n",
    "import seaborn as sns\n",
    "\n",
    "sns.set()\n",
    "\n",
    "\n",
    "epochs = range(1, len(history.history['loss']) + 1)\n",
    "acc = history.history['acc']\n",
    "val_acc = history.history['val_acc']\n",
    "\n",
    "plt.plot(epochs, acc, 'bo', label='Train accuracy')\n",
    "plt.plot(epochs, val_acc, '-', label='Validation accuracy')\n",
    "plt.xlabel('Epochs')\n",
    "plt.ylabel('Accuracy')\n",
    "plt.legend()\n",
    "\n",
    "plt.figure()\n",
    "\n",
    "loss = history.history['loss']\n",
    "val_loss = history.history['val_loss']\n",
    "\n",
    "plt.plot(epochs, loss, 'bo', label='Train loss')\n",
    "plt.plot(epochs, val_loss, '-', label='Validation loss')\n",
    "plt.xlabel('Epochs')\n",
    "plt.ylabel('Loss')\n",
    "plt.legend()\n",
    "\n",
    "plt.show()"
   ]
  },
  {
   "cell_type": "markdown",
   "metadata": {},
   "source": [
    "### Training Accuracy Lower Than Validation Accuracy\n",
    "\n",
    "A Keras model has two modes: training and testing. Regularization mechanisms, such as Dropout and L1/L2 weight regularization, are turned off at testing time. They are reflected in the training time loss but not in the test time loss.\n",
    "\n",
    "Besides, the training loss is the average of the losses over each batch of training data. Because your model is changing over time, _the loss over the first batches of an epoch is generally higher than over the last batches_. On the other hand, the testing loss for an epoch is computed using the model as it is at the end of the epoch, resulting in a lower loss."
   ]
  }
 ],
 "metadata": {
  "kernelspec": {
   "display_name": "dl",
   "language": "python",
   "name": "dl"
  },
  "language_info": {
   "codemirror_mode": {
    "name": "ipython",
    "version": 3
   },
   "file_extension": ".py",
   "mimetype": "text/x-python",
   "name": "python",
   "nbconvert_exporter": "python",
   "pygments_lexer": "ipython3",
   "version": "3.8.5"
  }
 },
 "nbformat": 4,
 "nbformat_minor": 4
}
