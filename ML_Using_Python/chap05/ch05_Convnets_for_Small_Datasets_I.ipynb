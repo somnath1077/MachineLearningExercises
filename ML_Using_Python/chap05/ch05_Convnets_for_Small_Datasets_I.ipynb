{
 "cells": [
  {
   "cell_type": "markdown",
   "metadata": {},
   "source": [
    "# Basic Strategy for Dealing with Small Datasets\n",
    "\n",
    "* Create a naive convnet model without regularization to set a baseline for what can be achieved.\n",
    "* Data Augmentation: to prevent overfitting.\n",
    "* Feature extraction with a pretrained network.\n",
    "* Fine tuning a pretrained network.\n",
    "\n",
    "In this notebook, we create a naive convnet model without regularization."
   ]
  },
  {
   "cell_type": "code",
   "execution_count": 1,
   "metadata": {},
   "outputs": [],
   "source": [
    "import os\n",
    "\n",
    "base_dir = './'\n",
    "\n",
    "train_dir = os.path.join(base_dir, 'train') \n",
    "validation_dir = os.path.join(base_dir, 'validation')\n",
    "test_dir = os.path.join(base_dir, 'test')\n",
    "\n",
    "train_cats_dir = os.path.join(train_dir, 'cats')\n",
    "train_dogs_dir = os.path.join(train_dir, 'dogs')                           \n",
    "\n",
    "validation_cats_dir = os.path.join(validation_dir, 'cats')\n",
    "validation_dogs_dir = os.path.join(validation_dir, 'dogs')                 \n",
    "                                             \n",
    "test_cats_dir = os.path.join(test_dir, 'cats')\n",
    "test_dogs_dir = os.path.join(test_dir, 'dogs')                               "
   ]
  },
  {
   "cell_type": "markdown",
   "metadata": {},
   "source": [
    "### The Model"
   ]
  },
  {
   "cell_type": "code",
   "execution_count": 2,
   "metadata": {},
   "outputs": [],
   "source": [
    "from keras import layers\n",
    "from keras import models\n",
    "\n",
    "model = models.Sequential()\n",
    "model.add(layers.Conv2D(filters=32, kernel_size=(3, 3), activation='relu', \n",
    "                        input_shape=(150, 150, 3)))\n",
    "model.add(layers.MaxPooling2D(pool_size=(2, 2)))\n",
    "\n",
    "model.add(layers.Conv2D(filters=64, kernel_size=(3, 3), activation='relu')) \n",
    "model.add(layers.MaxPooling2D(pool_size=(2, 2)))\n",
    "\n",
    "model.add(layers.Conv2D(filters=128, kernel_size=(3, 3), activation='relu')) \n",
    "model.add(layers.MaxPooling2D(pool_size=(2, 2))) \n",
    "\n",
    "model.add(layers.Conv2D(filters=128, kernel_size=(3, 3), activation='relu'))\n",
    "model.add(layers.MaxPooling2D(pool_size=(2, 2))) \n",
    "\n",
    "model.add(layers.Flatten()) \n",
    "model.add(layers.Dense(units=512, activation='relu')) \n",
    "model.add(layers.Dense(units=1, activation='sigmoid'))"
   ]
  },
  {
   "cell_type": "code",
   "execution_count": 3,
   "metadata": {},
   "outputs": [
    {
     "name": "stdout",
     "output_type": "stream",
     "text": [
      "Model: \"sequential\"\n",
      "_________________________________________________________________\n",
      "Layer (type)                 Output Shape              Param #   \n",
      "=================================================================\n",
      "conv2d (Conv2D)              (None, 148, 148, 32)      896       \n",
      "_________________________________________________________________\n",
      "max_pooling2d (MaxPooling2D) (None, 74, 74, 32)        0         \n",
      "_________________________________________________________________\n",
      "conv2d_1 (Conv2D)            (None, 72, 72, 64)        18496     \n",
      "_________________________________________________________________\n",
      "max_pooling2d_1 (MaxPooling2 (None, 36, 36, 64)        0         \n",
      "_________________________________________________________________\n",
      "conv2d_2 (Conv2D)            (None, 34, 34, 128)       73856     \n",
      "_________________________________________________________________\n",
      "max_pooling2d_2 (MaxPooling2 (None, 17, 17, 128)       0         \n",
      "_________________________________________________________________\n",
      "conv2d_3 (Conv2D)            (None, 15, 15, 128)       147584    \n",
      "_________________________________________________________________\n",
      "max_pooling2d_3 (MaxPooling2 (None, 7, 7, 128)         0         \n",
      "_________________________________________________________________\n",
      "flatten (Flatten)            (None, 6272)              0         \n",
      "_________________________________________________________________\n",
      "dense (Dense)                (None, 512)               3211776   \n",
      "_________________________________________________________________\n",
      "dense_1 (Dense)              (None, 1)                 513       \n",
      "=================================================================\n",
      "Total params: 3,453,121\n",
      "Trainable params: 3,453,121\n",
      "Non-trainable params: 0\n",
      "_________________________________________________________________\n"
     ]
    }
   ],
   "source": [
    "model.summary()"
   ]
  },
  {
   "cell_type": "markdown",
   "metadata": {},
   "source": [
    "### Compiling Model"
   ]
  },
  {
   "cell_type": "code",
   "execution_count": 4,
   "metadata": {},
   "outputs": [],
   "source": [
    "from keras import optimizers\n",
    "\n",
    "\n",
    "model.compile(loss='binary_crossentropy',\n",
    "              optimizer=optimizers.RMSprop(lr=1e-4),\n",
    "              metrics=['acc'])"
   ]
  },
  {
   "cell_type": "markdown",
   "metadata": {},
   "source": [
    "### Processing Raw Image Data\n",
    "\n",
    "* Takes the path to a directory & generates batches of augmented data.\n",
    "\n",
    "```python\n",
    "ImageDataGenerator.flow_from_directory(\n",
    "    directory,\n",
    "    target_size=(256, 256),\n",
    "    color_mode=\"rgb\",\n",
    "    classes=None,\n",
    "    class_mode=\"categorical\",\n",
    "    batch_size=32,\n",
    "    shuffle=True,\n",
    "    seed=None,\n",
    "    save_to_dir=None,\n",
    "    save_prefix=\"\",\n",
    "    save_format=\"png\",\n",
    "    follow_links=False,\n",
    "    subset=None,\n",
    "    interpolation=\"nearest\",\n",
    ")\n",
    "```"
   ]
  },
  {
   "cell_type": "code",
   "execution_count": 5,
   "metadata": {},
   "outputs": [
    {
     "name": "stdout",
     "output_type": "stream",
     "text": [
      "Found 2000 images belonging to 2 classes.\n",
      "Found 1000 images belonging to 2 classes.\n"
     ]
    }
   ],
   "source": [
    "from keras.preprocessing.image import ImageDataGenerator\n",
    "\n",
    "train_datagen = ImageDataGenerator(rescale=1./255)             \n",
    "test_datagen = ImageDataGenerator(rescale=1./255)              \n",
    "\n",
    "train_generator = train_datagen.flow_from_directory(\n",
    "    train_dir,\n",
    "    target_size=(150, 150),\n",
    "    batch_size=20, \n",
    "    class_mode='binary')\n",
    "\n",
    "validation_generator = test_datagen.flow_from_directory(\n",
    "    validation_dir,\n",
    "    target_size=(150, 150),\n",
    "    batch_size=20,\n",
    "    class_mode='binary')"
   ]
  },
  {
   "cell_type": "markdown",
   "metadata": {},
   "source": [
    "### Fitting the Model"
   ]
  },
  {
   "cell_type": "code",
   "execution_count": 6,
   "metadata": {},
   "outputs": [
    {
     "name": "stdout",
     "output_type": "stream",
     "text": [
      "Epoch 1/30\n",
      "100/100 [==============================] - 78s 776ms/step - loss: 0.6915 - acc: 0.5385 - val_loss: 0.6767 - val_acc: 0.5410\n",
      "Epoch 2/30\n",
      "100/100 [==============================] - 72s 723ms/step - loss: 0.6618 - acc: 0.6015 - val_loss: 0.6570 - val_acc: 0.5930\n",
      "Epoch 3/30\n",
      "100/100 [==============================] - 78s 782ms/step - loss: 0.6337 - acc: 0.6440 - val_loss: 0.6225 - val_acc: 0.6560\n",
      "Epoch 4/30\n",
      "100/100 [==============================] - 79s 787ms/step - loss: 0.5957 - acc: 0.6765 - val_loss: 0.7616 - val_acc: 0.5740\n",
      "Epoch 5/30\n",
      "100/100 [==============================] - 74s 739ms/step - loss: 0.5820 - acc: 0.6895 - val_loss: 0.5902 - val_acc: 0.6810\n",
      "Epoch 6/30\n",
      "100/100 [==============================] - 73s 727ms/step - loss: 0.5520 - acc: 0.7235 - val_loss: 0.5916 - val_acc: 0.6680\n",
      "Epoch 7/30\n",
      "100/100 [==============================] - 77s 767ms/step - loss: 0.5388 - acc: 0.7275 - val_loss: 0.6463 - val_acc: 0.6520\n",
      "Epoch 8/30\n",
      "100/100 [==============================] - 74s 745ms/step - loss: 0.5193 - acc: 0.7345 - val_loss: 0.6288 - val_acc: 0.6560\n",
      "Epoch 9/30\n",
      "100/100 [==============================] - 78s 783ms/step - loss: 0.5026 - acc: 0.7575 - val_loss: 0.5615 - val_acc: 0.7210\n",
      "Epoch 10/30\n",
      "100/100 [==============================] - 79s 788ms/step - loss: 0.4859 - acc: 0.7545 - val_loss: 0.6067 - val_acc: 0.6930\n",
      "Epoch 11/30\n",
      "100/100 [==============================] - 79s 791ms/step - loss: 0.4729 - acc: 0.7675 - val_loss: 0.6484 - val_acc: 0.6630\n",
      "Epoch 12/30\n",
      "100/100 [==============================] - 80s 801ms/step - loss: 0.4554 - acc: 0.7820 - val_loss: 0.5658 - val_acc: 0.6990\n",
      "Epoch 13/30\n",
      "100/100 [==============================] - 77s 768ms/step - loss: 0.4387 - acc: 0.7970 - val_loss: 0.5716 - val_acc: 0.7150\n",
      "Epoch 14/30\n",
      "100/100 [==============================] - 79s 790ms/step - loss: 0.4225 - acc: 0.8030 - val_loss: 0.5461 - val_acc: 0.7240\n",
      "Epoch 15/30\n",
      "100/100 [==============================] - 81s 809ms/step - loss: 0.4066 - acc: 0.8220 - val_loss: 0.5729 - val_acc: 0.7170\n",
      "Epoch 16/30\n",
      "100/100 [==============================] - 79s 787ms/step - loss: 0.3903 - acc: 0.8145 - val_loss: 0.5526 - val_acc: 0.7180\n",
      "Epoch 17/30\n",
      "100/100 [==============================] - 76s 762ms/step - loss: 0.3775 - acc: 0.8275 - val_loss: 0.5744 - val_acc: 0.7280\n",
      "Epoch 18/30\n",
      "100/100 [==============================] - 79s 793ms/step - loss: 0.3650 - acc: 0.8445 - val_loss: 0.5493 - val_acc: 0.7130\n",
      "Epoch 19/30\n",
      "100/100 [==============================] - 76s 757ms/step - loss: 0.3438 - acc: 0.8500 - val_loss: 0.5893 - val_acc: 0.7180\n",
      "Epoch 20/30\n",
      "100/100 [==============================] - 79s 794ms/step - loss: 0.3366 - acc: 0.8520 - val_loss: 0.5719 - val_acc: 0.7250\n",
      "Epoch 21/30\n",
      "100/100 [==============================] - 79s 790ms/step - loss: 0.3215 - acc: 0.8645 - val_loss: 0.5954 - val_acc: 0.7350\n",
      "Epoch 22/30\n",
      "100/100 [==============================] - 77s 775ms/step - loss: 0.3057 - acc: 0.8700 - val_loss: 0.6318 - val_acc: 0.7050\n",
      "Epoch 23/30\n",
      "100/100 [==============================] - 78s 776ms/step - loss: 0.3036 - acc: 0.8695 - val_loss: 0.5928 - val_acc: 0.7010\n",
      "Epoch 24/30\n",
      "100/100 [==============================] - 82s 822ms/step - loss: 0.2750 - acc: 0.8835 - val_loss: 0.6359 - val_acc: 0.7230\n",
      "Epoch 25/30\n",
      "100/100 [==============================] - 77s 773ms/step - loss: 0.2717 - acc: 0.8855 - val_loss: 0.7961 - val_acc: 0.6630\n",
      "Epoch 26/30\n",
      "100/100 [==============================] - 73s 735ms/step - loss: 0.2587 - acc: 0.8925 - val_loss: 0.7400 - val_acc: 0.6960\n",
      "Epoch 27/30\n",
      "100/100 [==============================] - 79s 787ms/step - loss: 0.2458 - acc: 0.9065 - val_loss: 0.7412 - val_acc: 0.7070\n",
      "Epoch 28/30\n",
      "100/100 [==============================] - 81s 815ms/step - loss: 0.2327 - acc: 0.9070 - val_loss: 0.6374 - val_acc: 0.7200\n",
      "Epoch 29/30\n",
      "100/100 [==============================] - 73s 726ms/step - loss: 0.2197 - acc: 0.9145 - val_loss: 0.7147 - val_acc: 0.7070\n",
      "Epoch 30/30\n",
      "100/100 [==============================] - 80s 799ms/step - loss: 0.1990 - acc: 0.9230 - val_loss: 0.7326 - val_acc: 0.7140\n"
     ]
    }
   ],
   "source": [
    "history = model.fit(\n",
    "      train_generator,\n",
    "      steps_per_epoch=100,\n",
    "      epochs=30,\n",
    "      validation_data=validation_generator,\n",
    "      validation_steps=50)\n",
    "\n",
    "model.save('cats_and_dogs_small_1.h5')"
   ]
  },
  {
   "cell_type": "code",
   "execution_count": 7,
   "metadata": {},
   "outputs": [
    {
     "data": {
      "text/plain": [
       "tensorflow.python.keras.callbacks.History"
      ]
     },
     "execution_count": 7,
     "metadata": {},
     "output_type": "execute_result"
    }
   ],
   "source": [
    "type(history)"
   ]
  },
  {
   "cell_type": "code",
   "execution_count": 11,
   "metadata": {},
   "outputs": [
    {
     "data": {
      "text/plain": [
       "dict_keys(['loss', 'acc', 'val_loss', 'val_acc'])"
      ]
     },
     "execution_count": 11,
     "metadata": {},
     "output_type": "execute_result"
    }
   ],
   "source": [
    "history.history.keys()"
   ]
  },
  {
   "cell_type": "markdown",
   "metadata": {},
   "source": [
    "## Training and Validation Accuracy and Loss"
   ]
  },
  {
   "cell_type": "code",
   "execution_count": 16,
   "metadata": {},
   "outputs": [
    {
     "data": {
      "image/png": "[encoded data removed]",
      "text/plain": [
       "<Figure size 432x288 with 1 Axes>"
      ]
     },
     "metadata": {},
     "output_type": "display_data"
    },
    {
     "data": {
      "image/png": "[encoded data removed]",
      "text/plain": [
       "<Figure size 432x288 with 1 Axes>"
      ]
     },
     "metadata": {},
     "output_type": "display_data"
    }
   ],
   "source": [
    "import matplotlib.pyplot as plt\n",
    "import seaborn as sns\n",
    "\n",
    "sns.set()\n",
    "\n",
    "\n",
    "epochs = range(1, len(history.history['loss']) + 1)\n",
    "acc = history.history['acc']\n",
    "val_acc = history.history['val_acc']\n",
    "\n",
    "plt.plot(epochs, acc, 'bo', label='Train accuracy')\n",
    "plt.plot(epochs, val_acc, '-', label='Validation accuracy')\n",
    "plt.xlabel('Epochs')\n",
    "plt.ylabel('Accuracy')\n",
    "plt.legend()\n",
    "\n",
    "plt.figure()\n",
    "\n",
    "loss = history.history['loss']\n",
    "val_loss = history.history['val_loss']\n",
    "\n",
    "plt.plot(epochs, loss, 'bo', label='Train loss')\n",
    "plt.plot(epochs, val_loss, '-', label='Validation loss')\n",
    "plt.xlabel('Epochs')\n",
    "plt.ylabel('Loss')\n",
    "plt.legend()\n",
    "\n",
    "plt.show()"
   ]
  },
  {
   "cell_type": "code",
   "execution_count": 19,
   "metadata": {},
   "outputs": [
    {
     "name": "stdout",
     "output_type": "stream",
     "text": [
      "[0.9070000052452087, 0.9144999980926514, 0.9229999780654907]\n"
     ]
    }
   ],
   "source": [
    "print(history.history['acc'][-3:])"
   ]
  },
  {
   "cell_type": "code",
   "execution_count": 20,
   "metadata": {},
   "outputs": [
    {
     "name": "stdout",
     "output_type": "stream",
     "text": [
      "[0.23272569477558136, 0.2196584790945053, 0.19895720481872559]\n"
     ]
    }
   ],
   "source": [
    "print(history.history['loss'][-3:])"
   ]
  },
  {
   "cell_type": "markdown",
   "metadata": {},
   "source": [
    "These curves are characteristic of overfitting. The training accuracy increases almost linearly with the number of epochs and reaches 92% after 30 epochs. But the validation accuracy stalls at around 70%. The loss decreases linearly till until 20% but the validation loss hovers around 55%."
   ]
  }
 ],
 "metadata": {
  "kernelspec": {
   "display_name": "dl",
   "language": "python",
   "name": "dl"
  },
  "language_info": {
   "codemirror_mode": {
    "name": "ipython",
    "version": 3
   },
   "file_extension": ".py",
   "mimetype": "text/x-python",
   "name": "python",
   "nbconvert_exporter": "python",
   "pygments_lexer": "ipython3",
   "version": "3.8.5"
  }
 },
 "nbformat": 4,
 "nbformat_minor": 4
}
