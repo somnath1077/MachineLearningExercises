{
 "cells": [
  {
   "cell_type": "markdown",
   "metadata": {},
   "source": [
    "## Using a Pretrained Network: Feature Extraction\n",
    "\n",
    "Convnets used for image classification comprise of two parts: a series of convolutional and pooling layers followed by a densely connected classifier layer. The first part is called the _convolutional base_ of the network. In the context of convolutional networks, _feature extraction_ using a pre-trained network consists of using the convolutional base of this pre-trained network and passing new data through it and then feeding its output to a new, as yet untrained, convnet. \n",
    "\n",
    "In our case, we will pass the images of cats and dogs through the convolutional base of the VGG16 Network and then use its output as input for our own network that is specifically being trained to distinguish dogs from cats. One can think of this process as training the new convnet to learn the image representations of the pre-trained network. The classifier of the pre-trained network is specific to the classification problem at hand. Furthermore, the dense classifier totally ignores the spatial position of features such as edges, colours and textures. In the case of VGG16, its classifier is trained on 1000 different classes. The weights information of the classifier itself is not very useful while training a new model to distinguish dogs from cats. "
   ]
  },
  {
   "cell_type": "markdown",
   "metadata": {},
   "source": [
    "## Instantiating the VGG16 Convolutional Base"
   ]
  },
  {
   "cell_type": "code",
   "execution_count": 1,
   "metadata": {},
   "outputs": [],
   "source": [
    "from keras.applications import VGG16\n",
    "\n",
    "# The include_top argument specifies whether we want to include the densely connected classifier in the top\n",
    "conv_base = VGG16(weights='imagenet', \n",
    "                  include_top=False, \n",
    "                  input_shape=(150, 150, 3))"
   ]
  },
  {
   "cell_type": "code",
   "execution_count": 2,
   "metadata": {},
   "outputs": [
    {
     "name": "stdout",
     "output_type": "stream",
     "text": [
      "Model: \"vgg16\"\n",
      "_________________________________________________________________\n",
      "Layer (type)                 Output Shape              Param #   \n",
      "=================================================================\n",
      "input_1 (InputLayer)         [(None, 150, 150, 3)]     0         \n",
      "_________________________________________________________________\n",
      "block1_conv1 (Conv2D)        (None, 150, 150, 64)      1792      \n",
      "_________________________________________________________________\n",
      "block1_conv2 (Conv2D)        (None, 150, 150, 64)      36928     \n",
      "_________________________________________________________________\n",
      "block1_pool (MaxPooling2D)   (None, 75, 75, 64)        0         \n",
      "_________________________________________________________________\n",
      "block2_conv1 (Conv2D)        (None, 75, 75, 128)       73856     \n",
      "_________________________________________________________________\n",
      "block2_conv2 (Conv2D)        (None, 75, 75, 128)       147584    \n",
      "_________________________________________________________________\n",
      "block2_pool (MaxPooling2D)   (None, 37, 37, 128)       0         \n",
      "_________________________________________________________________\n",
      "block3_conv1 (Conv2D)        (None, 37, 37, 256)       295168    \n",
      "_________________________________________________________________\n",
      "block3_conv2 (Conv2D)        (None, 37, 37, 256)       590080    \n",
      "_________________________________________________________________\n",
      "block3_conv3 (Conv2D)        (None, 37, 37, 256)       590080    \n",
      "_________________________________________________________________\n",
      "block3_pool (MaxPooling2D)   (None, 18, 18, 256)       0         \n",
      "_________________________________________________________________\n",
      "block4_conv1 (Conv2D)        (None, 18, 18, 512)       1180160   \n",
      "_________________________________________________________________\n",
      "block4_conv2 (Conv2D)        (None, 18, 18, 512)       2359808   \n",
      "_________________________________________________________________\n",
      "block4_conv3 (Conv2D)        (None, 18, 18, 512)       2359808   \n",
      "_________________________________________________________________\n",
      "block4_pool (MaxPooling2D)   (None, 9, 9, 512)         0         \n",
      "_________________________________________________________________\n",
      "block5_conv1 (Conv2D)        (None, 9, 9, 512)         2359808   \n",
      "_________________________________________________________________\n",
      "block5_conv2 (Conv2D)        (None, 9, 9, 512)         2359808   \n",
      "_________________________________________________________________\n",
      "block5_conv3 (Conv2D)        (None, 9, 9, 512)         2359808   \n",
      "_________________________________________________________________\n",
      "block5_pool (MaxPooling2D)   (None, 4, 4, 512)         0         \n",
      "=================================================================\n",
      "Total params: 14,714,688\n",
      "Trainable params: 14,714,688\n",
      "Non-trainable params: 0\n",
      "_________________________________________________________________\n"
     ]
    }
   ],
   "source": [
    "conv_base.summary()"
   ]
  },
  {
   "cell_type": "markdown",
   "metadata": {},
   "source": [
    "## Imports, Directory Paths"
   ]
  },
  {
   "cell_type": "code",
   "execution_count": 3,
   "metadata": {},
   "outputs": [],
   "source": [
    "import os\n",
    "import numpy as np\n",
    "\n",
    "from keras.preprocessing.image import ImageDataGenerator\n",
    "from keras import models\n",
    "from keras import layers\n",
    "from keras import optimizers\n",
    "\n",
    "\n",
    "base_dir = './'\n",
    "\n",
    "train_dir = os.path.join(base_dir, 'train') \n",
    "validation_dir = os.path.join(base_dir, 'validation')\n",
    "test_dir = os.path.join(base_dir, 'test')\n",
    "\n",
    "train_cats_dir = os.path.join(train_dir, 'cats')\n",
    "train_dogs_dir = os.path.join(train_dir, 'dogs')                           \n",
    "\n",
    "validation_cats_dir = os.path.join(validation_dir, 'cats')\n",
    "validation_dogs_dir = os.path.join(validation_dir, 'dogs')                 \n",
    "                                             \n",
    "test_cats_dir = os.path.join(test_dir, 'cats')\n",
    "test_dogs_dir = os.path.join(test_dir, 'dogs') "
   ]
  },
  {
   "cell_type": "markdown",
   "metadata": {},
   "source": [
    "## Extracting Features from a Pre-trained Convnet"
   ]
  },
  {
   "cell_type": "code",
   "execution_count": 4,
   "metadata": {},
   "outputs": [],
   "source": [
    "def extract_features(directory, datagen, sample_count, batch_size=20):\n",
    "    features = np.zeros(shape=(sample_count, 4, 4, 512))\n",
    "    labels = np.zeros(shape=(sample_count))\n",
    "    \n",
    "    generator = datagen.flow_from_directory(\n",
    "        directory,\n",
    "        target_size=(150, 150),\n",
    "        batch_size=batch_size,\n",
    "        class_mode='binary')\n",
    "    \n",
    "    i = 0\n",
    "    \n",
    "    for inputs_batch, labels_batch in generator:\n",
    "        features_batch = conv_base.predict(inputs_batch)\n",
    "        \n",
    "        features[i * batch_size : (i + 1) * batch_size] = features_batch\n",
    "        labels[i * batch_size : (i + 1) * batch_size] = labels_batch\n",
    "        \n",
    "        i += 1\n",
    "        \n",
    "        if i * batch_size >= sample_count:\n",
    "            break                                                         \n",
    "    \n",
    "    return features, labels"
   ]
  },
  {
   "cell_type": "code",
   "execution_count": 5,
   "metadata": {},
   "outputs": [
    {
     "name": "stdout",
     "output_type": "stream",
     "text": [
      "Found 2000 images belonging to 2 classes.\n"
     ]
    }
   ],
   "source": [
    "NUM_TRAIN_IMAGES = 20 * 2000\n",
    "\n",
    "train_datagen = ImageDataGenerator(\n",
    "    rescale=1./255,\n",
    "    rotation_range=40,\n",
    "    width_shift_range=0.2,\n",
    "    height_shift_range=0.2,\n",
    "    shear_range=0.2,\n",
    "    zoom_range=0.2,\n",
    "    horizontal_flip=True,\n",
    "    fill_mode='nearest')\n",
    "\n",
    "train_features, train_labels = extract_features(train_dir, train_datagen, NUM_TRAIN_IMAGES)"
   ]
  },
  {
   "cell_type": "code",
   "execution_count": 6,
   "metadata": {},
   "outputs": [
    {
     "name": "stdout",
     "output_type": "stream",
     "text": [
      "Found 1000 images belonging to 2 classes.\n"
     ]
    }
   ],
   "source": [
    "validation_datagen = ImageDataGenerator(rescale=1./255)\n",
    "\n",
    "validation_features, validation_labels = extract_features(validation_dir, validation_datagen, 1000)"
   ]
  },
  {
   "cell_type": "code",
   "execution_count": 7,
   "metadata": {},
   "outputs": [
    {
     "name": "stdout",
     "output_type": "stream",
     "text": [
      "Found 1000 images belonging to 2 classes.\n"
     ]
    }
   ],
   "source": [
    "test_datagen = ImageDataGenerator(rescale=1./255)\n",
    "\n",
    "test_features, test_labels = extract_features(test_dir, test_datagen, 1000)"
   ]
  },
  {
   "cell_type": "markdown",
   "metadata": {},
   "source": [
    "### Flatten the data "
   ]
  },
  {
   "cell_type": "code",
   "execution_count": 8,
   "metadata": {},
   "outputs": [],
   "source": [
    "train_features = np.reshape(train_features, (NUM_TRAIN_IMAGES, 4 * 4 * 512))\n",
    "validation_features = np.reshape(validation_features, (1000, 4 * 4 * 512))\n",
    "test_features = np.reshape(test_features, (1000, 4 * 4 * 512))"
   ]
  },
  {
   "cell_type": "markdown",
   "metadata": {},
   "source": [
    "### Defining the Densely Connected Classifier "
   ]
  },
  {
   "cell_type": "code",
   "execution_count": 9,
   "metadata": {},
   "outputs": [
    {
     "name": "stdout",
     "output_type": "stream",
     "text": [
      "Epoch 1/30\n",
      "2000/2000 [==============================] - 46s 23ms/step - loss: 0.4211 - acc: 0.7985 - val_loss: 0.2699 - val_acc: 0.8900\n",
      "Epoch 2/30\n",
      "2000/2000 [==============================] - 48s 24ms/step - loss: 0.3186 - acc: 0.8605 - val_loss: 0.2400 - val_acc: 0.9080\n",
      "Epoch 3/30\n",
      "2000/2000 [==============================] - 48s 24ms/step - loss: 0.2877 - acc: 0.8753 - val_loss: 0.2353 - val_acc: 0.9070\n",
      "Epoch 4/30\n",
      "2000/2000 [==============================] - 49s 24ms/step - loss: 0.2679 - acc: 0.8854 - val_loss: 0.2398 - val_acc: 0.9080\n",
      "Epoch 5/30\n",
      "2000/2000 [==============================] - 49s 24ms/step - loss: 0.2549 - acc: 0.8928 - val_loss: 0.2417 - val_acc: 0.9050\n",
      "Epoch 6/30\n",
      "2000/2000 [==============================] - 47s 24ms/step - loss: 0.2413 - acc: 0.8988 - val_loss: 0.2434 - val_acc: 0.9050\n",
      "Epoch 7/30\n",
      "2000/2000 [==============================] - 46s 23ms/step - loss: 0.2299 - acc: 0.9045 - val_loss: 0.2523 - val_acc: 0.9040\n",
      "Epoch 8/30\n",
      "2000/2000 [==============================] - 50s 25ms/step - loss: 0.2234 - acc: 0.9080 - val_loss: 0.2494 - val_acc: 0.9080\n",
      "Epoch 9/30\n",
      "2000/2000 [==============================] - 48s 24ms/step - loss: 0.2140 - acc: 0.9136 - val_loss: 0.2554 - val_acc: 0.9090\n",
      "Epoch 10/30\n",
      "2000/2000 [==============================] - 52s 26ms/step - loss: 0.2059 - acc: 0.9171 - val_loss: 0.2586 - val_acc: 0.9100\n",
      "Epoch 11/30\n",
      "2000/2000 [==============================] - 53s 26ms/step - loss: 0.1987 - acc: 0.9214 - val_loss: 0.2662 - val_acc: 0.9100\n",
      "Epoch 12/30\n",
      "2000/2000 [==============================] - 54s 27ms/step - loss: 0.1924 - acc: 0.9237 - val_loss: 0.2655 - val_acc: 0.9060\n",
      "Epoch 13/30\n",
      "2000/2000 [==============================] - 54s 27ms/step - loss: 0.1870 - acc: 0.9277 - val_loss: 0.2726 - val_acc: 0.9100\n",
      "Epoch 14/30\n",
      "2000/2000 [==============================] - 51s 26ms/step - loss: 0.1812 - acc: 0.9291 - val_loss: 0.2752 - val_acc: 0.9100\n",
      "Epoch 15/30\n",
      "2000/2000 [==============================] - 47s 24ms/step - loss: 0.1761 - acc: 0.9325 - val_loss: 0.2860 - val_acc: 0.9070\n",
      "Epoch 16/30\n",
      "2000/2000 [==============================] - 53s 26ms/step - loss: 0.1709 - acc: 0.9350 - val_loss: 0.2898 - val_acc: 0.9070\n",
      "Epoch 17/30\n",
      "2000/2000 [==============================] - 54s 27ms/step - loss: 0.1673 - acc: 0.9376 - val_loss: 0.2934 - val_acc: 0.9110\n",
      "Epoch 18/30\n",
      "2000/2000 [==============================] - 54s 27ms/step - loss: 0.1612 - acc: 0.9416 - val_loss: 0.3021 - val_acc: 0.9050\n",
      "Epoch 19/30\n",
      "2000/2000 [==============================] - 49s 25ms/step - loss: 0.1574 - acc: 0.9424 - val_loss: 0.3066 - val_acc: 0.9100\n",
      "Epoch 20/30\n",
      "2000/2000 [==============================] - 49s 25ms/step - loss: 0.1535 - acc: 0.9439 - val_loss: 0.3113 - val_acc: 0.9050\n",
      "Epoch 21/30\n",
      "2000/2000 [==============================] - 51s 25ms/step - loss: 0.1488 - acc: 0.9465 - val_loss: 0.3245 - val_acc: 0.9080\n",
      "Epoch 22/30\n",
      "2000/2000 [==============================] - 50s 25ms/step - loss: 0.1458 - acc: 0.9482 - val_loss: 0.3234 - val_acc: 0.9070\n",
      "Epoch 23/30\n",
      "2000/2000 [==============================] - 51s 26ms/step - loss: 0.1405 - acc: 0.9502 - val_loss: 0.3340 - val_acc: 0.9070\n",
      "Epoch 24/30\n",
      "2000/2000 [==============================] - 46s 23ms/step - loss: 0.1392 - acc: 0.9519 - val_loss: 0.3352 - val_acc: 0.9050\n",
      "Epoch 25/30\n",
      "2000/2000 [==============================] - 46s 23ms/step - loss: 0.1342 - acc: 0.9536 - val_loss: 0.3403 - val_acc: 0.8990\n",
      "Epoch 26/30\n",
      "2000/2000 [==============================] - 46s 23ms/step - loss: 0.1309 - acc: 0.9555 - val_loss: 0.3516 - val_acc: 0.9070\n",
      "Epoch 27/30\n",
      "2000/2000 [==============================] - 48s 24ms/step - loss: 0.1282 - acc: 0.9566 - val_loss: 0.3583 - val_acc: 0.9030\n",
      "Epoch 28/30\n",
      "2000/2000 [==============================] - 49s 24ms/step - loss: 0.1254 - acc: 0.9575 - val_loss: 0.3702 - val_acc: 0.9110\n",
      "Epoch 29/30\n",
      "2000/2000 [==============================] - 51s 26ms/step - loss: 0.1201 - acc: 0.9601 - val_loss: 0.3697 - val_acc: 0.9040\n",
      "Epoch 30/30\n",
      "2000/2000 [==============================] - 50s 25ms/step - loss: 0.1221 - acc: 0.9597 - val_loss: 0.3765 - val_acc: 0.9100\n"
     ]
    }
   ],
   "source": [
    "model = models.Sequential()\n",
    "\n",
    "model.add(layers.Dense(256, activation='relu', input_dim=4 * 4 * 512))\n",
    "model.add(layers.Dropout(0.5))\n",
    "model.add(layers.Dense(1, activation='sigmoid'))\n",
    "\n",
    "model.compile(optimizer=optimizers.RMSprop(lr=2e-5),\n",
    "              loss='binary_crossentropy',\n",
    "              metrics=['acc'])\n",
    "\n",
    "history = model.fit(train_features, train_labels,\n",
    "                    epochs=30,\n",
    "                    batch_size=20,\n",
    "                    validation_data=(validation_features, validation_labels))"
   ]
  },
  {
   "cell_type": "markdown",
   "metadata": {},
   "source": [
    "### Training and Validation Accuracy"
   ]
  },
  {
   "cell_type": "code",
   "execution_count": 10,
   "metadata": {},
   "outputs": [
    {
     "data": {
      "image/png": "[encoded data removed]",
      "text/plain": [
       "<Figure size 432x288 with 1 Axes>"
      ]
     },
     "metadata": {},
     "output_type": "display_data"
    },
    {
     "data": {
      "image/png": "[encoded data removed]",
      "text/plain": [
       "<Figure size 432x288 with 1 Axes>"
      ]
     },
     "metadata": {},
     "output_type": "display_data"
    }
   ],
   "source": [
    "import matplotlib.pyplot as plt\n",
    "import seaborn as sns\n",
    "\n",
    "sns.set()\n",
    "\n",
    "\n",
    "epochs = range(1, len(history.history['loss']) + 1)\n",
    "acc = history.history['acc']\n",
    "val_acc = history.history['val_acc']\n",
    "\n",
    "plt.plot(epochs, acc, 'bo', label='Train accuracy')\n",
    "plt.plot(epochs, val_acc, '-', label='Validation accuracy')\n",
    "plt.xlabel('Epochs')\n",
    "plt.ylabel('Accuracy')\n",
    "plt.legend()\n",
    "\n",
    "plt.figure()\n",
    "\n",
    "loss = history.history['loss']\n",
    "val_loss = history.history['val_loss']\n",
    "\n",
    "plt.plot(epochs, loss, 'bo', label='Train loss')\n",
    "plt.plot(epochs, val_loss, '-', label='Validation loss')\n",
    "plt.xlabel('Epochs')\n",
    "plt.ylabel('Loss')\n",
    "plt.legend()\n",
    "\n",
    "plt.show()"
   ]
  },
  {
   "cell_type": "code",
   "execution_count": 11,
   "metadata": {},
   "outputs": [],
   "source": [
    "model.save('cats_and_dogs_small_3.h5')"
   ]
  }
 ],
 "metadata": {
  "kernelspec": {
   "display_name": "dl",
   "language": "python",
   "name": "dl"
  },
  "language_info": {
   "codemirror_mode": {
    "name": "ipython",
    "version": 3
   },
   "file_extension": ".py",
   "mimetype": "text/x-python",
   "name": "python",
   "nbconvert_exporter": "python",
   "pygments_lexer": "ipython3",
   "version": "3.8.5"
  }
 },
 "nbformat": 4,
 "nbformat_minor": 4
}
