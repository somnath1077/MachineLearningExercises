{
 "cells": [
  {
   "cell_type": "markdown",
   "metadata": {},
   "source": [
    "# Basic Strategy for Dealing with Small Datasets¶\n",
    "\n",
    "* Create a naive convnet model without regularization to set a baseline for what can be achieved.\n",
    "* Data Augmentation: to prevent overfitting.\n",
    "* Feature extraction with a pretrained network.\n",
    "* Fine tuning a pretrained network.\n",
    "\n",
    "In this notebook, we augment our training samples to prevent overfitting."
   ]
  }
 ],
 "metadata": {
  "kernelspec": {
   "display_name": "dl",
   "language": "python",
   "name": "dl"
  },
  "language_info": {
   "codemirror_mode": {
    "name": "ipython",
    "version": 3
   },
   "file_extension": ".py",
   "mimetype": "text/x-python",
   "name": "python",
   "nbconvert_exporter": "python",
   "pygments_lexer": "ipython3",
   "version": "3.8.5"
  }
 },
 "nbformat": 4,
 "nbformat_minor": 4
}
