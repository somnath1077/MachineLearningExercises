{
 "cells": [
  {
   "cell_type": "markdown",
   "metadata": {},
   "source": [
    "## Fine Tuning\n",
    "\n",
    "In this notebook, we will fine-tune the model created in the previous notebook. This process involves unfreezing a few of the top layers of the convolutional base used for feature creation and then training the whole model along with the dense classifier on top."
   ]
  },
  {
   "cell_type": "code",
   "execution_count": 1,
   "metadata": {},
   "outputs": [],
   "source": [
    "from keras.models import load_model\n",
    "\n",
    "\n",
    "model = load_model('cats_and_dogs_small_4.h5') "
   ]
  },
  {
   "cell_type": "code",
   "execution_count": 2,
   "metadata": {},
   "outputs": [
    {
     "name": "stdout",
     "output_type": "stream",
     "text": [
      "Model: \"sequential\"\n",
      "_________________________________________________________________\n",
      "Layer (type)                 Output Shape              Param #   \n",
      "=================================================================\n",
      "vgg16 (Model)                (None, 4, 4, 512)         14714688  \n",
      "_________________________________________________________________\n",
      "flatten (Flatten)            (None, 8192)              0         \n",
      "_________________________________________________________________\n",
      "dense (Dense)                (None, 256)               2097408   \n",
      "_________________________________________________________________\n",
      "dropout (Dropout)            (None, 256)               0         \n",
      "_________________________________________________________________\n",
      "dense_1 (Dense)              (None, 1)                 257       \n",
      "=================================================================\n",
      "Total params: 16,812,353\n",
      "Trainable params: 2,097,665\n",
      "Non-trainable params: 14,714,688\n",
      "_________________________________________________________________\n"
     ]
    }
   ],
   "source": [
    "model.summary()"
   ]
  },
  {
   "cell_type": "code",
   "execution_count": 3,
   "metadata": {},
   "outputs": [
    {
     "name": "stdout",
     "output_type": "stream",
     "text": [
      "Model: \"vgg16\"\n",
      "_________________________________________________________________\n",
      "Layer (type)                 Output Shape              Param #   \n",
      "=================================================================\n",
      "input_1 (InputLayer)         [(None, 150, 150, 3)]     0         \n",
      "_________________________________________________________________\n",
      "block1_conv1 (Conv2D)        (None, 150, 150, 64)      1792      \n",
      "_________________________________________________________________\n",
      "block1_conv2 (Conv2D)        (None, 150, 150, 64)      36928     \n",
      "_________________________________________________________________\n",
      "block1_pool (MaxPooling2D)   (None, 75, 75, 64)        0         \n",
      "_________________________________________________________________\n",
      "block2_conv1 (Conv2D)        (None, 75, 75, 128)       73856     \n",
      "_________________________________________________________________\n",
      "block2_conv2 (Conv2D)        (None, 75, 75, 128)       147584    \n",
      "_________________________________________________________________\n",
      "block2_pool (MaxPooling2D)   (None, 37, 37, 128)       0         \n",
      "_________________________________________________________________\n",
      "block3_conv1 (Conv2D)        (None, 37, 37, 256)       295168    \n",
      "_________________________________________________________________\n",
      "block3_conv2 (Conv2D)        (None, 37, 37, 256)       590080    \n",
      "_________________________________________________________________\n",
      "block3_conv3 (Conv2D)        (None, 37, 37, 256)       590080    \n",
      "_________________________________________________________________\n",
      "block3_pool (MaxPooling2D)   (None, 18, 18, 256)       0         \n",
      "_________________________________________________________________\n",
      "block4_conv1 (Conv2D)        (None, 18, 18, 512)       1180160   \n",
      "_________________________________________________________________\n",
      "block4_conv2 (Conv2D)        (None, 18, 18, 512)       2359808   \n",
      "_________________________________________________________________\n",
      "block4_conv3 (Conv2D)        (None, 18, 18, 512)       2359808   \n",
      "_________________________________________________________________\n",
      "block4_pool (MaxPooling2D)   (None, 9, 9, 512)         0         \n",
      "_________________________________________________________________\n",
      "block5_conv1 (Conv2D)        (None, 9, 9, 512)         2359808   \n",
      "_________________________________________________________________\n",
      "block5_conv2 (Conv2D)        (None, 9, 9, 512)         2359808   \n",
      "_________________________________________________________________\n",
      "block5_conv3 (Conv2D)        (None, 9, 9, 512)         2359808   \n",
      "_________________________________________________________________\n",
      "block5_pool (MaxPooling2D)   (None, 4, 4, 512)         0         \n",
      "=================================================================\n",
      "Total params: 14,714,688\n",
      "Trainable params: 0\n",
      "Non-trainable params: 14,714,688\n",
      "_________________________________________________________________\n"
     ]
    }
   ],
   "source": [
    "conv_base = model.get_layer('vgg16')\n",
    "conv_base.summary()"
   ]
  },
  {
   "cell_type": "code",
   "execution_count": 4,
   "metadata": {},
   "outputs": [],
   "source": [
    "conv_base.trainiable = True\n",
    "\n",
    "for layer in conv_base.layers:\n",
    "    if layer.name in ['block5_conv1', 'block5_conv2', 'block5_conv2']:\n",
    "        layer.trainable = True"
   ]
  },
  {
   "cell_type": "markdown",
   "metadata": {},
   "source": [
    "## Import, Directory Paths"
   ]
  },
  {
   "cell_type": "code",
   "execution_count": 5,
   "metadata": {},
   "outputs": [],
   "source": [
    "import os\n",
    "import numpy as np\n",
    "\n",
    "from keras.preprocessing.image import ImageDataGenerator\n",
    "from keras import models\n",
    "from keras import layers\n",
    "from keras import optimizers\n",
    "\n",
    "\n",
    "base_dir = './'\n",
    "\n",
    "train_dir = os.path.join(base_dir, 'train') \n",
    "validation_dir = os.path.join(base_dir, 'validation')\n",
    "test_dir = os.path.join(base_dir, 'test')\n",
    "\n",
    "train_cats_dir = os.path.join(train_dir, 'cats')\n",
    "train_dogs_dir = os.path.join(train_dir, 'dogs')                           \n",
    "\n",
    "validation_cats_dir = os.path.join(validation_dir, 'cats')\n",
    "validation_dogs_dir = os.path.join(validation_dir, 'dogs')          "
   ]
  },
  {
   "cell_type": "markdown",
   "metadata": {},
   "source": [
    "## Image Data Generators"
   ]
  },
  {
   "cell_type": "code",
   "execution_count": 6,
   "metadata": {},
   "outputs": [
    {
     "name": "stdout",
     "output_type": "stream",
     "text": [
      "Found 2000 images belonging to 2 classes.\n",
      "Found 1000 images belonging to 2 classes.\n"
     ]
    }
   ],
   "source": [
    "from keras.preprocessing.image import ImageDataGenerator\n",
    "from keras import optimizers\n",
    "\n",
    "\n",
    "train_datagen = ImageDataGenerator(\n",
    "    rescale=1./255,\n",
    "    rotation_range=40,\n",
    "    width_shift_range=0.2,\n",
    "    height_shift_range=0.2,\n",
    "    shear_range=0.2,\n",
    "    zoom_range=0.2,\n",
    "    horizontal_flip=True,\n",
    "    fill_mode='nearest')\n",
    "\n",
    "test_datagen = ImageDataGenerator(rescale=1./255)\n",
    "\n",
    "train_generator = train_datagen.flow_from_directory(\n",
    "    train_dir,\n",
    "    target_size=(150, 150),\n",
    "    batch_size=20,\n",
    "    class_mode='binary')\n",
    "\n",
    "validation_generator = test_datagen.flow_from_directory(\n",
    "    validation_dir,\n",
    "    target_size=(150, 150),\n",
    "    batch_size=20,\n",
    "    class_mode='binary')"
   ]
  },
  {
   "cell_type": "markdown",
   "metadata": {},
   "source": [
    "## Model Compliation and Training"
   ]
  },
  {
   "cell_type": "code",
   "execution_count": 7,
   "metadata": {},
   "outputs": [
    {
     "name": "stdout",
     "output_type": "stream",
     "text": [
      "Epoch 1/100\n",
      "100/100 [==============================] - 493s 5s/step - loss: 0.3000 - acc: 0.8635 - val_loss: 0.2156 - val_acc: 0.9170\n",
      "Epoch 2/100\n",
      "100/100 [==============================] - 493s 5s/step - loss: 0.2859 - acc: 0.8750 - val_loss: 0.2112 - val_acc: 0.9150\n",
      "Epoch 3/100\n",
      "100/100 [==============================] - 486s 5s/step - loss: 0.2694 - acc: 0.8865 - val_loss: 0.2149 - val_acc: 0.9210\n",
      "Epoch 4/100\n",
      "100/100 [==============================] - 493s 5s/step - loss: 0.2354 - acc: 0.9040 - val_loss: 0.1898 - val_acc: 0.9310\n",
      "Epoch 5/100\n",
      "100/100 [==============================] - 492s 5s/step - loss: 0.2385 - acc: 0.8985 - val_loss: 0.2120 - val_acc: 0.9270\n",
      "Epoch 6/100\n",
      "100/100 [==============================] - 489s 5s/step - loss: 0.2193 - acc: 0.9020 - val_loss: 0.1895 - val_acc: 0.9290\n",
      "Epoch 7/100\n",
      "100/100 [==============================] - 488s 5s/step - loss: 0.1945 - acc: 0.9145 - val_loss: 0.1943 - val_acc: 0.9260\n",
      "Epoch 8/100\n",
      "100/100 [==============================] - 493s 5s/step - loss: 0.2135 - acc: 0.9135 - val_loss: 0.2079 - val_acc: 0.9210\n",
      "Epoch 9/100\n",
      "100/100 [==============================] - 494s 5s/step - loss: 0.2000 - acc: 0.9170 - val_loss: 0.2088 - val_acc: 0.9210\n",
      "Epoch 10/100\n",
      "100/100 [==============================] - 483s 5s/step - loss: 0.1712 - acc: 0.9305 - val_loss: 0.1650 - val_acc: 0.9300\n",
      "Epoch 11/100\n",
      "100/100 [==============================] - 494s 5s/step - loss: 0.1709 - acc: 0.9280 - val_loss: 0.1939 - val_acc: 0.9260\n",
      "Epoch 12/100\n",
      "100/100 [==============================] - 490s 5s/step - loss: 0.1596 - acc: 0.9355 - val_loss: 0.2013 - val_acc: 0.9300\n",
      "Epoch 13/100\n",
      "100/100 [==============================] - 489s 5s/step - loss: 0.1573 - acc: 0.9420 - val_loss: 0.1812 - val_acc: 0.9380\n",
      "Epoch 14/100\n",
      "100/100 [==============================] - 468s 5s/step - loss: 0.1683 - acc: 0.9325 - val_loss: 0.1759 - val_acc: 0.9390\n",
      "Epoch 15/100\n",
      "100/100 [==============================] - 487s 5s/step - loss: 0.1595 - acc: 0.9320 - val_loss: 0.1692 - val_acc: 0.9430\n",
      "Epoch 16/100\n",
      "100/100 [==============================] - 477s 5s/step - loss: 0.1560 - acc: 0.9415 - val_loss: 0.1985 - val_acc: 0.9300\n",
      "Epoch 17/100\n",
      "100/100 [==============================] - 500s 5s/step - loss: 0.1406 - acc: 0.9450 - val_loss: 0.1552 - val_acc: 0.9370\n",
      "Epoch 18/100\n",
      "100/100 [==============================] - 503s 5s/step - loss: 0.1360 - acc: 0.9455 - val_loss: 0.1823 - val_acc: 0.9280\n",
      "Epoch 19/100\n",
      "100/100 [==============================] - 485s 5s/step - loss: 0.1232 - acc: 0.9490 - val_loss: 0.1690 - val_acc: 0.9450\n",
      "Epoch 20/100\n",
      "100/100 [==============================] - 490s 5s/step - loss: 0.1197 - acc: 0.9530 - val_loss: 0.1953 - val_acc: 0.9350\n",
      "Epoch 21/100\n",
      "100/100 [==============================] - 512s 5s/step - loss: 0.1331 - acc: 0.9520 - val_loss: 0.2148 - val_acc: 0.9290\n",
      "Epoch 22/100\n",
      "100/100 [==============================] - 506s 5s/step - loss: 0.1258 - acc: 0.9535 - val_loss: 0.1792 - val_acc: 0.9340\n",
      "Epoch 23/100\n",
      "100/100 [==============================] - 519s 5s/step - loss: 0.1149 - acc: 0.9580 - val_loss: 0.1885 - val_acc: 0.9340\n",
      "Epoch 24/100\n",
      "100/100 [==============================] - 516s 5s/step - loss: 0.1064 - acc: 0.9535 - val_loss: 0.2500 - val_acc: 0.9120\n",
      "Epoch 25/100\n",
      "100/100 [==============================] - 489s 5s/step - loss: 0.1017 - acc: 0.9610 - val_loss: 0.1679 - val_acc: 0.9350\n",
      "Epoch 26/100\n",
      "100/100 [==============================] - 492s 5s/step - loss: 0.0958 - acc: 0.9640 - val_loss: 0.2389 - val_acc: 0.9280\n",
      "Epoch 27/100\n",
      "100/100 [==============================] - 483s 5s/step - loss: 0.0941 - acc: 0.9625 - val_loss: 0.1677 - val_acc: 0.9380\n",
      "Epoch 28/100\n",
      "100/100 [==============================] - 488s 5s/step - loss: 0.0951 - acc: 0.9645 - val_loss: 0.1939 - val_acc: 0.9340\n",
      "Epoch 29/100\n",
      "100/100 [==============================] - 472s 5s/step - loss: 0.0882 - acc: 0.9700 - val_loss: 0.2324 - val_acc: 0.9320\n",
      "Epoch 30/100\n",
      "100/100 [==============================] - 506s 5s/step - loss: 0.1076 - acc: 0.9555 - val_loss: 0.1811 - val_acc: 0.9390\n",
      "Epoch 31/100\n",
      "100/100 [==============================] - 495s 5s/step - loss: 0.0858 - acc: 0.9625 - val_loss: 0.1917 - val_acc: 0.9420\n",
      "Epoch 32/100\n",
      "100/100 [==============================] - 500s 5s/step - loss: 0.0908 - acc: 0.9615 - val_loss: 0.2194 - val_acc: 0.9280\n",
      "Epoch 33/100\n",
      "100/100 [==============================] - 494s 5s/step - loss: 0.0900 - acc: 0.9600 - val_loss: 0.1514 - val_acc: 0.9500\n",
      "Epoch 34/100\n",
      "100/100 [==============================] - 490s 5s/step - loss: 0.1000 - acc: 0.9630 - val_loss: 0.2050 - val_acc: 0.9350\n",
      "Epoch 35/100\n",
      "100/100 [==============================] - 491s 5s/step - loss: 0.0974 - acc: 0.9620 - val_loss: 0.2301 - val_acc: 0.9320\n",
      "Epoch 36/100\n",
      "100/100 [==============================] - 479s 5s/step - loss: 0.0902 - acc: 0.9655 - val_loss: 0.2530 - val_acc: 0.9270\n",
      "Epoch 37/100\n",
      "100/100 [==============================] - 496s 5s/step - loss: 0.0911 - acc: 0.9600 - val_loss: 0.1838 - val_acc: 0.9410\n",
      "Epoch 38/100\n",
      "100/100 [==============================] - 502s 5s/step - loss: 0.0708 - acc: 0.9730 - val_loss: 0.2246 - val_acc: 0.9310\n",
      "Epoch 39/100\n",
      "100/100 [==============================] - 501s 5s/step - loss: 0.0762 - acc: 0.9700 - val_loss: 0.1724 - val_acc: 0.9440\n",
      "Epoch 40/100\n",
      "100/100 [==============================] - 503s 5s/step - loss: 0.0783 - acc: 0.9740 - val_loss: 0.1976 - val_acc: 0.9350\n",
      "Epoch 41/100\n",
      "100/100 [==============================] - 498s 5s/step - loss: 0.0744 - acc: 0.9730 - val_loss: 0.1788 - val_acc: 0.9410\n",
      "Epoch 42/100\n",
      "100/100 [==============================] - 550s 5s/step - loss: 0.0747 - acc: 0.9720 - val_loss: 0.1966 - val_acc: 0.9320\n",
      "Epoch 43/100\n",
      "100/100 [==============================] - 501s 5s/step - loss: 0.0707 - acc: 0.9735 - val_loss: 0.1916 - val_acc: 0.9380\n",
      "Epoch 44/100\n",
      "100/100 [==============================] - 507s 5s/step - loss: 0.0700 - acc: 0.9745 - val_loss: 0.2294 - val_acc: 0.9380\n",
      "Epoch 45/100\n",
      "100/100 [==============================] - 505s 5s/step - loss: 0.0659 - acc: 0.9740 - val_loss: 0.2520 - val_acc: 0.9260\n",
      "Epoch 46/100\n",
      "100/100 [==============================] - 503s 5s/step - loss: 0.0623 - acc: 0.9770 - val_loss: 0.1857 - val_acc: 0.9440\n",
      "Epoch 47/100\n",
      "100/100 [==============================] - 506s 5s/step - loss: 0.0687 - acc: 0.9745 - val_loss: 0.2476 - val_acc: 0.9260\n",
      "Epoch 48/100\n",
      "100/100 [==============================] - 508s 5s/step - loss: 0.0524 - acc: 0.9810 - val_loss: 0.2247 - val_acc: 0.9320\n",
      "Epoch 49/100\n",
      "100/100 [==============================] - 499s 5s/step - loss: 0.0562 - acc: 0.9750 - val_loss: 0.1908 - val_acc: 0.9400\n",
      "Epoch 50/100\n",
      "100/100 [==============================] - 510s 5s/step - loss: 0.0534 - acc: 0.9810 - val_loss: 0.2099 - val_acc: 0.9390\n",
      "Epoch 51/100\n",
      "100/100 [==============================] - 512s 5s/step - loss: 0.0543 - acc: 0.9805 - val_loss: 0.2225 - val_acc: 0.9390\n",
      "Epoch 52/100\n",
      "100/100 [==============================] - 502s 5s/step - loss: 0.0701 - acc: 0.9750 - val_loss: 0.2033 - val_acc: 0.9430\n",
      "Epoch 53/100\n",
      "100/100 [==============================] - 498s 5s/step - loss: 0.0698 - acc: 0.9790 - val_loss: 0.1864 - val_acc: 0.9440\n",
      "Epoch 54/100\n",
      "100/100 [==============================] - 496s 5s/step - loss: 0.0545 - acc: 0.9805 - val_loss: 0.2092 - val_acc: 0.9360\n",
      "Epoch 55/100\n",
      "100/100 [==============================] - 506s 5s/step - loss: 0.0557 - acc: 0.9775 - val_loss: 0.2339 - val_acc: 0.9340\n",
      "Epoch 56/100\n",
      "100/100 [==============================] - 499s 5s/step - loss: 0.0528 - acc: 0.9800 - val_loss: 0.2533 - val_acc: 0.9290\n",
      "Epoch 57/100\n",
      "100/100 [==============================] - 504s 5s/step - loss: 0.0502 - acc: 0.9800 - val_loss: 0.2390 - val_acc: 0.9330\n",
      "Epoch 58/100\n",
      "100/100 [==============================] - 500s 5s/step - loss: 0.0462 - acc: 0.9840 - val_loss: 0.2787 - val_acc: 0.9280\n",
      "Epoch 59/100\n",
      "100/100 [==============================] - 503s 5s/step - loss: 0.0464 - acc: 0.9840 - val_loss: 0.2168 - val_acc: 0.9440\n",
      "Epoch 60/100\n",
      "100/100 [==============================] - 499s 5s/step - loss: 0.0508 - acc: 0.9790 - val_loss: 0.2078 - val_acc: 0.9410\n",
      "Epoch 61/100\n",
      "100/100 [==============================] - 505s 5s/step - loss: 0.0532 - acc: 0.9825 - val_loss: 0.2480 - val_acc: 0.9340\n"
     ]
    },
    {
     "name": "stdout",
     "output_type": "stream",
     "text": [
      "Epoch 62/100\n",
      "100/100 [==============================] - 503s 5s/step - loss: 0.0439 - acc: 0.9845 - val_loss: 0.2595 - val_acc: 0.9230\n",
      "Epoch 63/100\n",
      "100/100 [==============================] - 498s 5s/step - loss: 0.0446 - acc: 0.9825 - val_loss: 0.1711 - val_acc: 0.9490\n",
      "Epoch 64/100\n",
      "100/100 [==============================] - 495s 5s/step - loss: 0.0454 - acc: 0.9830 - val_loss: 0.2863 - val_acc: 0.9240\n",
      "Epoch 65/100\n",
      "100/100 [==============================] - 504s 5s/step - loss: 0.0430 - acc: 0.9805 - val_loss: 0.2534 - val_acc: 0.9340\n",
      "Epoch 66/100\n",
      "100/100 [==============================] - 499s 5s/step - loss: 0.0454 - acc: 0.9835 - val_loss: 0.2397 - val_acc: 0.9340\n",
      "Epoch 67/100\n",
      "100/100 [==============================] - 498s 5s/step - loss: 0.0476 - acc: 0.9805 - val_loss: 0.1968 - val_acc: 0.9460\n",
      "Epoch 68/100\n",
      "100/100 [==============================] - 499s 5s/step - loss: 0.0386 - acc: 0.9860 - val_loss: 0.4172 - val_acc: 0.9040\n",
      "Epoch 69/100\n",
      "100/100 [==============================] - 496s 5s/step - loss: 0.0399 - acc: 0.9860 - val_loss: 0.2522 - val_acc: 0.9330\n",
      "Epoch 70/100\n",
      "100/100 [==============================] - 501s 5s/step - loss: 0.0398 - acc: 0.9835 - val_loss: 0.2447 - val_acc: 0.9330\n",
      "Epoch 71/100\n",
      "100/100 [==============================] - 500s 5s/step - loss: 0.0431 - acc: 0.9840 - val_loss: 0.3289 - val_acc: 0.9260\n",
      "Epoch 72/100\n",
      "100/100 [==============================] - 500s 5s/step - loss: 0.0396 - acc: 0.9840 - val_loss: 0.3326 - val_acc: 0.9220\n",
      "Epoch 73/100\n",
      "100/100 [==============================] - 501s 5s/step - loss: 0.0390 - acc: 0.9880 - val_loss: 0.2618 - val_acc: 0.9250\n",
      "Epoch 74/100\n",
      "100/100 [==============================] - 499s 5s/step - loss: 0.0359 - acc: 0.9860 - val_loss: 0.3044 - val_acc: 0.9290\n",
      "Epoch 75/100\n",
      "100/100 [==============================] - 504s 5s/step - loss: 0.0313 - acc: 0.9900 - val_loss: 0.2280 - val_acc: 0.9370\n",
      "Epoch 76/100\n",
      "100/100 [==============================] - 503s 5s/step - loss: 0.0382 - acc: 0.9880 - val_loss: 0.2493 - val_acc: 0.9440\n",
      "Epoch 77/100\n",
      "100/100 [==============================] - 504s 5s/step - loss: 0.0413 - acc: 0.9855 - val_loss: 0.2870 - val_acc: 0.9360\n",
      "Epoch 78/100\n",
      "100/100 [==============================] - 501s 5s/step - loss: 0.0454 - acc: 0.9815 - val_loss: 0.2741 - val_acc: 0.9300\n",
      "Epoch 79/100\n",
      "100/100 [==============================] - 503s 5s/step - loss: 0.0470 - acc: 0.9855 - val_loss: 0.2122 - val_acc: 0.9450\n",
      "Epoch 80/100\n",
      "100/100 [==============================] - 499s 5s/step - loss: 0.0317 - acc: 0.9870 - val_loss: 0.2763 - val_acc: 0.9330\n",
      "Epoch 81/100\n",
      "100/100 [==============================] - 499s 5s/step - loss: 0.0326 - acc: 0.9890 - val_loss: 0.2242 - val_acc: 0.9420\n",
      "Epoch 82/100\n",
      "100/100 [==============================] - 498s 5s/step - loss: 0.0399 - acc: 0.9840 - val_loss: 0.3231 - val_acc: 0.9290\n",
      "Epoch 83/100\n",
      "100/100 [==============================] - 501s 5s/step - loss: 0.0345 - acc: 0.9870 - val_loss: 0.2940 - val_acc: 0.9270\n",
      "Epoch 84/100\n",
      "100/100 [==============================] - 502s 5s/step - loss: 0.0378 - acc: 0.9830 - val_loss: 0.2709 - val_acc: 0.9400\n",
      "Epoch 85/100\n",
      "100/100 [==============================] - 502s 5s/step - loss: 0.0355 - acc: 0.9905 - val_loss: 0.2388 - val_acc: 0.9430\n",
      "Epoch 86/100\n",
      "100/100 [==============================] - 500s 5s/step - loss: 0.0331 - acc: 0.9900 - val_loss: 0.2184 - val_acc: 0.9410\n",
      "Epoch 87/100\n",
      "100/100 [==============================] - 499s 5s/step - loss: 0.0426 - acc: 0.9840 - val_loss: 0.2588 - val_acc: 0.9370\n",
      "Epoch 88/100\n",
      "100/100 [==============================] - 500s 5s/step - loss: 0.0287 - acc: 0.9910 - val_loss: 0.2740 - val_acc: 0.9310\n",
      "Epoch 89/100\n",
      "100/100 [==============================] - 493s 5s/step - loss: 0.0362 - acc: 0.9885 - val_loss: 0.3583 - val_acc: 0.9300\n",
      "Epoch 90/100\n",
      "100/100 [==============================] - 498s 5s/step - loss: 0.0366 - acc: 0.9840 - val_loss: 0.2548 - val_acc: 0.9410\n",
      "Epoch 91/100\n",
      "100/100 [==============================] - 500s 5s/step - loss: 0.0290 - acc: 0.9855 - val_loss: 0.2393 - val_acc: 0.9410\n",
      "Epoch 92/100\n",
      "100/100 [==============================] - 504s 5s/step - loss: 0.0313 - acc: 0.9895 - val_loss: 0.2524 - val_acc: 0.9380\n",
      "Epoch 93/100\n",
      "100/100 [==============================] - 498s 5s/step - loss: 0.0363 - acc: 0.9870 - val_loss: 0.2511 - val_acc: 0.9390\n",
      "Epoch 94/100\n",
      "100/100 [==============================] - 494s 5s/step - loss: 0.0224 - acc: 0.9915 - val_loss: 0.2559 - val_acc: 0.9370\n",
      "Epoch 95/100\n",
      "100/100 [==============================] - 503s 5s/step - loss: 0.0263 - acc: 0.9900 - val_loss: 0.2598 - val_acc: 0.9330\n",
      "Epoch 96/100\n",
      "100/100 [==============================] - 495s 5s/step - loss: 0.0380 - acc: 0.9875 - val_loss: 0.2619 - val_acc: 0.9340\n",
      "Epoch 97/100\n",
      "100/100 [==============================] - 504s 5s/step - loss: 0.0264 - acc: 0.9895 - val_loss: 0.3040 - val_acc: 0.9330\n",
      "Epoch 98/100\n",
      "100/100 [==============================] - 502s 5s/step - loss: 0.0326 - acc: 0.9855 - val_loss: 0.2297 - val_acc: 0.9410\n",
      "Epoch 99/100\n",
      "100/100 [==============================] - 493s 5s/step - loss: 0.0333 - acc: 0.9890 - val_loss: 0.2151 - val_acc: 0.9420\n",
      "Epoch 100/100\n",
      "100/100 [==============================] - 502s 5s/step - loss: 0.0268 - acc: 0.9935 - val_loss: 0.2794 - val_acc: 0.9370\n"
     ]
    }
   ],
   "source": [
    "model.compile(loss='binary_crossentropy', \n",
    "              optimizer=optimizers.RMSprop(lr=1e-5), \n",
    "              metrics=['acc'])\n",
    "\n",
    "\n",
    "history = model.fit(\n",
    "    train_generator, \n",
    "    steps_per_epoch=100, \n",
    "    epochs=100, \n",
    "    validation_data=validation_generator, \n",
    "    validation_steps=50)"
   ]
  },
  {
   "cell_type": "markdown",
   "metadata": {},
   "source": [
    "## Training and Validation Accuracy"
   ]
  },
  {
   "cell_type": "code",
   "execution_count": 8,
   "metadata": {},
   "outputs": [
    {
     "data": {
      "image/png": "[encoded data removed]",
      "text/plain": [
       "<Figure size 432x288 with 1 Axes>"
      ]
     },
     "metadata": {},
     "output_type": "display_data"
    },
    {
     "data": {
      "image/png": "[encoded data removed]",
      "text/plain": [
       "<Figure size 432x288 with 1 Axes>"
      ]
     },
     "metadata": {},
     "output_type": "display_data"
    }
   ],
   "source": [
    "import matplotlib.pyplot as plt\n",
    "import seaborn as sns\n",
    "\n",
    "sns.set()\n",
    "\n",
    "\n",
    "epochs = range(1, len(history.history['loss']) + 1)\n",
    "acc = history.history['acc']\n",
    "val_acc = history.history['val_acc']\n",
    "\n",
    "plt.plot(epochs, acc, 'bo', label='Train accuracy')\n",
    "plt.plot(epochs, val_acc, '-', label='Validation accuracy')\n",
    "plt.xlabel('Epochs')\n",
    "plt.ylabel('Accuracy')\n",
    "plt.legend()\n",
    "\n",
    "plt.figure()\n",
    "\n",
    "loss = history.history['loss']\n",
    "val_loss = history.history['val_loss']\n",
    "\n",
    "plt.plot(epochs, loss, 'bo', label='Train loss')\n",
    "plt.plot(epochs, val_loss, '-', label='Validation loss')\n",
    "plt.xlabel('Epochs')\n",
    "plt.ylabel('Loss')\n",
    "plt.legend()\n",
    "\n",
    "plt.show()"
   ]
  },
  {
   "cell_type": "code",
   "execution_count": 9,
   "metadata": {},
   "outputs": [],
   "source": [
    "model.save('cats_and_dogs_small_5.h5')"
   ]
  },
  {
   "cell_type": "markdown",
   "metadata": {},
   "source": [
    "## Test Accuracy"
   ]
  },
  {
   "cell_type": "code",
   "execution_count": 11,
   "metadata": {},
   "outputs": [
    {
     "name": "stdout",
     "output_type": "stream",
     "text": [
      "Found 1000 images belonging to 2 classes.\n",
      "50/50 [==============================] - 155s 3s/step - loss: 0.3406 - acc: 0.9370\n",
      "test acc: 0.9369999766349792\n"
     ]
    }
   ],
   "source": [
    "test_generator = test_datagen.flow_from_directory(\n",
    "    test_dir,\n",
    "    target_size=(150, 150),\n",
    "    batch_size=20,\n",
    "    class_mode='binary')\n",
    "\n",
    "\n",
    "test_loss, test_acc = model.evaluate(test_generator, steps=50)\n",
    "print('test acc:', test_acc)"
   ]
  }
 ],
 "metadata": {
  "kernelspec": {
   "display_name": "dl",
   "language": "python",
   "name": "dl"
  },
  "language_info": {
   "codemirror_mode": {
    "name": "ipython",
    "version": 3
   },
   "file_extension": ".py",
   "mimetype": "text/x-python",
   "name": "python",
   "nbconvert_exporter": "python",
   "pygments_lexer": "ipython3",
   "version": "3.8.5"
  }
 },
 "nbformat": 4,
 "nbformat_minor": 4
}
