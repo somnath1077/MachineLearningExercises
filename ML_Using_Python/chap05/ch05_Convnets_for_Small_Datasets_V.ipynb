{
 "cells": [
  {
   "cell_type": "markdown",
   "metadata": {},
   "source": [
    "## Fine Tuning\n",
    "\n",
    "In this notebook, we will fine-tune the model created in the previous notebook. This process involves unfreezing a few of the top layers of the convolutional base used for feature creation and then training the whole model along with the dense classifier on top."
   ]
  },
  {
   "cell_type": "code",
   "execution_count": 1,
   "metadata": {},
   "outputs": [],
   "source": [
    "from keras.models import load_model\n",
    "\n",
    "\n",
    "model = load_model('cats_and_dogs_small_4.h5') "
   ]
  },
  {
   "cell_type": "code",
   "execution_count": 2,
   "metadata": {},
   "outputs": [
    {
     "name": "stdout",
     "output_type": "stream",
     "text": [
      "Model: \"sequential\"\n",
      "_________________________________________________________________\n",
      "Layer (type)                 Output Shape              Param #   \n",
      "=================================================================\n",
      "vgg16 (Model)                (None, 4, 4, 512)         14714688  \n",
      "_________________________________________________________________\n",
      "flatten (Flatten)            (None, 8192)              0         \n",
      "_________________________________________________________________\n",
      "dense (Dense)                (None, 256)               2097408   \n",
      "_________________________________________________________________\n",
      "dropout (Dropout)            (None, 256)               0         \n",
      "_________________________________________________________________\n",
      "dense_1 (Dense)              (None, 1)                 257       \n",
      "=================================================================\n",
      "Total params: 16,812,353\n",
      "Trainable params: 2,097,665\n",
      "Non-trainable params: 14,714,688\n",
      "_________________________________________________________________\n"
     ]
    }
   ],
   "source": [
    "model.summary()"
   ]
  },
  {
   "cell_type": "code",
   "execution_count": 3,
   "metadata": {},
   "outputs": [
    {
     "name": "stdout",
     "output_type": "stream",
     "text": [
      "Model: \"vgg16\"\n",
      "_________________________________________________________________\n",
      "Layer (type)                 Output Shape              Param #   \n",
      "=================================================================\n",
      "input_1 (InputLayer)         [(None, 150, 150, 3)]     0         \n",
      "_________________________________________________________________\n",
      "block1_conv1 (Conv2D)        (None, 150, 150, 64)      1792      \n",
      "_________________________________________________________________\n",
      "block1_conv2 (Conv2D)        (None, 150, 150, 64)      36928     \n",
      "_________________________________________________________________\n",
      "block1_pool (MaxPooling2D)   (None, 75, 75, 64)        0         \n",
      "_________________________________________________________________\n",
      "block2_conv1 (Conv2D)        (None, 75, 75, 128)       73856     \n",
      "_________________________________________________________________\n",
      "block2_conv2 (Conv2D)        (None, 75, 75, 128)       147584    \n",
      "_________________________________________________________________\n",
      "block2_pool (MaxPooling2D)   (None, 37, 37, 128)       0         \n",
      "_________________________________________________________________\n",
      "block3_conv1 (Conv2D)        (None, 37, 37, 256)       295168    \n",
      "_________________________________________________________________\n",
      "block3_conv2 (Conv2D)        (None, 37, 37, 256)       590080    \n",
      "_________________________________________________________________\n",
      "block3_conv3 (Conv2D)        (None, 37, 37, 256)       590080    \n",
      "_________________________________________________________________\n",
      "block3_pool (MaxPooling2D)   (None, 18, 18, 256)       0         \n",
      "_________________________________________________________________\n",
      "block4_conv1 (Conv2D)        (None, 18, 18, 512)       1180160   \n",
      "_________________________________________________________________\n",
      "block4_conv2 (Conv2D)        (None, 18, 18, 512)       2359808   \n",
      "_________________________________________________________________\n",
      "block4_conv3 (Conv2D)        (None, 18, 18, 512)       2359808   \n",
      "_________________________________________________________________\n",
      "block4_pool (MaxPooling2D)   (None, 9, 9, 512)         0         \n",
      "_________________________________________________________________\n",
      "block5_conv1 (Conv2D)        (None, 9, 9, 512)         2359808   \n",
      "_________________________________________________________________\n",
      "block5_conv2 (Conv2D)        (None, 9, 9, 512)         2359808   \n",
      "_________________________________________________________________\n",
      "block5_conv3 (Conv2D)        (None, 9, 9, 512)         2359808   \n",
      "_________________________________________________________________\n",
      "block5_pool (MaxPooling2D)   (None, 4, 4, 512)         0         \n",
      "=================================================================\n",
      "Total params: 14,714,688\n",
      "Trainable params: 0\n",
      "Non-trainable params: 14,714,688\n",
      "_________________________________________________________________\n"
     ]
    }
   ],
   "source": [
    "conv_base = model.get_layer('vgg16')\n",
    "conv_base.summary()"
   ]
  },
  {
   "cell_type": "code",
   "execution_count": 4,
   "metadata": {},
   "outputs": [],
   "source": [
    "conv_base.trainable = True\n",
    "\n",
    "for layer in conv_base.layers:\n",
    "    if layer.name in ['block5_conv1', 'block5_conv2', 'block5_conv2']:\n",
    "        layer.trainable = True\n",
    "    else:\n",
    "        layer.trainable = False"
   ]
  },
  {
   "cell_type": "code",
   "execution_count": 5,
   "metadata": {},
   "outputs": [
    {
     "name": "stdout",
     "output_type": "stream",
     "text": [
      "Model: \"vgg16\"\n",
      "_________________________________________________________________\n",
      "Layer (type)                 Output Shape              Param #   \n",
      "=================================================================\n",
      "input_1 (InputLayer)         [(None, 150, 150, 3)]     0         \n",
      "_________________________________________________________________\n",
      "block1_conv1 (Conv2D)        (None, 150, 150, 64)      1792      \n",
      "_________________________________________________________________\n",
      "block1_conv2 (Conv2D)        (None, 150, 150, 64)      36928     \n",
      "_________________________________________________________________\n",
      "block1_pool (MaxPooling2D)   (None, 75, 75, 64)        0         \n",
      "_________________________________________________________________\n",
      "block2_conv1 (Conv2D)        (None, 75, 75, 128)       73856     \n",
      "_________________________________________________________________\n",
      "block2_conv2 (Conv2D)        (None, 75, 75, 128)       147584    \n",
      "_________________________________________________________________\n",
      "block2_pool (MaxPooling2D)   (None, 37, 37, 128)       0         \n",
      "_________________________________________________________________\n",
      "block3_conv1 (Conv2D)        (None, 37, 37, 256)       295168    \n",
      "_________________________________________________________________\n",
      "block3_conv2 (Conv2D)        (None, 37, 37, 256)       590080    \n",
      "_________________________________________________________________\n",
      "block3_conv3 (Conv2D)        (None, 37, 37, 256)       590080    \n",
      "_________________________________________________________________\n",
      "block3_pool (MaxPooling2D)   (None, 18, 18, 256)       0         \n",
      "_________________________________________________________________\n",
      "block4_conv1 (Conv2D)        (None, 18, 18, 512)       1180160   \n",
      "_________________________________________________________________\n",
      "block4_conv2 (Conv2D)        (None, 18, 18, 512)       2359808   \n",
      "_________________________________________________________________\n",
      "block4_conv3 (Conv2D)        (None, 18, 18, 512)       2359808   \n",
      "_________________________________________________________________\n",
      "block4_pool (MaxPooling2D)   (None, 9, 9, 512)         0         \n",
      "_________________________________________________________________\n",
      "block5_conv1 (Conv2D)        (None, 9, 9, 512)         2359808   \n",
      "_________________________________________________________________\n",
      "block5_conv2 (Conv2D)        (None, 9, 9, 512)         2359808   \n",
      "_________________________________________________________________\n",
      "block5_conv3 (Conv2D)        (None, 9, 9, 512)         2359808   \n",
      "_________________________________________________________________\n",
      "block5_pool (MaxPooling2D)   (None, 4, 4, 512)         0         \n",
      "=================================================================\n",
      "Total params: 14,714,688\n",
      "Trainable params: 4,719,616\n",
      "Non-trainable params: 9,995,072\n",
      "_________________________________________________________________\n"
     ]
    }
   ],
   "source": [
    "conv_base.summary()"
   ]
  },
  {
   "cell_type": "code",
   "execution_count": 6,
   "metadata": {},
   "outputs": [
    {
     "data": {
      "text/plain": [
       "4719616"
      ]
     },
     "execution_count": 6,
     "metadata": {},
     "output_type": "execute_result"
    }
   ],
   "source": [
    "2359808 * 2"
   ]
  },
  {
   "cell_type": "markdown",
   "metadata": {},
   "source": [
    "## Import, Directory Paths"
   ]
  },
  {
   "cell_type": "code",
   "execution_count": 7,
   "metadata": {},
   "outputs": [],
   "source": [
    "import os\n",
    "import numpy as np\n",
    "\n",
    "from keras.preprocessing.image import ImageDataGenerator\n",
    "from keras import models\n",
    "from keras import layers\n",
    "from keras import optimizers\n",
    "\n",
    "\n",
    "base_dir = './'\n",
    "\n",
    "train_dir = os.path.join(base_dir, 'train') \n",
    "validation_dir = os.path.join(base_dir, 'validation')\n",
    "test_dir = os.path.join(base_dir, 'test')\n",
    "\n",
    "train_cats_dir = os.path.join(train_dir, 'cats')\n",
    "train_dogs_dir = os.path.join(train_dir, 'dogs')                           \n",
    "\n",
    "validation_cats_dir = os.path.join(validation_dir, 'cats')\n",
    "validation_dogs_dir = os.path.join(validation_dir, 'dogs')          "
   ]
  },
  {
   "cell_type": "markdown",
   "metadata": {},
   "source": [
    "## Image Data Generators"
   ]
  },
  {
   "cell_type": "code",
   "execution_count": 8,
   "metadata": {},
   "outputs": [
    {
     "name": "stdout",
     "output_type": "stream",
     "text": [
      "Found 2000 images belonging to 2 classes.\n",
      "Found 1000 images belonging to 2 classes.\n"
     ]
    }
   ],
   "source": [
    "from keras.preprocessing.image import ImageDataGenerator\n",
    "from keras import optimizers\n",
    "\n",
    "\n",
    "train_datagen = ImageDataGenerator(\n",
    "    rescale=1./255,\n",
    "    rotation_range=40,\n",
    "    width_shift_range=0.2,\n",
    "    height_shift_range=0.2,\n",
    "    shear_range=0.2,\n",
    "    zoom_range=0.2,\n",
    "    horizontal_flip=True,\n",
    "    fill_mode='nearest')\n",
    "\n",
    "test_datagen = ImageDataGenerator(rescale=1./255)\n",
    "\n",
    "train_generator = train_datagen.flow_from_directory(\n",
    "    train_dir,\n",
    "    target_size=(150, 150),\n",
    "    batch_size=20,\n",
    "    class_mode='binary')\n",
    "\n",
    "validation_generator = test_datagen.flow_from_directory(\n",
    "    validation_dir,\n",
    "    target_size=(150, 150),\n",
    "    batch_size=20,\n",
    "    class_mode='binary')"
   ]
  },
  {
   "cell_type": "markdown",
   "metadata": {},
   "source": [
    "## Model Compliation and Training"
   ]
  },
  {
   "cell_type": "code",
   "execution_count": 9,
   "metadata": {},
   "outputs": [
    {
     "name": "stdout",
     "output_type": "stream",
     "text": [
      "Epoch 1/50\n",
      "100/100 [==============================] - 505s 5s/step - loss: 0.3043 - acc: 0.8690 - val_loss: 0.2360 - val_acc: 0.9060\n",
      "Epoch 2/50\n",
      "100/100 [==============================] - 494s 5s/step - loss: 0.2783 - acc: 0.8815 - val_loss: 0.2062 - val_acc: 0.9190\n",
      "Epoch 3/50\n",
      "100/100 [==============================] - 491s 5s/step - loss: 0.2736 - acc: 0.8725 - val_loss: 0.2130 - val_acc: 0.9150\n",
      "Epoch 4/50\n",
      "100/100 [==============================] - 500s 5s/step - loss: 0.2397 - acc: 0.8935 - val_loss: 0.2295 - val_acc: 0.9080\n",
      "Epoch 5/50\n",
      "100/100 [==============================] - 488s 5s/step - loss: 0.2347 - acc: 0.8995 - val_loss: 0.1953 - val_acc: 0.9240\n",
      "Epoch 6/50\n",
      "100/100 [==============================] - 491s 5s/step - loss: 0.2145 - acc: 0.9095 - val_loss: 0.2299 - val_acc: 0.9070\n",
      "Epoch 7/50\n",
      "100/100 [==============================] - 504s 5s/step - loss: 0.2007 - acc: 0.9215 - val_loss: 0.2236 - val_acc: 0.9220\n",
      "Epoch 8/50\n",
      "100/100 [==============================] - 496s 5s/step - loss: 0.1943 - acc: 0.9170 - val_loss: 0.1778 - val_acc: 0.9320\n",
      "Epoch 9/50\n",
      "100/100 [==============================] - 498s 5s/step - loss: 0.1831 - acc: 0.9215 - val_loss: 0.1841 - val_acc: 0.9250\n",
      "Epoch 10/50\n",
      "100/100 [==============================] - 480s 5s/step - loss: 0.2017 - acc: 0.9225 - val_loss: 0.1879 - val_acc: 0.9280\n",
      "Epoch 11/50\n",
      "100/100 [==============================] - 469s 5s/step - loss: 0.1708 - acc: 0.9325 - val_loss: 0.1438 - val_acc: 0.9400\n",
      "Epoch 12/50\n",
      "100/100 [==============================] - 509s 5s/step - loss: 0.1778 - acc: 0.9320 - val_loss: 0.2035 - val_acc: 0.9280\n",
      "Epoch 13/50\n",
      "100/100 [==============================] - 503s 5s/step - loss: 0.1853 - acc: 0.9265 - val_loss: 0.1653 - val_acc: 0.9370\n",
      "Epoch 14/50\n",
      "100/100 [==============================] - 510s 5s/step - loss: 0.1519 - acc: 0.9390 - val_loss: 0.1786 - val_acc: 0.9330\n",
      "Epoch 15/50\n",
      "100/100 [==============================] - 514s 5s/step - loss: 0.1579 - acc: 0.9400 - val_loss: 0.1823 - val_acc: 0.9220\n",
      "Epoch 16/50\n",
      "100/100 [==============================] - 507s 5s/step - loss: 0.1589 - acc: 0.9410 - val_loss: 0.1955 - val_acc: 0.9330\n",
      "Epoch 17/50\n",
      "100/100 [==============================] - 506s 5s/step - loss: 0.1418 - acc: 0.9440 - val_loss: 0.1699 - val_acc: 0.9390\n",
      "Epoch 18/50\n",
      "100/100 [==============================] - 519s 5s/step - loss: 0.1299 - acc: 0.9495 - val_loss: 0.2025 - val_acc: 0.9290\n",
      "Epoch 19/50\n",
      "100/100 [==============================] - 519s 5s/step - loss: 0.1314 - acc: 0.9490 - val_loss: 0.1947 - val_acc: 0.9360\n",
      "Epoch 20/50\n",
      "100/100 [==============================] - 512s 5s/step - loss: 0.1285 - acc: 0.9515 - val_loss: 0.1778 - val_acc: 0.9340\n",
      "Epoch 21/50\n",
      "100/100 [==============================] - 510s 5s/step - loss: 0.1161 - acc: 0.9525 - val_loss: 0.1915 - val_acc: 0.9390\n",
      "Epoch 22/50\n",
      "100/100 [==============================] - 491s 5s/step - loss: 0.1139 - acc: 0.9540 - val_loss: 0.1891 - val_acc: 0.9390\n",
      "Epoch 23/50\n",
      "100/100 [==============================] - 512s 5s/step - loss: 0.1154 - acc: 0.9520 - val_loss: 0.2054 - val_acc: 0.9200\n",
      "Epoch 24/50\n",
      "100/100 [==============================] - 506s 5s/step - loss: 0.1139 - acc: 0.9560 - val_loss: 0.1580 - val_acc: 0.9390\n",
      "Epoch 25/50\n",
      "100/100 [==============================] - 507s 5s/step - loss: 0.0895 - acc: 0.9670 - val_loss: 0.1665 - val_acc: 0.9420\n",
      "Epoch 26/50\n",
      "100/100 [==============================] - 504s 5s/step - loss: 0.1060 - acc: 0.9530 - val_loss: 0.1943 - val_acc: 0.9430\n",
      "Epoch 27/50\n",
      "100/100 [==============================] - 512s 5s/step - loss: 0.1168 - acc: 0.9570 - val_loss: 0.2038 - val_acc: 0.9280\n",
      "Epoch 28/50\n",
      "100/100 [==============================] - 508s 5s/step - loss: 0.1158 - acc: 0.9520 - val_loss: 0.2355 - val_acc: 0.9280\n",
      "Epoch 29/50\n",
      "100/100 [==============================] - 498s 5s/step - loss: 0.1030 - acc: 0.9570 - val_loss: 0.1613 - val_acc: 0.9380\n",
      "Epoch 30/50\n",
      "100/100 [==============================] - 510s 5s/step - loss: 0.0908 - acc: 0.9645 - val_loss: 0.1805 - val_acc: 0.9400\n",
      "Epoch 31/50\n",
      "100/100 [==============================] - 517s 5s/step - loss: 0.0924 - acc: 0.9635 - val_loss: 0.2080 - val_acc: 0.9460\n",
      "Epoch 32/50\n",
      "100/100 [==============================] - 516s 5s/step - loss: 0.0953 - acc: 0.9635 - val_loss: 0.1747 - val_acc: 0.9420\n",
      "Epoch 33/50\n",
      "100/100 [==============================] - 511s 5s/step - loss: 0.0880 - acc: 0.9660 - val_loss: 0.1934 - val_acc: 0.9380\n",
      "Epoch 34/50\n",
      "100/100 [==============================] - 491s 5s/step - loss: 0.0843 - acc: 0.9675 - val_loss: 0.1728 - val_acc: 0.9350\n",
      "Epoch 35/50\n",
      "100/100 [==============================] - 538s 5s/step - loss: 0.0784 - acc: 0.9680 - val_loss: 0.2218 - val_acc: 0.9340\n",
      "Epoch 36/50\n",
      "100/100 [==============================] - 532s 5s/step - loss: 0.0817 - acc: 0.9700 - val_loss: 0.2420 - val_acc: 0.9280\n",
      "Epoch 37/50\n",
      "100/100 [==============================] - 518s 5s/step - loss: 0.0953 - acc: 0.9640 - val_loss: 0.1723 - val_acc: 0.9370\n",
      "Epoch 38/50\n",
      "100/100 [==============================] - 517s 5s/step - loss: 0.0784 - acc: 0.9675 - val_loss: 0.2497 - val_acc: 0.9240\n",
      "Epoch 39/50\n",
      "100/100 [==============================] - 503s 5s/step - loss: 0.0815 - acc: 0.9665 - val_loss: 0.2120 - val_acc: 0.9370\n",
      "Epoch 40/50\n",
      "100/100 [==============================] - 519s 5s/step - loss: 0.0732 - acc: 0.9680 - val_loss: 0.1860 - val_acc: 0.9450\n",
      "Epoch 41/50\n",
      "100/100 [==============================] - 528s 5s/step - loss: 0.0810 - acc: 0.9675 - val_loss: 0.2599 - val_acc: 0.9270\n",
      "Epoch 42/50\n",
      "100/100 [==============================] - 513s 5s/step - loss: 0.0657 - acc: 0.9760 - val_loss: 0.1795 - val_acc: 0.9470\n",
      "Epoch 43/50\n",
      "100/100 [==============================] - 524s 5s/step - loss: 0.0782 - acc: 0.9700 - val_loss: 0.2155 - val_acc: 0.9430\n",
      "Epoch 44/50\n",
      "100/100 [==============================] - 532s 5s/step - loss: 0.0766 - acc: 0.9720 - val_loss: 0.2059 - val_acc: 0.9300\n",
      "Epoch 45/50\n",
      "100/100 [==============================] - 523s 5s/step - loss: 0.0699 - acc: 0.9715 - val_loss: 0.2066 - val_acc: 0.9400\n",
      "Epoch 46/50\n",
      "100/100 [==============================] - 512s 5s/step - loss: 0.0605 - acc: 0.9765 - val_loss: 0.2152 - val_acc: 0.9350\n",
      "Epoch 47/50\n",
      "100/100 [==============================] - 508s 5s/step - loss: 0.0652 - acc: 0.9755 - val_loss: 0.2440 - val_acc: 0.9380\n",
      "Epoch 48/50\n",
      "100/100 [==============================] - 507s 5s/step - loss: 0.0535 - acc: 0.9765 - val_loss: 0.2685 - val_acc: 0.9250\n",
      "Epoch 49/50\n",
      "100/100 [==============================] - 510s 5s/step - loss: 0.0755 - acc: 0.9705 - val_loss: 0.2863 - val_acc: 0.9300\n",
      "Epoch 50/50\n",
      "100/100 [==============================] - 514s 5s/step - loss: 0.0670 - acc: 0.9745 - val_loss: 0.2287 - val_acc: 0.9340\n"
     ]
    }
   ],
   "source": [
    "model.compile(loss='binary_crossentropy', \n",
    "              optimizer=optimizers.RMSprop(lr=1e-5), \n",
    "              metrics=['acc'])\n",
    "\n",
    "\n",
    "history = model.fit(\n",
    "    train_generator, \n",
    "    steps_per_epoch=100, \n",
    "    epochs=50, \n",
    "    validation_data=validation_generator, \n",
    "    validation_steps=50)"
   ]
  },
  {
   "cell_type": "markdown",
   "metadata": {},
   "source": [
    "## Training and Validation Accuracy"
   ]
  },
  {
   "cell_type": "code",
   "execution_count": 10,
   "metadata": {},
   "outputs": [
    {
     "data": {
      "image/png": "[encoded data removed]",
      "text/plain": [
       "<Figure size 432x288 with 1 Axes>"
      ]
     },
     "metadata": {},
     "output_type": "display_data"
    },
    {
     "data": {
      "image/png": "[encoded data removed]",
      "text/plain": [
       "<Figure size 432x288 with 1 Axes>"
      ]
     },
     "metadata": {},
     "output_type": "display_data"
    }
   ],
   "source": [
    "import matplotlib.pyplot as plt\n",
    "import seaborn as sns\n",
    "\n",
    "sns.set()\n",
    "\n",
    "\n",
    "epochs = range(1, len(history.history['loss']) + 1)\n",
    "acc = history.history['acc']\n",
    "val_acc = history.history['val_acc']\n",
    "\n",
    "plt.plot(epochs, acc, 'bo', label='Train accuracy')\n",
    "plt.plot(epochs, val_acc, '-', label='Validation accuracy')\n",
    "plt.xlabel('Epochs')\n",
    "plt.ylabel('Accuracy')\n",
    "plt.legend()\n",
    "\n",
    "plt.figure()\n",
    "\n",
    "loss = history.history['loss']\n",
    "val_loss = history.history['val_loss']\n",
    "\n",
    "plt.plot(epochs, loss, 'bo', label='Train loss')\n",
    "plt.plot(epochs, val_loss, '-', label='Validation loss')\n",
    "plt.xlabel('Epochs')\n",
    "plt.ylabel('Loss')\n",
    "plt.legend()\n",
    "\n",
    "plt.show()"
   ]
  },
  {
   "cell_type": "code",
   "execution_count": 11,
   "metadata": {},
   "outputs": [],
   "source": [
    "model.save('cats_and_dogs_small_5.h5')"
   ]
  },
  {
   "cell_type": "markdown",
   "metadata": {},
   "source": [
    "## Test Accuracy"
   ]
  },
  {
   "cell_type": "code",
   "execution_count": 12,
   "metadata": {},
   "outputs": [
    {
     "name": "stdout",
     "output_type": "stream",
     "text": [
      "Found 1000 images belonging to 2 classes.\n",
      "50/50 [==============================] - 149s 3s/step - loss: 0.2485 - acc: 0.9390\n",
      "test acc: 0.9390000104904175\n"
     ]
    }
   ],
   "source": [
    "test_generator = test_datagen.flow_from_directory(\n",
    "    test_dir,\n",
    "    target_size=(150, 150),\n",
    "    batch_size=20,\n",
    "    class_mode='binary')\n",
    "\n",
    "\n",
    "test_loss, test_acc = model.evaluate(test_generator, steps=50)\n",
    "print('test acc:', test_acc)"
   ]
  }
 ],
 "metadata": {
  "kernelspec": {
   "display_name": "dl",
   "language": "python",
   "name": "dl"
  },
  "language_info": {
   "codemirror_mode": {
    "name": "ipython",
    "version": 3
   },
   "file_extension": ".py",
   "mimetype": "text/x-python",
   "name": "python",
   "nbconvert_exporter": "python",
   "pygments_lexer": "ipython3",
   "version": "3.8.5"
  }
 },
 "nbformat": 4,
 "nbformat_minor": 4
}
