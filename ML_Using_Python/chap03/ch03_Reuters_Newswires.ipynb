{
 "cells": [
  {
   "cell_type": "markdown",
   "metadata": {},
   "source": [
    "# Goal\n",
    "\n",
    "The goal is to create a model for classifying newswires into topics. The data used for creating the model was published by Reuters in 1986. There are 46 different topics; some topics are more represented than others, but each topic has at least 10 examples in the training set.\n",
    "\n",
    "As with the IMDB dataset, the argument num_words=10000 restricts the data to the 10,000 most frequently occurring words found in the data."
   ]
  },
  {
   "cell_type": "code",
   "execution_count": 1,
   "metadata": {},
   "outputs": [
    {
     "name": "stderr",
     "output_type": "stream",
     "text": [
      "Using TensorFlow backend.\n"
     ]
    }
   ],
   "source": [
    "import numpy as np\n",
    "import matplotlib.pyplot as plt\n",
    "from keras.datasets import reuters\n",
    "\n",
    "(train_data, train_labels), (test_data, test_labels) = reuters.load_data(num_words=10000)"
   ]
  },
  {
   "cell_type": "code",
   "execution_count": 2,
   "metadata": {},
   "outputs": [
    {
     "data": {
      "text/plain": [
       "(8982, 2246)"
      ]
     },
     "execution_count": 2,
     "metadata": {},
     "output_type": "execute_result"
    }
   ],
   "source": [
    "len(train_data), len(test_data)"
   ]
  },
  {
   "cell_type": "code",
   "execution_count": 3,
   "metadata": {},
   "outputs": [
    {
     "name": "stdout",
     "output_type": "stream",
     "text": [
      "[1, 2, 2, 8, 43, 10, 447, 5, 25, 207, 270, 5, 3095, 111, 16, 369, 186, 90, 67, 7, 89, 5, 19, 102, 6, 19, 124, 15, 90, 67, 84, 22, 482, 26, 7, 48, 4, 49, 8, 864, 39, 209, 154, 6, 151, 6, 83, 11, 15, 22, 155, 11, 15, 7, 48, 9, 4579, 1005, 504, 6, 258, 6, 272, 11, 15, 22, 134, 44, 11, 15, 16, 8, 197, 1245, 90, 67, 52, 29, 209, 30, 32, 132, 6, 109, 15, 17, 12]\n"
     ]
    }
   ],
   "source": [
    "print(train_data[0])"
   ]
  },
  {
   "cell_type": "code",
   "execution_count": 4,
   "metadata": {},
   "outputs": [
    {
     "data": {
      "text/plain": [
       "46"
      ]
     },
     "execution_count": 4,
     "metadata": {},
     "output_type": "execute_result"
    }
   ],
   "source": [
    "len(np.unique(train_labels))"
   ]
  },
  {
   "cell_type": "markdown",
   "metadata": {},
   "source": [
    "## Decoding the data"
   ]
  },
  {
   "cell_type": "code",
   "execution_count": 5,
   "metadata": {},
   "outputs": [
    {
     "data": {
      "text/plain": [
       "'? ? ? said as a result of its december acquisition of space co it expects earnings per share in 1987 of 1 15 to 1 30 dlrs per share up from 70 cts in 1986 the company said pretax net should rise to nine to 10 mln dlrs from six mln dlrs in 1986 and rental operation revenues to 19 to 22 mln dlrs from 12 5 mln dlrs it said cash flow per share this year should be 2 50 to three dlrs reuter 3'"
      ]
     },
     "execution_count": 5,
     "metadata": {},
     "output_type": "execute_result"
    }
   ],
   "source": [
    "word_index = reuters.get_word_index()\n",
    "reverse_word_index = dict([(value, key) for (key, value) in word_index.items()])\n",
    "decoded_newswire = ' '.join([reverse_word_index.get(i - 3, '?') for i in train_data[0]])  \n",
    "decoded_newswire"
   ]
  },
  {
   "cell_type": "markdown",
   "metadata": {},
   "source": [
    "## Preparing the data"
   ]
  },
  {
   "cell_type": "code",
   "execution_count": 6,
   "metadata": {},
   "outputs": [],
   "source": [
    "# one hot encoding of input features and labels\n",
    "\n",
    "def one_hot_encode(sequences: np.array, dim: int = 10000) -> np.array:\n",
    "    ret = np.zeros((sequences.shape[0], dim))\n",
    "    for i, s in enumerate(sequences):\n",
    "        ret[i, s] = 1 \n",
    "    return ret"
   ]
  },
  {
   "cell_type": "code",
   "execution_count": 7,
   "metadata": {},
   "outputs": [],
   "source": [
    "x_train = one_hot_encode(train_data)\n",
    "x_test = one_hot_encode(test_data)"
   ]
  },
  {
   "cell_type": "code",
   "execution_count": 8,
   "metadata": {},
   "outputs": [
    {
     "data": {
      "text/plain": [
       "((8982, 10000), (2246, 10000))"
      ]
     },
     "execution_count": 8,
     "metadata": {},
     "output_type": "execute_result"
    }
   ],
   "source": [
    "x_train.shape, x_test.shape"
   ]
  },
  {
   "cell_type": "code",
   "execution_count": 9,
   "metadata": {},
   "outputs": [],
   "source": [
    "y_train = one_hot_encode(train_labels, dim = 46)\n",
    "y_test = one_hot_encode(test_labels, dim = 46)"
   ]
  },
  {
   "cell_type": "code",
   "execution_count": 10,
   "metadata": {},
   "outputs": [
    {
     "data": {
      "text/plain": [
       "((8982, 46), (2246, 46))"
      ]
     },
     "execution_count": 10,
     "metadata": {},
     "output_type": "execute_result"
    }
   ],
   "source": [
    "y_train.shape, y_test.shape"
   ]
  },
  {
   "cell_type": "markdown",
   "metadata": {},
   "source": [
    "## Network Architecture"
   ]
  },
  {
   "cell_type": "markdown",
   "metadata": {},
   "source": [
    "### Model 1"
   ]
  },
  {
   "cell_type": "code",
   "execution_count": 11,
   "metadata": {},
   "outputs": [],
   "source": [
    "from keras import models, layers\n",
    "\n",
    "model = models.Sequential()\n",
    "model.add(layers.Dense(64, activation='relu', input_shape=(10000,)))\n",
    "model.add(layers.Dense(64, activation='relu'))\n",
    "model.add(layers.Dense(46, activation='softmax'))"
   ]
  },
  {
   "cell_type": "markdown",
   "metadata": {},
   "source": [
    "## Loss Function \n",
    "\n",
    "The loss function used in multiclass classification is categorical cross-entropy. Assume that the class labels have been one-hot encoded as in our case. Let the number of class labels be $C$. Given an example $(\\mathbf{x}, \\mathbf{t} = \\{ t_i \\}_{i = 1}^{C})$, suppose $\\mathbf{s} = \\{ s_i \\}_{i = 1}^C$ is the predicted output. The cross-entropy loss is defined as:\n",
    "$$\n",
    "    \\text{Loss} = - \\sum_{i = 1}^{C} t_i \\log (s_i).\n",
    "$$\n",
    "\n",
    "In our case, we use softmax as the activation function in the final layer. Using $s_i$ to denote the weighted output of the $i$th node in the final layer _before_ the application of the activation function, the cross-entropy loss can be written as:\n",
    "$$\n",
    "    \\text{Loss} = - \\sum_{i = 1}^{C} t_i \\log \\left ( \\frac{e^{s_i}}{\\sum_{j = 1}^C e^{s_j}} \\right ).\n",
    "$$\n",
    "\n",
    "Since we assumed the labels to be one-hot encoded, there exists $1 \\leq p \\leq C$ such that $t_i = 1$ iff $i = p$. Thus all terms except the $p$th drop out from the right and the expression simplifies to:\n",
    "$$\n",
    "    \\text{Loss} = - \\log \\left ( \\frac{e^{s_p}}{\\sum_{j = 1}^C e^{s_j}} \\right ).\n",
    "$$"
   ]
  },
  {
   "cell_type": "code",
   "execution_count": 12,
   "metadata": {},
   "outputs": [],
   "source": [
    "model.compile(optimizer='rmsprop',\n",
    "              loss='categorical_crossentropy',\n",
    "              metrics=['accuracy'])"
   ]
  },
  {
   "cell_type": "markdown",
   "metadata": {},
   "source": [
    "### Set Aside Validation Set"
   ]
  },
  {
   "cell_type": "code",
   "execution_count": 13,
   "metadata": {},
   "outputs": [],
   "source": [
    "x_val = x_train[:1000]\n",
    "partial_x_train = x_train[1000:]\n",
    "\n",
    "y_val = y_train[:1000]\n",
    "partial_y_train = y_train[1000:]"
   ]
  },
  {
   "cell_type": "code",
   "execution_count": 14,
   "metadata": {},
   "outputs": [
    {
     "name": "stdout",
     "output_type": "stream",
     "text": [
      "Train on 7982 samples, validate on 1000 samples\n",
      "Epoch 1/20\n",
      "7982/7982 [==============================] - 1s 182us/step - loss: 2.7107 - accuracy: 0.5210 - val_loss: 1.8002 - val_accuracy: 0.6260\n",
      "Epoch 2/20\n",
      "7982/7982 [==============================] - 1s 99us/step - loss: 1.4629 - accuracy: 0.7068 - val_loss: 1.3388 - val_accuracy: 0.7070\n",
      "Epoch 3/20\n",
      "7982/7982 [==============================] - 1s 116us/step - loss: 1.0738 - accuracy: 0.7754 - val_loss: 1.1241 - val_accuracy: 0.7700\n",
      "Epoch 4/20\n",
      "7982/7982 [==============================] - 1s 104us/step - loss: 0.8505 - accuracy: 0.8240 - val_loss: 1.0311 - val_accuracy: 0.7790\n",
      "Epoch 5/20\n",
      "7982/7982 [==============================] - 1s 113us/step - loss: 0.6843 - accuracy: 0.8587 - val_loss: 0.9666 - val_accuracy: 0.7960\n",
      "Epoch 6/20\n",
      "7982/7982 [==============================] - 1s 115us/step - loss: 0.5557 - accuracy: 0.8827 - val_loss: 0.9200 - val_accuracy: 0.8080\n",
      "Epoch 7/20\n",
      "7982/7982 [==============================] - 1s 111us/step - loss: 0.4488 - accuracy: 0.9059 - val_loss: 0.9008 - val_accuracy: 0.8090\n",
      "Epoch 8/20\n",
      "7982/7982 [==============================] - 1s 98us/step - loss: 0.3678 - accuracy: 0.9228 - val_loss: 0.8777 - val_accuracy: 0.8170\n",
      "Epoch 9/20\n",
      "7982/7982 [==============================] - 1s 103us/step - loss: 0.3100 - accuracy: 0.9344 - val_loss: 0.9350 - val_accuracy: 0.8030\n",
      "Epoch 10/20\n",
      "7982/7982 [==============================] - 1s 111us/step - loss: 0.2585 - accuracy: 0.9444 - val_loss: 0.8875 - val_accuracy: 0.8220\n",
      "Epoch 11/20\n",
      "7982/7982 [==============================] - 1s 102us/step - loss: 0.2273 - accuracy: 0.9478 - val_loss: 0.9138 - val_accuracy: 0.8200\n",
      "Epoch 12/20\n",
      "7982/7982 [==============================] - 1s 122us/step - loss: 0.1930 - accuracy: 0.9514 - val_loss: 0.9102 - val_accuracy: 0.8140\n",
      "Epoch 13/20\n",
      "7982/7982 [==============================] - 1s 126us/step - loss: 0.1751 - accuracy: 0.9521 - val_loss: 0.9362 - val_accuracy: 0.8280\n",
      "Epoch 14/20\n",
      "7982/7982 [==============================] - 1s 114us/step - loss: 0.1580 - accuracy: 0.9564 - val_loss: 0.9797 - val_accuracy: 0.8090\n",
      "Epoch 15/20\n",
      "7982/7982 [==============================] - 1s 111us/step - loss: 0.1455 - accuracy: 0.9557 - val_loss: 1.0165 - val_accuracy: 0.8010\n",
      "Epoch 16/20\n",
      "7982/7982 [==============================] - 1s 118us/step - loss: 0.1372 - accuracy: 0.9562 - val_loss: 0.9774 - val_accuracy: 0.8090\n",
      "Epoch 17/20\n",
      "7982/7982 [==============================] - 1s 116us/step - loss: 0.1278 - accuracy: 0.9569 - val_loss: 1.0428 - val_accuracy: 0.8170\n",
      "Epoch 18/20\n",
      "7982/7982 [==============================] - 1s 118us/step - loss: 0.1253 - accuracy: 0.9585 - val_loss: 1.0492 - val_accuracy: 0.8140\n",
      "Epoch 19/20\n",
      "7982/7982 [==============================] - 1s 133us/step - loss: 0.1194 - accuracy: 0.9573 - val_loss: 1.0175 - val_accuracy: 0.8120\n",
      "Epoch 20/20\n",
      "7982/7982 [==============================] - 1s 99us/step - loss: 0.1194 - accuracy: 0.9582 - val_loss: 1.0514 - val_accuracy: 0.8140\n"
     ]
    }
   ],
   "source": [
    "history = model.fit(partial_x_train,\n",
    "                    partial_y_train,\n",
    "                    epochs=20,\n",
    "                    batch_size=512,\n",
    "                    validation_data=(x_val, y_val))"
   ]
  },
  {
   "cell_type": "markdown",
   "metadata": {},
   "source": [
    "## Training and Validation Loss and Accuracy"
   ]
  },
  {
   "cell_type": "code",
   "execution_count": 15,
   "metadata": {},
   "outputs": [],
   "source": [
    "import matplotlib.pyplot as plt\n",
    "import keras\n",
    "\n",
    "def train_val_loss(history: keras.models.Sequential.fit):\n",
    "    history_dict = history.history\n",
    "    loss_values = history_dict['loss']\n",
    "    val_loss_values = history_dict['val_loss']\n",
    "\n",
    "    epochs = range(1, len(loss_values) + 1)\n",
    "\n",
    "    plt.plot(epochs, loss_values, 'bo', label='Training loss')\n",
    "    plt.plot(epochs, val_loss_values, 'b', label='Validation loss')\n",
    "    plt.title('Training and validation loss')\n",
    "    plt.xlabel('Epochs')\n",
    "    plt.ylabel('Loss')\n",
    "    plt.legend()\n",
    "\n",
    "    plt.show()\n",
    "    \n",
    "    \n",
    "def train_val_acc(history: keras.models.Sequential.fit):\n",
    "    history_dict = history.history\n",
    "    \n",
    "    plt.clf()  \n",
    "    try:\n",
    "        acc = history_dict['acc'] \n",
    "        val_acc = history_dict['val_acc']\n",
    "    except: \n",
    "        acc = history_dict['accuracy']\n",
    "        val_acc = history_dict['val_accuracy'] \n",
    "    \n",
    "    epochs = range(1, len(val_acc) + 1)\n",
    "    \n",
    "    plt.plot(epochs, acc, 'bo', label='Training acc')\n",
    "    plt.plot(epochs, val_acc, 'b', label='Validation acc')\n",
    "    plt.title('Training and validation accuracy')\n",
    "    plt.xlabel('Epochs')\n",
    "    plt.ylabel('Accuracy')\n",
    "    plt.legend()\n",
    "\n",
    "    plt.show()"
   ]
  },
  {
   "cell_type": "code",
   "execution_count": 16,
   "metadata": {},
   "outputs": [
    {
     "data": {
      "image/png": "[encoded data removed]",
      "text/plain": [
       "<Figure size 432x288 with 1 Axes>"
      ]
     },
     "metadata": {
      "needs_background": "light"
     },
     "output_type": "display_data"
    }
   ],
   "source": [
    "train_val_loss(history)"
   ]
  },
  {
   "cell_type": "code",
   "execution_count": 17,
   "metadata": {},
   "outputs": [
    {
     "data": {
      "image/png": "[encoded data removed]",
      "text/plain": [
       "<Figure size 432x288 with 1 Axes>"
      ]
     },
     "metadata": {
      "needs_background": "light"
     },
     "output_type": "display_data"
    }
   ],
   "source": [
    "train_val_acc(history)"
   ]
  },
  {
   "cell_type": "markdown",
   "metadata": {},
   "source": [
    "The model begins to overfit after about 7 epochs. We therefore train a new model with seven epochs. "
   ]
  },
  {
   "cell_type": "markdown",
   "metadata": {},
   "source": [
    "### Model 2"
   ]
  },
  {
   "cell_type": "code",
   "execution_count": 18,
   "metadata": {},
   "outputs": [
    {
     "name": "stdout",
     "output_type": "stream",
     "text": [
      "Train on 7982 samples, validate on 1000 samples\n",
      "Epoch 1/7\n",
      "7982/7982 [==============================] - 1s 164us/step - loss: 2.5947 - accuracy: 0.5237 - val_loss: 1.7233 - val_accuracy: 0.6340\n",
      "Epoch 2/7\n",
      "7982/7982 [==============================] - 1s 99us/step - loss: 1.4135 - accuracy: 0.7013 - val_loss: 1.3070 - val_accuracy: 0.7200\n",
      "Epoch 3/7\n",
      "7982/7982 [==============================] - 1s 111us/step - loss: 1.0351 - accuracy: 0.7760 - val_loss: 1.1519 - val_accuracy: 0.7340\n",
      "Epoch 4/7\n",
      "7982/7982 [==============================] - 1s 117us/step - loss: 0.8081 - accuracy: 0.8302 - val_loss: 1.0690 - val_accuracy: 0.7630\n",
      "Epoch 5/7\n",
      "7982/7982 [==============================] - 1s 114us/step - loss: 0.6440 - accuracy: 0.8652 - val_loss: 0.9650 - val_accuracy: 0.8010\n",
      "Epoch 6/7\n",
      "7982/7982 [==============================] - 1s 116us/step - loss: 0.5099 - accuracy: 0.8981 - val_loss: 0.9379 - val_accuracy: 0.7960\n",
      "Epoch 7/7\n",
      "7982/7982 [==============================] - 1s 99us/step - loss: 0.4182 - accuracy: 0.9123 - val_loss: 0.9321 - val_accuracy: 0.8030\n",
      "2246/2246 [==============================] - 2s 949us/step\n"
     ]
    },
    {
     "data": {
      "text/plain": [
       "[0.9977224242549227, 0.7760462760925293]"
      ]
     },
     "execution_count": 18,
     "metadata": {},
     "output_type": "execute_result"
    }
   ],
   "source": [
    "model2 = models.Sequential()\n",
    "model2.add(layers.Dense(64, activation='relu', input_shape=(10000,)))\n",
    "model2.add(layers.Dense(64, activation='relu'))\n",
    "model2.add(layers.Dense(46, activation='softmax'))\n",
    "\n",
    "model2.compile(optimizer='rmsprop', loss='categorical_crossentropy', metrics=['accuracy'])\n",
    "\n",
    "model2.fit(partial_x_train,\n",
    "           partial_y_train,\n",
    "           epochs=7,\n",
    "           batch_size=512,\n",
    "           validation_data=(x_val, y_val))\n",
    "\n",
    "results = model2.evaluate(x_test, y_test)\n",
    "\n",
    "results"
   ]
  },
  {
   "cell_type": "markdown",
   "metadata": {},
   "source": [
    "## Accuracy of a Random Classifier \n",
    "\n",
    "The accuracy of the model2 on test data is 78%. How good is that? If we randomly classified the labels in the test data, how badly would we fare?"
   ]
  },
  {
   "cell_type": "code",
   "execution_count": 19,
   "metadata": {},
   "outputs": [
    {
     "name": "stdout",
     "output_type": "stream",
     "text": [
      "[0, 1, 2, 3, 4, 5, 6, 7, 8, 9, 10, 11, 12, 13, 14, 15, 16, 17, 18, 19, 20, 21, 22, 23, 24, 25, 26, 27, 28, 29, 30, 31, 32, 33, 34, 35, 36, 37, 38, 39, 40, 41, 42, 43, 44, 45]\n"
     ]
    }
   ],
   "source": [
    "print(sorted(np.unique(test_labels)))"
   ]
  },
  {
   "cell_type": "code",
   "execution_count": 20,
   "metadata": {},
   "outputs": [
    {
     "data": {
      "text/plain": [
       "2246"
      ]
     },
     "execution_count": 20,
     "metadata": {},
     "output_type": "execute_result"
    }
   ],
   "source": [
    "len(test_labels)"
   ]
  },
  {
   "cell_type": "code",
   "execution_count": 21,
   "metadata": {},
   "outputs": [
    {
     "data": {
      "text/plain": [
       "(2246,)"
      ]
     },
     "execution_count": 21,
     "metadata": {},
     "output_type": "execute_result"
    }
   ],
   "source": [
    "random_classifier = np.random.randint(low=0, high=46, size=2246)\n",
    "random_classifier.shape"
   ]
  },
  {
   "cell_type": "code",
   "execution_count": 22,
   "metadata": {},
   "outputs": [
    {
     "name": "stdout",
     "output_type": "stream",
     "text": [
      "[0, 1, 2, 3, 4, 5, 6, 7, 8, 9, 10, 11, 12, 13, 14, 15, 16, 17, 18, 19, 20, 21, 22, 23, 24, 25, 26, 27, 28, 29, 30, 31, 32, 33, 34, 35, 36, 37, 38, 39, 40, 41, 42, 43, 44, 45]\n"
     ]
    }
   ],
   "source": [
    "print(sorted(np.unique(random_classifier)))"
   ]
  },
  {
   "cell_type": "code",
   "execution_count": 23,
   "metadata": {},
   "outputs": [
    {
     "data": {
      "text/plain": [
       "0.017809439002671415"
      ]
     },
     "execution_count": 23,
     "metadata": {},
     "output_type": "execute_result"
    }
   ],
   "source": [
    "correct_labels = (random_classifier == test_labels)\n",
    "\n",
    "float(sum(correct_labels) / len(test_labels))"
   ]
  },
  {
   "cell_type": "markdown",
   "metadata": {},
   "source": [
    "Thus with a random classifier, we would expect an accuracy of around 2%. Model2 achieves an accuracy of around 78%. Thus with a random classifier as baseline, our model performs pretty good."
   ]
  },
  {
   "cell_type": "markdown",
   "metadata": {},
   "source": [
    "### Predictions of Model 2"
   ]
  },
  {
   "cell_type": "code",
   "execution_count": 24,
   "metadata": {},
   "outputs": [
    {
     "data": {
      "text/plain": [
       "array([9.1115951e-05, 3.6861666e-04, 1.7890852e-04, 9.6986043e-01,\n",
       "       2.1313550e-02, 4.6084075e-05, 8.7945744e-05, 1.5910302e-05,\n",
       "       9.4202039e-04, 7.0198980e-06, 9.0769638e-05, 9.8507188e-04,\n",
       "       4.1258408e-04, 4.2396251e-04, 8.3108898e-05, 4.4706572e-05,\n",
       "       1.1181824e-03, 1.5306710e-04, 1.2526853e-04, 4.7963561e-04,\n",
       "       8.8021968e-04, 2.4665275e-04, 1.4502822e-05, 8.6790606e-05,\n",
       "       3.5229608e-05, 2.1678506e-04, 8.4797512e-06, 1.8058265e-05,\n",
       "       5.1675906e-04, 2.0657662e-04, 5.0067501e-05, 2.2150807e-05,\n",
       "       2.5604897e-05, 3.0780840e-05, 2.2262530e-04, 9.7149195e-06,\n",
       "       1.6006331e-04, 6.8641493e-05, 4.9829882e-06, 1.9316985e-04,\n",
       "       7.0612354e-05, 1.3767093e-05, 2.9908535e-05, 2.7015883e-05,\n",
       "       1.8540344e-06, 1.1047612e-05], dtype=float32)"
      ]
     },
     "execution_count": 24,
     "metadata": {},
     "output_type": "execute_result"
    }
   ],
   "source": [
    "predict = model2.predict(x_test)\n",
    "\n",
    "predict[0]"
   ]
  },
  {
   "cell_type": "code",
   "execution_count": 25,
   "metadata": {},
   "outputs": [
    {
     "data": {
      "text/plain": [
       "1.0000000249141294"
      ]
     },
     "execution_count": 25,
     "metadata": {},
     "output_type": "execute_result"
    }
   ],
   "source": [
    "sum(predict[0])"
   ]
  },
  {
   "cell_type": "code",
   "execution_count": 26,
   "metadata": {},
   "outputs": [
    {
     "data": {
      "text/plain": [
       "3"
      ]
     },
     "execution_count": 26,
     "metadata": {},
     "output_type": "execute_result"
    }
   ],
   "source": [
    "np.argmax(predict[0])"
   ]
  },
  {
   "cell_type": "markdown",
   "metadata": {},
   "source": [
    "## Model 3"
   ]
  },
  {
   "cell_type": "code",
   "execution_count": 27,
   "metadata": {},
   "outputs": [
    {
     "name": "stdout",
     "output_type": "stream",
     "text": [
      "Train on 7982 samples, validate on 1000 samples\n",
      "Epoch 1/6\n",
      "7982/7982 [==============================] - 2s 196us/step - loss: 2.1206 - accuracy: 0.5759 - val_loss: 1.3441 - val_accuracy: 0.7020\n",
      "Epoch 2/6\n",
      "7982/7982 [==============================] - 1s 142us/step - loss: 1.0835 - accuracy: 0.7655 - val_loss: 1.1489 - val_accuracy: 0.7350\n",
      "Epoch 3/6\n",
      "7982/7982 [==============================] - 1s 152us/step - loss: 0.7710 - accuracy: 0.8330 - val_loss: 1.0306 - val_accuracy: 0.7510\n",
      "Epoch 4/6\n",
      "7982/7982 [==============================] - 1s 139us/step - loss: 0.5565 - accuracy: 0.8804 - val_loss: 0.8926 - val_accuracy: 0.8140\n",
      "Epoch 5/6\n",
      "7982/7982 [==============================] - 1s 149us/step - loss: 0.4166 - accuracy: 0.9108 - val_loss: 0.9027 - val_accuracy: 0.8020\n",
      "Epoch 6/6\n",
      "7982/7982 [==============================] - 1s 126us/step - loss: 0.3050 - accuracy: 0.9334 - val_loss: 0.8735 - val_accuracy: 0.8230\n",
      "2246/2246 [==============================] - 1s 440us/step\n"
     ]
    },
    {
     "data": {
      "text/plain": [
       "[0.9550841410884024, 0.7934104800224304]"
      ]
     },
     "execution_count": 27,
     "metadata": {},
     "output_type": "execute_result"
    }
   ],
   "source": [
    "model3 = models.Sequential()\n",
    "model3.add(layers.Dense(128, activation='relu', input_shape=(10000,)))\n",
    "model3.add(layers.Dense(128, activation='relu'))\n",
    "model3.add(layers.Dense(46, activation='softmax'))\n",
    "\n",
    "model3.compile(optimizer='rmsprop', loss='categorical_crossentropy', metrics=['accuracy'])\n",
    "\n",
    "model3.fit(partial_x_train,\n",
    "           partial_y_train,\n",
    "           epochs=6,\n",
    "           batch_size=512,\n",
    "           validation_data=(x_val, y_val))\n",
    "\n",
    "results = model3.evaluate(x_test, y_test)\n",
    "\n",
    "results"
   ]
  },
  {
   "cell_type": "markdown",
   "metadata": {},
   "source": [
    "## Model 4"
   ]
  },
  {
   "cell_type": "code",
   "execution_count": 28,
   "metadata": {},
   "outputs": [
    {
     "name": "stdout",
     "output_type": "stream",
     "text": [
      "Train on 7982 samples, validate on 1000 samples\n",
      "Epoch 1/4\n",
      "7982/7982 [==============================] - 1s 186us/step - loss: 2.1104 - accuracy: 0.5631 - val_loss: 1.3455 - val_accuracy: 0.7000\n",
      "Epoch 2/4\n",
      "7982/7982 [==============================] - 1s 153us/step - loss: 1.0864 - accuracy: 0.7625 - val_loss: 1.0790 - val_accuracy: 0.7630\n",
      "Epoch 3/4\n",
      "7982/7982 [==============================] - 1s 159us/step - loss: 0.7450 - accuracy: 0.8410 - val_loss: 0.9955 - val_accuracy: 0.7780\n",
      "Epoch 4/4\n",
      "7982/7982 [==============================] - 1s 143us/step - loss: 0.5447 - accuracy: 0.8806 - val_loss: 0.8854 - val_accuracy: 0.8070\n",
      "2246/2246 [==============================] - 1s 486us/step\n"
     ]
    },
    {
     "data": {
      "text/plain": [
       "[0.9672809761757312, 0.780053436756134]"
      ]
     },
     "execution_count": 28,
     "metadata": {},
     "output_type": "execute_result"
    }
   ],
   "source": [
    "model4 = models.Sequential()\n",
    "model4.add(layers.Dense(150, activation='relu', input_shape=(10000,)))\n",
    "model4.add(layers.Dense(150, activation='relu'))\n",
    "model4.add(layers.Dense(46, activation='softmax'))\n",
    "\n",
    "model4.compile(optimizer='rmsprop', loss='categorical_crossentropy', metrics=['accuracy'])\n",
    "\n",
    "model4.fit(partial_x_train,\n",
    "           partial_y_train,\n",
    "           epochs=4,\n",
    "           batch_size=512,\n",
    "           validation_data=(x_val, y_val))\n",
    "\n",
    "results = model4.evaluate(x_test, y_test)\n",
    "\n",
    "results"
   ]
  }
 ],
 "metadata": {
  "@webio": {
   "lastCommId": null,
   "lastKernelId": null
  },
  "kernelspec": {
   "display_name": "dl_python",
   "language": "python",
   "name": "dl_python"
  },
  "language_info": {
   "codemirror_mode": {
    "name": "ipython",
    "version": 3
   },
   "file_extension": ".py",
   "mimetype": "text/x-python",
   "name": "python",
   "nbconvert_exporter": "python",
   "pygments_lexer": "ipython3",
   "version": "3.8.3"
  }
 },
 "nbformat": 4,
 "nbformat_minor": 4
}
