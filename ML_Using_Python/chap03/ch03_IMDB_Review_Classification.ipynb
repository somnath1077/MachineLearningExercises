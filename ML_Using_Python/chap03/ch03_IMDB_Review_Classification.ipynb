{
 "cells": [
  {
   "cell_type": "markdown",
   "metadata": {},
   "source": [
    "## Goal\n",
    "\n",
    "The goal of this notebook is to develop a binary classifier of reviews on IMDB using the keras framework."
   ]
  },
  {
   "cell_type": "code",
   "execution_count": 1,
   "metadata": {},
   "outputs": [
    {
     "name": "stderr",
     "output_type": "stream",
     "text": [
      "Using TensorFlow backend.\n"
     ]
    }
   ],
   "source": [
    "from keras.datasets import imdb\n",
    "\n",
    "# The argument num_words=10000 means you’ll only keep the top 10,000 most frequently occurring words \n",
    "# in the training data. Rare words will be discarded. \n",
    "\n",
    "(train_data, train_labels), (test_data, test_labels) = imdb.load_data(num_words=10000)"
   ]
  },
  {
   "cell_type": "code",
   "execution_count": 2,
   "metadata": {},
   "outputs": [
    {
     "data": {
      "text/plain": [
       "25000"
      ]
     },
     "execution_count": 2,
     "metadata": {},
     "output_type": "execute_result"
    }
   ],
   "source": [
    "len(train_data)"
   ]
  },
  {
   "cell_type": "code",
   "execution_count": 3,
   "metadata": {},
   "outputs": [
    {
     "name": "stdout",
     "output_type": "stream",
     "text": [
      "[1, 14, 22, 16, 43, 530, 973, 1622, 1385, 65, 458, 4468, 66, 3941, 4, 173, 36, 256, 5, 25, 100, 43, 838, 112, 50, 670, 2, 9, 35, 480, 284, 5, 150, 4, 172, 112, 167, 2, 336, 385, 39, 4, 172, 4536, 1111, 17, 546, 38, 13, 447, 4, 192, 50, 16, 6, 147, 2025, 19, 14, 22, 4, 1920, 4613, 469, 4, 22, 71, 87, 12, 16, 43, 530, 38, 76, 15, 13, 1247, 4, 22, 17, 515, 17, 12, 16, 626, 18, 2, 5, 62, 386, 12, 8, 316, 8, 106, 5, 4, 2223, 5244, 16, 480, 66, 3785, 33, 4, 130, 12, 16, 38, 619, 5, 25, 124, 51, 36, 135, 48, 25, 1415, 33, 6, 22, 12, 215, 28, 77, 52, 5, 14, 407, 16, 82, 2, 8, 4, 107, 117, 5952, 15, 256, 4, 2, 7, 3766, 5, 723, 36, 71, 43, 530, 476, 26, 400, 317, 46, 7, 4, 2, 1029, 13, 104, 88, 4, 381, 15, 297, 98, 32, 2071, 56, 26, 141, 6, 194, 7486, 18, 4, 226, 22, 21, 134, 476, 26, 480, 5, 144, 30, 5535, 18, 51, 36, 28, 224, 92, 25, 104, 4, 226, 65, 16, 38, 1334, 88, 12, 16, 283, 5, 16, 4472, 113, 103, 32, 15, 16, 5345, 19, 178, 32]\n"
     ]
    }
   ],
   "source": [
    "print(train_data[0])"
   ]
  },
  {
   "cell_type": "code",
   "execution_count": 4,
   "metadata": {},
   "outputs": [
    {
     "name": "stdout",
     "output_type": "stream",
     "text": [
      "1\n"
     ]
    }
   ],
   "source": [
    "print(train_labels[0])"
   ]
  },
  {
   "cell_type": "code",
   "execution_count": 5,
   "metadata": {},
   "outputs": [
    {
     "data": {
      "text/plain": [
       "9999"
      ]
     },
     "execution_count": 5,
     "metadata": {},
     "output_type": "execute_result"
    }
   ],
   "source": [
    "max(max(seq) for seq in train_data)"
   ]
  },
  {
   "cell_type": "markdown",
   "metadata": {},
   "source": [
    "## Word Index"
   ]
  },
  {
   "cell_type": "code",
   "execution_count": 6,
   "metadata": {},
   "outputs": [
    {
     "data": {
      "text/plain": [
       "\"? this film was just brilliant casting location scenery story direction everyone's really suited the part they played and you could just imagine being there robert ? is an amazing actor and now the same being director ? father came from the same scottish island as myself so i loved the fact there was a real connection with this film the witty remarks throughout the film were great it was just brilliant so much that i bought the film as soon as it was released for ? and would recommend it to everyone to watch and the fly fishing was amazing really cried at the end it was so sad and you know what they say if you cry at a film it must have been good and this definitely was also ? to the two little boy's that played the ? of norman and paul they were just brilliant children are often left out of the ? list i think because the stars that play them all grown up are such a big profile for the whole film but these children are amazing and should be praised for what they have done don't you think the whole story was so lovely because it was true and was someone's life after all that was shared with us all\""
      ]
     },
     "execution_count": 6,
     "metadata": {},
     "output_type": "execute_result"
    }
   ],
   "source": [
    "word_index = imdb.get_word_index()\n",
    "reverse_word_index = dict([(value, key) for key, value in word_index.items()])\n",
    "\n",
    "decoded_review = ' '.join([reverse_word_index.get(w - 3, '?') for w in train_data[0]])\n",
    "\n",
    "decoded_review"
   ]
  },
  {
   "cell_type": "code",
   "execution_count": 7,
   "metadata": {},
   "outputs": [
    {
     "data": {
      "text/plain": [
       "(1, 88584)"
      ]
     },
     "execution_count": 7,
     "metadata": {},
     "output_type": "execute_result"
    }
   ],
   "source": [
    "min(word_index.values()), max(word_index.values())"
   ]
  },
  {
   "cell_type": "code",
   "execution_count": 8,
   "metadata": {},
   "outputs": [
    {
     "data": {
      "text/plain": [
       "('the', 'and', 'a')"
      ]
     },
     "execution_count": 8,
     "metadata": {},
     "output_type": "execute_result"
    }
   ],
   "source": [
    "reverse_word_index[1], reverse_word_index[2], reverse_word_index[3]"
   ]
  },
  {
   "cell_type": "markdown",
   "metadata": {},
   "source": [
    "# One Hot Encoding "
   ]
  },
  {
   "cell_type": "code",
   "execution_count": 9,
   "metadata": {},
   "outputs": [],
   "source": [
    "import numpy as np\n",
    "\n",
    "\n",
    "def one_hot_encode(sequences: np.array, dim: int = 10000) -> np.array:\n",
    "    ret = np.zeros((sequences.shape[0], dim))\n",
    "    for i, s in enumerate(sequences):\n",
    "        ret[i, s] = 1 \n",
    "    return ret"
   ]
  },
  {
   "cell_type": "code",
   "execution_count": 10,
   "metadata": {},
   "outputs": [],
   "source": [
    "x_train = one_hot_encode(train_data)\n",
    "x_test = one_hot_encode(test_data)"
   ]
  },
  {
   "cell_type": "code",
   "execution_count": 11,
   "metadata": {},
   "outputs": [],
   "source": [
    "# the labels are already vectorized\n",
    "\n",
    "y_train = train_labels.astype('float32')\n",
    "y_test = test_labels.astype('float32')"
   ]
  },
  {
   "cell_type": "code",
   "execution_count": 12,
   "metadata": {},
   "outputs": [
    {
     "data": {
      "text/plain": [
       "((25000, 10000), (25000,))"
      ]
     },
     "execution_count": 12,
     "metadata": {},
     "output_type": "execute_result"
    }
   ],
   "source": [
    "x_train.shape, y_train.shape"
   ]
  },
  {
   "cell_type": "code",
   "execution_count": 13,
   "metadata": {},
   "outputs": [
    {
     "data": {
      "text/plain": [
       "((25000, 10000), (25000,))"
      ]
     },
     "execution_count": 13,
     "metadata": {},
     "output_type": "execute_result"
    }
   ],
   "source": [
    "x_test.shape, y_test.shape"
   ]
  },
  {
   "cell_type": "code",
   "execution_count": 18,
   "metadata": {},
   "outputs": [],
   "source": [
    "from keras import models\n",
    "from keras import layers\n",
    "\n",
    "model = models.Sequential()\n",
    "model.add(layers.Dense(32, activation='relu', input_shape=(10000,)))\n",
    "model.add(layers.Dense(32, activation='relu'))\n",
    "model.add(layers.Dense(1, activation='sigmoid'))"
   ]
  },
  {
   "cell_type": "code",
   "execution_count": 19,
   "metadata": {},
   "outputs": [
    {
     "name": "stdout",
     "output_type": "stream",
     "text": [
      "Train on 15000 samples, validate on 10000 samples\n",
      "Epoch 1/20\n",
      "15000/15000 [==============================] - 2s 144us/step - loss: 0.4894 - acc: 0.7840 - val_loss: 0.3481 - val_acc: 0.8737\n",
      "Epoch 2/20\n",
      "15000/15000 [==============================] - 1s 95us/step - loss: 0.2684 - acc: 0.9085 - val_loss: 0.2806 - val_acc: 0.8917\n",
      "Epoch 3/20\n",
      "15000/15000 [==============================] - 2s 135us/step - loss: 0.2025 - acc: 0.9298 - val_loss: 0.2798 - val_acc: 0.8875\n",
      "Epoch 4/20\n",
      "15000/15000 [==============================] - 2s 125us/step - loss: 0.1613 - acc: 0.9441 - val_loss: 0.2764 - val_acc: 0.8911\n",
      "Epoch 5/20\n",
      "15000/15000 [==============================] - 1s 99us/step - loss: 0.1248 - acc: 0.9587 - val_loss: 0.2939 - val_acc: 0.8872\n",
      "Epoch 6/20\n",
      "15000/15000 [==============================] - 2s 144us/step - loss: 0.1008 - acc: 0.9678 - val_loss: 0.3383 - val_acc: 0.8801\n",
      "Epoch 7/20\n",
      "15000/15000 [==============================] - 2s 117us/step - loss: 0.0804 - acc: 0.9753 - val_loss: 0.3486 - val_acc: 0.8814\n",
      "Epoch 8/20\n",
      "15000/15000 [==============================] - 2s 104us/step - loss: 0.0612 - acc: 0.9823 - val_loss: 0.3774 - val_acc: 0.8766\n",
      "Epoch 9/20\n",
      "15000/15000 [==============================] - 2s 104us/step - loss: 0.0498 - acc: 0.9855 - val_loss: 0.4115 - val_acc: 0.8736\n",
      "Epoch 10/20\n",
      "15000/15000 [==============================] - 2s 101us/step - loss: 0.0372 - acc: 0.9903 - val_loss: 0.4370 - val_acc: 0.8769\n",
      "Epoch 11/20\n",
      "15000/15000 [==============================] - 2s 122us/step - loss: 0.0295 - acc: 0.9922 - val_loss: 0.4709 - val_acc: 0.8746\n",
      "Epoch 12/20\n",
      "15000/15000 [==============================] - 2s 123us/step - loss: 0.0250 - acc: 0.9933 - val_loss: 0.5042 - val_acc: 0.8747\n",
      "Epoch 13/20\n",
      "15000/15000 [==============================] - 2s 135us/step - loss: 0.0123 - acc: 0.9981 - val_loss: 0.7186 - val_acc: 0.8407\n",
      "Epoch 14/20\n",
      "15000/15000 [==============================] - 2s 121us/step - loss: 0.0092 - acc: 0.9991 - val_loss: 0.5730 - val_acc: 0.8724\n",
      "Epoch 15/20\n",
      "15000/15000 [==============================] - 2s 138us/step - loss: 0.0167 - acc: 0.9949 - val_loss: 0.6065 - val_acc: 0.8721\n",
      "Epoch 16/20\n",
      "15000/15000 [==============================] - 2s 131us/step - loss: 0.0036 - acc: 0.9998 - val_loss: 0.6721 - val_acc: 0.8693\n",
      "Epoch 17/20\n",
      "15000/15000 [==============================] - 2s 116us/step - loss: 0.0153 - acc: 0.9952 - val_loss: 0.6846 - val_acc: 0.8695\n",
      "Epoch 18/20\n",
      "15000/15000 [==============================] - 2s 133us/step - loss: 0.0018 - acc: 0.9999 - val_loss: 0.7113 - val_acc: 0.8693\n",
      "Epoch 19/20\n",
      "15000/15000 [==============================] - 2s 118us/step - loss: 0.0014 - acc: 0.9999 - val_loss: 0.7588 - val_acc: 0.8684\n",
      "Epoch 20/20\n",
      "15000/15000 [==============================] - 2s 127us/step - loss: 0.0087 - acc: 0.9975 - val_loss: 0.7915 - val_acc: 0.8677\n"
     ]
    }
   ],
   "source": [
    "x_val = x_train[:10000]\n",
    "partial_x_train = x_train[10000:]\n",
    "\n",
    "y_val = y_train[:10000]\n",
    "partial_y_train = y_train[10000:]\n",
    "\n",
    "model.compile(optimizer='rmsprop',\n",
    "              loss='binary_crossentropy',\n",
    "              metrics=['acc'])\n",
    "\n",
    "history = model.fit(partial_x_train,\n",
    "                    partial_y_train,\n",
    "                    epochs=20,\n",
    "                    batch_size=512,\n",
    "                    validation_data=(x_val, y_val))"
   ]
  },
  {
   "cell_type": "code",
   "execution_count": 20,
   "metadata": {},
   "outputs": [
    {
     "name": "stdout",
     "output_type": "stream",
     "text": [
      "25000/25000 [==============================] - 14s 557us/step\n"
     ]
    }
   ],
   "source": [
    "results = model.evaluate(x_test, y_test)"
   ]
  },
  {
   "cell_type": "code",
   "execution_count": 21,
   "metadata": {},
   "outputs": [
    {
     "data": {
      "text/plain": [
       "[0.8701039808177948, 0.8519200086593628]"
      ]
     },
     "execution_count": 21,
     "metadata": {},
     "output_type": "execute_result"
    }
   ],
   "source": [
    "results"
   ]
  },
  {
   "cell_type": "code",
   "execution_count": 24,
   "metadata": {},
   "outputs": [
    {
     "name": "stdout",
     "output_type": "stream",
     "text": [
      "Epoch 1/4\n",
      "25000/25000 [==============================] - 2s 97us/step - loss: 0.4890 - accuracy: 0.8164\n",
      "Epoch 2/4\n",
      "25000/25000 [==============================] - 2s 80us/step - loss: 0.2812 - accuracy: 0.9041\n",
      "Epoch 3/4\n",
      "25000/25000 [==============================] - 2s 87us/step - loss: 0.2120 - accuracy: 0.9249\n",
      "Epoch 4/4\n",
      "25000/25000 [==============================] - 2s 66us/step - loss: 0.1774 - accuracy: 0.9371\n",
      "25000/25000 [==============================] - 14s 579us/step\n"
     ]
    },
    {
     "data": {
      "text/plain": [
       "[0.28837998891830446, 0.8852800130844116]"
      ]
     },
     "execution_count": 24,
     "metadata": {},
     "output_type": "execute_result"
    }
   ],
   "source": [
    "model = models.Sequential()\n",
    "model.add(layers.Dense(16, activation='relu', input_shape=(10000,)))\n",
    "model.add(layers.Dense(16, activation='relu'))\n",
    "model.add(layers.Dense(1, activation='sigmoid'))\n",
    "\n",
    "model.compile(optimizer='rmsprop',\n",
    "              loss='binary_crossentropy',\n",
    "              metrics=['accuracy'])\n",
    "\n",
    "model.fit(x_train, y_train, epochs=4, batch_size=512)\n",
    "results = model.evaluate(x_test, y_test)\n",
    "results"
   ]
  }
 ],
 "metadata": {
  "@webio": {
   "lastCommId": null,
   "lastKernelId": null
  },
  "kernelspec": {
   "display_name": "dl",
   "language": "python",
   "name": "dl"
  },
  "language_info": {
   "codemirror_mode": {
    "name": "ipython",
    "version": 3
   },
   "file_extension": ".py",
   "mimetype": "text/x-python",
   "name": "python",
   "nbconvert_exporter": "python",
   "pygments_lexer": "ipython3",
   "version": "3.7.7"
  }
 },
 "nbformat": 4,
 "nbformat_minor": 2
}
