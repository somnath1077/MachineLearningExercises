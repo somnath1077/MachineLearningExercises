{
 "cells": [
  {
   "cell_type": "markdown",
   "metadata": {},
   "source": [
    "## Goal\n",
    "\n",
    "The goal of this notebook is to develop a binary classifier of reviews on IMDB using the keras framework."
   ]
  },
  {
   "cell_type": "code",
   "execution_count": 1,
   "metadata": {},
   "outputs": [
    {
     "name": "stderr",
     "output_type": "stream",
     "text": [
      "Using TensorFlow backend.\n"
     ]
    }
   ],
   "source": [
    "from keras.datasets import imdb\n",
    "\n",
    "# The argument num_words=10000 means you’ll only keep the top 10,000 most frequently occurring words \n",
    "# in the training data. Rare words will be discarded. \n",
    "\n",
    "(train_data, train_labels), (test_data, test_labels) = imdb.load_data(num_words=10000)"
   ]
  },
  {
   "cell_type": "code",
   "execution_count": 2,
   "metadata": {},
   "outputs": [
    {
     "data": {
      "text/plain": [
       "25000"
      ]
     },
     "execution_count": 2,
     "metadata": {},
     "output_type": "execute_result"
    }
   ],
   "source": [
    "len(train_data)"
   ]
  },
  {
   "cell_type": "code",
   "execution_count": 3,
   "metadata": {},
   "outputs": [
    {
     "name": "stdout",
     "output_type": "stream",
     "text": [
      "[1, 14, 22, 16, 43, 530, 973, 1622, 1385, 65, 458, 4468, 66, 3941, 4, 173, 36, 256, 5, 25, 100, 43, 838, 112, 50, 670, 2, 9, 35, 480, 284, 5, 150, 4, 172, 112, 167, 2, 336, 385, 39, 4, 172, 4536, 1111, 17, 546, 38, 13, 447, 4, 192, 50, 16, 6, 147, 2025, 19, 14, 22, 4, 1920, 4613, 469, 4, 22, 71, 87, 12, 16, 43, 530, 38, 76, 15, 13, 1247, 4, 22, 17, 515, 17, 12, 16, 626, 18, 2, 5, 62, 386, 12, 8, 316, 8, 106, 5, 4, 2223, 5244, 16, 480, 66, 3785, 33, 4, 130, 12, 16, 38, 619, 5, 25, 124, 51, 36, 135, 48, 25, 1415, 33, 6, 22, 12, 215, 28, 77, 52, 5, 14, 407, 16, 82, 2, 8, 4, 107, 117, 5952, 15, 256, 4, 2, 7, 3766, 5, 723, 36, 71, 43, 530, 476, 26, 400, 317, 46, 7, 4, 2, 1029, 13, 104, 88, 4, 381, 15, 297, 98, 32, 2071, 56, 26, 141, 6, 194, 7486, 18, 4, 226, 22, 21, 134, 476, 26, 480, 5, 144, 30, 5535, 18, 51, 36, 28, 224, 92, 25, 104, 4, 226, 65, 16, 38, 1334, 88, 12, 16, 283, 5, 16, 4472, 113, 103, 32, 15, 16, 5345, 19, 178, 32]\n"
     ]
    }
   ],
   "source": [
    "print(train_data[0])"
   ]
  },
  {
   "cell_type": "code",
   "execution_count": 4,
   "metadata": {},
   "outputs": [
    {
     "name": "stdout",
     "output_type": "stream",
     "text": [
      "1\n"
     ]
    }
   ],
   "source": [
    "print(train_labels[0])"
   ]
  },
  {
   "cell_type": "code",
   "execution_count": 5,
   "metadata": {},
   "outputs": [
    {
     "data": {
      "text/plain": [
       "9999"
      ]
     },
     "execution_count": 5,
     "metadata": {},
     "output_type": "execute_result"
    }
   ],
   "source": [
    "max(max(seq) for seq in train_data)"
   ]
  },
  {
   "cell_type": "markdown",
   "metadata": {},
   "source": [
    "## Word Index"
   ]
  },
  {
   "cell_type": "code",
   "execution_count": 6,
   "metadata": {},
   "outputs": [
    {
     "data": {
      "text/plain": [
       "\"? this film was just brilliant casting location scenery story direction everyone's really suited the part they played and you could just imagine being there robert ? is an amazing actor and now the same being director ? father came from the same scottish island as myself so i loved the fact there was a real connection with this film the witty remarks throughout the film were great it was just brilliant so much that i bought the film as soon as it was released for ? and would recommend it to everyone to watch and the fly fishing was amazing really cried at the end it was so sad and you know what they say if you cry at a film it must have been good and this definitely was also ? to the two little boy's that played the ? of norman and paul they were just brilliant children are often left out of the ? list i think because the stars that play them all grown up are such a big profile for the whole film but these children are amazing and should be praised for what they have done don't you think the whole story was so lovely because it was true and was someone's life after all that was shared with us all\""
      ]
     },
     "execution_count": 6,
     "metadata": {},
     "output_type": "execute_result"
    }
   ],
   "source": [
    "word_index = imdb.get_word_index()\n",
    "reverse_word_index = dict([(value, key) for key, value in word_index.items()])\n",
    "\n",
    "decoded_review = ' '.join([reverse_word_index.get(w - 3, '?') for w in train_data[0]])\n",
    "\n",
    "decoded_review"
   ]
  },
  {
   "cell_type": "code",
   "execution_count": 7,
   "metadata": {},
   "outputs": [
    {
     "data": {
      "text/plain": [
       "(1, 88584)"
      ]
     },
     "execution_count": 7,
     "metadata": {},
     "output_type": "execute_result"
    }
   ],
   "source": [
    "min(word_index.values()), max(word_index.values())"
   ]
  },
  {
   "cell_type": "code",
   "execution_count": 8,
   "metadata": {},
   "outputs": [
    {
     "data": {
      "text/plain": [
       "('the', 'and', 'a')"
      ]
     },
     "execution_count": 8,
     "metadata": {},
     "output_type": "execute_result"
    }
   ],
   "source": [
    "reverse_word_index[1], reverse_word_index[2], reverse_word_index[3]"
   ]
  },
  {
   "cell_type": "markdown",
   "metadata": {},
   "source": [
    "# One Hot Encoding "
   ]
  },
  {
   "cell_type": "code",
   "execution_count": 9,
   "metadata": {},
   "outputs": [],
   "source": [
    "import numpy as np\n",
    "\n",
    "\n",
    "def one_hot_encode(sequences: np.array, dim: int = 10000) -> np.array:\n",
    "    ret = np.zeros((sequences.shape[0], dim))\n",
    "    for i, s in enumerate(sequences):\n",
    "        ret[i, s] = 1 \n",
    "    return ret"
   ]
  },
  {
   "cell_type": "code",
   "execution_count": 10,
   "metadata": {},
   "outputs": [],
   "source": [
    "x_train = one_hot_encode(train_data)\n",
    "x_test = one_hot_encode(test_data)"
   ]
  },
  {
   "cell_type": "code",
   "execution_count": 11,
   "metadata": {},
   "outputs": [],
   "source": [
    "# the labels are already vectorized\n",
    "\n",
    "y_train = train_labels.astype('float32')\n",
    "y_test = test_labels.astype('float32')"
   ]
  },
  {
   "cell_type": "code",
   "execution_count": 12,
   "metadata": {},
   "outputs": [
    {
     "data": {
      "text/plain": [
       "((25000, 10000), (25000,))"
      ]
     },
     "execution_count": 12,
     "metadata": {},
     "output_type": "execute_result"
    }
   ],
   "source": [
    "x_train.shape, y_train.shape"
   ]
  },
  {
   "cell_type": "code",
   "execution_count": 13,
   "metadata": {},
   "outputs": [
    {
     "data": {
      "text/plain": [
       "((25000, 10000), (25000,))"
      ]
     },
     "execution_count": 13,
     "metadata": {},
     "output_type": "execute_result"
    }
   ],
   "source": [
    "x_test.shape, y_test.shape"
   ]
  },
  {
   "cell_type": "markdown",
   "metadata": {},
   "source": [
    "# Model 1"
   ]
  },
  {
   "cell_type": "code",
   "execution_count": 14,
   "metadata": {},
   "outputs": [],
   "source": [
    "from keras import models\n",
    "from keras import layers\n",
    "\n",
    "model = models.Sequential()\n",
    "model.add(layers.Dense(16, activation='relu', input_shape=(10000,)))\n",
    "model.add(layers.Dense(16, activation='relu'))\n",
    "model.add(layers.Dense(1, activation='sigmoid'))"
   ]
  },
  {
   "cell_type": "code",
   "execution_count": 15,
   "metadata": {},
   "outputs": [
    {
     "name": "stdout",
     "output_type": "stream",
     "text": [
      "Train on 15000 samples, validate on 10000 samples\n",
      "Epoch 1/20\n",
      "15000/15000 [==============================] - 3s 194us/step - loss: 0.5105 - acc: 0.7809 - val_loss: 0.3843 - val_acc: 0.8670\n",
      "Epoch 2/20\n",
      "15000/15000 [==============================] - 2s 154us/step - loss: 0.2982 - acc: 0.9058 - val_loss: 0.3042 - val_acc: 0.8846\n",
      "Epoch 3/20\n",
      "15000/15000 [==============================] - 2s 135us/step - loss: 0.2186 - acc: 0.9280 - val_loss: 0.2771 - val_acc: 0.8903\n",
      "Epoch 4/20\n",
      "15000/15000 [==============================] - 2s 164us/step - loss: 0.1745 - acc: 0.9419 - val_loss: 0.2740 - val_acc: 0.8897\n",
      "Epoch 5/20\n",
      "15000/15000 [==============================] - 2s 141us/step - loss: 0.1394 - acc: 0.9548 - val_loss: 0.2826 - val_acc: 0.8870\n",
      "Epoch 6/20\n",
      "15000/15000 [==============================] - 2s 136us/step - loss: 0.1163 - acc: 0.9635 - val_loss: 0.3007 - val_acc: 0.8843\n",
      "Epoch 7/20\n",
      "15000/15000 [==============================] - 2s 147us/step - loss: 0.0964 - acc: 0.9703 - val_loss: 0.3288 - val_acc: 0.8772\n",
      "Epoch 8/20\n",
      "15000/15000 [==============================] - 2s 129us/step - loss: 0.0819 - acc: 0.9763 - val_loss: 0.3363 - val_acc: 0.8772\n",
      "Epoch 9/20\n",
      "15000/15000 [==============================] - 2s 135us/step - loss: 0.0668 - acc: 0.9829 - val_loss: 0.3772 - val_acc: 0.8760\n",
      "Epoch 10/20\n",
      "15000/15000 [==============================] - 3s 174us/step - loss: 0.0555 - acc: 0.9863 - val_loss: 0.3881 - val_acc: 0.8752\n",
      "Epoch 11/20\n",
      "15000/15000 [==============================] - 3s 173us/step - loss: 0.0435 - acc: 0.9901 - val_loss: 0.4230 - val_acc: 0.8678\n",
      "Epoch 12/20\n",
      "15000/15000 [==============================] - 3s 225us/step - loss: 0.0356 - acc: 0.9927 - val_loss: 0.4426 - val_acc: 0.8725 0s - loss: 0.0369 - \n",
      "Epoch 13/20\n",
      "15000/15000 [==============================] - 2s 121us/step - loss: 0.0290 - acc: 0.9943 - val_loss: 0.5259 - val_acc: 0.8643\n",
      "Epoch 14/20\n",
      "15000/15000 [==============================] - 2s 126us/step - loss: 0.0243 - acc: 0.9950 - val_loss: 0.5042 - val_acc: 0.8707\n",
      "Epoch 15/20\n",
      "15000/15000 [==============================] - 3s 167us/step - loss: 0.0193 - acc: 0.9963 - val_loss: 0.5330 - val_acc: 0.8706\n",
      "Epoch 16/20\n",
      "15000/15000 [==============================] - 4s 281us/step - loss: 0.0138 - acc: 0.9983 - val_loss: 0.5676 - val_acc: 0.8708\n",
      "Epoch 17/20\n",
      "15000/15000 [==============================] - 2s 144us/step - loss: 0.0110 - acc: 0.9985 - val_loss: 0.6032 - val_acc: 0.8698\n",
      "Epoch 18/20\n",
      "15000/15000 [==============================] - 2s 123us/step - loss: 0.0070 - acc: 0.9996 - val_loss: 0.6839 - val_acc: 0.8640\n",
      "Epoch 19/20\n",
      "15000/15000 [==============================] - 2s 143us/step - loss: 0.0097 - acc: 0.9975 - val_loss: 0.6852 - val_acc: 0.8656\n",
      "Epoch 20/20\n",
      "15000/15000 [==============================] - 2s 135us/step - loss: 0.0034 - acc: 0.9999 - val_loss: 0.7133 - val_acc: 0.8661\n"
     ]
    }
   ],
   "source": [
    "x_val = x_train[:10000]\n",
    "partial_x_train = x_train[10000:]\n",
    "\n",
    "y_val = y_train[:10000]\n",
    "partial_y_train = y_train[10000:]\n",
    "\n",
    "model.compile(optimizer='rmsprop',\n",
    "              loss='binary_crossentropy',\n",
    "              metrics=['acc'])\n",
    "\n",
    "history = model.fit(partial_x_train,\n",
    "                    partial_y_train,\n",
    "                    epochs=20,\n",
    "                    batch_size=512,\n",
    "                    validation_data=(x_val, y_val))"
   ]
  },
  {
   "cell_type": "code",
   "execution_count": 16,
   "metadata": {},
   "outputs": [
    {
     "name": "stdout",
     "output_type": "stream",
     "text": [
      "25000/25000 [==============================] - 10s 384us/step\n"
     ]
    }
   ],
   "source": [
    "results = model.evaluate(x_test, y_test)"
   ]
  },
  {
   "cell_type": "code",
   "execution_count": 17,
   "metadata": {},
   "outputs": [
    {
     "data": {
      "text/plain": [
       "[0.7760933557391166, 0.8502799868583679]"
      ]
     },
     "execution_count": 17,
     "metadata": {},
     "output_type": "execute_result"
    }
   ],
   "source": [
    "results"
   ]
  },
  {
   "cell_type": "code",
   "execution_count": 18,
   "metadata": {},
   "outputs": [
    {
     "name": "stdout",
     "output_type": "stream",
     "text": [
      "shape of layer 1: (10000, 16)\n",
      "shape of layer 2: (16,)\n",
      "shape of layer 3: (16, 16)\n",
      "shape of layer 4: (16,)\n",
      "shape of layer 5: (16, 1)\n",
      "shape of layer 6: (1,)\n"
     ]
    }
   ],
   "source": [
    "for i in range(len(model.get_weights())):\n",
    "    print(f'shape of layer {i + 1}: {model.get_weights()[i].shape}')"
   ]
  },
  {
   "cell_type": "code",
   "execution_count": 19,
   "metadata": {},
   "outputs": [
    {
     "data": {
      "text/plain": [
       "dict_keys(['val_loss', 'val_acc', 'loss', 'acc'])"
      ]
     },
     "execution_count": 19,
     "metadata": {},
     "output_type": "execute_result"
    }
   ],
   "source": [
    "history_dict = history.history\n",
    "history_dict.keys()"
   ]
  },
  {
   "cell_type": "code",
   "execution_count": 20,
   "metadata": {},
   "outputs": [
    {
     "data": {
      "text/plain": [
       "(20, 20)"
      ]
     },
     "execution_count": 20,
     "metadata": {},
     "output_type": "execute_result"
    }
   ],
   "source": [
    "len(history_dict['val_loss']), len(history_dict['acc'])"
   ]
  },
  {
   "cell_type": "markdown",
   "metadata": {},
   "source": [
    "## Training and Validation Loss"
   ]
  },
  {
   "cell_type": "code",
   "execution_count": 21,
   "metadata": {},
   "outputs": [],
   "source": [
    "import matplotlib.pyplot as plt\n",
    "import keras\n",
    "\n",
    "def train_val_loss(history: keras.models.Sequential.fit):\n",
    "    history_dict = history.history\n",
    "    loss_values = history_dict['loss']\n",
    "    val_loss_values = history_dict['val_loss']\n",
    "\n",
    "    epochs = range(1, len(loss_values) + 1)\n",
    "\n",
    "    plt.plot(epochs, loss_values, 'bo', label='Training loss')\n",
    "    plt.plot(epochs, val_loss_values, 'b', label='Validation loss')\n",
    "    plt.title('Training and validation loss')\n",
    "    plt.xlabel('Epochs')\n",
    "    plt.ylabel('Loss')\n",
    "    plt.legend()\n",
    "\n",
    "    plt.show()"
   ]
  },
  {
   "cell_type": "code",
   "execution_count": 22,
   "metadata": {},
   "outputs": [
    {
     "data": {
      "image/png": "[encoded data removed]",
      "text/plain": [
       "<Figure size 432x288 with 1 Axes>"
      ]
     },
     "metadata": {
      "needs_background": "light"
     },
     "output_type": "display_data"
    }
   ],
   "source": [
    "train_val_loss(history)"
   ]
  },
  {
   "cell_type": "markdown",
   "metadata": {},
   "source": [
    "## Training and Validation Accuracy"
   ]
  },
  {
   "cell_type": "code",
   "execution_count": 23,
   "metadata": {},
   "outputs": [],
   "source": [
    "def train_val_acc(history: keras.models.Sequential.fit):\n",
    "    history_dict = history.history\n",
    "    \n",
    "    plt.clf()  \n",
    "    try:\n",
    "        acc = history_dict['acc'] \n",
    "        val_acc = history_dict['val_acc']\n",
    "    except: \n",
    "        acc = history_dict['accuracy']\n",
    "        val_acc = history_dict['val_accuracy'] \n",
    "    \n",
    "    epochs = range(1, len(val_acc) + 1)\n",
    "    \n",
    "    plt.plot(epochs, acc, 'bo', label='Training acc')\n",
    "    plt.plot(epochs, val_acc, 'b', label='Validation acc')\n",
    "    plt.title('Training and validation accuracy')\n",
    "    plt.xlabel('Epochs')\n",
    "    plt.ylabel('Accuracy')\n",
    "    plt.legend()\n",
    "\n",
    "    plt.show()\n"
   ]
  },
  {
   "cell_type": "code",
   "execution_count": 24,
   "metadata": {},
   "outputs": [
    {
     "data": {
      "image/png": "[encoded data removed]",
      "text/plain": [
       "<Figure size 432x288 with 1 Axes>"
      ]
     },
     "metadata": {
      "needs_background": "light"
     },
     "output_type": "display_data"
    }
   ],
   "source": [
    "train_val_acc(history)"
   ]
  },
  {
   "cell_type": "markdown",
   "metadata": {},
   "source": [
    "# Model 2"
   ]
  },
  {
   "cell_type": "code",
   "execution_count": 25,
   "metadata": {},
   "outputs": [
    {
     "name": "stdout",
     "output_type": "stream",
     "text": [
      "Epoch 1/4\n",
      "25000/25000 [==============================] - 2s 98us/step - loss: 0.4464 - accuracy: 0.8171\n",
      "Epoch 2/4\n",
      "25000/25000 [==============================] - 3s 105us/step - loss: 0.2575 - accuracy: 0.9102\n",
      "Epoch 3/4\n",
      "25000/25000 [==============================] - 2s 86us/step - loss: 0.2008 - accuracy: 0.9285\n",
      "Epoch 4/4\n",
      "25000/25000 [==============================] - 3s 119us/step - loss: 0.1666 - accuracy: 0.9416\n",
      "25000/25000 [==============================] - 16s 629us/step\n"
     ]
    }
   ],
   "source": [
    "model = models.Sequential()\n",
    "model.add(layers.Dense(16, activation='relu', input_shape=(10000,)))\n",
    "model.add(layers.Dense(16, activation='relu'))\n",
    "model.add(layers.Dense(1, activation='sigmoid'))\n",
    "\n",
    "model.compile(optimizer='rmsprop',\n",
    "              loss='binary_crossentropy',\n",
    "              metrics=['accuracy'])\n",
    "\n",
    "model.fit(x_train, y_train, epochs=4, batch_size=512)\n",
    "results = model.evaluate(x_test, y_test)"
   ]
  },
  {
   "cell_type": "code",
   "execution_count": 26,
   "metadata": {},
   "outputs": [
    {
     "data": {
      "text/plain": [
       "[0.3206835863685608, 0.8723999857902527]"
      ]
     },
     "execution_count": 26,
     "metadata": {},
     "output_type": "execute_result"
    }
   ],
   "source": [
    "results"
   ]
  },
  {
   "cell_type": "code",
   "execution_count": 27,
   "metadata": {},
   "outputs": [
    {
     "data": {
      "text/plain": [
       "array([[0.17349511],\n",
       "       [0.9991447 ],\n",
       "       [0.4340467 ],\n",
       "       ...,\n",
       "       [0.06311914],\n",
       "       [0.03783348],\n",
       "       [0.45929694]], dtype=float32)"
      ]
     },
     "execution_count": 27,
     "metadata": {},
     "output_type": "execute_result"
    }
   ],
   "source": [
    "model.predict(x_test)"
   ]
  },
  {
   "cell_type": "markdown",
   "metadata": {},
   "source": [
    "# Model 3"
   ]
  },
  {
   "cell_type": "code",
   "execution_count": 28,
   "metadata": {},
   "outputs": [
    {
     "name": "stdout",
     "output_type": "stream",
     "text": [
      "Train on 15000 samples, validate on 10000 samples\n",
      "Epoch 1/20\n",
      "15000/15000 [==============================] - 4s 251us/step - loss: 0.4931 - accuracy: 0.7862 - val_loss: 0.3504 - val_accuracy: 0.8792\n",
      "Epoch 2/20\n",
      "15000/15000 [==============================] - 2s 151us/step - loss: 0.2764 - accuracy: 0.9049 - val_loss: 0.2868 - val_accuracy: 0.8901\n",
      "Epoch 3/20\n",
      "15000/15000 [==============================] - 2s 143us/step - loss: 0.2024 - accuracy: 0.9273 - val_loss: 0.2873 - val_accuracy: 0.8836\n",
      "Epoch 4/20\n",
      "15000/15000 [==============================] - 2s 133us/step - loss: 0.1547 - accuracy: 0.9485 - val_loss: 0.2827 - val_accuracy: 0.8886\n",
      "Epoch 5/20\n",
      "15000/15000 [==============================] - 3s 171us/step - loss: 0.1229 - accuracy: 0.9611 - val_loss: 0.2986 - val_accuracy: 0.8870\n",
      "Epoch 6/20\n",
      "15000/15000 [==============================] - 3s 209us/step - loss: 0.1004 - accuracy: 0.9677 - val_loss: 0.3169 - val_accuracy: 0.8836\n",
      "Epoch 7/20\n",
      "15000/15000 [==============================] - 2s 166us/step - loss: 0.0764 - accuracy: 0.9779 - val_loss: 0.4271 - val_accuracy: 0.8574\n",
      "Epoch 8/20\n",
      "15000/15000 [==============================] - 2s 131us/step - loss: 0.0602 - accuracy: 0.9830 - val_loss: 0.3632 - val_accuracy: 0.8788\n",
      "Epoch 9/20\n",
      "15000/15000 [==============================] - 4s 277us/step - loss: 0.0515 - accuracy: 0.9845 - val_loss: 0.4014 - val_accuracy: 0.8731\n",
      "Epoch 10/20\n",
      "15000/15000 [==============================] - 2s 158us/step - loss: 0.0374 - accuracy: 0.9903 - val_loss: 0.4280 - val_accuracy: 0.8707\n",
      "Epoch 11/20\n",
      "15000/15000 [==============================] - 2s 162us/step - loss: 0.0182 - accuracy: 0.9979 - val_loss: 0.4617 - val_accuracy: 0.8713\n",
      "Epoch 12/20\n",
      "15000/15000 [==============================] - 3s 168us/step - loss: 0.0205 - accuracy: 0.9957 - val_loss: 0.4967 - val_accuracy: 0.8737\n",
      "Epoch 13/20\n",
      "15000/15000 [==============================] - 2s 144us/step - loss: 0.0210 - accuracy: 0.9941 - val_loss: 0.5253 - val_accuracy: 0.8725\n",
      "Epoch 14/20\n",
      "15000/15000 [==============================] - 2s 158us/step - loss: 0.0060 - accuracy: 0.9998 - val_loss: 0.5629 - val_accuracy: 0.8707\n",
      "Epoch 15/20\n",
      "15000/15000 [==============================] - 2s 151us/step - loss: 0.0172 - accuracy: 0.9947 - val_loss: 0.6005 - val_accuracy: 0.8713\n",
      "Epoch 16/20\n",
      "15000/15000 [==============================] - 3s 202us/step - loss: 0.0029 - accuracy: 0.9999 - val_loss: 0.6294 - val_accuracy: 0.8703\n",
      "Epoch 17/20\n",
      "15000/15000 [==============================] - 3s 174us/step - loss: 0.0140 - accuracy: 0.9957 - val_loss: 0.6582 - val_accuracy: 0.8705\n",
      "Epoch 18/20\n",
      "15000/15000 [==============================] - 2s 155us/step - loss: 0.0017 - accuracy: 0.9999 - val_loss: 0.6855 - val_accuracy: 0.8698\n",
      "Epoch 19/20\n",
      "15000/15000 [==============================] - 3s 171us/step - loss: 0.0012 - accuracy: 0.9999 - val_loss: 0.7276 - val_accuracy: 0.8683\n",
      "Epoch 20/20\n",
      "15000/15000 [==============================] - 3s 185us/step - loss: 0.0111 - accuracy: 0.9969 - val_loss: 0.7778 - val_accuracy: 0.8696\n"
     ]
    }
   ],
   "source": [
    "model = models.Sequential()\n",
    "model.add(layers.Dense(32, activation='relu', input_shape=(10000,)))\n",
    "model.add(layers.Dense(32, activation='relu'))\n",
    "model.add(layers.Dense(1, activation='sigmoid'))\n",
    "\n",
    "model.compile(optimizer='rmsprop',\n",
    "              loss='binary_crossentropy',\n",
    "              metrics=['accuracy'])\n",
    "\n",
    "history = model.fit(partial_x_train,\n",
    "                    partial_y_train,\n",
    "                    epochs=20,\n",
    "                    batch_size=512,\n",
    "                    validation_data=(x_val, y_val))"
   ]
  },
  {
   "cell_type": "code",
   "execution_count": 29,
   "metadata": {},
   "outputs": [
    {
     "data": {
      "image/png": "[encoded data removed]",
      "text/plain": [
       "<Figure size 432x288 with 1 Axes>"
      ]
     },
     "metadata": {
      "needs_background": "light"
     },
     "output_type": "display_data"
    }
   ],
   "source": [
    "train_val_loss(history)"
   ]
  },
  {
   "cell_type": "code",
   "execution_count": 30,
   "metadata": {},
   "outputs": [
    {
     "data": {
      "image/png": "[encoded data removed]",
      "text/plain": [
       "<Figure size 432x288 with 1 Axes>"
      ]
     },
     "metadata": {
      "needs_background": "light"
     },
     "output_type": "display_data"
    }
   ],
   "source": [
    "train_val_acc(history)"
   ]
  },
  {
   "cell_type": "code",
   "execution_count": 31,
   "metadata": {},
   "outputs": [
    {
     "name": "stdout",
     "output_type": "stream",
     "text": [
      "Epoch 1/3\n",
      "25000/25000 [==============================] - 2s 87us/step - loss: 0.2263 - accuracy: 0.9475\n",
      "Epoch 2/3\n",
      "25000/25000 [==============================] - 3s 109us/step - loss: 0.1188 - accuracy: 0.9636\n",
      "Epoch 3/3\n",
      "25000/25000 [==============================] - 3s 118us/step - loss: 0.0819 - accuracy: 0.9742\n",
      "25000/25000 [==============================] - 20s 811us/step\n"
     ]
    },
    {
     "data": {
      "text/plain": [
       "[0.4458715937137604, 0.8612800240516663]"
      ]
     },
     "execution_count": 31,
     "metadata": {},
     "output_type": "execute_result"
    }
   ],
   "source": [
    "model.fit(x_train, y_train, epochs=3, batch_size=512)\n",
    "results = model.evaluate(x_test, y_test)\n",
    "\n",
    "results"
   ]
  },
  {
   "cell_type": "markdown",
   "metadata": {},
   "source": [
    "# Model 4"
   ]
  },
  {
   "cell_type": "code",
   "execution_count": 32,
   "metadata": {},
   "outputs": [
    {
     "name": "stdout",
     "output_type": "stream",
     "text": [
      "Train on 15000 samples, validate on 10000 samples\n",
      "Epoch 1/20\n",
      "15000/15000 [==============================] - 3s 177us/step - loss: 0.5509 - accuracy: 0.7741 - val_loss: 0.4297 - val_accuracy: 0.8324\n",
      "Epoch 2/20\n",
      "15000/15000 [==============================] - 2s 129us/step - loss: 0.3230 - accuracy: 0.8969 - val_loss: 0.3075 - val_accuracy: 0.8847\n",
      "Epoch 3/20\n",
      "15000/15000 [==============================] - 2s 142us/step - loss: 0.2288 - accuracy: 0.9259 - val_loss: 0.2917 - val_accuracy: 0.8843\n",
      "Epoch 4/20\n",
      "15000/15000 [==============================] - 3s 167us/step - loss: 0.1810 - accuracy: 0.9391 - val_loss: 0.3030 - val_accuracy: 0.8807\n",
      "Epoch 5/20\n",
      "15000/15000 [==============================] - 2s 148us/step - loss: 0.1415 - accuracy: 0.9518 - val_loss: 0.3101 - val_accuracy: 0.8791\n",
      "Epoch 6/20\n",
      "15000/15000 [==============================] - 2s 130us/step - loss: 0.1160 - accuracy: 0.9630 - val_loss: 0.3005 - val_accuracy: 0.8832\n",
      "Epoch 7/20\n",
      "15000/15000 [==============================] - 2s 129us/step - loss: 0.0966 - accuracy: 0.9690 - val_loss: 0.3333 - val_accuracy: 0.8793\n",
      "Epoch 8/20\n",
      "15000/15000 [==============================] - 2s 147us/step - loss: 0.0784 - accuracy: 0.9754 - val_loss: 0.3496 - val_accuracy: 0.8788\n",
      "Epoch 9/20\n",
      "15000/15000 [==============================] - 2s 141us/step - loss: 0.0616 - accuracy: 0.9826 - val_loss: 0.4081 - val_accuracy: 0.8703\n",
      "Epoch 10/20\n",
      "15000/15000 [==============================] - 3s 184us/step - loss: 0.0523 - accuracy: 0.9855 - val_loss: 0.4311 - val_accuracy: 0.8703\n",
      "Epoch 11/20\n",
      "15000/15000 [==============================] - 2s 143us/step - loss: 0.0428 - accuracy: 0.9889 - val_loss: 0.4495 - val_accuracy: 0.8749\n",
      "Epoch 12/20\n",
      "15000/15000 [==============================] - 3s 225us/step - loss: 0.0304 - accuracy: 0.9931 - val_loss: 0.4895 - val_accuracy: 0.8728\n",
      "Epoch 13/20\n",
      "15000/15000 [==============================] - 2s 150us/step - loss: 0.0277 - accuracy: 0.9923 - val_loss: 0.5313 - val_accuracy: 0.8730\n",
      "Epoch 14/20\n",
      "15000/15000 [==============================] - 2s 144us/step - loss: 0.0208 - accuracy: 0.9951 - val_loss: 0.5693 - val_accuracy: 0.8723\n",
      "Epoch 15/20\n",
      "15000/15000 [==============================] - 2s 144us/step - loss: 0.0101 - accuracy: 0.9989 - val_loss: 0.6248 - val_accuracy: 0.8681\n",
      "Epoch 16/20\n",
      "15000/15000 [==============================] - 2s 144us/step - loss: 0.0164 - accuracy: 0.9956 - val_loss: 0.6554 - val_accuracy: 0.8688\n",
      "Epoch 17/20\n",
      "15000/15000 [==============================] - 2s 122us/step - loss: 0.0078 - accuracy: 0.9987 - val_loss: 0.8329 - val_accuracy: 0.8498\n",
      "Epoch 18/20\n",
      "15000/15000 [==============================] - 2s 132us/step - loss: 0.0045 - accuracy: 0.9997 - val_loss: 0.7237 - val_accuracy: 0.8663\n",
      "Epoch 19/20\n",
      "15000/15000 [==============================] - 2s 140us/step - loss: 0.0114 - accuracy: 0.9969 - val_loss: 0.7706 - val_accuracy: 0.8668\n",
      "Epoch 20/20\n",
      "15000/15000 [==============================] - 3s 231us/step - loss: 0.0022 - accuracy: 0.9999 - val_loss: 0.7952 - val_accuracy: 0.8667\n"
     ]
    },
    {
     "data": {
      "image/png": "[encoded data removed]",
      "text/plain": [
       "<Figure size 432x288 with 1 Axes>"
      ]
     },
     "metadata": {
      "needs_background": "light"
     },
     "output_type": "display_data"
    },
    {
     "data": {
      "image/png": "[encoded data removed]",
      "text/plain": [
       "<Figure size 432x288 with 1 Axes>"
      ]
     },
     "metadata": {
      "needs_background": "light"
     },
     "output_type": "display_data"
    }
   ],
   "source": [
    "model = models.Sequential()\n",
    "model.add(layers.Dense(16, activation='relu', input_shape=(10000,)))\n",
    "model.add(layers.Dense(16, activation='relu'))\n",
    "model.add(layers.Dense(16, activation='relu'))\n",
    "model.add(layers.Dense(1, activation='sigmoid'))\n",
    "\n",
    "model.compile(optimizer='rmsprop',\n",
    "              loss='binary_crossentropy',\n",
    "              metrics=['accuracy'])\n",
    "\n",
    "history = model.fit(partial_x_train,\n",
    "                    partial_y_train,\n",
    "                    epochs=20,\n",
    "                    batch_size=512,\n",
    "                    validation_data=(x_val, y_val))\n",
    "\n",
    "train_val_loss(history)\n",
    "train_val_acc(history)"
   ]
  },
  {
   "cell_type": "code",
   "execution_count": 33,
   "metadata": {},
   "outputs": [
    {
     "name": "stdout",
     "output_type": "stream",
     "text": [
      "Epoch 1/3\n",
      "25000/25000 [==============================] - 3s 103us/step - loss: 0.2437 - accuracy: 0.9458\n",
      "Epoch 2/3\n",
      "25000/25000 [==============================] - 2s 96us/step - loss: 0.1361 - accuracy: 0.9596\n",
      "Epoch 3/3\n",
      "25000/25000 [==============================] - 2s 98us/step - loss: 0.1069 - accuracy: 0.9679\n",
      "25000/25000 [==============================] - 15s 597us/step\n"
     ]
    },
    {
     "data": {
      "text/plain": [
       "[0.4609512261724472, 0.8576800227165222]"
      ]
     },
     "execution_count": 33,
     "metadata": {},
     "output_type": "execute_result"
    }
   ],
   "source": [
    "model.fit(x_train, y_train, epochs=3, batch_size=512)\n",
    "results = model.evaluate(x_test, y_test)\n",
    "\n",
    "results"
   ]
  }
 ],
 "metadata": {
  "@webio": {
   "lastCommId": null,
   "lastKernelId": null
  },
  "kernelspec": {
   "display_name": "dl_python",
   "language": "python",
   "name": "dl_python"
  },
  "language_info": {
   "codemirror_mode": {
    "name": "ipython",
    "version": 3
   },
   "file_extension": ".py",
   "mimetype": "text/x-python",
   "name": "python",
   "nbconvert_exporter": "python",
   "pygments_lexer": "ipython3",
   "version": "3.8.3"
  }
 },
 "nbformat": 4,
 "nbformat_minor": 2
}
