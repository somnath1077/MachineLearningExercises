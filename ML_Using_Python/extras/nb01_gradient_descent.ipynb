{
 "cells": [
  {
   "cell_type": "code",
   "execution_count": 1,
   "id": "ea945139",
   "metadata": {},
   "outputs": [],
   "source": [
    "import numpy as np\n",
    "import pandas as pd\n",
    "import matplotlib.pyplot as plt"
   ]
  },
  {
   "cell_type": "markdown",
   "id": "150d0c24",
   "metadata": {},
   "source": [
    "## Create the Data"
   ]
  },
  {
   "cell_type": "code",
   "execution_count": 2,
   "id": "1bccd53a",
   "metadata": {},
   "outputs": [
    {
     "data": {
      "text/html": [
       "<div>\n",
       "<style scoped>\n",
       "    .dataframe tbody tr th:only-of-type {\n",
       "        vertical-align: middle;\n",
       "    }\n",
       "\n",
       "    .dataframe tbody tr th {\n",
       "        vertical-align: top;\n",
       "    }\n",
       "\n",
       "    .dataframe thead th {\n",
       "        text-align: right;\n",
       "    }\n",
       "</style>\n",
       "<table border=\"1\" class=\"dataframe\">\n",
       "  <thead>\n",
       "    <tr style=\"text-align: right;\">\n",
       "      <th></th>\n",
       "      <th>x</th>\n",
       "      <th>y</th>\n",
       "    </tr>\n",
       "  </thead>\n",
       "  <tbody>\n",
       "    <tr>\n",
       "      <th>0</th>\n",
       "      <td>88</td>\n",
       "      <td>89.372266</td>\n",
       "    </tr>\n",
       "    <tr>\n",
       "      <th>1</th>\n",
       "      <td>14</td>\n",
       "      <td>15.407012</td>\n",
       "    </tr>\n",
       "    <tr>\n",
       "      <th>2</th>\n",
       "      <td>70</td>\n",
       "      <td>74.132966</td>\n",
       "    </tr>\n",
       "    <tr>\n",
       "      <th>3</th>\n",
       "      <td>96</td>\n",
       "      <td>97.872430</td>\n",
       "    </tr>\n",
       "    <tr>\n",
       "      <th>4</th>\n",
       "      <td>65</td>\n",
       "      <td>67.918012</td>\n",
       "    </tr>\n",
       "  </tbody>\n",
       "</table>\n",
       "</div>"
      ],
      "text/plain": [
       "    x          y\n",
       "0  88  89.372266\n",
       "1  14  15.407012\n",
       "2  70  74.132966\n",
       "3  96  97.872430\n",
       "4  65  67.918012"
      ]
     },
     "execution_count": 2,
     "metadata": {},
     "output_type": "execute_result"
    }
   ],
   "source": [
    "SZ = 100\n",
    "a_star = 1\n",
    "b_star = 2\n",
    "\n",
    "x_vals = np.random.randint(0, SZ, SZ)\n",
    "y_vals = a_star * x_vals + b_star + np.random.normal(loc=0.0, scale=1.0, size=SZ) \n",
    "\n",
    "df = pd.DataFrame({'x': x_vals, 'y': y_vals})\n",
    "df.head()"
   ]
  },
  {
   "cell_type": "code",
   "execution_count": 3,
   "id": "c12abcfe",
   "metadata": {},
   "outputs": [
    {
     "data": {
      "text/plain": [
       "(100, 2)"
      ]
     },
     "execution_count": 3,
     "metadata": {},
     "output_type": "execute_result"
    }
   ],
   "source": [
    "df.shape"
   ]
  },
  {
   "cell_type": "code",
   "execution_count": 4,
   "id": "34d66887",
   "metadata": {},
   "outputs": [
    {
     "data": {
      "text/html": [
       "<div>\n",
       "<style scoped>\n",
       "    .dataframe tbody tr th:only-of-type {\n",
       "        vertical-align: middle;\n",
       "    }\n",
       "\n",
       "    .dataframe tbody tr th {\n",
       "        vertical-align: top;\n",
       "    }\n",
       "\n",
       "    .dataframe thead th {\n",
       "        text-align: right;\n",
       "    }\n",
       "</style>\n",
       "<table border=\"1\" class=\"dataframe\">\n",
       "  <thead>\n",
       "    <tr style=\"text-align: right;\">\n",
       "      <th></th>\n",
       "      <th>x</th>\n",
       "      <th>y</th>\n",
       "      <th>actual_output</th>\n",
       "    </tr>\n",
       "  </thead>\n",
       "  <tbody>\n",
       "    <tr>\n",
       "      <th>0</th>\n",
       "      <td>88</td>\n",
       "      <td>89.372266</td>\n",
       "      <td>90</td>\n",
       "    </tr>\n",
       "    <tr>\n",
       "      <th>1</th>\n",
       "      <td>14</td>\n",
       "      <td>15.407012</td>\n",
       "      <td>16</td>\n",
       "    </tr>\n",
       "    <tr>\n",
       "      <th>2</th>\n",
       "      <td>70</td>\n",
       "      <td>74.132966</td>\n",
       "      <td>72</td>\n",
       "    </tr>\n",
       "    <tr>\n",
       "      <th>3</th>\n",
       "      <td>96</td>\n",
       "      <td>97.872430</td>\n",
       "      <td>98</td>\n",
       "    </tr>\n",
       "    <tr>\n",
       "      <th>4</th>\n",
       "      <td>65</td>\n",
       "      <td>67.918012</td>\n",
       "      <td>67</td>\n",
       "    </tr>\n",
       "  </tbody>\n",
       "</table>\n",
       "</div>"
      ],
      "text/plain": [
       "    x          y  actual_output\n",
       "0  88  89.372266             90\n",
       "1  14  15.407012             16\n",
       "2  70  74.132966             72\n",
       "3  96  97.872430             98\n",
       "4  65  67.918012             67"
      ]
     },
     "execution_count": 4,
     "metadata": {},
     "output_type": "execute_result"
    }
   ],
   "source": [
    "df['actual_output'] = a_star * df['x'] + b_star\n",
    "df.head()"
   ]
  },
  {
   "cell_type": "code",
   "execution_count": 5,
   "id": "00e651a3",
   "metadata": {},
   "outputs": [
    {
     "data": {
      "text/plain": [
       "<matplotlib.collections.PathCollection at 0x7f3e09fc4400>"
      ]
     },
     "execution_count": 5,
     "metadata": {},
     "output_type": "execute_result"
    },
    {
     "data": {
      "image/png": "[encoded data removed]",
      "text/plain": [
       "<Figure size 432x288 with 1 Axes>"
      ]
     },
     "metadata": {
      "needs_background": "light"
     },
     "output_type": "display_data"
    }
   ],
   "source": [
    "fig, ax = plt.subplots(1, 1)\n",
    "ax.scatter(df['x'], df['y'], c='r', label='noisy output')\n",
    "ax.scatter(df['x'], df['actual_output'], c='b', label='actual output',alpha=0.2)"
   ]
  },
  {
   "cell_type": "markdown",
   "id": "50cd1f04",
   "metadata": {},
   "source": [
    "## The Loss Function and Gradient\n",
    "\n",
    "We assume that the loss function is the standard mean squared loss. \n",
    "$$\n",
    "    \\mathscr{L}(a, b) = \\frac{1}{2M} \\sum_{i = 1}^{M} (a x_i + b - y_i)^2\n",
    "$$\n",
    "The gradient $\\nabla_{a, b} \\mathscr{L}$ is then given by:\n",
    "$$\n",
    "    \\nabla_{a, b} \\mathscr{L} = \n",
    "        \\left ( \n",
    "                \\begin{array}{c}\n",
    "                    \\frac{1}{M} \\sum_{i = 1}^{M} (a x_i + b - y_i) x_i \\\\\n",
    "                    \\frac{1}{M} \\sum_{i = 1}^{M} (a x_i + b - y_i)\n",
    "                \\end{array}\n",
    "        \\right )\n",
    "$$\n",
    "Initially,let's look at vanilla gradient descent. It uses the entire data set to compute the gradient and then updates the parameters $a$ and $b$ as follows:\n",
    "$$\n",
    "\\begin{align*}\n",
    "    a_{t + 1} & = a_{t} - \\eta \\frac{1}{M} \\sum_{i = 1}^{M} (a_{t} x_i + b_{t} - y_i) x_i \\\\\n",
    "    b_{t + 1} & = b_{t} - \\eta \\frac{1}{M} \\sum_{i = 1}^{M} (a_{t} x_i + b_{t} - y_i).\n",
    "\\end{align*}\n",
    "$$\n",
    "Here $\\eta$ is the learning rate."
   ]
  },
  {
   "cell_type": "code",
   "execution_count": 6,
   "id": "6515f756",
   "metadata": {},
   "outputs": [],
   "source": [
    "def loss(a: float, b: float, data_points: np.array):\n",
    "    loss = 0.5 * np.mean(np.square(a * data_points[:, 0] + b - data_points[:, 1]))\n",
    "    return loss\n",
    "\n",
    "def grad(a: float, b: float, data_points: np.array, eta=1e-6):\n",
    "    \"\"\"\n",
    "        Assume that data_points is an np.array with shape (-1, 2)\n",
    "    \"\"\"\n",
    "    m = len(data_points)\n",
    "    if m == 0:\n",
    "        return a, b\n",
    "    \n",
    "    \n",
    "    assert data_points.shape[1] == 2\n",
    "    \n",
    "    grad_a = np.mean((a * data_points[:, 0] + b - data_points[:, 1]) * data_points[:, 0])\n",
    "    grad_b = np.mean(a * data_points[:, 0] + b - data_points[:, 1])\n",
    "    \n",
    "    a_new = a - eta * grad_a\n",
    "    b_new = b - eta * grad_b\n",
    "    \n",
    "    return a_new, b_new"
   ]
  },
  {
   "cell_type": "code",
   "execution_count": 7,
   "id": "db355ad3",
   "metadata": {},
   "outputs": [],
   "source": [
    "def grad_desc(a: float, b: float, data_points: np.array, num_iter=100):\n",
    "    history = np.zeros(shape=(num_iter + 1, 3))\n",
    "    history[0, :] = [a, b, loss(a, b, data_points)]\n",
    "    \n",
    "    for idx in range(num_iter):\n",
    "        a, b = grad(a, b, data_points)\n",
    "        history[idx + 1, :] = [a, b, loss(a, b, data_points)] \n",
    "    return history\n",
    "\n",
    "def stochastic_grad_desc(a: float, b: float, \n",
    "                         data_points: np.array, \n",
    "                         num_iter=100):\n",
    "    history = np.zeros(shape=(num_iter + 1, 3))\n",
    "    history[0, :] = [a, b, loss(a, b, data_points)]\n",
    "    \n",
    "    np.random.shuffle(data_points)\n",
    "    \n",
    "    for idx in range(num_iter):\n",
    "        for l in range(len(data_points)):\n",
    "            a, b = grad(a, b, data_points[l, :].reshape(-1, 2))\n",
    "        history[idx + 1, :] = [a, b, loss(a, b, data_points)]\n",
    "    \n",
    "    return history"
   ]
  },
  {
   "cell_type": "code",
   "execution_count": 8,
   "id": "797a8d14",
   "metadata": {},
   "outputs": [
    {
     "data": {
      "text/plain": [
       "array([ 1.04849167, -0.98227191,  2.02137527])"
      ]
     },
     "execution_count": 8,
     "metadata": {},
     "output_type": "execute_result"
    }
   ],
   "source": [
    "hist1 = grad_desc(a=0.5, b=-1, data_points=df[['x', 'y']].values, num_iter=10000)\n",
    "hist1[-1]"
   ]
  },
  {
   "cell_type": "code",
   "execution_count": 9,
   "id": "16b5371d",
   "metadata": {},
   "outputs": [
    {
     "data": {
      "text/plain": [
       "array([ 1.03604855, -0.1855197 ,  1.37570484])"
      ]
     },
     "execution_count": 9,
     "metadata": {},
     "output_type": "execute_result"
    }
   ],
   "source": [
    "hist2 = stochastic_grad_desc(a=0.5, b=-1, data_points=df[['x', 'y']].values, num_iter=10000)\n",
    "hist2[-1]"
   ]
  },
  {
   "cell_type": "markdown",
   "id": "b0f153f1",
   "metadata": {},
   "source": [
    "## Gradient Descent with Momentum\n",
    "\n",
    "In the momentum based method, one keeps track of the \"old\" gradient. The update to the parameters involves adding a pre-defined contribution of the old gradient to the new gradient. If the old and the new gradient vectors point in the same direction, this will accelerate the parameter changes; if they point in different directions, this will slow down the parameter change process and prevent fluctuations. \n",
    "\n",
    "This involves using a variable to keep track of the old gradients:\n",
    "$$\n",
    "\\begin{align*}\n",
    "    v_t & = \\gamma v_{t - 1} + \\nabla_{a, b} \\mathscr{L}(a, b) \\\\\n",
    "    a_{t + 1} & = a_{t} - \\eta v_t[0] \\\\\n",
    "    b_{t + 1} & = b_{t} - \\eta v_t[1],\n",
    "\\end{align*}\n",
    "$$\n",
    "where $\\gamma \\in [0, 1]$; $v_t[0]$ and $v_t[1]$ are, respectively, the gradient contributions for parameters $a$ and $b$. \n",
    "\n",
    "In the implementation below, we use a \"second-order\" momentum method. This consists of preserving the gradient information from two consecutive time steps from the past. The contribution of each time step is adjusted independently. \n",
    "$$\n",
    "\\begin{align*}\n",
    "    v_t & = \\gamma_2 v_{t - 2} + \\gamma_1 v_{t - 1} + \\nabla_{a, b} \\mathscr{L}(a, b) \\\\\n",
    "    a_{t + 1} & = a_{t} - \\eta v_t[0] \\\\\n",
    "    b_{t + 1} & = b_{t} - \\eta v_t[1].\n",
    "\\end{align*}\n",
    "$$\n",
    "Here $\\gamma_2$ and $\\gamma_1$ are the weighting factors for $v_{t - 2}$ and $v_{t - 1}$, respectively. "
   ]
  },
  {
   "cell_type": "code",
   "execution_count": 10,
   "id": "723cb1cb",
   "metadata": {},
   "outputs": [],
   "source": [
    "def momentum_grad(a: float, \n",
    "                  b: float, \n",
    "                  v: np.array, \n",
    "                  data_points: np.array, \n",
    "                  gamma_1=0.7,\n",
    "                  gamma_2=0.2,\n",
    "                  eta=1e-6):\n",
    "    \"\"\"\n",
    "        Assume that data_points is an np.array with shape (-1, 2)\n",
    "        v is an np.array with shape (2, 2): \n",
    "            the first column gives the values of the momentum two time units before; \n",
    "            the second column gives the values of the momentum one time unit before \n",
    "    \"\"\"\n",
    "    m = len(data_points)\n",
    "    if m == 0:\n",
    "        return a, b\n",
    "    \n",
    "    assert data_points.shape[1] == 2\n",
    "    assert v.shape == (2, 2)\n",
    "    \n",
    "    grad_a = np.mean((a * data_points[:, 0] + b - data_points[:, 1]) * data_points[:, 0])\n",
    "    grad_b = np.mean(a * data_points[:, 0] + b - data_points[:, 1])\n",
    "    \n",
    "    v_a = gamma_2 * v[0, 0] + gamma_1 * v[0, 1] + grad_a\n",
    "    v_b = gamma_2 * v[1, 0] + gamma_1 * v[1, 1] + grad_b\n",
    "   \n",
    "    a_new = a - eta * v_a\n",
    "    b_new = b - eta * v_b\n",
    "    \n",
    "    # update v\n",
    "    v[0, 0] = v[0, 1]\n",
    "    v[1, 0] = v[1, 1]\n",
    "    v[0, 1] = v_a\n",
    "    v[1, 1] = v_b\n",
    "    \n",
    "    return a_new, b_new, v\n",
    "\n",
    "def momentum_grad_driver(a: float, b: float, \n",
    "                         data_points: np.array, \n",
    "                         num_iter=100):\n",
    "    history = np.zeros(shape=(num_iter + 1, 3), dtype=np.float32)\n",
    "    history[0, :] = [a, b, loss(a, b, data_points)]\n",
    "    \n",
    "    v = np.array([[0, 0], [0, 0]], dtype=np.float)\n",
    "    eta =  1e-5\n",
    "    \n",
    "    for idx in range(num_iter):\n",
    "        for l in range(len(data_points)):\n",
    "            a, b, v = momentum_grad(a, b, v, data_points[l, :].reshape(-1, 2), eta=eta)\n",
    "        \n",
    "        history[idx + 1, :] = [a, b, loss(a, b, data_points)]\n",
    "    \n",
    "    return history"
   ]
  },
  {
   "cell_type": "code",
   "execution_count": 11,
   "id": "42e6f2c4",
   "metadata": {},
   "outputs": [
    {
     "data": {
      "text/plain": [
       "array([0.9904514 , 2.3728805 , 0.52128166], dtype=float32)"
      ]
     },
     "execution_count": 11,
     "metadata": {},
     "output_type": "execute_result"
    }
   ],
   "source": [
    "hist3 = momentum_grad_driver(a=0.5, b=-1, data_points=df[['x', 'y']].values, num_iter=10000)\n",
    "hist3[-1]"
   ]
  },
  {
   "cell_type": "code",
   "execution_count": 12,
   "id": "e9b60bcc",
   "metadata": {},
   "outputs": [
    {
     "data": {
      "image/png": "[encoded data removed]",
      "text/plain": [
       "<Figure size 720x432 with 3 Axes>"
      ]
     },
     "metadata": {
      "needs_background": "light"
     },
     "output_type": "display_data"
    }
   ],
   "source": [
    "fig, (ax0, ax1, ax2) = plt.subplots(1, 3, figsize=(10, 6))\n",
    "\n",
    "s = min(hist1.shape[0], hist2.shape[0], hist3.shape[0])\n",
    "\n",
    "for idx in range(s):\n",
    "    y1_vals = [hist1[idx, 0] * x + hist1[idx, 1] for x in x_vals]\n",
    "    ax0.plot(x_vals, y1_vals, 'r', alpha=0.2)\n",
    "    \n",
    "    y2_vals = [hist2[idx, 0] * x + hist2[idx, 1] for x in x_vals]\n",
    "    ax1.plot(x_vals, y2_vals, 'b', alpha=0.2)\n",
    "    \n",
    "    y3_vals = [hist3[idx, 0] * x + hist3[idx, 1] for x in x_vals]\n",
    "    ax2.plot(x_vals, y3_vals, 'b', alpha=0.2)\n",
    "\n",
    "ax0.set_title('Gradient Descent')\n",
    "ax1.set_title('Stochastic GD')\n",
    "ax2.set_title('GD with Momentum')\n",
    "\n",
    "for ax in [ax0, ax1, ax2]:\n",
    "    ax.set_xlabel(r'$x$');\n",
    "    ax.set_ylabel(r'$y$');"
   ]
  }
 ],
 "metadata": {
  "kernelspec": {
   "display_name": "dl",
   "language": "python",
   "name": "dl"
  },
  "language_info": {
   "codemirror_mode": {
    "name": "ipython",
    "version": 3
   },
   "file_extension": ".py",
   "mimetype": "text/x-python",
   "name": "python",
   "nbconvert_exporter": "python",
   "pygments_lexer": "ipython3",
   "version": "3.8.10"
  }
 },
 "nbformat": 4,
 "nbformat_minor": 5
}
