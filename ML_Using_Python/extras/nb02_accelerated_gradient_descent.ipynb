{
 "cells": [
  {
   "cell_type": "code",
   "execution_count": 1,
   "id": "a2e21884",
   "metadata": {},
   "outputs": [],
   "source": [
    "import numpy as np\n",
    "import pandas as pd\n",
    "import matplotlib.pyplot as plt"
   ]
  },
  {
   "cell_type": "markdown",
   "id": "1cbc5e48",
   "metadata": {},
   "source": [
    "## Create Data"
   ]
  },
  {
   "cell_type": "code",
   "execution_count": 2,
   "id": "8561dfba",
   "metadata": {},
   "outputs": [
    {
     "data": {
      "text/html": [
       "<div>\n",
       "<style scoped>\n",
       "    .dataframe tbody tr th:only-of-type {\n",
       "        vertical-align: middle;\n",
       "    }\n",
       "\n",
       "    .dataframe tbody tr th {\n",
       "        vertical-align: top;\n",
       "    }\n",
       "\n",
       "    .dataframe thead th {\n",
       "        text-align: right;\n",
       "    }\n",
       "</style>\n",
       "<table border=\"1\" class=\"dataframe\">\n",
       "  <thead>\n",
       "    <tr style=\"text-align: right;\">\n",
       "      <th></th>\n",
       "      <th>x</th>\n",
       "      <th>y</th>\n",
       "    </tr>\n",
       "  </thead>\n",
       "  <tbody>\n",
       "    <tr>\n",
       "      <th>0</th>\n",
       "      <td>40</td>\n",
       "      <td>41.188325</td>\n",
       "    </tr>\n",
       "    <tr>\n",
       "      <th>1</th>\n",
       "      <td>24</td>\n",
       "      <td>26.318545</td>\n",
       "    </tr>\n",
       "    <tr>\n",
       "      <th>2</th>\n",
       "      <td>20</td>\n",
       "      <td>22.057602</td>\n",
       "    </tr>\n",
       "    <tr>\n",
       "      <th>3</th>\n",
       "      <td>18</td>\n",
       "      <td>21.279635</td>\n",
       "    </tr>\n",
       "    <tr>\n",
       "      <th>4</th>\n",
       "      <td>76</td>\n",
       "      <td>77.562235</td>\n",
       "    </tr>\n",
       "  </tbody>\n",
       "</table>\n",
       "</div>"
      ],
      "text/plain": [
       "    x          y\n",
       "0  40  41.188325\n",
       "1  24  26.318545\n",
       "2  20  22.057602\n",
       "3  18  21.279635\n",
       "4  76  77.562235"
      ]
     },
     "execution_count": 2,
     "metadata": {},
     "output_type": "execute_result"
    }
   ],
   "source": [
    "SZ = 100\n",
    "a_star = 1\n",
    "b_star = 2\n",
    "\n",
    "x_vals = np.random.randint(0, SZ, SZ)\n",
    "y_vals = a_star * x_vals + b_star + np.random.normal(loc=0.0, scale=1.0, size=SZ) \n",
    "\n",
    "df = pd.DataFrame({'x': x_vals, 'y': y_vals})\n",
    "df.head()"
   ]
  },
  {
   "cell_type": "code",
   "execution_count": 3,
   "id": "746e1513",
   "metadata": {},
   "outputs": [
    {
     "data": {
      "text/html": [
       "<div>\n",
       "<style scoped>\n",
       "    .dataframe tbody tr th:only-of-type {\n",
       "        vertical-align: middle;\n",
       "    }\n",
       "\n",
       "    .dataframe tbody tr th {\n",
       "        vertical-align: top;\n",
       "    }\n",
       "\n",
       "    .dataframe thead th {\n",
       "        text-align: right;\n",
       "    }\n",
       "</style>\n",
       "<table border=\"1\" class=\"dataframe\">\n",
       "  <thead>\n",
       "    <tr style=\"text-align: right;\">\n",
       "      <th></th>\n",
       "      <th>x</th>\n",
       "      <th>y</th>\n",
       "      <th>actual_output</th>\n",
       "    </tr>\n",
       "  </thead>\n",
       "  <tbody>\n",
       "    <tr>\n",
       "      <th>0</th>\n",
       "      <td>40</td>\n",
       "      <td>41.188325</td>\n",
       "      <td>42</td>\n",
       "    </tr>\n",
       "    <tr>\n",
       "      <th>1</th>\n",
       "      <td>24</td>\n",
       "      <td>26.318545</td>\n",
       "      <td>26</td>\n",
       "    </tr>\n",
       "    <tr>\n",
       "      <th>2</th>\n",
       "      <td>20</td>\n",
       "      <td>22.057602</td>\n",
       "      <td>22</td>\n",
       "    </tr>\n",
       "    <tr>\n",
       "      <th>3</th>\n",
       "      <td>18</td>\n",
       "      <td>21.279635</td>\n",
       "      <td>20</td>\n",
       "    </tr>\n",
       "    <tr>\n",
       "      <th>4</th>\n",
       "      <td>76</td>\n",
       "      <td>77.562235</td>\n",
       "      <td>78</td>\n",
       "    </tr>\n",
       "  </tbody>\n",
       "</table>\n",
       "</div>"
      ],
      "text/plain": [
       "    x          y  actual_output\n",
       "0  40  41.188325             42\n",
       "1  24  26.318545             26\n",
       "2  20  22.057602             22\n",
       "3  18  21.279635             20\n",
       "4  76  77.562235             78"
      ]
     },
     "execution_count": 3,
     "metadata": {},
     "output_type": "execute_result"
    }
   ],
   "source": [
    "df['actual_output'] = a_star * df['x'] + b_star\n",
    "df.head()"
   ]
  },
  {
   "cell_type": "code",
   "execution_count": 4,
   "id": "1ae69630",
   "metadata": {},
   "outputs": [
    {
     "data": {
      "text/plain": [
       "<matplotlib.collections.PathCollection at 0x7fe589644040>"
      ]
     },
     "execution_count": 4,
     "metadata": {},
     "output_type": "execute_result"
    },
    {
     "data": {
      "image/png": "[encoded data removed]",
      "text/plain": [
       "<Figure size 432x288 with 1 Axes>"
      ]
     },
     "metadata": {
      "needs_background": "light"
     },
     "output_type": "display_data"
    }
   ],
   "source": [
    "fig, ax = plt.subplots(1, 1)\n",
    "ax.scatter(df['x'], df['y'], c='r', label='noisy output')\n",
    "ax.scatter(df['x'], df['actual_output'], c='b', label='actual output',alpha=0.2)"
   ]
  },
  {
   "cell_type": "markdown",
   "id": "b86abbd6",
   "metadata": {},
   "source": [
    "## The Loss Function and Gradient\n",
    "\n",
    "We assume that the loss function is the standard mean squared loss. \n",
    "$$\n",
    "    \\mathscr{L}(a, b) = \\frac{1}{2M} \\sum_{i = 1}^{M} (a x_i + b - y_i)^2\n",
    "$$\n",
    "The gradient $\\nabla_{a, b} \\mathscr{L}$ is then given by:\n",
    "$$\n",
    "    \\nabla_{a, b} \\mathscr{L} = \n",
    "        \\left ( \n",
    "                \\begin{array}{c}\n",
    "                    \\frac{1}{M} \\sum_{i = 1}^{M} (a x_i + b - y_i) x_i \\\\\n",
    "                    \\frac{1}{M} \\sum_{i = 1}^{M} (a x_i + b - y_i)\n",
    "                \\end{array}\n",
    "        \\right )\n",
    "$$\n",
    "Initially,let's look at vanilla gradient descent. It uses the entire data set to compute the gradient and then updates the parameters $a$ and $b$ as follows:\n",
    "$$\n",
    "\\begin{align*}\n",
    "    a_{t + 1} & = a_{t} - \\eta \\frac{1}{M} \\sum_{i = 1}^{M} (a_{t} x_i + b_{t} - y_i) x_i \\\\\n",
    "    b_{t + 1} & = b_{t} - \\eta \\frac{1}{M} \\sum_{i = 1}^{M} (a_{t} x_i + b_{t} - y_i).\n",
    "\\end{align*}\n",
    "$$\n",
    "Here $\\eta$ is the learning rate."
   ]
  },
  {
   "cell_type": "markdown",
   "id": "168daf25",
   "metadata": {},
   "source": [
    "## Acclerated Gradient Descent\n",
    "\n"
   ]
  },
  {
   "cell_type": "code",
   "execution_count": 13,
   "id": "a1eb89e8",
   "metadata": {},
   "outputs": [],
   "source": [
    "def loss(a: float, b: float, data_points: np.array):\n",
    "    loss = 0.5 * np.mean(np.square(a * data_points[:, 0] + b - data_points[:, 1]))\n",
    "    return loss\n",
    "\n",
    "def nesterov_grad(a: float, \n",
    "                  b: float, \n",
    "                  v: np.array, \n",
    "                  data_points: np.array, \n",
    "                  gamma=0.9,\n",
    "                  eta=1e-6):\n",
    "    \"\"\"\n",
    "        Assume that data_points is an np.array with shape (-1, 1)\n",
    "        v is an np.array with shape (2, 1)\n",
    "    \"\"\"\n",
    "    m = len(data_points)\n",
    "    if m == 0:\n",
    "        return a, b\n",
    "    \n",
    "    assert data_points.shape[1] == 2\n",
    "    assert v.shape == (2, 1)\n",
    "    \n",
    "    # calculate look-ahead\n",
    "    a_la = a - gamma * v[0, 0]\n",
    "    b_la = b - gamma * v[1, 0]\n",
    "    \n",
    "    # calculate gradients based on look-ahead\n",
    "    grad_a = np.mean((a_la * data_points[:, 0] + b_la - data_points[:, 1]) * data_points[:, 0])\n",
    "    grad_b = np.mean(a_la * data_points[:, 0] + b_la - data_points[:, 1])\n",
    "    \n",
    "    # calculate new momentum values\n",
    "    v_a = gamma * v[0, 0] + eta * grad_a\n",
    "    v_b = gamma * v[1, 0] + eta * grad_b\n",
    "   \n",
    "    a_new = a - v_a\n",
    "    b_new = b - v_b\n",
    "    \n",
    "    # update v\n",
    "    v[0, 0] = v_a\n",
    "    v[1, 0] = v_b\n",
    "    \n",
    "    return a_new, b_new, v\n",
    "\n",
    "def nesterov_grad_driver(a: float, b: float, \n",
    "                         data_points: np.array, \n",
    "                         num_iter=100):\n",
    "    history = np.zeros(shape=(num_iter + 1, 3), dtype=np.float32)\n",
    "    history[0, :] = [a, b, loss(a, b, data_points)]\n",
    "    \n",
    "    v = np.array([[0], [0]], dtype=np.float)\n",
    "    eta =  1e-5\n",
    "    \n",
    "    for idx in range(num_iter):\n",
    "        for l in range(len(data_points)):\n",
    "            a, b, v = nesterov_grad(a, b, v, data_points[l, :].reshape(-1, 2), eta=eta)\n",
    "        \n",
    "        history[idx + 1, :] = [a, b, loss(a, b, data_points)]\n",
    "    \n",
    "    return history"
   ]
  },
  {
   "cell_type": "code",
   "execution_count": 14,
   "id": "677d36b9",
   "metadata": {},
   "outputs": [],
   "source": [
    "hist1 = nesterov_grad_driver(a=0.5, b=-1, data_points=df[['x', 'y']].values, num_iter=10000)"
   ]
  },
  {
   "cell_type": "code",
   "execution_count": 15,
   "id": "77dbd237",
   "metadata": {},
   "outputs": [
    {
     "data": {
      "text/plain": [
       "array([1.0041728 , 1.8107424 , 0.49206802], dtype=float32)"
      ]
     },
     "execution_count": 15,
     "metadata": {},
     "output_type": "execute_result"
    }
   ],
   "source": [
    "hist1[-1]"
   ]
  },
  {
   "cell_type": "markdown",
   "id": "658fc3a1",
   "metadata": {},
   "source": [
    "## Plots"
   ]
  },
  {
   "cell_type": "code",
   "execution_count": 18,
   "id": "93b56843",
   "metadata": {},
   "outputs": [
    {
     "data": {
      "image/png": "[encoded data removed]",
      "text/plain": [
       "<Figure size 432x288 with 1 Axes>"
      ]
     },
     "metadata": {
      "needs_background": "light"
     },
     "output_type": "display_data"
    }
   ],
   "source": [
    "plt.plot([1], [2], 'ob')\n",
    "plt.plot(hist1[:, 0], hist1[:, 1], alpha=0.2)\n",
    "plt.xlabel(r'$a$')\n",
    "plt.ylabel(r'$b$')\n",
    "plt.show();"
   ]
  }
 ],
 "metadata": {
  "kernelspec": {
   "display_name": "dl",
   "language": "python",
   "name": "dl"
  },
  "language_info": {
   "codemirror_mode": {
    "name": "ipython",
    "version": 3
   },
   "file_extension": ".py",
   "mimetype": "text/x-python",
   "name": "python",
   "nbconvert_exporter": "python",
   "pygments_lexer": "ipython3",
   "version": "3.8.10"
  }
 },
 "nbformat": 4,
 "nbformat_minor": 5
}
