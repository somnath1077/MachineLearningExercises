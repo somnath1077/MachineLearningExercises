{
 "cells": [
  {
   "cell_type": "code",
   "execution_count": 1,
   "id": "bf7cca96",
   "metadata": {},
   "outputs": [],
   "source": [
    "import numpy as np\n",
    "import pandas as pd\n",
    "import matplotlib.pyplot as plt"
   ]
  },
  {
   "cell_type": "markdown",
   "id": "4e7b5dec",
   "metadata": {},
   "source": [
    "## Create Data"
   ]
  },
  {
   "cell_type": "code",
   "execution_count": 2,
   "id": "3628d140",
   "metadata": {},
   "outputs": [
    {
     "data": {
      "text/html": [
       "<div>\n",
       "<style scoped>\n",
       "    .dataframe tbody tr th:only-of-type {\n",
       "        vertical-align: middle;\n",
       "    }\n",
       "\n",
       "    .dataframe tbody tr th {\n",
       "        vertical-align: top;\n",
       "    }\n",
       "\n",
       "    .dataframe thead th {\n",
       "        text-align: right;\n",
       "    }\n",
       "</style>\n",
       "<table border=\"1\" class=\"dataframe\">\n",
       "  <thead>\n",
       "    <tr style=\"text-align: right;\">\n",
       "      <th></th>\n",
       "      <th>x</th>\n",
       "      <th>y</th>\n",
       "    </tr>\n",
       "  </thead>\n",
       "  <tbody>\n",
       "    <tr>\n",
       "      <th>0</th>\n",
       "      <td>49</td>\n",
       "      <td>51.236686</td>\n",
       "    </tr>\n",
       "    <tr>\n",
       "      <th>1</th>\n",
       "      <td>12</td>\n",
       "      <td>14.749202</td>\n",
       "    </tr>\n",
       "    <tr>\n",
       "      <th>2</th>\n",
       "      <td>33</td>\n",
       "      <td>36.857998</td>\n",
       "    </tr>\n",
       "    <tr>\n",
       "      <th>3</th>\n",
       "      <td>87</td>\n",
       "      <td>87.770991</td>\n",
       "    </tr>\n",
       "    <tr>\n",
       "      <th>4</th>\n",
       "      <td>68</td>\n",
       "      <td>70.228583</td>\n",
       "    </tr>\n",
       "  </tbody>\n",
       "</table>\n",
       "</div>"
      ],
      "text/plain": [
       "    x          y\n",
       "0  49  51.236686\n",
       "1  12  14.749202\n",
       "2  33  36.857998\n",
       "3  87  87.770991\n",
       "4  68  70.228583"
      ]
     },
     "execution_count": 2,
     "metadata": {},
     "output_type": "execute_result"
    }
   ],
   "source": [
    "SZ = 100\n",
    "a_star = 1\n",
    "b_star = 2\n",
    "\n",
    "x_vals = np.random.randint(0, SZ, SZ)\n",
    "y_vals = a_star * x_vals + b_star + np.random.normal(loc=0.0, scale=1.0, size=SZ) \n",
    "\n",
    "df = pd.DataFrame({'x': x_vals, 'y': y_vals})\n",
    "df.head()"
   ]
  },
  {
   "cell_type": "code",
   "execution_count": 3,
   "id": "38d82132",
   "metadata": {},
   "outputs": [
    {
     "data": {
      "text/html": [
       "<div>\n",
       "<style scoped>\n",
       "    .dataframe tbody tr th:only-of-type {\n",
       "        vertical-align: middle;\n",
       "    }\n",
       "\n",
       "    .dataframe tbody tr th {\n",
       "        vertical-align: top;\n",
       "    }\n",
       "\n",
       "    .dataframe thead th {\n",
       "        text-align: right;\n",
       "    }\n",
       "</style>\n",
       "<table border=\"1\" class=\"dataframe\">\n",
       "  <thead>\n",
       "    <tr style=\"text-align: right;\">\n",
       "      <th></th>\n",
       "      <th>x</th>\n",
       "      <th>y</th>\n",
       "      <th>actual_output</th>\n",
       "    </tr>\n",
       "  </thead>\n",
       "  <tbody>\n",
       "    <tr>\n",
       "      <th>0</th>\n",
       "      <td>49</td>\n",
       "      <td>51.236686</td>\n",
       "      <td>51</td>\n",
       "    </tr>\n",
       "    <tr>\n",
       "      <th>1</th>\n",
       "      <td>12</td>\n",
       "      <td>14.749202</td>\n",
       "      <td>14</td>\n",
       "    </tr>\n",
       "    <tr>\n",
       "      <th>2</th>\n",
       "      <td>33</td>\n",
       "      <td>36.857998</td>\n",
       "      <td>35</td>\n",
       "    </tr>\n",
       "    <tr>\n",
       "      <th>3</th>\n",
       "      <td>87</td>\n",
       "      <td>87.770991</td>\n",
       "      <td>89</td>\n",
       "    </tr>\n",
       "    <tr>\n",
       "      <th>4</th>\n",
       "      <td>68</td>\n",
       "      <td>70.228583</td>\n",
       "      <td>70</td>\n",
       "    </tr>\n",
       "  </tbody>\n",
       "</table>\n",
       "</div>"
      ],
      "text/plain": [
       "    x          y  actual_output\n",
       "0  49  51.236686             51\n",
       "1  12  14.749202             14\n",
       "2  33  36.857998             35\n",
       "3  87  87.770991             89\n",
       "4  68  70.228583             70"
      ]
     },
     "execution_count": 3,
     "metadata": {},
     "output_type": "execute_result"
    }
   ],
   "source": [
    "df['actual_output'] = a_star * df['x'] + b_star\n",
    "df.head()"
   ]
  },
  {
   "cell_type": "code",
   "execution_count": 4,
   "id": "1e870241",
   "metadata": {},
   "outputs": [
    {
     "data": {
      "text/plain": [
       "<matplotlib.collections.PathCollection at 0x7f6e1826d100>"
      ]
     },
     "execution_count": 4,
     "metadata": {},
     "output_type": "execute_result"
    },
    {
     "data": {
      "image/png": "[encoded data removed]",
      "text/plain": [
       "<Figure size 432x288 with 1 Axes>"
      ]
     },
     "metadata": {
      "needs_background": "light"
     },
     "output_type": "display_data"
    }
   ],
   "source": [
    "fig, ax = plt.subplots(1, 1)\n",
    "ax.scatter(df['x'], df['y'], c='r', label='noisy output')\n",
    "ax.scatter(df['x'], df['actual_output'], c='b', label='actual output',alpha=0.2)"
   ]
  },
  {
   "cell_type": "markdown",
   "id": "25b32edd",
   "metadata": {},
   "source": [
    "## The Loss Function and Gradient\n",
    "\n",
    "We assume that the loss function is the standard mean squared loss. \n",
    "$$\n",
    "    \\mathscr{L}(a, b) = \\frac{1}{2M} \\sum_{i = 1}^{M} (a x_i + b - y_i)^2\n",
    "$$\n",
    "The gradient $\\nabla_{a, b} \\mathscr{L}$ is then given by:\n",
    "$$\n",
    "    \\nabla_{a, b} \\mathscr{L} = \n",
    "        \\left ( \n",
    "                \\begin{array}{c}\n",
    "                    \\frac{1}{M} \\sum_{i = 1}^{M} (a x_i + b - y_i) x_i \\\\\n",
    "                    \\frac{1}{M} \\sum_{i = 1}^{M} (a x_i + b - y_i)\n",
    "                \\end{array}\n",
    "        \\right )\n",
    "$$\n",
    "Initially,let's look at vanilla gradient descent. It uses the entire data set to compute the gradient and then updates the parameters $a$ and $b$ as follows:\n",
    "$$\n",
    "\\begin{align*}\n",
    "    a_{t + 1} & = a_{t} - \\eta \\frac{1}{M} \\sum_{i = 1}^{M} (a_{t} x_i + b_{t} - y_i) x_i \\\\\n",
    "    b_{t + 1} & = b_{t} - \\eta \\frac{1}{M} \\sum_{i = 1}^{M} (a_{t} x_i + b_{t} - y_i).\n",
    "\\end{align*}\n",
    "$$\n",
    "Here $\\eta$ is the learning rate."
   ]
  },
  {
   "cell_type": "markdown",
   "id": "98d936be",
   "metadata": {},
   "source": [
    "## Acclerated Gradient Descent\n",
    "\n",
    "In a momentum based gradient descent method, we use a variable $v_t$ to store the past gradient contributions. \n",
    "$$\n",
    "\\begin{align*}\n",
    "    v_t & = \\gamma v_{t - 1} + \\nabla_{a, b} \\mathscr{L}(a, b) \\\\\n",
    "    a_{t + 1} & = a_{t} - \\eta v_t[0] \\\\\n",
    "    b_{t + 1} & = b_{t} - \\eta v_t[1],\n",
    "\\end{align*}\n",
    "$$\n",
    "The idea here is that parameter updates are larger if the current gradient points in the same direction as the past gradient. While this increases convergence, there can still be some fluctuation in the region of parameter space containing the minimum parameter point. \n",
    "\n",
    "In Nesterov's acclerated gradient descent method, one uses the momentum term $\\gamma \\cdot v_t$ to compute an approximation to what the parameters are likely to be in the next step. The gradient is evaluated at this look-ahead point. \n",
    "$$ \n",
    "\\begin{align*}\n",
    "    v_t & = \\gamma \\cdot v_{t - 1} + \n",
    "            \\eta \\cdot \\nabla_{a, b} \n",
    "            \\mathscr{L}(a_{t} - \\gamma \\cdot v_{t - 1}[0], b_{t} - \\gamma \\cdot v_{t - 1}[1]) \\\\\n",
    "    a_{t + 1} & = a_{t} - v_t[0] \\\\\n",
    "    b_{t + 1} & = b_{t} - v_t[1]\n",
    "\\end{align*}\n",
    "$$"
   ]
  },
  {
   "cell_type": "code",
   "execution_count": 5,
   "id": "4a6e00cd",
   "metadata": {},
   "outputs": [],
   "source": [
    "def loss(a: float, b: float, data_points: np.array):\n",
    "    loss = 0.5 * np.mean(np.square(a * data_points[:, 0] + b - data_points[:, 1]))\n",
    "    return loss\n",
    "\n",
    "def nesterov_grad(a: float, \n",
    "                  b: float, \n",
    "                  v: np.array, \n",
    "                  data_points: np.array, \n",
    "                  gamma=0.9,\n",
    "                  eta=1e-6):\n",
    "    \"\"\"\n",
    "        Assume that data_points is an np.array with shape (-1, 1)\n",
    "        v is an np.array with shape (2, 1)\n",
    "    \"\"\"\n",
    "    m = len(data_points)\n",
    "    if m == 0:\n",
    "        return a, b\n",
    "    \n",
    "    assert data_points.shape[1] == 2\n",
    "    assert v.shape == (2, 1)\n",
    "    \n",
    "    # calculate look-ahead\n",
    "    a_la = a - gamma * v[0, 0]\n",
    "    b_la = b - gamma * v[1, 0]\n",
    "    \n",
    "    # calculate gradients based on look-ahead\n",
    "    grad_a = np.mean((a_la * data_points[:, 0] + b_la - data_points[:, 1]) * data_points[:, 0])\n",
    "    grad_b = np.mean(a_la * data_points[:, 0] + b_la - data_points[:, 1])\n",
    "    \n",
    "    # calculate new momentum values\n",
    "    v_a = gamma * v[0, 0] + eta * grad_a\n",
    "    v_b = gamma * v[1, 0] + eta * grad_b\n",
    "   \n",
    "    a_new = a - v_a\n",
    "    b_new = b - v_b\n",
    "    \n",
    "    # update v\n",
    "    v[0, 0] = v_a\n",
    "    v[1, 0] = v_b\n",
    "    \n",
    "    return a_new, b_new, v\n",
    "\n",
    "def nesterov_grad_driver(a: float, b: float, \n",
    "                         data_points: np.array, \n",
    "                         num_iter=100):\n",
    "    history = np.zeros(shape=(num_iter + 1, 3), dtype=np.float32)\n",
    "    history[0, :] = [a, b, loss(a, b, data_points)]\n",
    "    \n",
    "    v = np.array([[0], [0]], dtype=np.float)\n",
    "    eta =  1e-5\n",
    "    \n",
    "    for idx in range(num_iter):\n",
    "        for l in range(len(data_points)):\n",
    "            a, b, v = nesterov_grad(a, b, v, data_points[l, :].reshape(-1, 2), eta=eta)\n",
    "        \n",
    "        history[idx + 1, :] = [a, b, loss(a, b, data_points)]\n",
    "    \n",
    "    return history"
   ]
  },
  {
   "cell_type": "code",
   "execution_count": 6,
   "id": "ad0518d8",
   "metadata": {},
   "outputs": [],
   "source": [
    "hist1 = nesterov_grad_driver(a=0.5, b=-1, data_points=df[['x', 'y']].values, num_iter=10000)"
   ]
  },
  {
   "cell_type": "code",
   "execution_count": 7,
   "id": "3c688194",
   "metadata": {},
   "outputs": [
    {
     "data": {
      "text/plain": [
       "array([0.9946195 , 2.2505622 , 0.47537455], dtype=float32)"
      ]
     },
     "execution_count": 7,
     "metadata": {},
     "output_type": "execute_result"
    }
   ],
   "source": [
    "hist1[-1]"
   ]
  },
  {
   "cell_type": "markdown",
   "id": "78c6c90b",
   "metadata": {},
   "source": [
    "## Plots"
   ]
  },
  {
   "cell_type": "code",
   "execution_count": 8,
   "id": "4d3e8cf0",
   "metadata": {},
   "outputs": [
    {
     "data": {
      "image/png": "[encoded data removed]",
      "text/plain": [
       "<Figure size 432x288 with 1 Axes>"
      ]
     },
     "metadata": {
      "needs_background": "light"
     },
     "output_type": "display_data"
    }
   ],
   "source": [
    "plt.plot([1], [2], 'ob')\n",
    "plt.plot(hist1[:, 0], hist1[:, 1], alpha=0.2)\n",
    "plt.xlabel(r'$a$')\n",
    "plt.ylabel(r'$b$')\n",
    "plt.show();"
   ]
  }
 ],
 "metadata": {
  "kernelspec": {
   "display_name": "dl",
   "language": "python",
   "name": "dl"
  },
  "language_info": {
   "codemirror_mode": {
    "name": "ipython",
    "version": 3
   },
   "file_extension": ".py",
   "mimetype": "text/x-python",
   "name": "python",
   "nbconvert_exporter": "python",
   "pygments_lexer": "ipython3",
   "version": "3.8.10"
  }
 },
 "nbformat": 4,
 "nbformat_minor": 5
}
