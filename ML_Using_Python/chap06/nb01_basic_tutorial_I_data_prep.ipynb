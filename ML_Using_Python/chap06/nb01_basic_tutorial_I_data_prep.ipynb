{
 "cells": [
  {
   "cell_type": "markdown",
   "id": "32e8e73c",
   "metadata": {},
   "source": [
    "# Goal\n",
    "\n",
    "This is a tutorial based on Keras/Tensorflow for prediciting timeseries:\n",
    "\n",
    "https://www.tensorflow.org/tutorials/structured_data/time_series\n",
    "\n",
    "The goal of this is to quickly familiarize one self with the basics of time series forecasting using Keras/Tensorflow. This first notebook deals mainly with data prep and feature engineering."
   ]
  },
  {
   "cell_type": "markdown",
   "id": "45ac4647",
   "metadata": {},
   "source": [
    "# Setup"
   ]
  },
  {
   "cell_type": "code",
   "execution_count": 1,
   "id": "eda36470",
   "metadata": {},
   "outputs": [],
   "source": [
    "import os\n",
    "import datetime\n",
    "\n",
    "import IPython\n",
    "import IPython.display\n",
    "import matplotlib as mpl\n",
    "import matplotlib.pyplot as plt\n",
    "import numpy as np\n",
    "import pandas as pd\n",
    "import seaborn as sns\n",
    "import tensorflow as tf\n",
    "\n",
    "mpl.rcParams['figure.figsize'] = (12, 6)\n",
    "mpl.rcParams['axes.grid'] = False"
   ]
  },
  {
   "cell_type": "markdown",
   "id": "a171e1c7",
   "metadata": {},
   "source": [
    "# Data Set\n",
    "\n",
    "## Weather Data"
   ]
  },
  {
   "cell_type": "code",
   "execution_count": 2,
   "id": "e6123b95",
   "metadata": {},
   "outputs": [],
   "source": [
    "file_name = 'jena_climate_2009_2016.csv.zip'\n",
    "origin = f'https://storage.googleapis.com/tensorflow/tf-keras-datasets/{file_name}'"
   ]
  },
  {
   "cell_type": "markdown",
   "id": "60b5d1f0",
   "metadata": {},
   "source": [
    "! wget $origin\n",
    "! unzip $file_name \n",
    ";"
   ]
  },
  {
   "cell_type": "code",
   "execution_count": 3,
   "id": "0a367156",
   "metadata": {},
   "outputs": [
    {
     "data": {
      "text/html": [
       "<div>\n",
       "<style scoped>\n",
       "    .dataframe tbody tr th:only-of-type {\n",
       "        vertical-align: middle;\n",
       "    }\n",
       "\n",
       "    .dataframe tbody tr th {\n",
       "        vertical-align: top;\n",
       "    }\n",
       "\n",
       "    .dataframe thead th {\n",
       "        text-align: right;\n",
       "    }\n",
       "</style>\n",
       "<table border=\"1\" class=\"dataframe\">\n",
       "  <thead>\n",
       "    <tr style=\"text-align: right;\">\n",
       "      <th></th>\n",
       "      <th>Date Time</th>\n",
       "      <th>p (mbar)</th>\n",
       "      <th>T (degC)</th>\n",
       "      <th>Tpot (K)</th>\n",
       "      <th>Tdew (degC)</th>\n",
       "      <th>rh (%)</th>\n",
       "      <th>VPmax (mbar)</th>\n",
       "      <th>VPact (mbar)</th>\n",
       "      <th>VPdef (mbar)</th>\n",
       "      <th>sh (g/kg)</th>\n",
       "      <th>H2OC (mmol/mol)</th>\n",
       "      <th>rho (g/m**3)</th>\n",
       "      <th>wv (m/s)</th>\n",
       "      <th>max. wv (m/s)</th>\n",
       "      <th>wd (deg)</th>\n",
       "    </tr>\n",
       "  </thead>\n",
       "  <tbody>\n",
       "    <tr>\n",
       "      <th>0</th>\n",
       "      <td>01.01.2009 00:10:00</td>\n",
       "      <td>996.52</td>\n",
       "      <td>-8.02</td>\n",
       "      <td>265.40</td>\n",
       "      <td>-8.90</td>\n",
       "      <td>93.3</td>\n",
       "      <td>3.33</td>\n",
       "      <td>3.11</td>\n",
       "      <td>0.22</td>\n",
       "      <td>1.94</td>\n",
       "      <td>3.12</td>\n",
       "      <td>1307.75</td>\n",
       "      <td>1.03</td>\n",
       "      <td>1.75</td>\n",
       "      <td>152.3</td>\n",
       "    </tr>\n",
       "    <tr>\n",
       "      <th>1</th>\n",
       "      <td>01.01.2009 00:20:00</td>\n",
       "      <td>996.57</td>\n",
       "      <td>-8.41</td>\n",
       "      <td>265.01</td>\n",
       "      <td>-9.28</td>\n",
       "      <td>93.4</td>\n",
       "      <td>3.23</td>\n",
       "      <td>3.02</td>\n",
       "      <td>0.21</td>\n",
       "      <td>1.89</td>\n",
       "      <td>3.03</td>\n",
       "      <td>1309.80</td>\n",
       "      <td>0.72</td>\n",
       "      <td>1.50</td>\n",
       "      <td>136.1</td>\n",
       "    </tr>\n",
       "    <tr>\n",
       "      <th>2</th>\n",
       "      <td>01.01.2009 00:30:00</td>\n",
       "      <td>996.53</td>\n",
       "      <td>-8.51</td>\n",
       "      <td>264.91</td>\n",
       "      <td>-9.31</td>\n",
       "      <td>93.9</td>\n",
       "      <td>3.21</td>\n",
       "      <td>3.01</td>\n",
       "      <td>0.20</td>\n",
       "      <td>1.88</td>\n",
       "      <td>3.02</td>\n",
       "      <td>1310.24</td>\n",
       "      <td>0.19</td>\n",
       "      <td>0.63</td>\n",
       "      <td>171.6</td>\n",
       "    </tr>\n",
       "    <tr>\n",
       "      <th>3</th>\n",
       "      <td>01.01.2009 00:40:00</td>\n",
       "      <td>996.51</td>\n",
       "      <td>-8.31</td>\n",
       "      <td>265.12</td>\n",
       "      <td>-9.07</td>\n",
       "      <td>94.2</td>\n",
       "      <td>3.26</td>\n",
       "      <td>3.07</td>\n",
       "      <td>0.19</td>\n",
       "      <td>1.92</td>\n",
       "      <td>3.08</td>\n",
       "      <td>1309.19</td>\n",
       "      <td>0.34</td>\n",
       "      <td>0.50</td>\n",
       "      <td>198.0</td>\n",
       "    </tr>\n",
       "    <tr>\n",
       "      <th>4</th>\n",
       "      <td>01.01.2009 00:50:00</td>\n",
       "      <td>996.51</td>\n",
       "      <td>-8.27</td>\n",
       "      <td>265.15</td>\n",
       "      <td>-9.04</td>\n",
       "      <td>94.1</td>\n",
       "      <td>3.27</td>\n",
       "      <td>3.08</td>\n",
       "      <td>0.19</td>\n",
       "      <td>1.92</td>\n",
       "      <td>3.09</td>\n",
       "      <td>1309.00</td>\n",
       "      <td>0.32</td>\n",
       "      <td>0.63</td>\n",
       "      <td>214.3</td>\n",
       "    </tr>\n",
       "  </tbody>\n",
       "</table>\n",
       "</div>"
      ],
      "text/plain": [
       "             Date Time  p (mbar)  T (degC)  Tpot (K)  Tdew (degC)  rh (%)  \\\n",
       "0  01.01.2009 00:10:00    996.52     -8.02    265.40        -8.90    93.3   \n",
       "1  01.01.2009 00:20:00    996.57     -8.41    265.01        -9.28    93.4   \n",
       "2  01.01.2009 00:30:00    996.53     -8.51    264.91        -9.31    93.9   \n",
       "3  01.01.2009 00:40:00    996.51     -8.31    265.12        -9.07    94.2   \n",
       "4  01.01.2009 00:50:00    996.51     -8.27    265.15        -9.04    94.1   \n",
       "\n",
       "   VPmax (mbar)  VPact (mbar)  VPdef (mbar)  sh (g/kg)  H2OC (mmol/mol)  \\\n",
       "0          3.33          3.11          0.22       1.94             3.12   \n",
       "1          3.23          3.02          0.21       1.89             3.03   \n",
       "2          3.21          3.01          0.20       1.88             3.02   \n",
       "3          3.26          3.07          0.19       1.92             3.08   \n",
       "4          3.27          3.08          0.19       1.92             3.09   \n",
       "\n",
       "   rho (g/m**3)  wv (m/s)  max. wv (m/s)  wd (deg)  \n",
       "0       1307.75      1.03           1.75     152.3  \n",
       "1       1309.80      0.72           1.50     136.1  \n",
       "2       1310.24      0.19           0.63     171.6  \n",
       "3       1309.19      0.34           0.50     198.0  \n",
       "4       1309.00      0.32           0.63     214.3  "
      ]
     },
     "execution_count": 3,
     "metadata": {},
     "output_type": "execute_result"
    }
   ],
   "source": [
    "df = pd.read_csv(file_name)\n",
    "df.head()"
   ]
  },
  {
   "cell_type": "code",
   "execution_count": 4,
   "id": "8965e4d3",
   "metadata": {},
   "outputs": [
    {
     "data": {
      "text/plain": [
       "(420551, 15)"
      ]
     },
     "execution_count": 4,
     "metadata": {},
     "output_type": "execute_result"
    }
   ],
   "source": [
    "df.shape"
   ]
  },
  {
   "cell_type": "code",
   "execution_count": 5,
   "id": "664e65f7",
   "metadata": {},
   "outputs": [
    {
     "data": {
      "text/plain": [
       "Date Time          01.01.2009 01:00:00\n",
       "p (mbar)                         996.5\n",
       "T (degC)                         -8.05\n",
       "Tpot (K)                        265.38\n",
       "Tdew (degC)                      -8.78\n",
       "rh (%)                            94.4\n",
       "VPmax (mbar)                      3.33\n",
       "VPact (mbar)                      3.14\n",
       "VPdef (mbar)                      0.19\n",
       "sh (g/kg)                         1.96\n",
       "H2OC (mmol/mol)                   3.15\n",
       "rho (g/m**3)                   1307.86\n",
       "wv (m/s)                          0.21\n",
       "max. wv (m/s)                     0.63\n",
       "wd (deg)                         192.7\n",
       "Name: 5, dtype: object"
      ]
     },
     "execution_count": 5,
     "metadata": {},
     "output_type": "execute_result"
    }
   ],
   "source": [
    "df.iloc[5]"
   ]
  },
  {
   "cell_type": "markdown",
   "id": "e077b993",
   "metadata": {},
   "source": [
    "## Sub-Sample Data on Hourly Basis "
   ]
  },
  {
   "cell_type": "code",
   "execution_count": 6,
   "id": "3504839b",
   "metadata": {},
   "outputs": [
    {
     "data": {
      "text/html": [
       "<div>\n",
       "<style scoped>\n",
       "    .dataframe tbody tr th:only-of-type {\n",
       "        vertical-align: middle;\n",
       "    }\n",
       "\n",
       "    .dataframe tbody tr th {\n",
       "        vertical-align: top;\n",
       "    }\n",
       "\n",
       "    .dataframe thead th {\n",
       "        text-align: right;\n",
       "    }\n",
       "</style>\n",
       "<table border=\"1\" class=\"dataframe\">\n",
       "  <thead>\n",
       "    <tr style=\"text-align: right;\">\n",
       "      <th></th>\n",
       "      <th>Date Time</th>\n",
       "      <th>p (mbar)</th>\n",
       "      <th>T (degC)</th>\n",
       "      <th>Tpot (K)</th>\n",
       "      <th>Tdew (degC)</th>\n",
       "      <th>rh (%)</th>\n",
       "      <th>VPmax (mbar)</th>\n",
       "      <th>VPact (mbar)</th>\n",
       "      <th>VPdef (mbar)</th>\n",
       "      <th>sh (g/kg)</th>\n",
       "      <th>H2OC (mmol/mol)</th>\n",
       "      <th>rho (g/m**3)</th>\n",
       "      <th>wv (m/s)</th>\n",
       "      <th>max. wv (m/s)</th>\n",
       "      <th>wd (deg)</th>\n",
       "    </tr>\n",
       "  </thead>\n",
       "  <tbody>\n",
       "    <tr>\n",
       "      <th>5</th>\n",
       "      <td>01.01.2009 01:00:00</td>\n",
       "      <td>996.50</td>\n",
       "      <td>-8.05</td>\n",
       "      <td>265.38</td>\n",
       "      <td>-8.78</td>\n",
       "      <td>94.4</td>\n",
       "      <td>3.33</td>\n",
       "      <td>3.14</td>\n",
       "      <td>0.19</td>\n",
       "      <td>1.96</td>\n",
       "      <td>3.15</td>\n",
       "      <td>1307.86</td>\n",
       "      <td>0.21</td>\n",
       "      <td>0.63</td>\n",
       "      <td>192.7</td>\n",
       "    </tr>\n",
       "    <tr>\n",
       "      <th>11</th>\n",
       "      <td>01.01.2009 02:00:00</td>\n",
       "      <td>996.62</td>\n",
       "      <td>-8.88</td>\n",
       "      <td>264.54</td>\n",
       "      <td>-9.77</td>\n",
       "      <td>93.2</td>\n",
       "      <td>3.12</td>\n",
       "      <td>2.90</td>\n",
       "      <td>0.21</td>\n",
       "      <td>1.81</td>\n",
       "      <td>2.91</td>\n",
       "      <td>1312.25</td>\n",
       "      <td>0.25</td>\n",
       "      <td>0.63</td>\n",
       "      <td>190.3</td>\n",
       "    </tr>\n",
       "    <tr>\n",
       "      <th>17</th>\n",
       "      <td>01.01.2009 03:00:00</td>\n",
       "      <td>996.84</td>\n",
       "      <td>-8.81</td>\n",
       "      <td>264.59</td>\n",
       "      <td>-9.66</td>\n",
       "      <td>93.5</td>\n",
       "      <td>3.13</td>\n",
       "      <td>2.93</td>\n",
       "      <td>0.20</td>\n",
       "      <td>1.83</td>\n",
       "      <td>2.94</td>\n",
       "      <td>1312.18</td>\n",
       "      <td>0.18</td>\n",
       "      <td>0.63</td>\n",
       "      <td>167.2</td>\n",
       "    </tr>\n",
       "    <tr>\n",
       "      <th>23</th>\n",
       "      <td>01.01.2009 04:00:00</td>\n",
       "      <td>996.99</td>\n",
       "      <td>-9.05</td>\n",
       "      <td>264.34</td>\n",
       "      <td>-10.02</td>\n",
       "      <td>92.6</td>\n",
       "      <td>3.07</td>\n",
       "      <td>2.85</td>\n",
       "      <td>0.23</td>\n",
       "      <td>1.78</td>\n",
       "      <td>2.85</td>\n",
       "      <td>1313.61</td>\n",
       "      <td>0.10</td>\n",
       "      <td>0.38</td>\n",
       "      <td>240.0</td>\n",
       "    </tr>\n",
       "    <tr>\n",
       "      <th>29</th>\n",
       "      <td>01.01.2009 05:00:00</td>\n",
       "      <td>997.46</td>\n",
       "      <td>-9.63</td>\n",
       "      <td>263.72</td>\n",
       "      <td>-10.65</td>\n",
       "      <td>92.2</td>\n",
       "      <td>2.94</td>\n",
       "      <td>2.71</td>\n",
       "      <td>0.23</td>\n",
       "      <td>1.69</td>\n",
       "      <td>2.71</td>\n",
       "      <td>1317.19</td>\n",
       "      <td>0.40</td>\n",
       "      <td>0.88</td>\n",
       "      <td>157.0</td>\n",
       "    </tr>\n",
       "  </tbody>\n",
       "</table>\n",
       "</div>"
      ],
      "text/plain": [
       "              Date Time  p (mbar)  T (degC)  Tpot (K)  Tdew (degC)  rh (%)  \\\n",
       "5   01.01.2009 01:00:00    996.50     -8.05    265.38        -8.78    94.4   \n",
       "11  01.01.2009 02:00:00    996.62     -8.88    264.54        -9.77    93.2   \n",
       "17  01.01.2009 03:00:00    996.84     -8.81    264.59        -9.66    93.5   \n",
       "23  01.01.2009 04:00:00    996.99     -9.05    264.34       -10.02    92.6   \n",
       "29  01.01.2009 05:00:00    997.46     -9.63    263.72       -10.65    92.2   \n",
       "\n",
       "    VPmax (mbar)  VPact (mbar)  VPdef (mbar)  sh (g/kg)  H2OC (mmol/mol)  \\\n",
       "5           3.33          3.14          0.19       1.96             3.15   \n",
       "11          3.12          2.90          0.21       1.81             2.91   \n",
       "17          3.13          2.93          0.20       1.83             2.94   \n",
       "23          3.07          2.85          0.23       1.78             2.85   \n",
       "29          2.94          2.71          0.23       1.69             2.71   \n",
       "\n",
       "    rho (g/m**3)  wv (m/s)  max. wv (m/s)  wd (deg)  \n",
       "5        1307.86      0.21           0.63     192.7  \n",
       "11       1312.25      0.25           0.63     190.3  \n",
       "17       1312.18      0.18           0.63     167.2  \n",
       "23       1313.61      0.10           0.38     240.0  \n",
       "29       1317.19      0.40           0.88     157.0  "
      ]
     },
     "execution_count": 6,
     "metadata": {},
     "output_type": "execute_result"
    }
   ],
   "source": [
    "# slice = [start:stop:step]. We start at index 5 and take every 6th index\n",
    "df_h = df[5::6]\n",
    "df_h.head()"
   ]
  },
  {
   "cell_type": "code",
   "execution_count": 7,
   "id": "c28db3bd",
   "metadata": {},
   "outputs": [
    {
     "data": {
      "text/plain": [
       "(70091, 15)"
      ]
     },
     "execution_count": 7,
     "metadata": {},
     "output_type": "execute_result"
    }
   ],
   "source": [
    "df_h.shape"
   ]
  },
  {
   "cell_type": "markdown",
   "id": "23014d2e",
   "metadata": {},
   "source": [
    "## Plots"
   ]
  },
  {
   "cell_type": "code",
   "execution_count": 8,
   "id": "022e415f",
   "metadata": {},
   "outputs": [
    {
     "data": {
      "text/plain": [
       "Index(['Date Time', 'p (mbar)', 'T (degC)', 'Tpot (K)', 'Tdew (degC)',\n",
       "       'rh (%)', 'VPmax (mbar)', 'VPact (mbar)', 'VPdef (mbar)', 'sh (g/kg)',\n",
       "       'H2OC (mmol/mol)', 'rho (g/m**3)', 'wv (m/s)', 'max. wv (m/s)',\n",
       "       'wd (deg)'],\n",
       "      dtype='object')"
      ]
     },
     "execution_count": 8,
     "metadata": {},
     "output_type": "execute_result"
    }
   ],
   "source": [
    "df_h.columns"
   ]
  },
  {
   "cell_type": "code",
   "execution_count": 9,
   "id": "5003aba6",
   "metadata": {},
   "outputs": [
    {
     "data": {
      "image/png": "[encoded data removed]",
      "text/plain": [
       "<Figure size 864x432 with 3 Axes>"
      ]
     },
     "metadata": {
      "needs_background": "light"
     },
     "output_type": "display_data"
    }
   ],
   "source": [
    "# pressure, temperature, absolute humidity\n",
    "plot_cols = ['p (mbar)', 'T (degC)', 'rho (g/m**3)']\n",
    "plot_features = df_h[plot_cols]\n",
    "plot_features.index = df_h['Date Time']\n",
    "\n",
    "plot_features.plot(subplots=True);\n",
    "plt.xticks(rotation=90);"
   ]
  },
  {
   "cell_type": "code",
   "execution_count": 10,
   "id": "54453046",
   "metadata": {},
   "outputs": [
    {
     "data": {
      "image/png": "[encoded data removed]",
      "text/plain": [
       "<Figure size 864x432 with 3 Axes>"
      ]
     },
     "metadata": {
      "needs_background": "light"
     },
     "output_type": "display_data"
    }
   ],
   "source": [
    "plot_features[:480].plot(subplots=True);\n",
    "plt.xticks(rotation=90);"
   ]
  },
  {
   "cell_type": "markdown",
   "id": "f0505101",
   "metadata": {},
   "source": [
    "## Stats"
   ]
  },
  {
   "cell_type": "code",
   "execution_count": 11,
   "id": "97c7114f",
   "metadata": {},
   "outputs": [
    {
     "data": {
      "text/html": [
       "<div>\n",
       "<style scoped>\n",
       "    .dataframe tbody tr th:only-of-type {\n",
       "        vertical-align: middle;\n",
       "    }\n",
       "\n",
       "    .dataframe tbody tr th {\n",
       "        vertical-align: top;\n",
       "    }\n",
       "\n",
       "    .dataframe thead th {\n",
       "        text-align: right;\n",
       "    }\n",
       "</style>\n",
       "<table border=\"1\" class=\"dataframe\">\n",
       "  <thead>\n",
       "    <tr style=\"text-align: right;\">\n",
       "      <th></th>\n",
       "      <th>count</th>\n",
       "      <th>mean</th>\n",
       "      <th>std</th>\n",
       "      <th>min</th>\n",
       "      <th>25%</th>\n",
       "      <th>50%</th>\n",
       "      <th>75%</th>\n",
       "      <th>max</th>\n",
       "    </tr>\n",
       "  </thead>\n",
       "  <tbody>\n",
       "    <tr>\n",
       "      <th>p (mbar)</th>\n",
       "      <td>70091.0</td>\n",
       "      <td>989.212842</td>\n",
       "      <td>8.358886</td>\n",
       "      <td>913.60</td>\n",
       "      <td>984.20</td>\n",
       "      <td>989.57</td>\n",
       "      <td>994.720</td>\n",
       "      <td>1015.29</td>\n",
       "    </tr>\n",
       "    <tr>\n",
       "      <th>T (degC)</th>\n",
       "      <td>70091.0</td>\n",
       "      <td>9.450482</td>\n",
       "      <td>8.423384</td>\n",
       "      <td>-22.76</td>\n",
       "      <td>3.35</td>\n",
       "      <td>9.41</td>\n",
       "      <td>15.480</td>\n",
       "      <td>37.28</td>\n",
       "    </tr>\n",
       "    <tr>\n",
       "      <th>Tpot (K)</th>\n",
       "      <td>70091.0</td>\n",
       "      <td>283.493086</td>\n",
       "      <td>8.504424</td>\n",
       "      <td>250.85</td>\n",
       "      <td>277.44</td>\n",
       "      <td>283.46</td>\n",
       "      <td>289.530</td>\n",
       "      <td>311.21</td>\n",
       "    </tr>\n",
       "    <tr>\n",
       "      <th>Tdew (degC)</th>\n",
       "      <td>70091.0</td>\n",
       "      <td>4.956471</td>\n",
       "      <td>6.730081</td>\n",
       "      <td>-24.80</td>\n",
       "      <td>0.24</td>\n",
       "      <td>5.21</td>\n",
       "      <td>10.080</td>\n",
       "      <td>23.06</td>\n",
       "    </tr>\n",
       "    <tr>\n",
       "      <th>rh (%)</th>\n",
       "      <td>70091.0</td>\n",
       "      <td>76.009788</td>\n",
       "      <td>16.474920</td>\n",
       "      <td>13.88</td>\n",
       "      <td>65.21</td>\n",
       "      <td>79.30</td>\n",
       "      <td>89.400</td>\n",
       "      <td>100.00</td>\n",
       "    </tr>\n",
       "    <tr>\n",
       "      <th>VPmax (mbar)</th>\n",
       "      <td>70091.0</td>\n",
       "      <td>13.576576</td>\n",
       "      <td>7.739883</td>\n",
       "      <td>0.97</td>\n",
       "      <td>7.77</td>\n",
       "      <td>11.82</td>\n",
       "      <td>17.610</td>\n",
       "      <td>63.77</td>\n",
       "    </tr>\n",
       "    <tr>\n",
       "      <th>VPact (mbar)</th>\n",
       "      <td>70091.0</td>\n",
       "      <td>9.533968</td>\n",
       "      <td>4.183658</td>\n",
       "      <td>0.81</td>\n",
       "      <td>6.22</td>\n",
       "      <td>8.86</td>\n",
       "      <td>12.360</td>\n",
       "      <td>28.25</td>\n",
       "    </tr>\n",
       "    <tr>\n",
       "      <th>VPdef (mbar)</th>\n",
       "      <td>70091.0</td>\n",
       "      <td>4.042536</td>\n",
       "      <td>4.898549</td>\n",
       "      <td>0.00</td>\n",
       "      <td>0.87</td>\n",
       "      <td>2.19</td>\n",
       "      <td>5.300</td>\n",
       "      <td>46.01</td>\n",
       "    </tr>\n",
       "    <tr>\n",
       "      <th>sh (g/kg)</th>\n",
       "      <td>70091.0</td>\n",
       "      <td>6.022560</td>\n",
       "      <td>2.655812</td>\n",
       "      <td>0.51</td>\n",
       "      <td>3.92</td>\n",
       "      <td>5.59</td>\n",
       "      <td>7.800</td>\n",
       "      <td>18.07</td>\n",
       "    </tr>\n",
       "    <tr>\n",
       "      <th>H2OC (mmol/mol)</th>\n",
       "      <td>70091.0</td>\n",
       "      <td>9.640437</td>\n",
       "      <td>4.234862</td>\n",
       "      <td>0.81</td>\n",
       "      <td>6.29</td>\n",
       "      <td>8.96</td>\n",
       "      <td>12.490</td>\n",
       "      <td>28.74</td>\n",
       "    </tr>\n",
       "    <tr>\n",
       "      <th>rho (g/m**3)</th>\n",
       "      <td>70091.0</td>\n",
       "      <td>1216.061232</td>\n",
       "      <td>39.974263</td>\n",
       "      <td>1059.45</td>\n",
       "      <td>1187.47</td>\n",
       "      <td>1213.80</td>\n",
       "      <td>1242.765</td>\n",
       "      <td>1393.54</td>\n",
       "    </tr>\n",
       "    <tr>\n",
       "      <th>wv (m/s)</th>\n",
       "      <td>70091.0</td>\n",
       "      <td>1.702567</td>\n",
       "      <td>65.447512</td>\n",
       "      <td>-9999.00</td>\n",
       "      <td>0.99</td>\n",
       "      <td>1.76</td>\n",
       "      <td>2.860</td>\n",
       "      <td>14.01</td>\n",
       "    </tr>\n",
       "    <tr>\n",
       "      <th>max. wv (m/s)</th>\n",
       "      <td>70091.0</td>\n",
       "      <td>2.963041</td>\n",
       "      <td>75.597657</td>\n",
       "      <td>-9999.00</td>\n",
       "      <td>1.76</td>\n",
       "      <td>2.98</td>\n",
       "      <td>4.740</td>\n",
       "      <td>23.50</td>\n",
       "    </tr>\n",
       "    <tr>\n",
       "      <th>wd (deg)</th>\n",
       "      <td>70091.0</td>\n",
       "      <td>174.789095</td>\n",
       "      <td>86.619431</td>\n",
       "      <td>0.00</td>\n",
       "      <td>125.30</td>\n",
       "      <td>198.10</td>\n",
       "      <td>234.000</td>\n",
       "      <td>360.00</td>\n",
       "    </tr>\n",
       "  </tbody>\n",
       "</table>\n",
       "</div>"
      ],
      "text/plain": [
       "                   count         mean        std      min      25%      50%  \\\n",
       "p (mbar)         70091.0   989.212842   8.358886   913.60   984.20   989.57   \n",
       "T (degC)         70091.0     9.450482   8.423384   -22.76     3.35     9.41   \n",
       "Tpot (K)         70091.0   283.493086   8.504424   250.85   277.44   283.46   \n",
       "Tdew (degC)      70091.0     4.956471   6.730081   -24.80     0.24     5.21   \n",
       "rh (%)           70091.0    76.009788  16.474920    13.88    65.21    79.30   \n",
       "VPmax (mbar)     70091.0    13.576576   7.739883     0.97     7.77    11.82   \n",
       "VPact (mbar)     70091.0     9.533968   4.183658     0.81     6.22     8.86   \n",
       "VPdef (mbar)     70091.0     4.042536   4.898549     0.00     0.87     2.19   \n",
       "sh (g/kg)        70091.0     6.022560   2.655812     0.51     3.92     5.59   \n",
       "H2OC (mmol/mol)  70091.0     9.640437   4.234862     0.81     6.29     8.96   \n",
       "rho (g/m**3)     70091.0  1216.061232  39.974263  1059.45  1187.47  1213.80   \n",
       "wv (m/s)         70091.0     1.702567  65.447512 -9999.00     0.99     1.76   \n",
       "max. wv (m/s)    70091.0     2.963041  75.597657 -9999.00     1.76     2.98   \n",
       "wd (deg)         70091.0   174.789095  86.619431     0.00   125.30   198.10   \n",
       "\n",
       "                      75%      max  \n",
       "p (mbar)          994.720  1015.29  \n",
       "T (degC)           15.480    37.28  \n",
       "Tpot (K)          289.530   311.21  \n",
       "Tdew (degC)        10.080    23.06  \n",
       "rh (%)             89.400   100.00  \n",
       "VPmax (mbar)       17.610    63.77  \n",
       "VPact (mbar)       12.360    28.25  \n",
       "VPdef (mbar)        5.300    46.01  \n",
       "sh (g/kg)           7.800    18.07  \n",
       "H2OC (mmol/mol)    12.490    28.74  \n",
       "rho (g/m**3)     1242.765  1393.54  \n",
       "wv (m/s)            2.860    14.01  \n",
       "max. wv (m/s)       4.740    23.50  \n",
       "wd (deg)          234.000   360.00  "
      ]
     },
     "execution_count": 11,
     "metadata": {},
     "output_type": "execute_result"
    }
   ],
   "source": [
    "df_h.describe().T"
   ]
  },
  {
   "cell_type": "markdown",
   "id": "f82a6347",
   "metadata": {},
   "source": [
    "### Wind Velocity\n",
    "\n",
    "While the velocity, in general, can be a negative number, in this context it appears erroneous. We replace all negative values with 0.0. "
   ]
  },
  {
   "cell_type": "code",
   "execution_count": 12,
   "id": "a040758a",
   "metadata": {},
   "outputs": [
    {
     "name": "stderr",
     "output_type": "stream",
     "text": [
      "/home/somnath/install/anaconda3/envs/dl/lib/python3.8/site-packages/pandas/core/indexing.py:1720: SettingWithCopyWarning: \n",
      "A value is trying to be set on a copy of a slice from a DataFrame.\n",
      "Try using .loc[row_indexer,col_indexer] = value instead\n",
      "\n",
      "See the caveats in the documentation: https://pandas.pydata.org/pandas-docs/stable/user_guide/indexing.html#returning-a-view-versus-a-copy\n",
      "  self._setitem_single_column(loc, value, pi)\n",
      "/home/somnath/install/anaconda3/envs/dl/lib/python3.8/site-packages/pandas/core/indexing.py:1720: SettingWithCopyWarning: \n",
      "A value is trying to be set on a copy of a slice from a DataFrame.\n",
      "Try using .loc[row_indexer,col_indexer] = value instead\n",
      "\n",
      "See the caveats in the documentation: https://pandas.pydata.org/pandas-docs/stable/user_guide/indexing.html#returning-a-view-versus-a-copy\n",
      "  self._setitem_single_column(loc, value, pi)\n"
     ]
    }
   ],
   "source": [
    "df_h.loc[df_h['wv (m/s)'] < 0, 'wv (m/s)'] = 0.0\n",
    "df_h.loc[df_h['max. wv (m/s)'] < 0, 'max. wv (m/s)'] = 0.0"
   ]
  },
  {
   "cell_type": "code",
   "execution_count": 13,
   "id": "04862f68",
   "metadata": {},
   "outputs": [
    {
     "data": {
      "text/html": [
       "<div>\n",
       "<style scoped>\n",
       "    .dataframe tbody tr th:only-of-type {\n",
       "        vertical-align: middle;\n",
       "    }\n",
       "\n",
       "    .dataframe tbody tr th {\n",
       "        vertical-align: top;\n",
       "    }\n",
       "\n",
       "    .dataframe thead th {\n",
       "        text-align: right;\n",
       "    }\n",
       "</style>\n",
       "<table border=\"1\" class=\"dataframe\">\n",
       "  <thead>\n",
       "    <tr style=\"text-align: right;\">\n",
       "      <th></th>\n",
       "      <th>count</th>\n",
       "      <th>mean</th>\n",
       "      <th>std</th>\n",
       "      <th>min</th>\n",
       "      <th>25%</th>\n",
       "      <th>50%</th>\n",
       "      <th>75%</th>\n",
       "      <th>max</th>\n",
       "    </tr>\n",
       "  </thead>\n",
       "  <tbody>\n",
       "    <tr>\n",
       "      <th>wv (m/s)</th>\n",
       "      <td>70091.0</td>\n",
       "      <td>2.130539</td>\n",
       "      <td>1.543098</td>\n",
       "      <td>0.0</td>\n",
       "      <td>0.99</td>\n",
       "      <td>1.76</td>\n",
       "      <td>2.86</td>\n",
       "      <td>14.01</td>\n",
       "    </tr>\n",
       "    <tr>\n",
       "      <th>max. wv (m/s)</th>\n",
       "      <td>70091.0</td>\n",
       "      <td>3.533671</td>\n",
       "      <td>2.343417</td>\n",
       "      <td>0.0</td>\n",
       "      <td>1.76</td>\n",
       "      <td>2.98</td>\n",
       "      <td>4.74</td>\n",
       "      <td>23.50</td>\n",
       "    </tr>\n",
       "    <tr>\n",
       "      <th>wd (deg)</th>\n",
       "      <td>70091.0</td>\n",
       "      <td>174.789095</td>\n",
       "      <td>86.619431</td>\n",
       "      <td>0.0</td>\n",
       "      <td>125.30</td>\n",
       "      <td>198.10</td>\n",
       "      <td>234.00</td>\n",
       "      <td>360.00</td>\n",
       "    </tr>\n",
       "  </tbody>\n",
       "</table>\n",
       "</div>"
      ],
      "text/plain": [
       "                 count        mean        std  min     25%     50%     75%  \\\n",
       "wv (m/s)       70091.0    2.130539   1.543098  0.0    0.99    1.76    2.86   \n",
       "max. wv (m/s)  70091.0    3.533671   2.343417  0.0    1.76    2.98    4.74   \n",
       "wd (deg)       70091.0  174.789095  86.619431  0.0  125.30  198.10  234.00   \n",
       "\n",
       "                  max  \n",
       "wv (m/s)        14.01  \n",
       "max. wv (m/s)   23.50  \n",
       "wd (deg)       360.00  "
      ]
     },
     "execution_count": 13,
     "metadata": {},
     "output_type": "execute_result"
    }
   ],
   "source": [
    "df_h[['wv (m/s)', 'max. wv (m/s)', 'wd (deg)']].describe().T"
   ]
  },
  {
   "cell_type": "markdown",
   "id": "2b650971",
   "metadata": {},
   "source": [
    "### Wind\n"
   ]
  },
  {
   "cell_type": "code",
   "execution_count": 14,
   "id": "329082a3",
   "metadata": {},
   "outputs": [
    {
     "data": {
      "text/plain": [
       "Text(0, 0.5, 'Wind Velocity (m/s)')"
      ]
     },
     "execution_count": 14,
     "metadata": {},
     "output_type": "execute_result"
    },
    {
     "data": {
      "image/png": "[encoded data removed]",
      "text/plain": [
       "<Figure size 576x432 with 2 Axes>"
      ]
     },
     "metadata": {
      "needs_background": "light"
     },
     "output_type": "display_data"
    }
   ],
   "source": [
    "_, ax = plt.subplots(1, 1, figsize=(8, 6))\n",
    "plt.hist2d(df_h['wd (deg)'], df_h['wv (m/s)'], bins=[50, 50], vmax=400);\n",
    "plt.colorbar()\n",
    "plt.xlabel('Wind Direction (degree)')\n",
    "plt.ylabel('Wind Velocity (m/s)')"
   ]
  },
  {
   "cell_type": "markdown",
   "id": "fc48c076",
   "metadata": {},
   "source": [
    "Convert the wind velocity and wind direction into a vector."
   ]
  },
  {
   "cell_type": "code",
   "execution_count": 15,
   "id": "8c7f022b",
   "metadata": {},
   "outputs": [],
   "source": [
    "wv = df_h.pop('wv (m/s)')\n",
    "max_wv = df_h.pop('max. wv (m/s)')\n",
    "wd = df_h.pop('wd (deg)')"
   ]
  },
  {
   "cell_type": "code",
   "execution_count": 16,
   "id": "b2085373",
   "metadata": {},
   "outputs": [
    {
     "name": "stderr",
     "output_type": "stream",
     "text": [
      "/home/somnath/install/anaconda3/envs/dl/lib/python3.8/site-packages/pandas/core/indexing.py:1597: SettingWithCopyWarning: \n",
      "A value is trying to be set on a copy of a slice from a DataFrame.\n",
      "Try using .loc[row_indexer,col_indexer] = value instead\n",
      "\n",
      "See the caveats in the documentation: https://pandas.pydata.org/pandas-docs/stable/user_guide/indexing.html#returning-a-view-versus-a-copy\n",
      "  self.obj[key] = value\n",
      "/home/somnath/install/anaconda3/envs/dl/lib/python3.8/site-packages/pandas/core/indexing.py:1676: SettingWithCopyWarning: \n",
      "A value is trying to be set on a copy of a slice from a DataFrame.\n",
      "Try using .loc[row_indexer,col_indexer] = value instead\n",
      "\n",
      "See the caveats in the documentation: https://pandas.pydata.org/pandas-docs/stable/user_guide/indexing.html#returning-a-view-versus-a-copy\n",
      "  self._setitem_single_column(ilocs[0], value, pi)\n"
     ]
    }
   ],
   "source": [
    "# convert wind direction to radians\n",
    "wd = wd * np.pi / 180\n",
    "\n",
    "# Compute the x and y components of wind velocity\n",
    "df_h.loc[:, 'Wx'] = wv * np.cos(wd)\n",
    "df_h.loc[:, 'Wy'] = wv * np.sin(wd)\n",
    "\n",
    "# x and y components of maximum wind velocity\n",
    "df_h.loc[:, 'max_Wx'] = max_wv * np.cos(wd)\n",
    "df_h.loc[:, 'max_Wy'] = max_wv * np.sin(wd)"
   ]
  },
  {
   "cell_type": "code",
   "execution_count": 17,
   "id": "e2bdab51",
   "metadata": {},
   "outputs": [
    {
     "data": {
      "text/plain": [
       "Index(['Date Time', 'p (mbar)', 'T (degC)', 'Tpot (K)', 'Tdew (degC)',\n",
       "       'rh (%)', 'VPmax (mbar)', 'VPact (mbar)', 'VPdef (mbar)', 'sh (g/kg)',\n",
       "       'H2OC (mmol/mol)', 'rho (g/m**3)', 'Wx', 'Wy', 'max_Wx', 'max_Wy'],\n",
       "      dtype='object')"
      ]
     },
     "execution_count": 17,
     "metadata": {},
     "output_type": "execute_result"
    }
   ],
   "source": [
    "df_h.columns"
   ]
  },
  {
   "cell_type": "code",
   "execution_count": 18,
   "id": "bf93f220",
   "metadata": {},
   "outputs": [
    {
     "data": {
      "text/html": [
       "<div>\n",
       "<style scoped>\n",
       "    .dataframe tbody tr th:only-of-type {\n",
       "        vertical-align: middle;\n",
       "    }\n",
       "\n",
       "    .dataframe tbody tr th {\n",
       "        vertical-align: top;\n",
       "    }\n",
       "\n",
       "    .dataframe thead th {\n",
       "        text-align: right;\n",
       "    }\n",
       "</style>\n",
       "<table border=\"1\" class=\"dataframe\">\n",
       "  <thead>\n",
       "    <tr style=\"text-align: right;\">\n",
       "      <th></th>\n",
       "      <th>count</th>\n",
       "      <th>mean</th>\n",
       "      <th>std</th>\n",
       "      <th>min</th>\n",
       "      <th>25%</th>\n",
       "      <th>50%</th>\n",
       "      <th>75%</th>\n",
       "      <th>max</th>\n",
       "    </tr>\n",
       "  </thead>\n",
       "  <tbody>\n",
       "    <tr>\n",
       "      <th>Wx</th>\n",
       "      <td>70091.0</td>\n",
       "      <td>-0.627813</td>\n",
       "      <td>1.987440</td>\n",
       "      <td>-11.305514</td>\n",
       "      <td>-1.470727</td>\n",
       "      <td>-0.633142</td>\n",
       "      <td>0.299975</td>\n",
       "      <td>8.244699</td>\n",
       "    </tr>\n",
       "    <tr>\n",
       "      <th>Wy</th>\n",
       "      <td>70091.0</td>\n",
       "      <td>-0.407068</td>\n",
       "      <td>1.552621</td>\n",
       "      <td>-8.274385</td>\n",
       "      <td>-1.364699</td>\n",
       "      <td>-0.293467</td>\n",
       "      <td>0.450077</td>\n",
       "      <td>7.733831</td>\n",
       "    </tr>\n",
       "  </tbody>\n",
       "</table>\n",
       "</div>"
      ],
      "text/plain": [
       "      count      mean       std        min       25%       50%       75%  \\\n",
       "Wx  70091.0 -0.627813  1.987440 -11.305514 -1.470727 -0.633142  0.299975   \n",
       "Wy  70091.0 -0.407068  1.552621  -8.274385 -1.364699 -0.293467  0.450077   \n",
       "\n",
       "         max  \n",
       "Wx  8.244699  \n",
       "Wy  7.733831  "
      ]
     },
     "execution_count": 18,
     "metadata": {},
     "output_type": "execute_result"
    }
   ],
   "source": [
    "df_h[['Wx', 'Wy']].describe().T"
   ]
  },
  {
   "cell_type": "code",
   "execution_count": 19,
   "id": "99c3afeb",
   "metadata": {},
   "outputs": [
    {
     "data": {
      "image/png": "[encoded data removed]",
      "text/plain": [
       "<Figure size 576x432 with 2 Axes>"
      ]
     },
     "metadata": {
      "needs_background": "light"
     },
     "output_type": "display_data"
    }
   ],
   "source": [
    "_, ax = plt.subplots(1, 1, figsize=(8, 6))\n",
    "plt.hist2d(df_h['Wx'], df_h['Wy'], bins=[50, 50], vmax=400);\n",
    "plt.colorbar()\n",
    "plt.xlabel('Wind x-component')\n",
    "plt.ylabel('Wind y-component');"
   ]
  },
  {
   "cell_type": "markdown",
   "id": "b571ccad",
   "metadata": {},
   "source": [
    "## Time"
   ]
  },
  {
   "cell_type": "code",
   "execution_count": 20,
   "id": "5a87af80",
   "metadata": {},
   "outputs": [
    {
     "name": "stderr",
     "output_type": "stream",
     "text": [
      "/home/somnath/install/anaconda3/envs/dl/lib/python3.8/site-packages/pandas/core/indexing.py:1676: SettingWithCopyWarning: \n",
      "A value is trying to be set on a copy of a slice from a DataFrame.\n",
      "Try using .loc[row_indexer,col_indexer] = value instead\n",
      "\n",
      "See the caveats in the documentation: https://pandas.pydata.org/pandas-docs/stable/user_guide/indexing.html#returning-a-view-versus-a-copy\n",
      "  self._setitem_single_column(ilocs[0], value, pi)\n"
     ]
    },
    {
     "data": {
      "text/plain": [
       "5     1.230772e+09\n",
       "11    1.230775e+09\n",
       "17    1.230779e+09\n",
       "23    1.230782e+09\n",
       "29    1.230786e+09\n",
       "Name: Date Time, dtype: float64"
      ]
     },
     "execution_count": 20,
     "metadata": {},
     "output_type": "execute_result"
    }
   ],
   "source": [
    "df_h.loc[:, 'Date Time'] = pd.to_datetime(df_h['Date Time'])\n",
    "df_h['Date Time'].map(pd.Timestamp.timestamp).head()"
   ]
  },
  {
   "cell_type": "markdown",
   "id": "f0941009",
   "metadata": {},
   "source": [
    "### Convert Time into Sine-Cosine Signals"
   ]
  },
  {
   "cell_type": "code",
   "execution_count": 21,
   "id": "80efe981",
   "metadata": {},
   "outputs": [],
   "source": [
    "df_h.loc[:, 'Date Time'] = df_h['Date Time'].map(pd.Timestamp.timestamp)"
   ]
  },
  {
   "cell_type": "code",
   "execution_count": 22,
   "id": "6e6fcee5",
   "metadata": {},
   "outputs": [
    {
     "name": "stderr",
     "output_type": "stream",
     "text": [
      "/home/somnath/install/anaconda3/envs/dl/lib/python3.8/site-packages/pandas/core/indexing.py:1597: SettingWithCopyWarning: \n",
      "A value is trying to be set on a copy of a slice from a DataFrame.\n",
      "Try using .loc[row_indexer,col_indexer] = value instead\n",
      "\n",
      "See the caveats in the documentation: https://pandas.pydata.org/pandas-docs/stable/user_guide/indexing.html#returning-a-view-versus-a-copy\n",
      "  self.obj[key] = value\n"
     ]
    }
   ],
   "source": [
    "days = 24 * 60 * 60\n",
    "year = days * 365.25\n",
    "\n",
    "df_h.loc[:, 'Day sin'] = np.sin(df_h['Date Time'] * 2 * np.pi / days)\n",
    "df_h.loc[:, 'Day cos'] = np.cos(df_h['Date Time'] * 2 * np.pi / days)\n",
    "df_h.loc[:, 'Year sin'] = np.sin(df_h['Date Time'] * 2 * np.pi / year)\n",
    "df_h.loc[:, 'Year cos'] = np.cos(df_h['Date Time'] * 2 * np.pi / year)"
   ]
  },
  {
   "cell_type": "code",
   "execution_count": 23,
   "id": "fb9b00ad",
   "metadata": {},
   "outputs": [
    {
     "data": {
      "image/png": "[encoded data removed]",
      "text/plain": [
       "<Figure size 864x432 with 1 Axes>"
      ]
     },
     "metadata": {
      "needs_background": "light"
     },
     "output_type": "display_data"
    }
   ],
   "source": [
    "plt.plot(df_h['Day sin'].values[:25], label='Day sin signal')\n",
    "plt.plot(df_h['Day cos'].values[:25], label='Day cos signal')\n",
    "plt.xlabel('Time')\n",
    "plt.legend();"
   ]
  },
  {
   "cell_type": "code",
   "execution_count": 24,
   "id": "45fdab41",
   "metadata": {},
   "outputs": [
    {
     "data": {
      "text/plain": [
       "Index(['Date Time', 'p (mbar)', 'T (degC)', 'Tpot (K)', 'Tdew (degC)',\n",
       "       'rh (%)', 'VPmax (mbar)', 'VPact (mbar)', 'VPdef (mbar)', 'sh (g/kg)',\n",
       "       'H2OC (mmol/mol)', 'rho (g/m**3)', 'Wx', 'Wy', 'max_Wx', 'max_Wy',\n",
       "       'Day sin', 'Day cos', 'Year sin', 'Year cos'],\n",
       "      dtype='object')"
      ]
     },
     "execution_count": 24,
     "metadata": {},
     "output_type": "execute_result"
    }
   ],
   "source": [
    "df_h.columns"
   ]
  },
  {
   "cell_type": "code",
   "execution_count": 25,
   "id": "4cf54e44",
   "metadata": {},
   "outputs": [
    {
     "data": {
      "text/plain": [
       "5         1.230772e+09\n",
       "11        1.230775e+09\n",
       "17        1.230779e+09\n",
       "23        1.230782e+09\n",
       "29        1.230786e+09\n",
       "              ...     \n",
       "420521    1.483211e+09\n",
       "420527    1.483215e+09\n",
       "420533    1.483219e+09\n",
       "420539    1.483222e+09\n",
       "420545    1.483226e+09\n",
       "Name: Date Time, Length: 70091, dtype: float64"
      ]
     },
     "execution_count": 25,
     "metadata": {},
     "output_type": "execute_result"
    }
   ],
   "source": [
    "df_h.pop('Date Time')"
   ]
  },
  {
   "cell_type": "code",
   "execution_count": 26,
   "id": "28dfb92b",
   "metadata": {},
   "outputs": [
    {
     "data": {
      "text/plain": [
       "Index(['p (mbar)', 'T (degC)', 'Tpot (K)', 'Tdew (degC)', 'rh (%)',\n",
       "       'VPmax (mbar)', 'VPact (mbar)', 'VPdef (mbar)', 'sh (g/kg)',\n",
       "       'H2OC (mmol/mol)', 'rho (g/m**3)', 'Wx', 'Wy', 'max_Wx', 'max_Wy',\n",
       "       'Day sin', 'Day cos', 'Year sin', 'Year cos'],\n",
       "      dtype='object')"
      ]
     },
     "execution_count": 26,
     "metadata": {},
     "output_type": "execute_result"
    }
   ],
   "source": [
    "df_h.columns"
   ]
  },
  {
   "cell_type": "markdown",
   "id": "c07daf46",
   "metadata": {},
   "source": [
    "## Data Splitting"
   ]
  },
  {
   "cell_type": "code",
   "execution_count": 27,
   "id": "b4307de1",
   "metadata": {},
   "outputs": [],
   "source": [
    "column_indices = {name: idx for idx, name in enumerate(df_h.columns)}\n",
    "n = df_h.shape[0]\n",
    "\n",
    "df_train = df_h.iloc[0 : int(0.7 * n)]\n",
    "df_val = df_h.iloc[int(0.7 * n) : int(0.9 * n)]\n",
    "df_test = df_h.iloc[int(0.9 * n) : ]"
   ]
  },
  {
   "cell_type": "markdown",
   "id": "33ea28a0",
   "metadata": {},
   "source": [
    "## Data Normalization"
   ]
  },
  {
   "cell_type": "code",
   "execution_count": 28,
   "id": "efdbbd84",
   "metadata": {},
   "outputs": [],
   "source": [
    "train_mean = df_train.mean()\n",
    "train_std = df_train.std()"
   ]
  },
  {
   "cell_type": "code",
   "execution_count": 29,
   "id": "467582df",
   "metadata": {},
   "outputs": [
    {
     "data": {
      "text/html": [
       "<div>\n",
       "<style scoped>\n",
       "    .dataframe tbody tr th:only-of-type {\n",
       "        vertical-align: middle;\n",
       "    }\n",
       "\n",
       "    .dataframe tbody tr th {\n",
       "        vertical-align: top;\n",
       "    }\n",
       "\n",
       "    .dataframe thead th {\n",
       "        text-align: right;\n",
       "    }\n",
       "</style>\n",
       "<table border=\"1\" class=\"dataframe\">\n",
       "  <thead>\n",
       "    <tr style=\"text-align: right;\">\n",
       "      <th></th>\n",
       "      <th>index</th>\n",
       "      <th>0</th>\n",
       "    </tr>\n",
       "  </thead>\n",
       "  <tbody>\n",
       "    <tr>\n",
       "      <th>0</th>\n",
       "      <td>p (mbar)</td>\n",
       "      <td>988.656343</td>\n",
       "    </tr>\n",
       "    <tr>\n",
       "      <th>1</th>\n",
       "      <td>T (degC)</td>\n",
       "      <td>9.108207</td>\n",
       "    </tr>\n",
       "    <tr>\n",
       "      <th>2</th>\n",
       "      <td>Tpot (K)</td>\n",
       "      <td>283.194958</td>\n",
       "    </tr>\n",
       "    <tr>\n",
       "      <th>3</th>\n",
       "      <td>Tdew (degC)</td>\n",
       "      <td>4.599605</td>\n",
       "    </tr>\n",
       "    <tr>\n",
       "      <th>4</th>\n",
       "      <td>rh (%)</td>\n",
       "      <td>75.906008</td>\n",
       "    </tr>\n",
       "    <tr>\n",
       "      <th>5</th>\n",
       "      <td>VPmax (mbar)</td>\n",
       "      <td>13.355098</td>\n",
       "    </tr>\n",
       "    <tr>\n",
       "      <th>6</th>\n",
       "      <td>VPact (mbar)</td>\n",
       "      <td>9.356960</td>\n",
       "    </tr>\n",
       "    <tr>\n",
       "      <th>7</th>\n",
       "      <td>VPdef (mbar)</td>\n",
       "      <td>3.998056</td>\n",
       "    </tr>\n",
       "    <tr>\n",
       "      <th>8</th>\n",
       "      <td>sh (g/kg)</td>\n",
       "      <td>5.913550</td>\n",
       "    </tr>\n",
       "    <tr>\n",
       "      <th>9</th>\n",
       "      <td>H2OC (mmol/mol)</td>\n",
       "      <td>9.466371</td>\n",
       "    </tr>\n",
       "    <tr>\n",
       "      <th>10</th>\n",
       "      <td>rho (g/m**3)</td>\n",
       "      <td>1216.994357</td>\n",
       "    </tr>\n",
       "    <tr>\n",
       "      <th>11</th>\n",
       "      <td>Wx</td>\n",
       "      <td>-0.594182</td>\n",
       "    </tr>\n",
       "    <tr>\n",
       "      <th>12</th>\n",
       "      <td>Wy</td>\n",
       "      <td>-0.391513</td>\n",
       "    </tr>\n",
       "    <tr>\n",
       "      <th>13</th>\n",
       "      <td>max_Wx</td>\n",
       "      <td>-0.962159</td>\n",
       "    </tr>\n",
       "    <tr>\n",
       "      <th>14</th>\n",
       "      <td>max_Wy</td>\n",
       "      <td>-0.709401</td>\n",
       "    </tr>\n",
       "    <tr>\n",
       "      <th>15</th>\n",
       "      <td>Day sin</td>\n",
       "      <td>-0.000054</td>\n",
       "    </tr>\n",
       "    <tr>\n",
       "      <th>16</th>\n",
       "      <td>Day cos</td>\n",
       "      <td>-0.000072</td>\n",
       "    </tr>\n",
       "    <tr>\n",
       "      <th>17</th>\n",
       "      <td>Year sin</td>\n",
       "      <td>0.033410</td>\n",
       "    </tr>\n",
       "    <tr>\n",
       "      <th>18</th>\n",
       "      <td>Year cos</td>\n",
       "      <td>-0.010363</td>\n",
       "    </tr>\n",
       "  </tbody>\n",
       "</table>\n",
       "</div>"
      ],
      "text/plain": [
       "              index            0\n",
       "0          p (mbar)   988.656343\n",
       "1          T (degC)     9.108207\n",
       "2          Tpot (K)   283.194958\n",
       "3       Tdew (degC)     4.599605\n",
       "4            rh (%)    75.906008\n",
       "5      VPmax (mbar)    13.355098\n",
       "6      VPact (mbar)     9.356960\n",
       "7      VPdef (mbar)     3.998056\n",
       "8         sh (g/kg)     5.913550\n",
       "9   H2OC (mmol/mol)     9.466371\n",
       "10     rho (g/m**3)  1216.994357\n",
       "11               Wx    -0.594182\n",
       "12               Wy    -0.391513\n",
       "13           max_Wx    -0.962159\n",
       "14           max_Wy    -0.709401\n",
       "15          Day sin    -0.000054\n",
       "16          Day cos    -0.000072\n",
       "17         Year sin     0.033410\n",
       "18         Year cos    -0.010363"
      ]
     },
     "execution_count": 29,
     "metadata": {},
     "output_type": "execute_result"
    }
   ],
   "source": [
    "train_mean.reset_index()"
   ]
  },
  {
   "cell_type": "code",
   "execution_count": 30,
   "id": "d5a35312",
   "metadata": {},
   "outputs": [
    {
     "data": {
      "text/html": [
       "<div>\n",
       "<style scoped>\n",
       "    .dataframe tbody tr th:only-of-type {\n",
       "        vertical-align: middle;\n",
       "    }\n",
       "\n",
       "    .dataframe tbody tr th {\n",
       "        vertical-align: top;\n",
       "    }\n",
       "\n",
       "    .dataframe thead th {\n",
       "        text-align: right;\n",
       "    }\n",
       "</style>\n",
       "<table border=\"1\" class=\"dataframe\">\n",
       "  <thead>\n",
       "    <tr style=\"text-align: right;\">\n",
       "      <th></th>\n",
       "      <th>index</th>\n",
       "      <th>0</th>\n",
       "    </tr>\n",
       "  </thead>\n",
       "  <tbody>\n",
       "    <tr>\n",
       "      <th>0</th>\n",
       "      <td>p (mbar)</td>\n",
       "      <td>8.297466</td>\n",
       "    </tr>\n",
       "    <tr>\n",
       "      <th>1</th>\n",
       "      <td>T (degC)</td>\n",
       "      <td>8.654950</td>\n",
       "    </tr>\n",
       "    <tr>\n",
       "      <th>2</th>\n",
       "      <td>Tpot (K)</td>\n",
       "      <td>8.724746</td>\n",
       "    </tr>\n",
       "    <tr>\n",
       "      <th>3</th>\n",
       "      <td>Tdew (degC)</td>\n",
       "      <td>6.972275</td>\n",
       "    </tr>\n",
       "    <tr>\n",
       "      <th>4</th>\n",
       "      <td>rh (%)</td>\n",
       "      <td>16.555336</td>\n",
       "    </tr>\n",
       "    <tr>\n",
       "      <th>5</th>\n",
       "      <td>VPmax (mbar)</td>\n",
       "      <td>7.694738</td>\n",
       "    </tr>\n",
       "    <tr>\n",
       "      <th>6</th>\n",
       "      <td>VPact (mbar)</td>\n",
       "      <td>4.208260</td>\n",
       "    </tr>\n",
       "    <tr>\n",
       "      <th>7</th>\n",
       "      <td>VPdef (mbar)</td>\n",
       "      <td>4.817741</td>\n",
       "    </tr>\n",
       "    <tr>\n",
       "      <th>8</th>\n",
       "      <td>sh (g/kg)</td>\n",
       "      <td>2.671252</td>\n",
       "    </tr>\n",
       "    <tr>\n",
       "      <th>9</th>\n",
       "      <td>H2OC (mmol/mol)</td>\n",
       "      <td>4.260055</td>\n",
       "    </tr>\n",
       "    <tr>\n",
       "      <th>10</th>\n",
       "      <td>rho (g/m**3)</td>\n",
       "      <td>40.957704</td>\n",
       "    </tr>\n",
       "    <tr>\n",
       "      <th>11</th>\n",
       "      <td>Wx</td>\n",
       "      <td>2.012931</td>\n",
       "    </tr>\n",
       "    <tr>\n",
       "      <th>12</th>\n",
       "      <td>Wy</td>\n",
       "      <td>1.561507</td>\n",
       "    </tr>\n",
       "    <tr>\n",
       "      <th>13</th>\n",
       "      <td>max_Wx</td>\n",
       "      <td>3.127322</td>\n",
       "    </tr>\n",
       "    <tr>\n",
       "      <th>14</th>\n",
       "      <td>max_Wy</td>\n",
       "      <td>2.619663</td>\n",
       "    </tr>\n",
       "    <tr>\n",
       "      <th>15</th>\n",
       "      <td>Day sin</td>\n",
       "      <td>0.707091</td>\n",
       "    </tr>\n",
       "    <tr>\n",
       "      <th>16</th>\n",
       "      <td>Day cos</td>\n",
       "      <td>0.707137</td>\n",
       "    </tr>\n",
       "    <tr>\n",
       "      <th>17</th>\n",
       "      <td>Year sin</td>\n",
       "      <td>0.704171</td>\n",
       "    </tr>\n",
       "    <tr>\n",
       "      <th>18</th>\n",
       "      <td>Year cos</td>\n",
       "      <td>0.709182</td>\n",
       "    </tr>\n",
       "  </tbody>\n",
       "</table>\n",
       "</div>"
      ],
      "text/plain": [
       "              index          0\n",
       "0          p (mbar)   8.297466\n",
       "1          T (degC)   8.654950\n",
       "2          Tpot (K)   8.724746\n",
       "3       Tdew (degC)   6.972275\n",
       "4            rh (%)  16.555336\n",
       "5      VPmax (mbar)   7.694738\n",
       "6      VPact (mbar)   4.208260\n",
       "7      VPdef (mbar)   4.817741\n",
       "8         sh (g/kg)   2.671252\n",
       "9   H2OC (mmol/mol)   4.260055\n",
       "10     rho (g/m**3)  40.957704\n",
       "11               Wx   2.012931\n",
       "12               Wy   1.561507\n",
       "13           max_Wx   3.127322\n",
       "14           max_Wy   2.619663\n",
       "15          Day sin   0.707091\n",
       "16          Day cos   0.707137\n",
       "17         Year sin   0.704171\n",
       "18         Year cos   0.709182"
      ]
     },
     "execution_count": 30,
     "metadata": {},
     "output_type": "execute_result"
    }
   ],
   "source": [
    "train_std.reset_index()"
   ]
  },
  {
   "cell_type": "code",
   "execution_count": 31,
   "id": "bc886e41",
   "metadata": {},
   "outputs": [],
   "source": [
    "norm_train = (df_train - train_mean) / train_std\n",
    "norm_val = (df_val - train_mean) / train_std\n",
    "norm_test = (df_test - train_mean) / train_std"
   ]
  },
  {
   "cell_type": "code",
   "execution_count": 32,
   "id": "bb45d9ac",
   "metadata": {},
   "outputs": [
    {
     "data": {
      "text/html": [
       "<div>\n",
       "<style scoped>\n",
       "    .dataframe tbody tr th:only-of-type {\n",
       "        vertical-align: middle;\n",
       "    }\n",
       "\n",
       "    .dataframe tbody tr th {\n",
       "        vertical-align: top;\n",
       "    }\n",
       "\n",
       "    .dataframe thead th {\n",
       "        text-align: right;\n",
       "    }\n",
       "</style>\n",
       "<table border=\"1\" class=\"dataframe\">\n",
       "  <thead>\n",
       "    <tr style=\"text-align: right;\">\n",
       "      <th></th>\n",
       "      <th>p (mbar)</th>\n",
       "      <th>T (degC)</th>\n",
       "      <th>Tpot (K)</th>\n",
       "      <th>Tdew (degC)</th>\n",
       "      <th>rh (%)</th>\n",
       "      <th>VPmax (mbar)</th>\n",
       "      <th>VPact (mbar)</th>\n",
       "      <th>VPdef (mbar)</th>\n",
       "      <th>sh (g/kg)</th>\n",
       "      <th>H2OC (mmol/mol)</th>\n",
       "      <th>rho (g/m**3)</th>\n",
       "      <th>Wx</th>\n",
       "      <th>Wy</th>\n",
       "      <th>max_Wx</th>\n",
       "      <th>max_Wy</th>\n",
       "      <th>Day sin</th>\n",
       "      <th>Day cos</th>\n",
       "      <th>Year sin</th>\n",
       "      <th>Year cos</th>\n",
       "    </tr>\n",
       "  </thead>\n",
       "  <tbody>\n",
       "    <tr>\n",
       "      <th>5</th>\n",
       "      <td>0.945308</td>\n",
       "      <td>-1.982473</td>\n",
       "      <td>-2.041888</td>\n",
       "      <td>-1.918973</td>\n",
       "      <td>1.117102</td>\n",
       "      <td>-1.302851</td>\n",
       "      <td>-1.477323</td>\n",
       "      <td>-0.790424</td>\n",
       "      <td>-1.480036</td>\n",
       "      <td>-1.482697</td>\n",
       "      <td>2.218524</td>\n",
       "      <td>0.193409</td>\n",
       "      <td>0.221161</td>\n",
       "      <td>0.111140</td>\n",
       "      <td>0.217928</td>\n",
       "      <td>0.366111</td>\n",
       "      <td>1.366069</td>\n",
       "      <td>-0.040321</td>\n",
       "      <td>1.424669</td>\n",
       "    </tr>\n",
       "    <tr>\n",
       "      <th>11</th>\n",
       "      <td>0.959770</td>\n",
       "      <td>-2.078372</td>\n",
       "      <td>-2.138166</td>\n",
       "      <td>-2.060964</td>\n",
       "      <td>1.044617</td>\n",
       "      <td>-1.330143</td>\n",
       "      <td>-1.534354</td>\n",
       "      <td>-0.786272</td>\n",
       "      <td>-1.536190</td>\n",
       "      <td>-1.539035</td>\n",
       "      <td>2.325708</td>\n",
       "      <td>0.172987</td>\n",
       "      <td>0.222101</td>\n",
       "      <td>0.109458</td>\n",
       "      <td>0.227798</td>\n",
       "      <td>0.707200</td>\n",
       "      <td>1.224794</td>\n",
       "      <td>-0.039303</td>\n",
       "      <td>1.424663</td>\n",
       "    </tr>\n",
       "    <tr>\n",
       "      <th>17</th>\n",
       "      <td>0.986284</td>\n",
       "      <td>-2.070284</td>\n",
       "      <td>-2.132435</td>\n",
       "      <td>-2.045187</td>\n",
       "      <td>1.062738</td>\n",
       "      <td>-1.328843</td>\n",
       "      <td>-1.527225</td>\n",
       "      <td>-0.788348</td>\n",
       "      <td>-1.528703</td>\n",
       "      <td>-1.531992</td>\n",
       "      <td>2.323998</td>\n",
       "      <td>0.207983</td>\n",
       "      <td>0.276266</td>\n",
       "      <td>0.111218</td>\n",
       "      <td>0.324078</td>\n",
       "      <td>1.000100</td>\n",
       "      <td>1.000059</td>\n",
       "      <td>-0.038285</td>\n",
       "      <td>1.424657</td>\n",
       "    </tr>\n",
       "    <tr>\n",
       "      <th>23</th>\n",
       "      <td>1.004362</td>\n",
       "      <td>-2.098014</td>\n",
       "      <td>-2.161090</td>\n",
       "      <td>-2.096820</td>\n",
       "      <td>1.008375</td>\n",
       "      <td>-1.336641</td>\n",
       "      <td>-1.546235</td>\n",
       "      <td>-0.782121</td>\n",
       "      <td>-1.547420</td>\n",
       "      <td>-1.553119</td>\n",
       "      <td>2.358913</td>\n",
       "      <td>0.270343</td>\n",
       "      <td>0.195267</td>\n",
       "      <td>0.246907</td>\n",
       "      <td>0.145176</td>\n",
       "      <td>1.224850</td>\n",
       "      <td>0.707179</td>\n",
       "      <td>-0.037267</td>\n",
       "      <td>1.424650</td>\n",
       "    </tr>\n",
       "    <tr>\n",
       "      <th>29</th>\n",
       "      <td>1.061006</td>\n",
       "      <td>-2.165028</td>\n",
       "      <td>-2.232152</td>\n",
       "      <td>-2.187178</td>\n",
       "      <td>0.984214</td>\n",
       "      <td>-1.353535</td>\n",
       "      <td>-1.579503</td>\n",
       "      <td>-0.782121</td>\n",
       "      <td>-1.581113</td>\n",
       "      <td>-1.585982</td>\n",
       "      <td>2.446320</td>\n",
       "      <td>0.112264</td>\n",
       "      <td>0.350818</td>\n",
       "      <td>0.048640</td>\n",
       "      <td>0.402053</td>\n",
       "      <td>1.366133</td>\n",
       "      <td>0.366112</td>\n",
       "      <td>-0.036249</td>\n",
       "      <td>1.424643</td>\n",
       "    </tr>\n",
       "  </tbody>\n",
       "</table>\n",
       "</div>"
      ],
      "text/plain": [
       "    p (mbar)  T (degC)  Tpot (K)  Tdew (degC)    rh (%)  VPmax (mbar)  \\\n",
       "5   0.945308 -1.982473 -2.041888    -1.918973  1.117102     -1.302851   \n",
       "11  0.959770 -2.078372 -2.138166    -2.060964  1.044617     -1.330143   \n",
       "17  0.986284 -2.070284 -2.132435    -2.045187  1.062738     -1.328843   \n",
       "23  1.004362 -2.098014 -2.161090    -2.096820  1.008375     -1.336641   \n",
       "29  1.061006 -2.165028 -2.232152    -2.187178  0.984214     -1.353535   \n",
       "\n",
       "    VPact (mbar)  VPdef (mbar)  sh (g/kg)  H2OC (mmol/mol)  rho (g/m**3)  \\\n",
       "5      -1.477323     -0.790424  -1.480036        -1.482697      2.218524   \n",
       "11     -1.534354     -0.786272  -1.536190        -1.539035      2.325708   \n",
       "17     -1.527225     -0.788348  -1.528703        -1.531992      2.323998   \n",
       "23     -1.546235     -0.782121  -1.547420        -1.553119      2.358913   \n",
       "29     -1.579503     -0.782121  -1.581113        -1.585982      2.446320   \n",
       "\n",
       "          Wx        Wy    max_Wx    max_Wy   Day sin   Day cos  Year sin  \\\n",
       "5   0.193409  0.221161  0.111140  0.217928  0.366111  1.366069 -0.040321   \n",
       "11  0.172987  0.222101  0.109458  0.227798  0.707200  1.224794 -0.039303   \n",
       "17  0.207983  0.276266  0.111218  0.324078  1.000100  1.000059 -0.038285   \n",
       "23  0.270343  0.195267  0.246907  0.145176  1.224850  0.707179 -0.037267   \n",
       "29  0.112264  0.350818  0.048640  0.402053  1.366133  0.366112 -0.036249   \n",
       "\n",
       "    Year cos  \n",
       "5   1.424669  \n",
       "11  1.424663  \n",
       "17  1.424657  \n",
       "23  1.424650  \n",
       "29  1.424643  "
      ]
     },
     "execution_count": 32,
     "metadata": {},
     "output_type": "execute_result"
    }
   ],
   "source": [
    "norm_train.head()"
   ]
  },
  {
   "cell_type": "markdown",
   "id": "e00a866c",
   "metadata": {},
   "source": [
    "## Distribution of Features"
   ]
  },
  {
   "cell_type": "code",
   "execution_count": 33,
   "id": "7058fe1c",
   "metadata": {},
   "outputs": [
    {
     "data": {
      "text/html": [
       "<div>\n",
       "<style scoped>\n",
       "    .dataframe tbody tr th:only-of-type {\n",
       "        vertical-align: middle;\n",
       "    }\n",
       "\n",
       "    .dataframe tbody tr th {\n",
       "        vertical-align: top;\n",
       "    }\n",
       "\n",
       "    .dataframe thead th {\n",
       "        text-align: right;\n",
       "    }\n",
       "</style>\n",
       "<table border=\"1\" class=\"dataframe\">\n",
       "  <thead>\n",
       "    <tr style=\"text-align: right;\">\n",
       "      <th></th>\n",
       "      <th>Columns</th>\n",
       "      <th>Normalized</th>\n",
       "    </tr>\n",
       "  </thead>\n",
       "  <tbody>\n",
       "    <tr>\n",
       "      <th>0</th>\n",
       "      <td>p (mbar)</td>\n",
       "      <td>0.945308</td>\n",
       "    </tr>\n",
       "    <tr>\n",
       "      <th>1</th>\n",
       "      <td>p (mbar)</td>\n",
       "      <td>0.959770</td>\n",
       "    </tr>\n",
       "    <tr>\n",
       "      <th>2</th>\n",
       "      <td>p (mbar)</td>\n",
       "      <td>0.986284</td>\n",
       "    </tr>\n",
       "    <tr>\n",
       "      <th>3</th>\n",
       "      <td>p (mbar)</td>\n",
       "      <td>1.004362</td>\n",
       "    </tr>\n",
       "    <tr>\n",
       "      <th>4</th>\n",
       "      <td>p (mbar)</td>\n",
       "      <td>1.061006</td>\n",
       "    </tr>\n",
       "  </tbody>\n",
       "</table>\n",
       "</div>"
      ],
      "text/plain": [
       "    Columns  Normalized\n",
       "0  p (mbar)    0.945308\n",
       "1  p (mbar)    0.959770\n",
       "2  p (mbar)    0.986284\n",
       "3  p (mbar)    1.004362\n",
       "4  p (mbar)    1.061006"
      ]
     },
     "execution_count": 33,
     "metadata": {},
     "output_type": "execute_result"
    }
   ],
   "source": [
    "df_std = (df_h - train_mean) / train_std\n",
    "df_std = df_std.melt(var_name='Columns', value_name='Normalized')\n",
    "df_std.head()"
   ]
  },
  {
   "cell_type": "code",
   "execution_count": 34,
   "id": "4c48da6f",
   "metadata": {},
   "outputs": [
    {
     "data": {
      "image/png": "[encoded data removed]",
      "text/plain": [
       "<Figure size 864x432 with 1 Axes>"
      ]
     },
     "metadata": {
      "needs_background": "light"
     },
     "output_type": "display_data"
    }
   ],
   "source": [
    "ax = sns.boxplot(x=\"Columns\", y=\"Normalized\", data=df_std, palette=\"Set3\");\n",
    "ax.set_xticklabels(labels=df_h.columns, rotation=90);"
   ]
  },
  {
   "cell_type": "markdown",
   "id": "87a17db7",
   "metadata": {},
   "source": [
    "## Save Train, Validation and Test Data"
   ]
  },
  {
   "cell_type": "code",
   "execution_count": 35,
   "id": "1f71b2b6",
   "metadata": {},
   "outputs": [],
   "source": [
    "norm_train.to_csv('norm_train.csv', index=False)\n",
    "norm_val.to_csv('norm_val.csv', index=False)\n",
    "norm_test.to_csv('norm_test.csv', index=False)"
   ]
  }
 ],
 "metadata": {
  "kernelspec": {
   "display_name": "dl",
   "language": "python",
   "name": "dl"
  },
  "language_info": {
   "codemirror_mode": {
    "name": "ipython",
    "version": 3
   },
   "file_extension": ".py",
   "mimetype": "text/x-python",
   "name": "python",
   "nbconvert_exporter": "python",
   "pygments_lexer": "ipython3",
   "version": "3.8.10"
  }
 },
 "nbformat": 4,
 "nbformat_minor": 5
}
