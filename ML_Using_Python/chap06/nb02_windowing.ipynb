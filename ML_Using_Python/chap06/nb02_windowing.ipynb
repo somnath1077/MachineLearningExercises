{
 "cells": [
  {
   "cell_type": "markdown",
   "id": "bbfcbb84",
   "metadata": {},
   "source": [
    "# Setup"
   ]
  },
  {
   "cell_type": "code",
   "execution_count": 1,
   "id": "1e95c1a5",
   "metadata": {},
   "outputs": [],
   "source": [
    "import os\n",
    "import datetime\n",
    "\n",
    "import IPython\n",
    "import IPython.display\n",
    "import matplotlib as mpl\n",
    "import matplotlib.pyplot as plt\n",
    "import numpy as np\n",
    "import pandas as pd\n",
    "import seaborn as sns\n",
    "import tensorflow as tf\n",
    "\n",
    "from typing import List, Tuple\n",
    "\n",
    "mpl.rcParams['figure.figsize'] = (12, 6)\n",
    "mpl.rcParams['axes.grid'] = False"
   ]
  },
  {
   "cell_type": "markdown",
   "id": "588110ed",
   "metadata": {},
   "source": [
    "# Data Loading"
   ]
  },
  {
   "cell_type": "code",
   "execution_count": 2,
   "id": "13b54156",
   "metadata": {},
   "outputs": [],
   "source": [
    "TRAIN_DATA = 'norm_train.csv'\n",
    "VAL_DATA = 'norm_val.csv'\n",
    "TEST_DATA = 'norm_test.csv'"
   ]
  },
  {
   "cell_type": "code",
   "execution_count": 3,
   "id": "ab9c90cb",
   "metadata": {},
   "outputs": [],
   "source": [
    "norm_train = pd.read_csv(TRAIN_DATA)\n",
    "norm_val = pd.read_csv(VAL_DATA)\n",
    "norm_test = pd.read_csv(TEST_DATA)"
   ]
  },
  {
   "cell_type": "markdown",
   "id": "00838098",
   "metadata": {},
   "source": [
    "# Data Windowing\n",
    "\n",
    "A window is a sample of the data that consists of consecutive time steps. For the purposes of training, we take two consecutive sub-samples from each window. The input data is taken from the first sub-sample and the labels from the second sub-sample. Call the first sub-sample the _input window_ and the second sub-sample as the _labels window_. The idea then is to train the model on the input window to predict the labels from the labels window. This corresponds to what we want in practice: given the weather data for the last so-many days, predict the weather for the next so-many days. Note that the input and labels window may not be flush with each other, that is, there may be a time gap between them.\n",
    "\n",
    "The main features of a window are:\n",
    "\n",
    "1. the number of time steps in the input and labels windows\n",
    "2. the time offset between the input and label windows\n",
    "3. which features are used as inputs/labels"
   ]
  },
  {
   "cell_type": "code",
   "execution_count": 4,
   "id": "49476cec",
   "metadata": {},
   "outputs": [],
   "source": [
    "class WindowGenerator():\n",
    "    def __init__(self,\n",
    "                 input_width: int,\n",
    "                 label_width: int,\n",
    "                 offset: int,\n",
    "                 train_df: pd.DataFrame,\n",
    "                 val_df: pd.DataFrame,\n",
    "                 test_df: pd.DataFrame,\n",
    "                 label_columns: List[str]):\n",
    "        # Store raw data\n",
    "        self.train_df = train_df\n",
    "        self.test_df = test_df\n",
    "        self.val_df = val_df\n",
    "\n",
    "        # Store column indices\n",
    "        self.label_columns = label_columns\n",
    "        if label_columns is not None:\n",
    "            self.label_columns_indices = {name: idx for idx, name in enumerate(label_columns)}\n",
    "\n",
    "        self.column_indices = {name: idx for idx, name in enumerate(train_df.columns)}\n",
    "\n",
    "        # Window size params\n",
    "        # offset = number of time steps after the input_width till the end of the label_width\n",
    "        self.input_width = input_width\n",
    "        self.label_width = label_width\n",
    "        self.offset = offset\n",
    "\n",
    "        self.total_window_size = input_width + offset\n",
    "\n",
    "        self.input_slice = slice(0, input_width)\n",
    "        self.input_indices = np.arange(self.total_window_size)[self.input_slice]\n",
    "\n",
    "        self.label_start = self.total_window_size - self.label_width\n",
    "        self.label_slice = slice(self.label_start, None)\n",
    "        self.label_indices = np.arange(self.total_window_size)[self.label_slice]\n",
    "\n",
    "    def __repr__(self):\n",
    "        return '\\n'.join([\n",
    "            f'Total window size: {self.total_window_size}',\n",
    "            f'Input indices: {self.input_indices}',\n",
    "            f'Label indices: {self.label_indices}',\n",
    "            f'Label column name(s): {self.label_columns}'\n",
    "        ])\n",
    "\n",
    "    def split_window(self, features: tf.Tensor) -> Tuple[tf.Tensor, tf.Tensor]:\n",
    "        \"\"\"\n",
    "            features is a tensor of rank 3: (batches, time steps, features)\n",
    "\n",
    "            Returns a tuple consisting of the (inputs, labels)\n",
    "        \"\"\"\n",
    "        inputs = features[:, self.input_slice, :]\n",
    "        labels = features[:, self.label_slice, :]\n",
    "\n",
    "        if self.label_columns is not None:\n",
    "            # stack on the last axis\n",
    "            labels = tf.stack([labels[:, :, self.column_indices[name]]\n",
    "                               for name in self.label_columns],\n",
    "                              axis=-1)\n",
    "        # Slicing doesn't preserve static shape information, so set the shapes\n",
    "        # manually. This way the `tf.data.Datasets` are easier to inspect.\n",
    "        inputs.set_shape([None, self.input_width, None])\n",
    "        labels.set_shape([None, self.label_width, None])\n",
    "\n",
    "        return inputs, labels\n",
    "\n",
    "    def make_dataset(self, data_frame: pd.DataFrame):\n",
    "        # df_values = np.array(data_frame, dtype=np.float64)\n",
    "        df_values = data_frame.to_numpy(dtype=np.float64)\n",
    "        ds = tf.keras.preprocessing.timeseries_dataset_from_array(\n",
    "            data=df_values,\n",
    "            targets=None,\n",
    "            sequence_length=self.total_window_size,\n",
    "            sequence_stride=1,\n",
    "            shuffle=False,\n",
    "            batch_size=32)\n",
    "\n",
    "        ds = ds.map(self.split_window)\n",
    "        print(\"success! finished making dataset\")\n",
    "        return ds\n",
    "\n",
    "    @property\n",
    "    def make_train(self):\n",
    "        return self.make_dataset(self.train_df)\n",
    "\n",
    "    @property\n",
    "    def make_val(self):\n",
    "        return self.make_dataset(self.val_df)\n",
    "\n",
    "    @property\n",
    "    def make_test(self):\n",
    "        return self.make_dataset(self.test_df)\n",
    "    \n",
    "    @property\n",
    "    def example(self):\n",
    "        \"\"\"Get and cache an example batch of `inputs, labels` for plotting.\"\"\"\n",
    "        result = getattr(self, '_example', None)\n",
    "        if result is None:\n",
    "            # No example batch was found, so get one from the `.train` dataset\n",
    "            result = next(iter(self.make_train))\n",
    "            # And cache it for next time\n",
    "            self._example = result\n",
    "        return result\n",
    "\n",
    "    def plot(self, model=None, plot_col='T (degC)', max_subplots=3):\n",
    "        inputs, labels = next(iter(self.make_train))\n",
    "        print(f'Shape of inputs = {inputs.shape}; shape of labels: {labels.shape}')\n",
    "        plt.figure(figsize=(12, 8))\n",
    "        plot_col_index = self.column_indices[plot_col]\n",
    "        max_n = min(max_subplots, len(inputs))\n",
    "\n",
    "        for n in range(max_n):\n",
    "            plt.subplot(max_n, 1, n + 1)\n",
    "            plt.ylabel(f'{plot_col} [normed]')\n",
    "            plt.plot(self.input_indices, inputs[n, :, plot_col_index],\n",
    "                     label='Inputs', marker='.', zorder=-10)\n",
    "\n",
    "            if self.label_columns:\n",
    "                label_col_index = self.label_columns_indices.get(plot_col, None)\n",
    "            else:\n",
    "                label_col_index = plot_col_index\n",
    "\n",
    "            if label_col_index is None:\n",
    "                continue\n",
    "\n",
    "            plt.scatter(self.label_indices, labels[n, :, label_col_index],\n",
    "                        edgecolors='k', label='Labels', c='#2ca02c', s=64)\n",
    "            if model is not None:\n",
    "                predictions = model(inputs)\n",
    "                plt.scatter(self.label_indices, predictions[n, :, label_col_index],\n",
    "                            marker='X', edgecolors='k', label='Predictions',\n",
    "                            c='#ff7f0e', s=64)\n",
    "\n",
    "            if n == 0:\n",
    "                plt.legend()\n",
    "\n",
    "        plt.xlabel('Time [h]')\n",
    "        plt.show()"
   ]
  },
  {
   "cell_type": "markdown",
   "id": "bebc7adc",
   "metadata": {},
   "source": [
    "## Testing Out the Window Generator "
   ]
  },
  {
   "cell_type": "code",
   "execution_count": 5,
   "id": "11a411a4",
   "metadata": {},
   "outputs": [],
   "source": [
    "def test():\n",
    "    norm_train = pd.read_csv('norm_train.csv')\n",
    "    norm_test = pd.read_csv('norm_test.csv')\n",
    "    norm_val = pd.read_csv('norm_val.csv')\n",
    "\n",
    "    w2 = WindowGenerator(input_width=6,\n",
    "                         label_width=1,\n",
    "                         offset=1,\n",
    "                         label_columns=['T (degC)'],\n",
    "                         train_df=norm_train,\n",
    "                         val_df=norm_val,\n",
    "                         test_df=norm_test)\n",
    "    print('Window w2')\n",
    "    print(w2)\n",
    "    for example_inputs, example_labels in w2.make_train.take(2):\n",
    "        print(f'Inputs shape (batch, time, features): {example_inputs.shape}')\n",
    "        print(f'Labels shape (batch, time, features): {example_labels.shape}')"
   ]
  },
  {
   "cell_type": "code",
   "execution_count": 6,
   "id": "63f52e63",
   "metadata": {},
   "outputs": [
    {
     "name": "stdout",
     "output_type": "stream",
     "text": [
      "Window w2\n",
      "Total window size: 7\n",
      "Input indices: [0 1 2 3 4 5]\n",
      "Label indices: [6]\n",
      "Label column name(s): ['T (degC)']\n",
      "success! finished making dataset\n",
      "Inputs shape (batch, time, features): (32, 6, 19)\n",
      "Labels shape (batch, time, features): (32, 1, 1)\n",
      "Inputs shape (batch, time, features): (32, 6, 19)\n",
      "Labels shape (batch, time, features): (32, 1, 1)\n"
     ]
    }
   ],
   "source": [
    "test()"
   ]
  },
  {
   "cell_type": "code",
   "execution_count": 7,
   "id": "614994d5",
   "metadata": {},
   "outputs": [
    {
     "name": "stdout",
     "output_type": "stream",
     "text": [
      "success! finished making dataset\n",
      "tf.Tensor(\n",
      "[[[ 1.  2.]\n",
      "  [ 2.  4.]\n",
      "  [ 3.  6.]]\n",
      "\n",
      " [[ 2.  4.]\n",
      "  [ 3.  6.]\n",
      "  [ 4.  8.]]\n",
      "\n",
      " [[ 3.  6.]\n",
      "  [ 4.  8.]\n",
      "  [ 5. 10.]]], shape=(3, 3, 2), dtype=float64) tf.Tensor(\n",
      "[[[ 8.]]\n",
      "\n",
      " [[10.]]\n",
      "\n",
      " [[12.]]], shape=(3, 1, 1), dtype=float64)\n"
     ]
    }
   ],
   "source": [
    "my_df = pd.DataFrame({'A': [1, 2, 3, 4, 5, 6], 'B': [2, 4, 6, 8, 10, 12]})\n",
    "win = WindowGenerator(input_width=3,\n",
    "                         label_width=1,\n",
    "                         offset=1,\n",
    "                         label_columns=['B'],\n",
    "                         train_df=my_df,\n",
    "                         val_df=my_df,\n",
    "                         test_df=my_df)\n",
    "train = win.make_train\n",
    "\n",
    "for inp, lab in train:\n",
    "    print(inp, lab)"
   ]
  },
  {
   "cell_type": "code",
   "execution_count": 8,
   "id": "f1da1f8f",
   "metadata": {},
   "outputs": [
    {
     "name": "stdout",
     "output_type": "stream",
     "text": [
      "success! finished making dataset\n",
      "tf.Tensor(\n",
      "[[1. 2.]\n",
      " [2. 4.]\n",
      " [3. 6.]], shape=(3, 2), dtype=float64) tf.Tensor([[8.]], shape=(1, 1), dtype=float64)\n",
      "tf.Tensor(\n",
      "[[2. 4.]\n",
      " [3. 6.]\n",
      " [4. 8.]], shape=(3, 2), dtype=float64) tf.Tensor([[10.]], shape=(1, 1), dtype=float64)\n",
      "tf.Tensor(\n",
      "[[ 3.  6.]\n",
      " [ 4.  8.]\n",
      " [ 5. 10.]], shape=(3, 2), dtype=float64) tf.Tensor([[12.]], shape=(1, 1), dtype=float64)\n"
     ]
    }
   ],
   "source": [
    "inputs, labels = next(iter(win.make_train))\n",
    "\n",
    "for inp, lab in zip(inputs, labels):\n",
    "    print(inp, lab)"
   ]
  },
  {
   "cell_type": "markdown",
   "id": "4213b9e2",
   "metadata": {},
   "source": [
    "## Baseline Model"
   ]
  },
  {
   "cell_type": "code",
   "execution_count": 9,
   "id": "024fe8fb",
   "metadata": {},
   "outputs": [],
   "source": [
    "class Baseline(tf.keras.Model):\n",
    "    def __init__(self, label_index):\n",
    "        super().__init__()\n",
    "        self.label_index = label_index\n",
    "\n",
    "    def call(self, inputs, training=None, mask=None):\n",
    "        \"\"\"\n",
    "            The additional parameters `training`, `mask` are added only to match the\n",
    "            the super class method signature.\n",
    "        \"\"\"\n",
    "        if self.label_index is None:\n",
    "            return inputs\n",
    "        result = inputs[:, :, self.label_index]\n",
    "        \n",
    "        print('************* Inside call *****************')\n",
    "        print(f'shape of result = {result.shape}')\n",
    "        \n",
    "        modified = result[:, :, tf.newaxis]\n",
    "        print(f'shape of modified result = {modified.shape}')\n",
    "\n",
    "        return modified\n"
   ]
  },
  {
   "cell_type": "code",
   "execution_count": 10,
   "id": "772115ee",
   "metadata": {},
   "outputs": [],
   "source": [
    "norm_train = pd.read_csv('norm_train.csv')\n",
    "norm_test = pd.read_csv('norm_test.csv')\n",
    "norm_val = pd.read_csv('norm_val.csv')\n",
    "\n",
    "single_step_window = WindowGenerator(input_width=1,\n",
    "                                     label_width=1,\n",
    "                                     offset=1,\n",
    "                                     label_columns=['T (degC)'],\n",
    "                                     train_df=norm_train,\n",
    "                                     val_df=norm_val,\n",
    "                                     test_df=norm_test)"
   ]
  },
  {
   "cell_type": "code",
   "execution_count": 11,
   "id": "32db1a8e",
   "metadata": {},
   "outputs": [
    {
     "name": "stdout",
     "output_type": "stream",
     "text": [
      "success! finished making dataset\n",
      "************* Inside call *****************\n",
      "shape of result = (None, 1)\n",
      "shape of modified result = (None, 1, 1)\n",
      "439/439 [==============================] - 0s 542us/step - loss: 0.0131 - mean_absolute_error: 0.0789\n",
      "success! finished making dataset\n"
     ]
    }
   ],
   "source": [
    "baseline = Baseline(label_index=single_step_window.column_indices['T (degC)'])\n",
    "\n",
    "baseline.compile(loss=tf.losses.MeanSquaredError(),\n",
    "                 metrics=[tf.metrics.MeanAbsoluteError()])\n",
    "\n",
    "val_performance = {}\n",
    "performance = {}\n",
    "val_performance['Baseline'] = baseline.evaluate(single_step_window.make_val)\n",
    "performance['Baseline'] = baseline.evaluate(single_step_window.make_test, verbose=0)"
   ]
  },
  {
   "cell_type": "code",
   "execution_count": 12,
   "id": "d850111d",
   "metadata": {},
   "outputs": [
    {
     "data": {
      "text/plain": [
       "({'Baseline': [0.012845635414123535, 0.07846628874540329]},\n",
       " {'Baseline': [0.014162620529532433, 0.08516010642051697]})"
      ]
     },
     "execution_count": 12,
     "metadata": {},
     "output_type": "execute_result"
    }
   ],
   "source": [
    "val_performance, performance"
   ]
  },
  {
   "cell_type": "code",
   "execution_count": 13,
   "id": "767bb1e2",
   "metadata": {},
   "outputs": [
    {
     "data": {
      "text/plain": [
       "Total window size: 2\n",
       "Input indices: [0]\n",
       "Label indices: [1]\n",
       "Label column name(s): ['T (degC)']"
      ]
     },
     "execution_count": 13,
     "metadata": {},
     "output_type": "execute_result"
    }
   ],
   "source": [
    "single_step_window"
   ]
  },
  {
   "cell_type": "code",
   "execution_count": 14,
   "id": "0475e752",
   "metadata": {},
   "outputs": [
    {
     "name": "stdout",
     "output_type": "stream",
     "text": [
      "success! finished making dataset\n",
      "Shape of inputs = (32, 1, 19); shape of labels: (32, 1, 1)\n",
      "************* Inside call *****************\n",
      "shape of result = (32, 1)\n",
      "shape of modified result = (32, 1, 1)\n",
      "************* Inside call *****************\n",
      "shape of result = (32, 1)\n",
      "shape of modified result = (32, 1, 1)\n",
      "************* Inside call *****************\n",
      "shape of result = (32, 1)\n",
      "shape of modified result = (32, 1, 1)\n"
     ]
    },
    {
     "data": {
      "image/png": "[encoded data removed]",
      "text/plain": [
       "<Figure size 864x576 with 3 Axes>"
      ]
     },
     "metadata": {
      "needs_background": "light"
     },
     "output_type": "display_data"
    }
   ],
   "source": [
    "single_step_window.plot(baseline)"
   ]
  },
  {
   "cell_type": "markdown",
   "id": "c7fa85aa",
   "metadata": {},
   "source": [
    "## Wide Window"
   ]
  },
  {
   "cell_type": "code",
   "execution_count": 15,
   "id": "5a80a71d",
   "metadata": {},
   "outputs": [
    {
     "data": {
      "text/plain": [
       "Total window size: 25\n",
       "Input indices: [ 0  1  2  3  4  5  6  7  8  9 10 11 12 13 14 15 16 17 18 19 20 21 22 23]\n",
       "Label indices: [ 1  2  3  4  5  6  7  8  9 10 11 12 13 14 15 16 17 18 19 20 21 22 23 24]\n",
       "Label column name(s): ['T (degC)']"
      ]
     },
     "execution_count": 15,
     "metadata": {},
     "output_type": "execute_result"
    }
   ],
   "source": [
    "wide_window = WindowGenerator(input_width=24, \n",
    "                              label_width=24, \n",
    "                              offset=1, \n",
    "                              label_columns=['T (degC)'], \n",
    "                              train_df=norm_train, \n",
    "                              val_df=norm_val, \n",
    "                              test_df=norm_test)\n",
    "wide_window"
   ]
  },
  {
   "cell_type": "code",
   "execution_count": 16,
   "id": "5e9f48f2",
   "metadata": {},
   "outputs": [
    {
     "name": "stdout",
     "output_type": "stream",
     "text": [
      "success! finished making dataset\n",
      "Shape of inputs = (32, 24, 19); shape of labels: (32, 24, 1)\n",
      "************* Inside call *****************\n",
      "shape of result = (32, 24)\n",
      "shape of modified result = (32, 24, 1)\n",
      "************* Inside call *****************\n",
      "shape of result = (32, 24)\n",
      "shape of modified result = (32, 24, 1)\n",
      "************* Inside call *****************\n",
      "shape of result = (32, 24)\n",
      "shape of modified result = (32, 24, 1)\n"
     ]
    },
    {
     "data": {
      "image/png": "[encoded data removed]",
      "text/plain": [
       "<Figure size 864x576 with 3 Axes>"
      ]
     },
     "metadata": {
      "needs_background": "light"
     },
     "output_type": "display_data"
    }
   ],
   "source": [
    "wide_window.plot(baseline)"
   ]
  },
  {
   "cell_type": "markdown",
   "id": "8e95b3db",
   "metadata": {},
   "source": [
    "# Compile and Fit Code"
   ]
  },
  {
   "cell_type": "code",
   "execution_count": 17,
   "id": "4ce213b7",
   "metadata": {},
   "outputs": [],
   "source": [
    "MAX_EPOCHS = 20\n",
    "\n",
    "def compile_and_fit(model, window, patience=2):\n",
    "    \"\"\"\n",
    "        patience: Number of epochs with no improvement after which training will be stopped.\n",
    "        \n",
    "        mode: One of {\"auto\", \"min\", \"max\"}. In min mode, training will stop when the quantity \n",
    "        monitored has stopped decreasing; in \"max\" mode it will stop when the quantity monitored \n",
    "        has stopped increasing; in \"auto\" mode, the direction is automatically inferred from \n",
    "        the name of the monitored quantity.\n",
    "    \"\"\"\n",
    "    early_stopping = tf.keras.callbacks.EarlyStopping(monitor='val_loss', \n",
    "                                                      patience=patience, \n",
    "                                                      mode='min')\n",
    "    # A metric is a function used to evaluate the model. During training, only the loss function is used. \n",
    "    model.compile(loss=tf.keras.losses.MeanSquaredError(), \n",
    "                  optimizer=tf.keras.optimizers.Adam(), \n",
    "                  metrics=[ tf.keras.metrics.MeanAbsoluteError()])\n",
    "    history = model.fit(window.make_train, \n",
    "                        epochs=MAX_EPOCHS, \n",
    "                        validation_data=window.make_val, \n",
    "                        callbacks=[early_stopping])\n",
    "    return history"
   ]
  },
  {
   "cell_type": "markdown",
   "id": "42293dcf",
   "metadata": {},
   "source": [
    "# Model 1: Linear Model"
   ]
  },
  {
   "cell_type": "code",
   "execution_count": 18,
   "id": "de3d2639",
   "metadata": {},
   "outputs": [],
   "source": [
    "linear = tf.keras.Sequential([tf.keras.layers.Dense(units=1)])"
   ]
  },
  {
   "cell_type": "code",
   "execution_count": 19,
   "id": "c85c46e5",
   "metadata": {},
   "outputs": [
    {
     "name": "stdout",
     "output_type": "stream",
     "text": [
      "success! finished making dataset\n",
      "Input shape: (32, 1, 19)\n",
      "Output shape: (32, 1, 1)\n"
     ]
    }
   ],
   "source": [
    "print('Input shape:', single_step_window.example[0].shape)\n",
    "print('Output shape:', linear(single_step_window.example[0]).shape)"
   ]
  },
  {
   "cell_type": "code",
   "execution_count": 20,
   "id": "cdfac09f",
   "metadata": {},
   "outputs": [
    {
     "name": "stdout",
     "output_type": "stream",
     "text": [
      "success! finished making dataset\n",
      "success! finished making dataset\n",
      "Epoch 1/20\n",
      "1534/1534 [==============================] - 2s 931us/step - loss: 0.7247 - mean_absolute_error: 0.5363 - val_loss: 0.0224 - val_mean_absolute_error: 0.1144\n",
      "Epoch 2/20\n",
      "1534/1534 [==============================] - 1s 753us/step - loss: 0.0211 - mean_absolute_error: 0.1036 - val_loss: 0.0144 - val_mean_absolute_error: 0.0921\n",
      "Epoch 3/20\n",
      "1534/1534 [==============================] - 1s 764us/step - loss: 0.0125 - mean_absolute_error: 0.0820 - val_loss: 0.0120 - val_mean_absolute_error: 0.0846\n",
      "Epoch 4/20\n",
      "1534/1534 [==============================] - 1s 788us/step - loss: 0.0107 - mean_absolute_error: 0.0761 - val_loss: 0.0115 - val_mean_absolute_error: 0.0828\n",
      "Epoch 5/20\n",
      "1534/1534 [==============================] - 1s 750us/step - loss: 0.0102 - mean_absolute_error: 0.0742 - val_loss: 0.0113 - val_mean_absolute_error: 0.0822\n",
      "Epoch 6/20\n",
      "1534/1534 [==============================] - 1s 732us/step - loss: 0.0100 - mean_absolute_error: 0.0736 - val_loss: 0.0112 - val_mean_absolute_error: 0.0820\n",
      "Epoch 7/20\n",
      "1534/1534 [==============================] - 1s 731us/step - loss: 0.0099 - mean_absolute_error: 0.0733 - val_loss: 0.0112 - val_mean_absolute_error: 0.0818\n",
      "Epoch 8/20\n",
      "1534/1534 [==============================] - 1s 728us/step - loss: 0.0098 - mean_absolute_error: 0.0730 - val_loss: 0.0111 - val_mean_absolute_error: 0.0816\n",
      "Epoch 9/20\n",
      "1534/1534 [==============================] - 1s 740us/step - loss: 0.0098 - mean_absolute_error: 0.0727 - val_loss: 0.0111 - val_mean_absolute_error: 0.0814\n",
      "Epoch 10/20\n",
      "1534/1534 [==============================] - 1s 748us/step - loss: 0.0097 - mean_absolute_error: 0.0724 - val_loss: 0.0110 - val_mean_absolute_error: 0.0813\n",
      "Epoch 11/20\n",
      "1534/1534 [==============================] - 1s 729us/step - loss: 0.0096 - mean_absolute_error: 0.0721 - val_loss: 0.0110 - val_mean_absolute_error: 0.0811\n",
      "Epoch 12/20\n",
      "1534/1534 [==============================] - 1s 729us/step - loss: 0.0096 - mean_absolute_error: 0.0719 - val_loss: 0.0109 - val_mean_absolute_error: 0.0810\n",
      "Epoch 13/20\n",
      "1534/1534 [==============================] - 1s 728us/step - loss: 0.0095 - mean_absolute_error: 0.0717 - val_loss: 0.0109 - val_mean_absolute_error: 0.0809\n",
      "Epoch 14/20\n",
      "1534/1534 [==============================] - 1s 734us/step - loss: 0.0095 - mean_absolute_error: 0.0715 - val_loss: 0.0108 - val_mean_absolute_error: 0.0807\n",
      "Epoch 15/20\n",
      "1534/1534 [==============================] - 1s 726us/step - loss: 0.0094 - mean_absolute_error: 0.0713 - val_loss: 0.0108 - val_mean_absolute_error: 0.0806\n",
      "Epoch 16/20\n",
      "1534/1534 [==============================] - 1s 730us/step - loss: 0.0094 - mean_absolute_error: 0.0712 - val_loss: 0.0108 - val_mean_absolute_error: 0.0805\n",
      "Epoch 17/20\n",
      "1534/1534 [==============================] - 1s 730us/step - loss: 0.0094 - mean_absolute_error: 0.0711 - val_loss: 0.0108 - val_mean_absolute_error: 0.0804\n",
      "Epoch 18/20\n",
      "1534/1534 [==============================] - 1s 731us/step - loss: 0.0093 - mean_absolute_error: 0.0710 - val_loss: 0.0107 - val_mean_absolute_error: 0.0804\n",
      "Epoch 19/20\n",
      "1534/1534 [==============================] - 1s 732us/step - loss: 0.0093 - mean_absolute_error: 0.0709 - val_loss: 0.0107 - val_mean_absolute_error: 0.0803\n",
      "Epoch 20/20\n",
      "1534/1534 [==============================] - 1s 727us/step - loss: 0.0093 - mean_absolute_error: 0.0708 - val_loss: 0.0107 - val_mean_absolute_error: 0.0802\n"
     ]
    }
   ],
   "source": [
    "hist = compile_and_fit(linear, single_step_window)"
   ]
  },
  {
   "cell_type": "code",
   "execution_count": 21,
   "id": "c0006e4b",
   "metadata": {},
   "outputs": [
    {
     "name": "stdout",
     "output_type": "stream",
     "text": [
      "success! finished making dataset\n",
      "439/439 [==============================] - 0s 536us/step - loss: 0.0107 - mean_absolute_error: 0.0802\n",
      "success! finished making dataset\n",
      "220/220 [==============================] - 0s 530us/step - loss: 0.0099 - mean_absolute_error: 0.0759\n"
     ]
    }
   ],
   "source": [
    "val_performance['Linear'] = linear.evaluate(single_step_window.make_val)\n",
    "performance['Linear'] = linear.evaluate(single_step_window.make_test)"
   ]
  },
  {
   "cell_type": "code",
   "execution_count": 22,
   "id": "830821df",
   "metadata": {},
   "outputs": [
    {
     "data": {
      "text/plain": [
       "{'Baseline': [0.014162620529532433, 0.08516010642051697],\n",
       " 'Linear': [0.009914997033774853, 0.07588980346918106]}"
      ]
     },
     "execution_count": 22,
     "metadata": {},
     "output_type": "execute_result"
    }
   ],
   "source": [
    "performance"
   ]
  },
  {
   "cell_type": "code",
   "execution_count": 23,
   "id": "5174ca65",
   "metadata": {},
   "outputs": [
    {
     "data": {
      "text/plain": [
       "{'Baseline': [0.012845635414123535, 0.07846628874540329],\n",
       " 'Linear': [0.010695239529013634, 0.0802231878042221]}"
      ]
     },
     "execution_count": 23,
     "metadata": {},
     "output_type": "execute_result"
    }
   ],
   "source": [
    "val_performance"
   ]
  },
  {
   "cell_type": "markdown",
   "id": "49bed16e",
   "metadata": {},
   "source": [
    "### Linear Models on Wide Windows\n",
    "\n",
    "The linear model can be called on batches of wide windows. Used this way, the model makes a set of independent predictions for each consecutive time step. The time axis acts like another batch axis. There are no interactions between the predictions at each time step."
   ]
  },
  {
   "cell_type": "code",
   "execution_count": 24,
   "id": "2376404d",
   "metadata": {},
   "outputs": [
    {
     "name": "stdout",
     "output_type": "stream",
     "text": [
      "success! finished making dataset\n",
      "Input shape: (32, 24, 19)\n",
      "Output shape: (32, 24, 1)\n"
     ]
    }
   ],
   "source": [
    "print('Input shape:', wide_window.example[0].shape)\n",
    "print('Output shape:', linear(wide_window.example[0]).shape)"
   ]
  },
  {
   "cell_type": "code",
   "execution_count": 25,
   "id": "68b448af",
   "metadata": {},
   "outputs": [
    {
     "name": "stdout",
     "output_type": "stream",
     "text": [
      "success! finished making dataset\n",
      "success! finished making dataset\n",
      "Epoch 1/20\n",
      "1533/1533 [==============================] - 1s 803us/step - loss: 0.0093 - mean_absolute_error: 0.0707 - val_loss: 0.0108 - val_mean_absolute_error: 0.0805\n",
      "Epoch 2/20\n",
      "1533/1533 [==============================] - 1s 756us/step - loss: 0.0093 - mean_absolute_error: 0.0709 - val_loss: 0.0107 - val_mean_absolute_error: 0.0803\n",
      "Epoch 3/20\n",
      "1533/1533 [==============================] - 1s 759us/step - loss: 0.0093 - mean_absolute_error: 0.0708 - val_loss: 0.0107 - val_mean_absolute_error: 0.0802\n",
      "Epoch 4/20\n",
      "1533/1533 [==============================] - 1s 755us/step - loss: 0.0093 - mean_absolute_error: 0.0707 - val_loss: 0.0107 - val_mean_absolute_error: 0.0801\n",
      "Epoch 5/20\n",
      "1533/1533 [==============================] - 1s 754us/step - loss: 0.0093 - mean_absolute_error: 0.0707 - val_loss: 0.0107 - val_mean_absolute_error: 0.0801\n",
      "Epoch 6/20\n",
      "1533/1533 [==============================] - 1s 754us/step - loss: 0.0093 - mean_absolute_error: 0.0706 - val_loss: 0.0106 - val_mean_absolute_error: 0.0800\n",
      "Epoch 7/20\n",
      "1533/1533 [==============================] - 1s 757us/step - loss: 0.0093 - mean_absolute_error: 0.0706 - val_loss: 0.0106 - val_mean_absolute_error: 0.0800\n",
      "Epoch 8/20\n",
      "1533/1533 [==============================] - 1s 752us/step - loss: 0.0093 - mean_absolute_error: 0.0706 - val_loss: 0.0106 - val_mean_absolute_error: 0.0799\n",
      "Epoch 9/20\n",
      "1533/1533 [==============================] - 1s 753us/step - loss: 0.0093 - mean_absolute_error: 0.0705 - val_loss: 0.0106 - val_mean_absolute_error: 0.0799\n",
      "Epoch 10/20\n",
      "1533/1533 [==============================] - 1s 755us/step - loss: 0.0093 - mean_absolute_error: 0.0705 - val_loss: 0.0106 - val_mean_absolute_error: 0.0799\n",
      "Epoch 11/20\n",
      "1533/1533 [==============================] - 1s 756us/step - loss: 0.0093 - mean_absolute_error: 0.0705 - val_loss: 0.0106 - val_mean_absolute_error: 0.0798\n",
      "Epoch 12/20\n",
      "1533/1533 [==============================] - 1s 752us/step - loss: 0.0092 - mean_absolute_error: 0.0705 - val_loss: 0.0106 - val_mean_absolute_error: 0.0798\n",
      "Epoch 13/20\n",
      "1533/1533 [==============================] - 1s 758us/step - loss: 0.0092 - mean_absolute_error: 0.0705 - val_loss: 0.0106 - val_mean_absolute_error: 0.0798\n",
      "Epoch 14/20\n",
      "1533/1533 [==============================] - 1s 755us/step - loss: 0.0092 - mean_absolute_error: 0.0704 - val_loss: 0.0106 - val_mean_absolute_error: 0.0798\n",
      "Epoch 15/20\n",
      "1533/1533 [==============================] - 1s 758us/step - loss: 0.0092 - mean_absolute_error: 0.0704 - val_loss: 0.0106 - val_mean_absolute_error: 0.0798\n",
      "Epoch 16/20\n",
      "1533/1533 [==============================] - 1s 757us/step - loss: 0.0092 - mean_absolute_error: 0.0704 - val_loss: 0.0106 - val_mean_absolute_error: 0.0798\n",
      "Epoch 17/20\n",
      "1533/1533 [==============================] - 1s 754us/step - loss: 0.0092 - mean_absolute_error: 0.0704 - val_loss: 0.0106 - val_mean_absolute_error: 0.0797\n",
      "Epoch 18/20\n",
      "1533/1533 [==============================] - 1s 756us/step - loss: 0.0092 - mean_absolute_error: 0.0704 - val_loss: 0.0106 - val_mean_absolute_error: 0.0797\n",
      "Epoch 19/20\n",
      "1533/1533 [==============================] - 1s 755us/step - loss: 0.0092 - mean_absolute_error: 0.0704 - val_loss: 0.0106 - val_mean_absolute_error: 0.0797\n",
      "Epoch 20/20\n",
      "1533/1533 [==============================] - 1s 756us/step - loss: 0.0092 - mean_absolute_error: 0.0704 - val_loss: 0.0106 - val_mean_absolute_error: 0.0797\n"
     ]
    }
   ],
   "source": [
    "hist = compile_and_fit(linear, wide_window)"
   ]
  },
  {
   "cell_type": "code",
   "execution_count": 26,
   "id": "cb0840f9",
   "metadata": {},
   "outputs": [
    {
     "name": "stdout",
     "output_type": "stream",
     "text": [
      "success! finished making dataset\n",
      "438/438 [==============================] - 0s 559us/step - loss: 0.0106 - mean_absolute_error: 0.0797\n",
      "success! finished making dataset\n",
      "219/219 [==============================] - 0s 554us/step - loss: 0.0097 - mean_absolute_error: 0.0750\n"
     ]
    }
   ],
   "source": [
    "val_performance['Linear (wide window)'] = linear.evaluate(wide_window.make_val)\n",
    "performance['Linear (wide window)'] = linear.evaluate(wide_window.make_test)"
   ]
  },
  {
   "cell_type": "code",
   "execution_count": 27,
   "id": "12157d15",
   "metadata": {},
   "outputs": [
    {
     "data": {
      "text/plain": [
       "{'Baseline': [0.014162620529532433, 0.08516010642051697],\n",
       " 'Linear': [0.009914997033774853, 0.07588980346918106],\n",
       " 'Linear (wide window)': [0.009739954955875874, 0.07497740536928177]}"
      ]
     },
     "execution_count": 27,
     "metadata": {},
     "output_type": "execute_result"
    }
   ],
   "source": [
    "performance"
   ]
  },
  {
   "cell_type": "code",
   "execution_count": 28,
   "id": "3dc8a772",
   "metadata": {},
   "outputs": [
    {
     "data": {
      "text/plain": [
       "{'Baseline': [0.012845635414123535, 0.07846628874540329],\n",
       " 'Linear': [0.010695239529013634, 0.0802231878042221],\n",
       " 'Linear (wide window)': [0.01058032177388668, 0.07972865551710129]}"
      ]
     },
     "execution_count": 28,
     "metadata": {},
     "output_type": "execute_result"
    }
   ],
   "source": [
    "val_performance"
   ]
  },
  {
   "cell_type": "code",
   "execution_count": 29,
   "id": "53550aff",
   "metadata": {},
   "outputs": [
    {
     "name": "stdout",
     "output_type": "stream",
     "text": [
      "success! finished making dataset\n",
      "Shape of inputs = (32, 24, 19); shape of labels: (32, 24, 1)\n"
     ]
    },
    {
     "data": {
      "image/png": "[encoded data removed]",
      "text/plain": [
       "<Figure size 864x576 with 3 Axes>"
      ]
     },
     "metadata": {
      "needs_background": "light"
     },
     "output_type": "display_data"
    }
   ],
   "source": [
    "wide_window.plot(linear)"
   ]
  },
  {
   "cell_type": "markdown",
   "id": "97aeade7",
   "metadata": {},
   "source": [
    "### Weights of the Linear Model"
   ]
  },
  {
   "cell_type": "code",
   "execution_count": 30,
   "id": "5850c0a6",
   "metadata": {},
   "outputs": [
    {
     "data": {
      "image/png": "[encoded data removed]",
      "text/plain": [
       "<Figure size 864x432 with 1 Axes>"
      ]
     },
     "metadata": {
      "needs_background": "light"
     },
     "output_type": "display_data"
    }
   ],
   "source": [
    "plt.bar(x = range(len(norm_train.columns)),\n",
    "        height=linear.layers[0].kernel[:,0].numpy())\n",
    "\n",
    "axis = plt.gca()\n",
    "\n",
    "axis.set_xticks(range(len(norm_train.columns)))\n",
    "_ = axis.set_xticklabels(norm_train.columns, rotation=90)"
   ]
  },
  {
   "cell_type": "code",
   "execution_count": 31,
   "id": "77914ced",
   "metadata": {},
   "outputs": [
    {
     "data": {
      "text/plain": [
       "array([ 0.15405364,  0.18624602,  0.29967982,  0.05316196, -0.02343134,\n",
       "        0.0494624 , -0.36771932, -0.01625012,  0.6526929 , -0.30749568,\n",
       "       -0.42924422,  0.00463158, -0.00745083, -0.02706073,  0.02936498,\n",
       "        0.05067293, -0.06948106,  0.01157904, -0.00259013], dtype=float32)"
      ]
     },
     "execution_count": 31,
     "metadata": {},
     "output_type": "execute_result"
    }
   ],
   "source": [
    "linear.layers[0].kernel[:,0].numpy()"
   ]
  },
  {
   "cell_type": "code",
   "execution_count": 32,
   "id": "7e382683",
   "metadata": {},
   "outputs": [
    {
     "data": {
      "text/plain": [
       "[array([[ 0.15405364],\n",
       "        [ 0.18624602],\n",
       "        [ 0.29967982],\n",
       "        [ 0.05316196],\n",
       "        [-0.02343134],\n",
       "        [ 0.0494624 ],\n",
       "        [-0.36771932],\n",
       "        [-0.01625012],\n",
       "        [ 0.6526929 ],\n",
       "        [-0.30749568],\n",
       "        [-0.42924422],\n",
       "        [ 0.00463158],\n",
       "        [-0.00745083],\n",
       "        [-0.02706073],\n",
       "        [ 0.02936498],\n",
       "        [ 0.05067293],\n",
       "        [-0.06948106],\n",
       "        [ 0.01157904],\n",
       "        [-0.00259013]], dtype=float32),\n",
       " array([0.01495629], dtype=float32)]"
      ]
     },
     "execution_count": 32,
     "metadata": {},
     "output_type": "execute_result"
    }
   ],
   "source": [
    "linear.layers[0].get_weights()"
   ]
  },
  {
   "cell_type": "markdown",
   "id": "57d2aa09",
   "metadata": {},
   "source": [
    "# Model 2: Dense Single Step Model"
   ]
  },
  {
   "cell_type": "code",
   "execution_count": 33,
   "id": "5c554e9b",
   "metadata": {},
   "outputs": [
    {
     "data": {
      "text/plain": [
       "Total window size: 2\n",
       "Input indices: [0]\n",
       "Label indices: [1]\n",
       "Label column name(s): ['T (degC)']"
      ]
     },
     "execution_count": 33,
     "metadata": {},
     "output_type": "execute_result"
    }
   ],
   "source": [
    "single_step_window"
   ]
  },
  {
   "cell_type": "code",
   "execution_count": 34,
   "id": "d7e73be9",
   "metadata": {},
   "outputs": [
    {
     "name": "stdout",
     "output_type": "stream",
     "text": [
      "success! finished making dataset\n",
      "success! finished making dataset\n",
      "Epoch 1/20\n",
      "1534/1534 [==============================] - 2s 950us/step - loss: 0.5059 - mean_absolute_error: 0.3045 - val_loss: 0.0151 - val_mean_absolute_error: 0.0926\n",
      "Epoch 2/20\n",
      "1534/1534 [==============================] - 1s 918us/step - loss: 0.0155 - mean_absolute_error: 0.0922 - val_loss: 0.0154 - val_mean_absolute_error: 0.0946\n",
      "Epoch 3/20\n",
      "1534/1534 [==============================] - 1s 890us/step - loss: 0.0145 - mean_absolute_error: 0.0904 - val_loss: 0.0143 - val_mean_absolute_error: 0.0903\n",
      "Epoch 4/20\n",
      "1534/1534 [==============================] - 1s 884us/step - loss: 0.0112 - mean_absolute_error: 0.0796 - val_loss: 0.0126 - val_mean_absolute_error: 0.0849\n",
      "Epoch 5/20\n",
      "1534/1534 [==============================] - 1s 881us/step - loss: 0.0108 - mean_absolute_error: 0.0770 - val_loss: 0.0123 - val_mean_absolute_error: 0.0835\n",
      "Epoch 6/20\n",
      "1534/1534 [==============================] - 1s 900us/step - loss: 0.0100 - mean_absolute_error: 0.0742 - val_loss: 0.0134 - val_mean_absolute_error: 0.0882\n",
      "Epoch 7/20\n",
      "1534/1534 [==============================] - 1s 923us/step - loss: 0.0093 - mean_absolute_error: 0.0714 - val_loss: 0.0136 - val_mean_absolute_error: 0.0888\n",
      "success! finished making dataset\n",
      "439/439 [==============================] - 0s 565us/step - loss: 0.0136 - mean_absolute_error: 0.0888\n",
      "success! finished making dataset\n",
      "220/220 [==============================] - 0s 566us/step - loss: 0.0125 - mean_absolute_error: 0.0843\n"
     ]
    }
   ],
   "source": [
    "dense = tf.keras.Sequential([\n",
    "    tf.keras.layers.Dense(units=64, activation='relu'), \n",
    "    tf.keras.layers.Dense(units=64, activation='relu'), \n",
    "    tf.keras.layers.Dense(units=1)])\n",
    "\n",
    "history = compile_and_fit(dense, single_step_window)\n",
    "val_performance['Dense (single step)'] = dense.evaluate(single_step_window.make_val)\n",
    "performance['Dense (single step)'] = dense.evaluate(single_step_window.make_test)"
   ]
  },
  {
   "cell_type": "code",
   "execution_count": 35,
   "id": "58fa892a",
   "metadata": {},
   "outputs": [
    {
     "data": {
      "text/plain": [
       "{'Baseline': [0.014162620529532433, 0.08516010642051697],\n",
       " 'Linear': [0.009914997033774853, 0.07588980346918106],\n",
       " 'Linear (wide window)': [0.009739954955875874, 0.07497740536928177],\n",
       " 'Dense (single step)': [0.012465416453778744, 0.084329754114151]}"
      ]
     },
     "execution_count": 35,
     "metadata": {},
     "output_type": "execute_result"
    }
   ],
   "source": [
    "performance"
   ]
  },
  {
   "cell_type": "markdown",
   "id": "76c763c3",
   "metadata": {},
   "source": [
    "# Model 3: Dense Multistep Input, Single Output\n"
   ]
  },
  {
   "cell_type": "code",
   "execution_count": 36,
   "id": "90e19c24",
   "metadata": {},
   "outputs": [
    {
     "data": {
      "text/plain": [
       "Total window size: 4\n",
       "Input indices: [0 1 2]\n",
       "Label indices: [3]\n",
       "Label column name(s): ['T (degC)']"
      ]
     },
     "execution_count": 36,
     "metadata": {},
     "output_type": "execute_result"
    }
   ],
   "source": [
    "CONV_WIDTH = 3\n",
    "conv_window = WindowGenerator(\n",
    "    input_width=CONV_WIDTH, \n",
    "    label_width=1, \n",
    "    offset=1, \n",
    "    label_columns=['T (degC)'],\n",
    "    train_df=norm_train,\n",
    "    val_df=norm_val,\n",
    "    test_df=norm_test\n",
    ")\n",
    "\n",
    "conv_window"
   ]
  },
  {
   "cell_type": "code",
   "execution_count": 37,
   "id": "cea13f55",
   "metadata": {},
   "outputs": [
    {
     "name": "stdout",
     "output_type": "stream",
     "text": [
      "success! finished making dataset\n",
      "Shape of inputs = (32, 3, 19); shape of labels: (32, 1, 1)\n"
     ]
    },
    {
     "data": {
      "image/png": "[encoded data removed]",
      "text/plain": [
       "<Figure size 864x576 with 3 Axes>"
      ]
     },
     "metadata": {
      "needs_background": "light"
     },
     "output_type": "display_data"
    }
   ],
   "source": [
    "conv_window.plot()"
   ]
  },
  {
   "cell_type": "code",
   "execution_count": 38,
   "id": "c38c71a8",
   "metadata": {},
   "outputs": [],
   "source": [
    "multi_step_dense = tf.keras.Sequential([\n",
    "    # Shape: (time, features) => (time*features)\n",
    "    tf.keras.layers.Flatten(),\n",
    "    tf.keras.layers.Dense(units=32, activation='relu'),\n",
    "    tf.keras.layers.Dense(units=32, activation='relu'),\n",
    "    tf.keras.layers.Dense(units=1),\n",
    "    # Add back the time dimension.\n",
    "    # Shape: (outputs) => (1, outputs)\n",
    "    tf.keras.layers.Reshape([1, 1]),\n",
    "])"
   ]
  },
  {
   "cell_type": "code",
   "execution_count": 39,
   "id": "648c8af1",
   "metadata": {},
   "outputs": [
    {
     "name": "stdout",
     "output_type": "stream",
     "text": [
      "success! finished making dataset\n",
      "Input shape: (32, 3, 19)\n",
      "Output shape: (32, 1, 1)\n"
     ]
    }
   ],
   "source": [
    "print('Input shape:', conv_window.example[0].shape)\n",
    "print('Output shape:', multi_step_dense(conv_window.example[0]).shape)\n"
   ]
  },
  {
   "cell_type": "code",
   "execution_count": 40,
   "id": "c2d197ff",
   "metadata": {},
   "outputs": [
    {
     "name": "stdout",
     "output_type": "stream",
     "text": [
      "Model: \"sequential_2\"\n",
      "_________________________________________________________________\n",
      "Layer (type)                 Output Shape              Param #   \n",
      "=================================================================\n",
      "flatten (Flatten)            (32, 57)                  0         \n",
      "_________________________________________________________________\n",
      "dense_4 (Dense)              (32, 32)                  1856      \n",
      "_________________________________________________________________\n",
      "dense_5 (Dense)              (32, 32)                  1056      \n",
      "_________________________________________________________________\n",
      "dense_6 (Dense)              (32, 1)                   33        \n",
      "_________________________________________________________________\n",
      "reshape (Reshape)            (32, 1, 1)                0         \n",
      "=================================================================\n",
      "Total params: 2,945\n",
      "Trainable params: 2,945\n",
      "Non-trainable params: 0\n",
      "_________________________________________________________________\n"
     ]
    }
   ],
   "source": [
    "multi_step_dense.summary()"
   ]
  },
  {
   "cell_type": "code",
   "execution_count": 41,
   "id": "02dd77db",
   "metadata": {},
   "outputs": [
    {
     "name": "stdout",
     "output_type": "stream",
     "text": [
      "success! finished making dataset\n",
      "success! finished making dataset\n",
      "Epoch 1/20\n",
      "1534/1534 [==============================] - 2s 906us/step - loss: 0.2111 - mean_absolute_error: 0.2434 - val_loss: 0.0221 - val_mean_absolute_error: 0.1125\n",
      "Epoch 2/20\n",
      "1534/1534 [==============================] - 1s 865us/step - loss: 0.0210 - mean_absolute_error: 0.1071 - val_loss: 0.0174 - val_mean_absolute_error: 0.0997\n",
      "Epoch 3/20\n",
      "1534/1534 [==============================] - 1s 873us/step - loss: 0.0161 - mean_absolute_error: 0.0943 - val_loss: 0.0152 - val_mean_absolute_error: 0.0934\n",
      "Epoch 4/20\n",
      "1534/1534 [==============================] - 1s 874us/step - loss: 0.0142 - mean_absolute_error: 0.0881 - val_loss: 0.0139 - val_mean_absolute_error: 0.0892\n",
      "Epoch 5/20\n",
      "1534/1534 [==============================] - 1s 875us/step - loss: 0.0110 - mean_absolute_error: 0.0777 - val_loss: 0.0131 - val_mean_absolute_error: 0.0857\n",
      "Epoch 6/20\n",
      "1534/1534 [==============================] - 1s 854us/step - loss: 0.0102 - mean_absolute_error: 0.0749 - val_loss: 0.0110 - val_mean_absolute_error: 0.0783\n",
      "Epoch 7/20\n",
      "1534/1534 [==============================] - 1s 865us/step - loss: 0.0093 - mean_absolute_error: 0.0711 - val_loss: 0.0108 - val_mean_absolute_error: 0.0771\n",
      "Epoch 8/20\n",
      "1534/1534 [==============================] - 1s 870us/step - loss: 0.0088 - mean_absolute_error: 0.0688 - val_loss: 0.0104 - val_mean_absolute_error: 0.0765\n",
      "Epoch 9/20\n",
      "1534/1534 [==============================] - 1s 869us/step - loss: 0.0088 - mean_absolute_error: 0.0688 - val_loss: 0.0103 - val_mean_absolute_error: 0.0764\n",
      "Epoch 10/20\n",
      "1534/1534 [==============================] - 1s 866us/step - loss: 0.0087 - mean_absolute_error: 0.0687 - val_loss: 0.0101 - val_mean_absolute_error: 0.0756\n",
      "Epoch 11/20\n",
      "1534/1534 [==============================] - 1s 868us/step - loss: 0.0085 - mean_absolute_error: 0.0677 - val_loss: 0.0102 - val_mean_absolute_error: 0.0763\n",
      "Epoch 12/20\n",
      "1534/1534 [==============================] - 1s 872us/step - loss: 0.0083 - mean_absolute_error: 0.0665 - val_loss: 0.0103 - val_mean_absolute_error: 0.0765\n",
      "success! finished making dataset\n",
      "438/438 [==============================] - 0s 538us/step - loss: 0.0103 - mean_absolute_error: 0.0765\n",
      "success! finished making dataset\n",
      "219/219 [==============================] - 0s 548us/step - loss: 0.0101 - mean_absolute_error: 0.0759\n"
     ]
    }
   ],
   "source": [
    "history = compile_and_fit(multi_step_dense, conv_window)\n",
    "val_performance['Dense (multi step)'] = multi_step_dense.evaluate(conv_window.make_val)\n",
    "performance['Dense (multi step)'] = multi_step_dense.evaluate(conv_window.make_test)"
   ]
  },
  {
   "cell_type": "code",
   "execution_count": 42,
   "id": "aba0fe21",
   "metadata": {},
   "outputs": [
    {
     "data": {
      "text/plain": [
       "{'Baseline': [0.014162620529532433, 0.08516010642051697],\n",
       " 'Linear': [0.009914997033774853, 0.07588980346918106],\n",
       " 'Linear (wide window)': [0.009739954955875874, 0.07497740536928177],\n",
       " 'Dense (single step)': [0.012465416453778744, 0.084329754114151],\n",
       " 'Dense (multi step)': [0.010099760256707668, 0.07588214427232742]}"
      ]
     },
     "execution_count": 42,
     "metadata": {},
     "output_type": "execute_result"
    }
   ],
   "source": [
    "performance"
   ]
  },
  {
   "cell_type": "code",
   "execution_count": 43,
   "id": "2d77b2ae",
   "metadata": {},
   "outputs": [
    {
     "name": "stdout",
     "output_type": "stream",
     "text": [
      "success! finished making dataset\n",
      "Shape of inputs = (32, 3, 19); shape of labels: (32, 1, 1)\n"
     ]
    },
    {
     "data": {
      "image/png": "[encoded data removed]",
      "text/plain": [
       "<Figure size 864x576 with 3 Axes>"
      ]
     },
     "metadata": {
      "needs_background": "light"
     },
     "output_type": "display_data"
    }
   ],
   "source": [
    "conv_window.plot(multi_step_dense)"
   ]
  },
  {
   "cell_type": "markdown",
   "id": "d7323f54",
   "metadata": {},
   "source": [
    "# Conv Net Model "
   ]
  },
  {
   "cell_type": "code",
   "execution_count": 44,
   "id": "e92b39bd",
   "metadata": {},
   "outputs": [],
   "source": [
    "CONV_WIDTH = 3\n",
    "conv_model = tf.keras.Sequential([\n",
    "    tf.keras.layers.Conv1D(filters=32, \n",
    "                           kernel_size=(CONV_WIDTH, ), \n",
    "                           activation='relu'), \n",
    "    tf.keras.layers.Dense(units=32, activation='relu'), \n",
    "    tf.keras.layers.Dense(units=1)])"
   ]
  },
  {
   "cell_type": "markdown",
   "id": "8be02b54",
   "metadata": {},
   "source": [
    "## Explanation\n",
    "\n",
    "The `filters` refers to the number of feature maps. In this case, we have 32 feature maps after the input layer. The `kernel_size` in this `1D` layer is $(3, )$. This means that each neuron in a feature map has a local receptive field of size $3 \\times 19$ (there are 19 features). Thus the number of parameters for each feature map is:\n",
    "$$\n",
    "    3 \\times 19 + 1 = 58 \\quad (+ 1 \\text{ for the bias}).\n",
    "$$\n",
    "Since there are $32$ feature maps, there are a total of $58 \\times 32 = 1856$ parameters in the first convolutional layer."
   ]
  },
  {
   "cell_type": "code",
   "execution_count": 45,
   "id": "533f5aa0",
   "metadata": {},
   "outputs": [
    {
     "name": "stdout",
     "output_type": "stream",
     "text": [
      "Conv model on `conv_window`\n",
      "Input shape: (32, 3, 19)\n",
      "Output shape: (32, 1, 1)\n"
     ]
    }
   ],
   "source": [
    "print(\"Conv model on `conv_window`\")\n",
    "print('Input shape:', conv_window.example[0].shape)\n",
    "print('Output shape:', conv_model(conv_window.example[0]).shape)"
   ]
  },
  {
   "cell_type": "code",
   "execution_count": 46,
   "id": "11db35ca",
   "metadata": {},
   "outputs": [
    {
     "name": "stdout",
     "output_type": "stream",
     "text": [
      "Model: \"sequential_3\"\n",
      "_________________________________________________________________\n",
      "Layer (type)                 Output Shape              Param #   \n",
      "=================================================================\n",
      "conv1d (Conv1D)              (32, 1, 32)               1856      \n",
      "_________________________________________________________________\n",
      "dense_7 (Dense)              (32, 1, 32)               1056      \n",
      "_________________________________________________________________\n",
      "dense_8 (Dense)              (32, 1, 1)                33        \n",
      "=================================================================\n",
      "Total params: 2,945\n",
      "Trainable params: 2,945\n",
      "Non-trainable params: 0\n",
      "_________________________________________________________________\n"
     ]
    }
   ],
   "source": [
    "conv_model.summary()"
   ]
  },
  {
   "cell_type": "code",
   "execution_count": 47,
   "id": "74d89497",
   "metadata": {},
   "outputs": [
    {
     "name": "stdout",
     "output_type": "stream",
     "text": [
      "success! finished making dataset\n",
      "success! finished making dataset\n",
      "Epoch 1/20\n",
      "1534/1534 [==============================] - 2s 951us/step - loss: 0.1190 - mean_absolute_error: 0.2146 - val_loss: 0.0168 - val_mean_absolute_error: 0.0990\n",
      "Epoch 2/20\n",
      "1534/1534 [==============================] - 1s 881us/step - loss: 0.0175 - mean_absolute_error: 0.0998 - val_loss: 0.0200 - val_mean_absolute_error: 0.1089\n",
      "Epoch 3/20\n",
      "1534/1534 [==============================] - 1s 895us/step - loss: 0.0147 - mean_absolute_error: 0.0910 - val_loss: 0.0123 - val_mean_absolute_error: 0.0845\n",
      "Epoch 4/20\n",
      "1534/1534 [==============================] - 1s 901us/step - loss: 0.0120 - mean_absolute_error: 0.0821 - val_loss: 0.0126 - val_mean_absolute_error: 0.0862\n",
      "Epoch 5/20\n",
      "1534/1534 [==============================] - 1s 911us/step - loss: 0.0113 - mean_absolute_error: 0.0793 - val_loss: 0.0119 - val_mean_absolute_error: 0.0831\n",
      "Epoch 6/20\n",
      "1534/1534 [==============================] - 1s 905us/step - loss: 0.0107 - mean_absolute_error: 0.0765 - val_loss: 0.0110 - val_mean_absolute_error: 0.0793\n",
      "Epoch 7/20\n",
      "1534/1534 [==============================] - 1s 873us/step - loss: 0.0095 - mean_absolute_error: 0.0719 - val_loss: 0.0113 - val_mean_absolute_error: 0.0801\n",
      "Epoch 8/20\n",
      "1534/1534 [==============================] - 1s 912us/step - loss: 0.0093 - mean_absolute_error: 0.0708 - val_loss: 0.0113 - val_mean_absolute_error: 0.0808\n",
      "success! finished making dataset\n",
      "438/438 [==============================] - 0s 559us/step - loss: 0.0113 - mean_absolute_error: 0.0808\n",
      "success! finished making dataset\n",
      "219/219 [==============================] - 0s 568us/step - loss: 0.0109 - mean_absolute_error: 0.0791\n"
     ]
    }
   ],
   "source": [
    "history = compile_and_fit(conv_model, conv_window)\n",
    "val_performance['CNN (multi step)'] = conv_model.evaluate(conv_window.make_val)\n",
    "performance['CNN (multi step)'] = conv_model.evaluate(conv_window.make_test)"
   ]
  },
  {
   "cell_type": "code",
   "execution_count": 48,
   "id": "521ec9a5",
   "metadata": {},
   "outputs": [
    {
     "data": {
      "text/plain": [
       "{'Baseline': [0.014162620529532433, 0.08516010642051697],\n",
       " 'Linear': [0.009914997033774853, 0.07588980346918106],\n",
       " 'Linear (wide window)': [0.009739954955875874, 0.07497740536928177],\n",
       " 'Dense (single step)': [0.012465416453778744, 0.084329754114151],\n",
       " 'Dense (multi step)': [0.010099760256707668, 0.07588214427232742],\n",
       " 'CNN (multi step)': [0.010892162099480629, 0.07905050367116928]}"
      ]
     },
     "execution_count": 48,
     "metadata": {},
     "output_type": "execute_result"
    }
   ],
   "source": [
    "performance"
   ]
  },
  {
   "cell_type": "code",
   "execution_count": 49,
   "id": "0d9cf7b7",
   "metadata": {},
   "outputs": [
    {
     "data": {
      "text/plain": [
       "{'Baseline': [0.012845635414123535, 0.07846628874540329],\n",
       " 'Linear': [0.010695239529013634, 0.0802231878042221],\n",
       " 'Linear (wide window)': [0.01058032177388668, 0.07972865551710129],\n",
       " 'Dense (single step)': [0.013564972206950188, 0.08882078528404236],\n",
       " 'Dense (multi step)': [0.010326189920306206, 0.07650215178728104],\n",
       " 'CNN (multi step)': [0.01134568639099598, 0.08084876090288162]}"
      ]
     },
     "execution_count": 49,
     "metadata": {},
     "output_type": "execute_result"
    }
   ],
   "source": [
    "val_performance"
   ]
  },
  {
   "cell_type": "markdown",
   "id": "26ccc8b9",
   "metadata": {},
   "source": [
    "# Conv Net Wider Windows"
   ]
  },
  {
   "cell_type": "code",
   "execution_count": 50,
   "id": "d0c01889",
   "metadata": {},
   "outputs": [
    {
     "data": {
      "text/plain": [
       "Total window size: 7\n",
       "Input indices: [0 1 2 3 4 5]\n",
       "Label indices: [6]\n",
       "Label column name(s): ['T (degC)']"
      ]
     },
     "execution_count": 50,
     "metadata": {},
     "output_type": "execute_result"
    }
   ],
   "source": [
    "CONV_WIDTH = 6\n",
    "conv_window_II = WindowGenerator(\n",
    "    input_width=CONV_WIDTH, \n",
    "    label_width=1, \n",
    "    offset=1, \n",
    "    label_columns=['T (degC)'],\n",
    "    train_df=norm_train,\n",
    "    val_df=norm_val,\n",
    "    test_df=norm_test\n",
    ")\n",
    "\n",
    "conv_window_II"
   ]
  },
  {
   "cell_type": "code",
   "execution_count": 51,
   "id": "0c2231d3",
   "metadata": {},
   "outputs": [],
   "source": [
    "conv_model_II = tf.keras.Sequential([\n",
    "    tf.keras.layers.Conv1D(filters=32, \n",
    "                           kernel_size=(CONV_WIDTH, ), \n",
    "                           activation='relu'), \n",
    "    tf.keras.layers.Dense(units=32, activation='relu'), \n",
    "    tf.keras.layers.Dense(units=1)])"
   ]
  },
  {
   "cell_type": "code",
   "execution_count": 52,
   "id": "08ed0c68",
   "metadata": {},
   "outputs": [
    {
     "name": "stdout",
     "output_type": "stream",
     "text": [
      "Conv model II on `conv_window` II\n",
      "success! finished making dataset\n",
      "Input shape: (32, 6, 19)\n",
      "Output shape: (32, 1, 1)\n"
     ]
    }
   ],
   "source": [
    "print(\"Conv model II on `conv_window` II\")\n",
    "print('Input shape:', conv_window_II.example[0].shape)\n",
    "print('Output shape:', conv_model_II(conv_window_II.example[0]).shape)"
   ]
  },
  {
   "cell_type": "code",
   "execution_count": 53,
   "id": "520c27dd",
   "metadata": {},
   "outputs": [
    {
     "name": "stdout",
     "output_type": "stream",
     "text": [
      "Model: \"sequential_4\"\n",
      "_________________________________________________________________\n",
      "Layer (type)                 Output Shape              Param #   \n",
      "=================================================================\n",
      "conv1d_1 (Conv1D)            (32, 1, 32)               3680      \n",
      "_________________________________________________________________\n",
      "dense_9 (Dense)              (32, 1, 32)               1056      \n",
      "_________________________________________________________________\n",
      "dense_10 (Dense)             (32, 1, 1)                33        \n",
      "=================================================================\n",
      "Total params: 4,769\n",
      "Trainable params: 4,769\n",
      "Non-trainable params: 0\n",
      "_________________________________________________________________\n"
     ]
    }
   ],
   "source": [
    "conv_model_II.summary()"
   ]
  },
  {
   "cell_type": "code",
   "execution_count": 54,
   "id": "36a8bad8",
   "metadata": {},
   "outputs": [
    {
     "name": "stdout",
     "output_type": "stream",
     "text": [
      "success! finished making dataset\n",
      "success! finished making dataset\n",
      "Epoch 1/20\n",
      "1534/1534 [==============================] - 2s 974us/step - loss: 0.0931 - mean_absolute_error: 0.2122 - val_loss: 0.0255 - val_mean_absolute_error: 0.1234\n",
      "Epoch 2/20\n",
      "1534/1534 [==============================] - 1s 879us/step - loss: 0.0220 - mean_absolute_error: 0.1111 - val_loss: 0.0140 - val_mean_absolute_error: 0.0924\n",
      "Epoch 3/20\n",
      "1534/1534 [==============================] - 1s 909us/step - loss: 0.0153 - mean_absolute_error: 0.0926 - val_loss: 0.0130 - val_mean_absolute_error: 0.0886\n",
      "Epoch 4/20\n",
      "1534/1534 [==============================] - 1s 875us/step - loss: 0.0131 - mean_absolute_error: 0.0858 - val_loss: 0.0125 - val_mean_absolute_error: 0.0865\n",
      "Epoch 5/20\n",
      "1534/1534 [==============================] - 1s 908us/step - loss: 0.0122 - mean_absolute_error: 0.0825 - val_loss: 0.0113 - val_mean_absolute_error: 0.0809\n",
      "Epoch 6/20\n",
      "1534/1534 [==============================] - 1s 915us/step - loss: 0.0116 - mean_absolute_error: 0.0805 - val_loss: 0.0107 - val_mean_absolute_error: 0.0791\n",
      "Epoch 7/20\n",
      "1534/1534 [==============================] - 1s 909us/step - loss: 0.0108 - mean_absolute_error: 0.0774 - val_loss: 0.0118 - val_mean_absolute_error: 0.0832\n",
      "Epoch 8/20\n",
      "1534/1534 [==============================] - 1s 897us/step - loss: 0.0105 - mean_absolute_error: 0.0763 - val_loss: 0.0099 - val_mean_absolute_error: 0.0755\n",
      "Epoch 9/20\n",
      "1534/1534 [==============================] - 1s 877us/step - loss: 0.0097 - mean_absolute_error: 0.0730 - val_loss: 0.0099 - val_mean_absolute_error: 0.0754\n",
      "Epoch 10/20\n",
      "1534/1534 [==============================] - 1s 878us/step - loss: 0.0097 - mean_absolute_error: 0.0727 - val_loss: 0.0098 - val_mean_absolute_error: 0.0752\n",
      "Epoch 11/20\n",
      "1534/1534 [==============================] - 1s 914us/step - loss: 0.0095 - mean_absolute_error: 0.0722 - val_loss: 0.0116 - val_mean_absolute_error: 0.0827\n",
      "Epoch 12/20\n",
      "1534/1534 [==============================] - 1s 877us/step - loss: 0.0091 - mean_absolute_error: 0.0701 - val_loss: 0.0101 - val_mean_absolute_error: 0.0755\n",
      "success! finished making dataset\n",
      "438/438 [==============================] - 0s 557us/step - loss: 0.0101 - mean_absolute_error: 0.0755\n",
      "success! finished making dataset\n",
      "219/219 [==============================] - 0s 565us/step - loss: 0.0095 - mean_absolute_error: 0.0737\n"
     ]
    }
   ],
   "source": [
    "history = compile_and_fit(conv_model_II, conv_window_II)\n",
    "val_performance['CNN II(multi step)'] = conv_model_II.evaluate(conv_window_II.make_val)\n",
    "performance['CNN II (multi step)'] = conv_model_II.evaluate(conv_window_II.make_test)"
   ]
  },
  {
   "cell_type": "code",
   "execution_count": 55,
   "id": "5f6bdad9",
   "metadata": {},
   "outputs": [
    {
     "data": {
      "text/plain": [
       "{'Baseline': [0.014162620529532433, 0.08516010642051697],\n",
       " 'Linear': [0.009914997033774853, 0.07588980346918106],\n",
       " 'Linear (wide window)': [0.009739954955875874, 0.07497740536928177],\n",
       " 'Dense (single step)': [0.012465416453778744, 0.084329754114151],\n",
       " 'Dense (multi step)': [0.010099760256707668, 0.07588214427232742],\n",
       " 'CNN (multi step)': [0.010892162099480629, 0.07905050367116928],\n",
       " 'CNN II (multi step)': [0.009499802254140377, 0.0737469270825386]}"
      ]
     },
     "execution_count": 55,
     "metadata": {},
     "output_type": "execute_result"
    }
   ],
   "source": [
    "performance"
   ]
  },
  {
   "cell_type": "code",
   "execution_count": 56,
   "id": "3f65be3f",
   "metadata": {},
   "outputs": [
    {
     "data": {
      "text/plain": [
       "Total window size: 25\n",
       "Input indices: [ 0  1  2  3  4  5  6  7  8  9 10 11 12 13 14 15 16 17 18 19 20 21 22 23]\n",
       "Label indices: [24]\n",
       "Label column name(s): ['T (degC)']"
      ]
     },
     "execution_count": 56,
     "metadata": {},
     "output_type": "execute_result"
    }
   ],
   "source": [
    "CONV_WIDTH = 24\n",
    "conv_window_III = WindowGenerator(\n",
    "    input_width=CONV_WIDTH, \n",
    "    label_width=1, \n",
    "    offset=1, \n",
    "    label_columns=['T (degC)'],\n",
    "    train_df=norm_train,\n",
    "    val_df=norm_val,\n",
    "    test_df=norm_test\n",
    ")\n",
    "\n",
    "conv_window_III"
   ]
  },
  {
   "cell_type": "code",
   "execution_count": 57,
   "id": "b412a0e2",
   "metadata": {},
   "outputs": [],
   "source": [
    "conv_model_III = tf.keras.Sequential([\n",
    "    tf.keras.layers.Conv1D(filters=32, \n",
    "                           kernel_size=(CONV_WIDTH, ), \n",
    "                           activation='relu'), \n",
    "    tf.keras.layers.Dense(units=32, activation='relu'), \n",
    "    tf.keras.layers.Dense(units=1)])"
   ]
  },
  {
   "cell_type": "code",
   "execution_count": 58,
   "id": "d0ab9737",
   "metadata": {},
   "outputs": [
    {
     "name": "stdout",
     "output_type": "stream",
     "text": [
      "Conv model III on `conv_window` III\n",
      "success! finished making dataset\n",
      "Input shape: (32, 24, 19)\n",
      "Output shape: (32, 1, 1)\n"
     ]
    }
   ],
   "source": [
    "print(\"Conv model III on `conv_window` III\")\n",
    "print('Input shape:', conv_window_III.example[0].shape)\n",
    "print('Output shape:', conv_model_III(conv_window_III.example[0]).shape)"
   ]
  },
  {
   "cell_type": "code",
   "execution_count": 59,
   "id": "49808b16",
   "metadata": {},
   "outputs": [
    {
     "name": "stdout",
     "output_type": "stream",
     "text": [
      "success! finished making dataset\n",
      "success! finished making dataset\n",
      "Epoch 1/20\n",
      "1533/1533 [==============================] - 2s 1ms/step - loss: 0.1554 - mean_absolute_error: 0.2923 - val_loss: 0.0479 - val_mean_absolute_error: 0.1741\n",
      "Epoch 2/20\n",
      "1533/1533 [==============================] - 2s 987us/step - loss: 0.0498 - mean_absolute_error: 0.1696 - val_loss: 0.0336 - val_mean_absolute_error: 0.1456\n",
      "Epoch 3/20\n",
      "1533/1533 [==============================] - 2s 993us/step - loss: 0.0411 - mean_absolute_error: 0.1533 - val_loss: 0.0290 - val_mean_absolute_error: 0.1321\n",
      "Epoch 4/20\n",
      "1533/1533 [==============================] - 2s 999us/step - loss: 0.0322 - mean_absolute_error: 0.1328 - val_loss: 0.0282 - val_mean_absolute_error: 0.1322\n",
      "Epoch 5/20\n",
      "1533/1533 [==============================] - 1s 965us/step - loss: 0.0354 - mean_absolute_error: 0.1389 - val_loss: 0.0174 - val_mean_absolute_error: 0.1030\n",
      "Epoch 6/20\n",
      "1533/1533 [==============================] - 2s 994us/step - loss: 0.0252 - mean_absolute_error: 0.1185 - val_loss: 0.0191 - val_mean_absolute_error: 0.1090\n",
      "Epoch 7/20\n",
      "1533/1533 [==============================] - 2s 978us/step - loss: 0.0200 - mean_absolute_error: 0.1062 - val_loss: 0.0465 - val_mean_absolute_error: 0.1709\n",
      "success! finished making dataset\n",
      "438/438 [==============================] - 0s 583us/step - loss: 0.0465 - mean_absolute_error: 0.1709\n",
      "success! finished making dataset\n",
      "219/219 [==============================] - 0s 589us/step - loss: 0.0502 - mean_absolute_error: 0.1754\n"
     ]
    }
   ],
   "source": [
    "history = compile_and_fit(conv_model_III, conv_window_III)\n",
    "val_performance['CNN III(multi step)'] = conv_model_III.evaluate(conv_window_III.make_val)\n",
    "performance['CNN III (multi step)'] = conv_model_III.evaluate(conv_window_III.make_test)"
   ]
  },
  {
   "cell_type": "code",
   "execution_count": 60,
   "id": "3699d93f",
   "metadata": {},
   "outputs": [
    {
     "data": {
      "text/plain": [
       "{'Baseline': [0.014162620529532433, 0.08516010642051697],\n",
       " 'Linear': [0.009914997033774853, 0.07588980346918106],\n",
       " 'Linear (wide window)': [0.009739954955875874, 0.07497740536928177],\n",
       " 'Dense (single step)': [0.012465416453778744, 0.084329754114151],\n",
       " 'Dense (multi step)': [0.010099760256707668, 0.07588214427232742],\n",
       " 'CNN (multi step)': [0.010892162099480629, 0.07905050367116928],\n",
       " 'CNN II (multi step)': [0.009499802254140377, 0.0737469270825386],\n",
       " 'CNN III (multi step)': [0.05015571787953377, 0.1754286289215088]}"
      ]
     },
     "execution_count": 60,
     "metadata": {},
     "output_type": "execute_result"
    }
   ],
   "source": [
    "performance"
   ]
  },
  {
   "cell_type": "markdown",
   "id": "6d47c62f",
   "metadata": {},
   "source": [
    "# LSTMs"
   ]
  },
  {
   "cell_type": "code",
   "execution_count": 61,
   "id": "c6cee2d7",
   "metadata": {},
   "outputs": [],
   "source": [
    "lstm_model = tf.keras.models.Sequential([\n",
    "    # Shape [batch, time, features] => [batch, time, lstm_units]\n",
    "    tf.keras.layers.LSTM(32, return_sequences=True),\n",
    "    # Shape => [batch, time, features]\n",
    "    tf.keras.layers.Dense(units=1)\n",
    "])"
   ]
  },
  {
   "cell_type": "code",
   "execution_count": 62,
   "id": "509d0eef",
   "metadata": {},
   "outputs": [
    {
     "name": "stdout",
     "output_type": "stream",
     "text": [
      "Input shape: (32, 24, 19)\n",
      "Output shape: (32, 24, 1)\n"
     ]
    }
   ],
   "source": [
    "print('Input shape:', wide_window.example[0].shape)\n",
    "print('Output shape:', lstm_model(wide_window.example[0]).shape)"
   ]
  },
  {
   "cell_type": "code",
   "execution_count": 63,
   "id": "0f71262c",
   "metadata": {},
   "outputs": [
    {
     "data": {
      "text/plain": [
       "Total window size: 25\n",
       "Input indices: [ 0  1  2  3  4  5  6  7  8  9 10 11 12 13 14 15 16 17 18 19 20 21 22 23]\n",
       "Label indices: [ 1  2  3  4  5  6  7  8  9 10 11 12 13 14 15 16 17 18 19 20 21 22 23 24]\n",
       "Label column name(s): ['T (degC)']"
      ]
     },
     "execution_count": 63,
     "metadata": {},
     "output_type": "execute_result"
    }
   ],
   "source": [
    "wide_window = WindowGenerator(input_width=24, \n",
    "                              label_width=24, \n",
    "                              offset=1, \n",
    "                              label_columns=['T (degC)'], \n",
    "                              train_df=norm_train, \n",
    "                              val_df=norm_val, \n",
    "                              test_df=norm_test)\n",
    "wide_window"
   ]
  },
  {
   "cell_type": "code",
   "execution_count": 64,
   "id": "4ad19fc7",
   "metadata": {},
   "outputs": [
    {
     "name": "stdout",
     "output_type": "stream",
     "text": [
      "success! finished making dataset\n",
      "success! finished making dataset\n",
      "Epoch 1/20\n",
      "1533/1533 [==============================] - 11s 6ms/step - loss: 0.1872 - mean_absolute_error: 0.2471 - val_loss: 0.0150 - val_mean_absolute_error: 0.0915\n",
      "Epoch 2/20\n",
      "1533/1533 [==============================] - 9s 6ms/step - loss: 0.0216 - mean_absolute_error: 0.1029 - val_loss: 0.0100 - val_mean_absolute_error: 0.0741\n",
      "Epoch 3/20\n",
      "1533/1533 [==============================] - 9s 6ms/step - loss: 0.0122 - mean_absolute_error: 0.0795 - val_loss: 0.0092 - val_mean_absolute_error: 0.0710\n",
      "Epoch 4/20\n",
      "1533/1533 [==============================] - 9s 6ms/step - loss: 0.0101 - mean_absolute_error: 0.0726 - val_loss: 0.0091 - val_mean_absolute_error: 0.0706\n",
      "Epoch 5/20\n",
      "1533/1533 [==============================] - 9s 6ms/step - loss: 0.0093 - mean_absolute_error: 0.0696 - val_loss: 0.0095 - val_mean_absolute_error: 0.0727\n",
      "Epoch 6/20\n",
      "1533/1533 [==============================] - 9s 6ms/step - loss: 0.0088 - mean_absolute_error: 0.0676 - val_loss: 0.0096 - val_mean_absolute_error: 0.0730\n",
      "success! finished making dataset\n",
      "438/438 [==============================] - 1s 2ms/step - loss: 0.0096 - mean_absolute_error: 0.0730\n",
      "success! finished making dataset\n"
     ]
    }
   ],
   "source": [
    "history = compile_and_fit(lstm_model, wide_window)\n",
    "\n",
    "val_performance['LSTM'] = lstm_model.evaluate(wide_window.make_val)\n",
    "performance['LSTM'] = lstm_model.evaluate(wide_window.make_test, verbose=0)"
   ]
  },
  {
   "cell_type": "code",
   "execution_count": 65,
   "id": "346ee240",
   "metadata": {},
   "outputs": [
    {
     "name": "stdout",
     "output_type": "stream",
     "text": [
      "success! finished making dataset\n",
      "Shape of inputs = (32, 24, 19); shape of labels: (32, 24, 1)\n"
     ]
    },
    {
     "data": {
      "image/png": "[encoded data removed]",
      "text/plain": [
       "<Figure size 864x576 with 3 Axes>"
      ]
     },
     "metadata": {
      "needs_background": "light"
     },
     "output_type": "display_data"
    }
   ],
   "source": [
    "wide_window.plot(lstm_model)"
   ]
  },
  {
   "cell_type": "code",
   "execution_count": 66,
   "id": "6e21a86a",
   "metadata": {},
   "outputs": [
    {
     "data": {
      "image/png": "[encoded data removed]",
      "text/plain": [
       "<Figure size 864x432 with 1 Axes>"
      ]
     },
     "metadata": {
      "needs_background": "light"
     },
     "output_type": "display_data"
    }
   ],
   "source": [
    "x = np.arange(len(performance))\n",
    "width = 0.3\n",
    "metric_name = 'mean_absolute_error'\n",
    "metric_index = lstm_model.metrics_names.index('mean_absolute_error')\n",
    "val_mae = [v[metric_index] for v in val_performance.values()]\n",
    "test_mae = [v[metric_index] for v in performance.values()]\n",
    "\n",
    "plt.ylabel('mean_absolute_error [T (degC), normalized]')\n",
    "plt.bar(x - 0.17, val_mae, width, label='Validation')\n",
    "plt.bar(x + 0.17, test_mae, width, label='Test')\n",
    "plt.xticks(ticks=x, labels=performance.keys(),\n",
    "           rotation=45)\n",
    "_ = plt.legend()"
   ]
  },
  {
   "cell_type": "code",
   "execution_count": 67,
   "id": "e3758aa7",
   "metadata": {},
   "outputs": [
    {
     "name": "stdout",
     "output_type": "stream",
     "text": [
      "Baseline            : 0.0852\n",
      "Linear              : 0.0759\n",
      "Linear (wide window): 0.0750\n",
      "Dense (single step) : 0.0843\n",
      "Dense (multi step)  : 0.0759\n",
      "CNN (multi step)    : 0.0791\n",
      "CNN II (multi step) : 0.0737\n",
      "CNN III (multi step): 0.1754\n",
      "LSTM                : 0.0710\n"
     ]
    }
   ],
   "source": [
    "for name, value in performance.items():\n",
    "    print(f'{name:20s}: {value[1]:0.4f}')"
   ]
  }
 ],
 "metadata": {
  "kernelspec": {
   "display_name": "dl",
   "language": "python",
   "name": "dl"
  },
  "language_info": {
   "codemirror_mode": {
    "name": "ipython",
    "version": 3
   },
   "file_extension": ".py",
   "mimetype": "text/x-python",
   "name": "python",
   "nbconvert_exporter": "python",
   "pygments_lexer": "ipython3",
   "version": "3.8.10"
  }
 },
 "nbformat": 4,
 "nbformat_minor": 5
}
