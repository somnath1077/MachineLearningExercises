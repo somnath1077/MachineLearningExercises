{
 "cells": [
  {
   "cell_type": "code",
   "execution_count": 1,
   "id": "551eacb7",
   "metadata": {},
   "outputs": [],
   "source": [
    "import numpy as np\n",
    "import tensorflow as tf\n",
    "\n",
    "\n",
    "from tensorflow import keras\n",
    "from tensorflow.keras import layers"
   ]
  },
  {
   "cell_type": "markdown",
   "id": "c335aa51",
   "metadata": {},
   "source": [
    "## Create Simulated Data"
   ]
  },
  {
   "cell_type": "code",
   "execution_count": 2,
   "id": "0f24f1ce",
   "metadata": {},
   "outputs": [],
   "source": [
    "def create_data(n=100):\n",
    "    \"\"\"\n",
    "        f(x1, x2) = 5 * x_1**2 + 4 * x_2**2 - 3 * x_1 * x_2\n",
    "    \"\"\"\n",
    "    ret = np.zeros(shape=(n, 3)).astype(\"float32\")\n",
    "    x = np.random.rand(n, 2)\n",
    "    y = (5 * x[:, 0]**2 + 4 * x[:, 1]**2 - 3 * x[:, 0] * x[:, 1]).reshape(-1, 1)\n",
    "    ret[:, [0, 1]] = x\n",
    "    ret[:, [2]] = y\n",
    "    \n",
    "    return ret"
   ]
  },
  {
   "cell_type": "markdown",
   "id": "317a061d",
   "metadata": {},
   "source": [
    "## Test Out Function"
   ]
  },
  {
   "cell_type": "code",
   "execution_count": 3,
   "id": "3b073b16",
   "metadata": {},
   "outputs": [],
   "source": [
    "d = create_data(4)"
   ]
  },
  {
   "cell_type": "code",
   "execution_count": 4,
   "id": "df1e07e2",
   "metadata": {},
   "outputs": [
    {
     "data": {
      "text/plain": [
       "array([[0.8351567 , 0.07995834, 3.3126736 ],\n",
       "       [0.08991358, 0.5718037 , 1.1940213 ],\n",
       "       [0.01917329, 0.47058797, 0.860582  ],\n",
       "       [0.0115176 , 0.696974  , 1.9196717 ]], dtype=float32)"
      ]
     },
     "execution_count": 4,
     "metadata": {},
     "output_type": "execute_result"
    }
   ],
   "source": [
    "d"
   ]
  },
  {
   "cell_type": "code",
   "execution_count": 5,
   "id": "86bef7d6",
   "metadata": {},
   "outputs": [
    {
     "data": {
      "text/plain": [
       "(3.3127, 3.3127)"
      ]
     },
     "execution_count": 5,
     "metadata": {},
     "output_type": "execute_result"
    }
   ],
   "source": [
    "val = round(5 * d[0, 0]**2 + 4 * d[0, 1]**2 - 3 * d[0, 0] * d[0, 1], 4)\n",
    "exp_val = round(d[0, 2], 4)\n",
    "\n",
    "val, exp_val"
   ]
  },
  {
   "cell_type": "markdown",
   "id": "700e8b2e",
   "metadata": {},
   "source": [
    "## Create Network\n",
    "\n",
    "The network that we will create will have two dense layers with ReLU activations. The goal is to see how many of these neurons become \"dead\"."
   ]
  },
  {
   "cell_type": "markdown",
   "id": "a241876a",
   "metadata": {},
   "source": [
    "### Train and Test Data"
   ]
  },
  {
   "cell_type": "code",
   "execution_count": 6,
   "id": "0d8a8029",
   "metadata": {},
   "outputs": [],
   "source": [
    "from tensorflow.keras import layers\n",
    "from tensorflow.keras.layers.experimental.preprocessing import Normalization\n",
    "\n",
    "NUM_SAMPLES = 1000\n",
    "TRAIN_FRAC = 0.60\n",
    "VAL_FRAC = 0.20\n",
    "\n",
    "data = create_data(n=1000)\n",
    "\n",
    "train_idx = int(TRAIN_FRAC * NUM_SAMPLES)\n",
    "val_idx = train_idx + int(VAL_FRAC * NUM_SAMPLES)\n",
    "\n",
    "train_data = data[: train_idx]\n",
    "val_data = data[train_idx: val_idx]\n",
    "test_data = data[val_idx: ]"
   ]
  },
  {
   "cell_type": "markdown",
   "id": "91678b05",
   "metadata": {},
   "source": [
    "### Normalizer "
   ]
  },
  {
   "cell_type": "code",
   "execution_count": 7,
   "id": "579e11c7",
   "metadata": {},
   "outputs": [],
   "source": [
    "def normalize(data: np.array, mean: np.array=None, sd: np.array=None):\n",
    "    if (mean is not None) and (sd is not None):\n",
    "        assert data.shape[1] == len(mean) == len(sd)\n",
    "    \n",
    "    if mean is None:\n",
    "        mean = data.mean(axis=0)\n",
    "    if sd is None:\n",
    "        sd = data.std(axis=0)\n",
    "    \n",
    "    normed = (data - mean) / sd\n",
    "    \n",
    "    return mean, sd, normed"
   ]
  },
  {
   "cell_type": "code",
   "execution_count": 8,
   "id": "9713d119",
   "metadata": {},
   "outputs": [],
   "source": [
    "mean, sd, norm_train_data = normalize(train_data)\n",
    "_, _, norm_val_data = normalize(val_data, mean=mean, sd=sd)\n",
    "_, _, norm_test_data = normalize(test_data, mean=mean, sd=sd)"
   ]
  },
  {
   "cell_type": "markdown",
   "id": "6437286d",
   "metadata": {},
   "source": [
    "### Model Layers"
   ]
  },
  {
   "cell_type": "code",
   "execution_count": 9,
   "id": "553b3f9a",
   "metadata": {},
   "outputs": [],
   "source": [
    "inputs = keras.Input(shape=2)\n",
    "dense_1 = layers.Dense(units=10, activation='relu')(inputs)\n",
    "dense_2 = layers.Dense(units=10, activation='relu')(dense_1)\n",
    "output = layers.Dense(units=1, activation=None)(dense_2)"
   ]
  },
  {
   "cell_type": "code",
   "execution_count": 10,
   "id": "e2a92b0d",
   "metadata": {},
   "outputs": [],
   "source": [
    "model = keras.Model(inputs=inputs, outputs=output)\n",
    "model.compile(optimizer='rmsprop', loss='mean_squared_error')"
   ]
  },
  {
   "cell_type": "code",
   "execution_count": 11,
   "id": "5f2b5fb6",
   "metadata": {},
   "outputs": [
    {
     "name": "stdout",
     "output_type": "stream",
     "text": [
      "Model: \"model\"\n",
      "_________________________________________________________________\n",
      "Layer (type)                 Output Shape              Param #   \n",
      "=================================================================\n",
      "input_1 (InputLayer)         [(None, 2)]               0         \n",
      "_________________________________________________________________\n",
      "dense (Dense)                (None, 10)                30        \n",
      "_________________________________________________________________\n",
      "dense_1 (Dense)              (None, 10)                110       \n",
      "_________________________________________________________________\n",
      "dense_2 (Dense)              (None, 1)                 11        \n",
      "=================================================================\n",
      "Total params: 151\n",
      "Trainable params: 151\n",
      "Non-trainable params: 0\n",
      "_________________________________________________________________\n"
     ]
    }
   ],
   "source": [
    "model.summary()"
   ]
  },
  {
   "cell_type": "code",
   "execution_count": 12,
   "id": "d98c6a45",
   "metadata": {},
   "outputs": [
    {
     "name": "stdout",
     "output_type": "stream",
     "text": [
      "Epoch 1/10\n",
      "7/7 [==============================] - 1s 45ms/step - loss: 5.2889 - val_loss: 5.8107\n",
      "Epoch 2/10\n",
      "7/7 [==============================] - 0s 5ms/step - loss: 4.9126 - val_loss: 5.5038\n",
      "Epoch 3/10\n",
      "7/7 [==============================] - 0s 5ms/step - loss: 4.6443 - val_loss: 5.2259\n",
      "Epoch 4/10\n",
      "7/7 [==============================] - 0s 4ms/step - loss: 4.3963 - val_loss: 4.9483\n",
      "Epoch 5/10\n",
      "7/7 [==============================] - 0s 4ms/step - loss: 4.1489 - val_loss: 4.6721\n",
      "Epoch 6/10\n",
      "7/7 [==============================] - 0s 4ms/step - loss: 3.9061 - val_loss: 4.3971\n",
      "Epoch 7/10\n",
      "7/7 [==============================] - 0s 5ms/step - loss: 3.6668 - val_loss: 4.1230\n",
      "Epoch 8/10\n",
      "7/7 [==============================] - 0s 5ms/step - loss: 3.4273 - val_loss: 3.8495\n",
      "Epoch 9/10\n",
      "7/7 [==============================] - 0s 4ms/step - loss: 3.1899 - val_loss: 3.5787\n",
      "Epoch 10/10\n",
      "7/7 [==============================] - 0s 4ms/step - loss: 2.9573 - val_loss: 3.3145\n"
     ]
    }
   ],
   "source": [
    "batch_size = 32\n",
    "train_dataset = tf.data.Dataset.from_tensor_slices((test_data[:, [0, 1]], test_data[:, [2]])).batch(batch_size)\n",
    "val_dataset = tf.data.Dataset.from_tensor_slices((val_data[:, [0, 1]], val_data[:, [2]])).batch(batch_size)\n",
    "\n",
    "history = model.fit(train_dataset,\n",
    "                    batch_size=32, \n",
    "                    epochs=10, validation_data=val_dataset)"
   ]
  },
  {
   "cell_type": "code",
   "execution_count": 13,
   "id": "36d40d2b",
   "metadata": {},
   "outputs": [],
   "source": [
    "pred = model.predict(test_data[:, [0, 1]])"
   ]
  },
  {
   "cell_type": "code",
   "execution_count": 14,
   "id": "b1f7a1ea",
   "metadata": {},
   "outputs": [
    {
     "data": {
      "text/plain": [
       "2.9381568"
      ]
     },
     "execution_count": 14,
     "metadata": {},
     "output_type": "execute_result"
    }
   ],
   "source": [
    "np.mean((pred - test_data[:, [2]])**2)"
   ]
  },
  {
   "cell_type": "markdown",
   "id": "f53c1aee",
   "metadata": {},
   "source": [
    "## Weights"
   ]
  },
  {
   "cell_type": "code",
   "execution_count": 15,
   "id": "9622032d",
   "metadata": {},
   "outputs": [
    {
     "name": "stdout",
     "output_type": "stream",
     "text": [
      "{'batch_input_shape': (None, 2), 'dtype': 'float32', 'sparse': False, 'ragged': False, 'name': 'input_1'} []\n",
      "{'name': 'dense', 'trainable': True, 'dtype': 'float32', 'units': 10, 'activation': 'relu', 'use_bias': True, 'kernel_initializer': {'class_name': 'GlorotUniform', 'config': {'seed': None}}, 'bias_initializer': {'class_name': 'Zeros', 'config': {}}, 'kernel_regularizer': None, 'bias_regularizer': None, 'activity_regularizer': None, 'kernel_constraint': None, 'bias_constraint': None} [array([[ 0.58302754, -0.38940164, -0.4515814 , -0.67748547,  0.12296874,\n",
      "        -0.22077397, -0.3952442 ,  0.39272025, -0.00256889,  0.19800133],\n",
      "       [ 0.02126208, -0.27769834, -0.48752052, -0.25400287, -0.6434514 ,\n",
      "        -0.20385504,  0.5445364 ,  0.23974535,  0.2696259 , -0.5468051 ]],\n",
      "      dtype=float32), array([ 0.08030444,  0.        ,  0.        ,  0.        , -0.04867382,\n",
      "        0.        ,  0.08215104,  0.07784649, -0.06343292, -0.05424789],\n",
      "      dtype=float32)]\n",
      "{'name': 'dense_1', 'trainable': True, 'dtype': 'float32', 'units': 10, 'activation': 'relu', 'use_bias': True, 'kernel_initializer': {'class_name': 'GlorotUniform', 'config': {'seed': None}}, 'bias_initializer': {'class_name': 'Zeros', 'config': {}}, 'kernel_regularizer': None, 'bias_regularizer': None, 'activity_regularizer': None, 'kernel_constraint': None, 'bias_constraint': None} [array([[ 0.41520828, -0.41784456,  0.37039974, -0.00328412,  0.19746336,\n",
      "         0.59946805,  0.10784387,  0.49351972,  0.0501003 , -0.39069661],\n",
      "       [-0.41543847, -0.3159771 ,  0.14045352,  0.04468393,  0.22472173,\n",
      "        -0.0554322 ,  0.22320783, -0.526252  ,  0.09786326, -0.14654082],\n",
      "       [-0.45874748,  0.2116341 , -0.41974396,  0.5312377 , -0.541232  ,\n",
      "        -0.33002543,  0.10565853,  0.29320753, -0.34545457, -0.395172  ],\n",
      "       [ 0.04701847,  0.17796493, -0.06944788, -0.43579888, -0.22218218,\n",
      "        -0.3117914 , -0.38148698,  0.5236745 ,  0.04334867,  0.25580692],\n",
      "       [-0.33278778,  0.42551982, -0.38165146, -0.53214496,  0.26257712,\n",
      "        -0.39625686, -0.4480737 ,  0.24954909, -0.45200315, -0.03554435],\n",
      "       [-0.48211044,  0.21254456,  0.138412  ,  0.26507682, -0.41976118,\n",
      "         0.45580935, -0.05739334, -0.2221182 ,  0.13272715,  0.11069673],\n",
      "       [ 0.61721295,  0.05359066, -0.01269926,  0.4404941 , -0.18734762,\n",
      "         0.3001687 , -0.20371811, -0.34238678,  0.397186  ,  0.01187245],\n",
      "       [ 0.4176617 , -0.18485904, -0.16694158, -0.43270233, -0.5354416 ,\n",
      "         0.31148326, -0.43645543, -0.3388301 ,  0.22373682,  0.4219214 ],\n",
      "       [ 0.05160202, -0.3290942 , -0.4314944 ,  0.14605387, -0.24602827,\n",
      "        -0.34307694,  0.5118184 ,  0.4531195 ,  0.04459506,  0.39684162],\n",
      "       [ 0.13013957,  0.13172847, -0.3526968 ,  0.23426199,  0.4084762 ,\n",
      "        -0.00200237, -0.2913396 , -0.231829  , -0.12779728,  0.4028303 ]],\n",
      "      dtype=float32), array([ 0.07696331,  0.        ,  0.06754251, -0.05964579, -0.01192401,\n",
      "        0.07714594, -0.00895936,  0.07788359,  0.07798993,  0.08127625],\n",
      "      dtype=float32)]\n",
      "{'name': 'dense_2', 'trainable': True, 'dtype': 'float32', 'units': 1, 'activation': 'linear', 'use_bias': True, 'kernel_initializer': {'class_name': 'GlorotUniform', 'config': {'seed': None}}, 'bias_initializer': {'class_name': 'Zeros', 'config': {}}, 'kernel_regularizer': None, 'bias_regularizer': None, 'activity_regularizer': None, 'kernel_constraint': None, 'bias_constraint': None} [array([[ 0.57786506],\n",
      "       [-0.5685668 ],\n",
      "       [ 0.33526284],\n",
      "       [-0.4392353 ],\n",
      "       [-0.2151563 ],\n",
      "       [ 0.635163  ],\n",
      "       [-0.13117422],\n",
      "       [ 0.40595445],\n",
      "       [ 0.61451024],\n",
      "       [ 0.24558926]], dtype=float32), array([0.07584368], dtype=float32)]\n"
     ]
    }
   ],
   "source": [
    "for layer in model.layers: \n",
    "    print(layer.get_config(), layer.get_weights())"
   ]
  }
 ],
 "metadata": {
  "kernelspec": {
   "display_name": "dl",
   "language": "python",
   "name": "dl"
  },
  "language_info": {
   "codemirror_mode": {
    "name": "ipython",
    "version": 3
   },
   "file_extension": ".py",
   "mimetype": "text/x-python",
   "name": "python",
   "nbconvert_exporter": "python",
   "pygments_lexer": "ipython3",
   "version": "3.8.10"
  }
 },
 "nbformat": 4,
 "nbformat_minor": 5
}
