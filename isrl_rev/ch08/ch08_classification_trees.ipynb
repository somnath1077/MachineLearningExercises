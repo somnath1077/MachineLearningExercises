{
 "cells": [
  {
   "cell_type": "markdown",
   "metadata": {},
   "source": [
    "## Gini Index\n",
    "\n",
    "The Gini Index is an error metric used while evaluating how splits should be made in a classification tree. This is defined as follows. If we wish to split a given region $R$ into two regions based on a predictor $X_j$ and a threshold value $s$ of that predictor, we would consider the regions $R_1 = \\{X \\vert X_j \\leq s\\}$ and $R_2 = \\{X \\vert X_j > s \\}$. This split would be considered \"good\" if each of them contained training observations from predominantly one class. This goodness criterion is captured by the Gini index. For region $R_1$, the index is\n",
    "$$\n",
    "    \\text{GI} = \\sum_{k = 1}^{K} p_{1, k} (1 - p_{1, k}),\n",
    "$$\n",
    "where $K$ is the total number of classes and $p_{1, k}$ is the proportion of training observations in regsion $R_1$ from class $k$. The Gini index is small if one of the $p_{1, k} \\approx 1$ while the others are $\\approx 0$, which is precisely what we want."
   ]
  }
 ],
 "metadata": {
  "kernelspec": {
   "display_name": "islr",
   "language": "python",
   "name": "islr"
  },
  "language_info": {
   "codemirror_mode": {
    "name": "ipython",
    "version": 3
   },
   "file_extension": ".py",
   "mimetype": "text/x-python",
   "name": "python",
   "nbconvert_exporter": "python",
   "pygments_lexer": "ipython3",
   "version": "3.8.2"
  }
 },
 "nbformat": 4,
 "nbformat_minor": 4
}
