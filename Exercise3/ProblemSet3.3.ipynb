{
 "cells": [
  {
   "cell_type": "code",
   "execution_count": 49,
   "metadata": {
    "collapsed": true
   },
   "outputs": [],
   "source": [
    "import numpy as np\n",
    "\n",
    "def optimize_theta(X, y, lamb):\n",
    "    n_rows = X.shape[0]\n",
    "    n_cols = X.shape[1]\n",
    "    \n",
    "    theta = np.matrix(n_cols * [1]).T\n",
    "    change_in_theta = 1\n",
    "    \n",
    "    while change_in_theta > 1e-5:\n",
    "        theta_new = np.matrix.copy(theta)\n",
    "        \n",
    "        for i in len(theta):\n",
    "            X_i = X[:,i]\n",
    "            X_term = X_i * (X * theta_new - y)\n",
    "            \n",
    "            denom = X_i.T * X_i\n",
    "            numerator_neg = lamb - X_term\n",
    "            numerator_pos = -1 * lamb - X_term\n",
    "            \n",
    "            theta_i_neg = min(numerator_neg/denom, 0)\n",
    "            theta_i_pos = max(numerator_pos/denom, 0)\n",
    "            \n",
    "            theta_new[i] = theta_i_pos\n",
    "            obj_theta_i_pos = 0.5 * np.linalg.norm(X * theta_new - y)**2 + lamb * sum([abs(theta_i) for theta_i in theta_new])\n",
    "            \n",
    "            theta_new[i] = theta_i_neg\n",
    "            obj_theta_i_neg = 0.5 * np.linalg.norm(X * theta_new - y)**2 + lamb * sum([abs(theta_i) for theta_i in theta_new])\n",
    "            \n",
    "            if obj_theta_i_pos < obj_theta_i_neg:\n",
    "                theta_new[i] = theta_i_pos\n",
    "            else:\n",
    "                theta_new[i] = theta_i_neg\n",
    "            \n",
    "        change_in_theta = np.matrix.norm(theta - theta_new)\n",
    "        theta = np.matrix.copy(theta_new)\n",
    "        \n",
    "    return theta\n",
    "    "
   ]
  },
  {
   "cell_type": "code",
   "execution_count": 32,
   "metadata": {},
   "outputs": [
    {
     "data": {
      "text/plain": [
       "matrix([[29]])"
      ]
     },
     "execution_count": 32,
     "metadata": {},
     "output_type": "execute_result"
    }
   ],
   "source": [
    "X = np.matrix([[1, 2, 3], [4, 5, 6]])\n",
    "\n",
    "\n",
    "Z = X[:, 1]\n",
    "Z\n",
    "\n",
    "Z.T * Z"
   ]
  },
  {
   "cell_type": "code",
   "execution_count": 19,
   "metadata": {},
   "outputs": [
    {
     "data": {
      "text/plain": [
       "matrix([[1],\n",
       "        [2],\n",
       "        [1]])"
      ]
     },
     "execution_count": 19,
     "metadata": {},
     "output_type": "execute_result"
    }
   ],
   "source": [
    "theta = np.matrix([[1], [2], [1]])\n",
    "theta"
   ]
  },
  {
   "cell_type": "code",
   "execution_count": 20,
   "metadata": {},
   "outputs": [
    {
     "data": {
      "text/plain": [
       "matrix([[1],\n",
       "        [1]])"
      ]
     },
     "execution_count": 20,
     "metadata": {},
     "output_type": "execute_result"
    }
   ],
   "source": [
    "y = np.matrix([[1], [1]])\n",
    "y"
   ]
  },
  {
   "cell_type": "code",
   "execution_count": 22,
   "metadata": {},
   "outputs": [
    {
     "data": {
      "text/plain": [
       "matrix([[ 7],\n",
       "        [19]])"
      ]
     },
     "execution_count": 22,
     "metadata": {},
     "output_type": "execute_result"
    }
   ],
   "source": [
    "term = X * theta - y\n",
    "\n",
    "term"
   ]
  },
  {
   "cell_type": "code",
   "execution_count": 33,
   "metadata": {},
   "outputs": [
    {
     "data": {
      "text/plain": [
       "matrix([[1],\n",
       "        [1],\n",
       "        [1]])"
      ]
     },
     "execution_count": 33,
     "metadata": {},
     "output_type": "execute_result"
    }
   ],
   "source": [
    "a = np.matrix(3 * [1]).T\n",
    "a"
   ]
  },
  {
   "cell_type": "code",
   "execution_count": 48,
   "metadata": {},
   "outputs": [
    {
     "data": {
      "text/plain": [
       "2.4494897427831779"
      ]
     },
     "execution_count": 48,
     "metadata": {},
     "output_type": "execute_result"
    }
   ],
   "source": [
    "import math\n",
    "\n",
    "a[1] = 2\n",
    "\n",
    "math.sqrt(6)\n",
    "\n",
    "np.linalg.norm(a)"
   ]
  },
  {
   "cell_type": "code",
   "execution_count": 53,
   "metadata": {},
   "outputs": [
    {
     "data": {
      "text/plain": [
       "matrix([[ 1, -2,  3, -4]])"
      ]
     },
     "execution_count": 53,
     "metadata": {},
     "output_type": "execute_result"
    }
   ],
   "source": [
    "x = np.matrix([1, -2, 3, -4])\n",
    "x"
   ]
  },
  {
   "cell_type": "code",
   "execution_count": 54,
   "metadata": {},
   "outputs": [
    {
     "data": {
      "text/plain": [
       "[matrix([[1, 2, 3, 4]])]"
      ]
     },
     "execution_count": 54,
     "metadata": {},
     "output_type": "execute_result"
    }
   ],
   "source": [
    "x_abs = [abs(x_i) for x_i in x]\n",
    "x_abs"
   ]
  }
 ],
 "metadata": {
  "kernelspec": {
   "display_name": "Python 3",
   "language": "python",
   "name": "python3"
  },
  "language_info": {
   "codemirror_mode": {
    "name": "ipython",
    "version": 3
   },
   "file_extension": ".py",
   "mimetype": "text/x-python",
   "name": "python",
   "nbconvert_exporter": "python",
   "pygments_lexer": "ipython3",
   "version": "3.6.2"
  }
 },
 "nbformat": 4,
 "nbformat_minor": 2
}
